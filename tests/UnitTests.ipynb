{
 "cells": [
  {
   "cell_type": "code",
   "execution_count": 17,
   "id": "e54f0594",
   "metadata": {},
   "outputs": [],
   "source": [
    "import treon\n",
    "import unittest\n",
    "import pandas as pd\n",
    "import numpy as np\n",
    "import pickle"
   ]
  },
  {
   "cell_type": "code",
   "execution_count": 5,
   "id": "79ed6a36",
   "metadata": {},
   "outputs": [
    {
     "name": "stderr",
     "output_type": "stream",
     "text": [
      "C:\\Users\\louis\\anaconda3\\envs\\INSY695Main\\lib\\site-packages\\sklearn\\base.py:329: UserWarning: Trying to unpickle estimator LabelEncoder from version 0.24.2 when using version 1.0.2. This might lead to breaking code or invalid results. Use at your own risk. For more info please refer to:\n",
      "https://scikit-learn.org/stable/modules/model_persistence.html#security-maintainability-limitations\n",
      "  warnings.warn(\n"
     ]
    }
   ],
   "source": [
    "pickled_model = pickle.load(open(r'C:\\Users\\louis\\OneDrive - McGill University\\MMA Winter 2021 Notes\\INSY695\\classifier.pkl', 'rb'))"
   ]
  },
  {
   "cell_type": "code",
   "execution_count": 19,
   "id": "acb2a8ce",
   "metadata": {},
   "outputs": [],
   "source": [
    "class TestModel(unittest.TestCase):\n",
    "    \n",
    "    \n",
    "    def test_model_predictions(self):\n",
    "        \"\"\"\n",
    "        Test to see if pickled model la²bel prediction = 1 OR = 0\n",
    "        Test to see if pickled model probability prediction in [0,1]\n",
    "        \"\"\"\n",
    "        fake_data = [[30,5,0,0,0,0,0,0,0,0,1,0,1,0,0,0,0,0,0,0]]\n",
    "        \n",
    "        label_pred = pickled_model.predict(fake_data)\n",
    "        proba_pred = pickled_model.predict_proba(fake_data)\n",
    "        \n",
    "        self.assertTrue( label_pred[0] == 0 | label_pred[0] == 1)\n",
    "        self.assertTrue( np.max(proba_pred) < 1 & np.min(proba_pred) > 1)"
   ]
  },
  {
   "cell_type": "code",
   "execution_count": 24,
   "id": "1868d7a4",
   "metadata": {},
   "outputs": [
    {
     "name": "stderr",
     "output_type": "stream",
     "text": [
      ".\n",
      "----------------------------------------------------------------------\n",
      "Ran 1 test in 0.010s\n",
      "\n",
      "OK\n"
     ]
    }
   ],
   "source": [
    "if __name__ == '__main__':\n",
    "    unittest.main(argv=['first-arg-is-ignored'], exit=False)"
   ]
  }
 ],
 "metadata": {
  "kernelspec": {
   "display_name": "Python 3 (ipykernel)",
   "language": "python",
   "name": "python3"
  },
  "language_info": {
   "codemirror_mode": {
    "name": "ipython",
    "version": 3
   },
   "file_extension": ".py",
   "mimetype": "text/x-python",
   "name": "python",
   "nbconvert_exporter": "python",
   "pygments_lexer": "ipython3",
   "version": "3.8.13"
  }
 },
 "nbformat": 4,
 "nbformat_minor": 5
}
