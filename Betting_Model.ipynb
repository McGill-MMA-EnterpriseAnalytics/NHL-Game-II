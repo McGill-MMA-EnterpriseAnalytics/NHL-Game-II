{
 "cells": [
  {
   "cell_type": "code",
   "execution_count": 26,
   "id": "e531917b",
   "metadata": {},
   "outputs": [
    {
     "name": "stdout",
     "output_type": "stream",
     "text": [
      "1.3.4\n",
      "1.20.3\n",
      "3.3.2\n",
      "0.24.2\n",
      "0.11.2\n",
      "3.4.3\n"
     ]
    }
   ],
   "source": [
    "# Importing correct packages\n",
    "import pandas as pd\n",
    "import numpy as np\n",
    "pd.set_option('display.max_columns', None)\n",
    "\n",
    "# Machine Learning Libraries\n",
    "import lightgbm as lgb\n",
    "import sklearn\n",
    "from sklearn import metrics\n",
    "from sklearn.model_selection import train_test_split\n",
    "from sklearn.metrics import accuracy_score\n",
    "import pickle\n",
    "\n",
    "# Figures\n",
    "import seaborn as sns\n",
    "import matplotlib\n",
    "import matplotlib.pyplot as plt\n",
    "sns.set_theme(style=\"whitegrid\")\n",
    "\n",
    "# Packages version\n",
    "print(pd.__version__)\n",
    "print(np.__version__)\n",
    "print(lgb.__version__)\n",
    "print(sklearn.__version__)\n",
    "print(sns.__version__)\n",
    "print(matplotlib.__version__)"
   ]
  },
  {
   "cell_type": "code",
   "execution_count": 2,
   "id": "4ea2f5e6",
   "metadata": {},
   "outputs": [
    {
     "name": "stderr",
     "output_type": "stream",
     "text": [
      "C:\\Users\\vvaib\\AppData\\Local\\Temp/ipykernel_18764/2470474217.py:4: FutureWarning: In a future version of pandas all arguments of DataFrame.drop except for the argument 'labels' will be keyword-only\n",
      "  df.drop(df.index[18800:40871],0,inplace=True)\n"
     ]
    },
    {
     "data": {
      "text/plain": [
       "won                      0\n",
       "shots                    0\n",
       "shots_against            0\n",
       "goals                    0\n",
       "goals_against            0\n",
       "takeaways                0\n",
       "takeaways_against        0\n",
       "hits                     0\n",
       "hits_against             0\n",
       "blocked_shots            0\n",
       "blocked_shots_against    0\n",
       "giveaways                0\n",
       "giveaways_against        0\n",
       "missed_shots             0\n",
       "missed_shots_against     0\n",
       "penalities               0\n",
       "penalities_against       0\n",
       "won_faceoffs             0\n",
       "lost_faceoffs            0\n",
       "hoa_away                 0\n",
       "hoa_home                 0\n",
       "dtype: int64"
      ]
     },
     "execution_count": 2,
     "metadata": {},
     "output_type": "execute_result"
    }
   ],
   "source": [
    "# No null values\n",
    "df = pd.read_csv(\"train.csv\")\n",
    "df = df[:-9611]\n",
    "df.drop(df.index[18800:40871],0,inplace=True)\n",
    "df = df.reset_index(drop=True)\n",
    "df.isna().sum()"
   ]
  },
  {
   "cell_type": "code",
   "execution_count": 3,
   "id": "406612c0",
   "metadata": {},
   "outputs": [
    {
     "data": {
      "text/html": [
       "<div>\n",
       "<style scoped>\n",
       "    .dataframe tbody tr th:only-of-type {\n",
       "        vertical-align: middle;\n",
       "    }\n",
       "\n",
       "    .dataframe tbody tr th {\n",
       "        vertical-align: top;\n",
       "    }\n",
       "\n",
       "    .dataframe thead th {\n",
       "        text-align: right;\n",
       "    }\n",
       "</style>\n",
       "<table border=\"1\" class=\"dataframe\">\n",
       "  <thead>\n",
       "    <tr style=\"text-align: right;\">\n",
       "      <th></th>\n",
       "      <th>won</th>\n",
       "      <th>shots</th>\n",
       "      <th>shots_against</th>\n",
       "      <th>goals</th>\n",
       "      <th>goals_against</th>\n",
       "      <th>takeaways</th>\n",
       "      <th>takeaways_against</th>\n",
       "      <th>hits</th>\n",
       "      <th>hits_against</th>\n",
       "      <th>blocked_shots</th>\n",
       "      <th>blocked_shots_against</th>\n",
       "      <th>giveaways</th>\n",
       "      <th>giveaways_against</th>\n",
       "      <th>missed_shots</th>\n",
       "      <th>missed_shots_against</th>\n",
       "      <th>penalities</th>\n",
       "      <th>penalities_against</th>\n",
       "      <th>won_faceoffs</th>\n",
       "      <th>lost_faceoffs</th>\n",
       "      <th>hoa_away</th>\n",
       "      <th>hoa_home</th>\n",
       "    </tr>\n",
       "  </thead>\n",
       "  <tbody>\n",
       "    <tr>\n",
       "      <th>0</th>\n",
       "      <td>0</td>\n",
       "      <td>8</td>\n",
       "      <td>8</td>\n",
       "      <td>0</td>\n",
       "      <td>3</td>\n",
       "      <td>1</td>\n",
       "      <td>3</td>\n",
       "      <td>14</td>\n",
       "      <td>5</td>\n",
       "      <td>3</td>\n",
       "      <td>3</td>\n",
       "      <td>6</td>\n",
       "      <td>7</td>\n",
       "      <td>4</td>\n",
       "      <td>0</td>\n",
       "      <td>1</td>\n",
       "      <td>1</td>\n",
       "      <td>10</td>\n",
       "      <td>12</td>\n",
       "      <td>1</td>\n",
       "      <td>0</td>\n",
       "    </tr>\n",
       "    <tr>\n",
       "      <th>1</th>\n",
       "      <td>1</td>\n",
       "      <td>8</td>\n",
       "      <td>8</td>\n",
       "      <td>3</td>\n",
       "      <td>0</td>\n",
       "      <td>3</td>\n",
       "      <td>1</td>\n",
       "      <td>5</td>\n",
       "      <td>14</td>\n",
       "      <td>3</td>\n",
       "      <td>3</td>\n",
       "      <td>7</td>\n",
       "      <td>6</td>\n",
       "      <td>0</td>\n",
       "      <td>4</td>\n",
       "      <td>1</td>\n",
       "      <td>1</td>\n",
       "      <td>12</td>\n",
       "      <td>10</td>\n",
       "      <td>0</td>\n",
       "      <td>1</td>\n",
       "    </tr>\n",
       "    <tr>\n",
       "      <th>2</th>\n",
       "      <td>1</td>\n",
       "      <td>11</td>\n",
       "      <td>12</td>\n",
       "      <td>0</td>\n",
       "      <td>1</td>\n",
       "      <td>0</td>\n",
       "      <td>2</td>\n",
       "      <td>4</td>\n",
       "      <td>4</td>\n",
       "      <td>6</td>\n",
       "      <td>8</td>\n",
       "      <td>2</td>\n",
       "      <td>0</td>\n",
       "      <td>6</td>\n",
       "      <td>3</td>\n",
       "      <td>1</td>\n",
       "      <td>3</td>\n",
       "      <td>11</td>\n",
       "      <td>9</td>\n",
       "      <td>1</td>\n",
       "      <td>0</td>\n",
       "    </tr>\n",
       "    <tr>\n",
       "      <th>3</th>\n",
       "      <td>0</td>\n",
       "      <td>12</td>\n",
       "      <td>11</td>\n",
       "      <td>1</td>\n",
       "      <td>0</td>\n",
       "      <td>2</td>\n",
       "      <td>0</td>\n",
       "      <td>4</td>\n",
       "      <td>4</td>\n",
       "      <td>8</td>\n",
       "      <td>6</td>\n",
       "      <td>0</td>\n",
       "      <td>2</td>\n",
       "      <td>3</td>\n",
       "      <td>6</td>\n",
       "      <td>3</td>\n",
       "      <td>1</td>\n",
       "      <td>9</td>\n",
       "      <td>11</td>\n",
       "      <td>0</td>\n",
       "      <td>1</td>\n",
       "    </tr>\n",
       "    <tr>\n",
       "      <th>4</th>\n",
       "      <td>1</td>\n",
       "      <td>9</td>\n",
       "      <td>8</td>\n",
       "      <td>0</td>\n",
       "      <td>1</td>\n",
       "      <td>3</td>\n",
       "      <td>2</td>\n",
       "      <td>4</td>\n",
       "      <td>5</td>\n",
       "      <td>7</td>\n",
       "      <td>1</td>\n",
       "      <td>7</td>\n",
       "      <td>5</td>\n",
       "      <td>3</td>\n",
       "      <td>8</td>\n",
       "      <td>2</td>\n",
       "      <td>1</td>\n",
       "      <td>7</td>\n",
       "      <td>11</td>\n",
       "      <td>1</td>\n",
       "      <td>0</td>\n",
       "    </tr>\n",
       "  </tbody>\n",
       "</table>\n",
       "</div>"
      ],
      "text/plain": [
       "   won  shots  shots_against  goals  goals_against  takeaways  \\\n",
       "0    0      8              8      0              3          1   \n",
       "1    1      8              8      3              0          3   \n",
       "2    1     11             12      0              1          0   \n",
       "3    0     12             11      1              0          2   \n",
       "4    1      9              8      0              1          3   \n",
       "\n",
       "   takeaways_against  hits  hits_against  blocked_shots  \\\n",
       "0                  3    14             5              3   \n",
       "1                  1     5            14              3   \n",
       "2                  2     4             4              6   \n",
       "3                  0     4             4              8   \n",
       "4                  2     4             5              7   \n",
       "\n",
       "   blocked_shots_against  giveaways  giveaways_against  missed_shots  \\\n",
       "0                      3          6                  7             4   \n",
       "1                      3          7                  6             0   \n",
       "2                      8          2                  0             6   \n",
       "3                      6          0                  2             3   \n",
       "4                      1          7                  5             3   \n",
       "\n",
       "   missed_shots_against  penalities  penalities_against  won_faceoffs  \\\n",
       "0                     0           1                   1            10   \n",
       "1                     4           1                   1            12   \n",
       "2                     3           1                   3            11   \n",
       "3                     6           3                   1             9   \n",
       "4                     8           2                   1             7   \n",
       "\n",
       "   lost_faceoffs  hoa_away  hoa_home  \n",
       "0             12         1         0  \n",
       "1             10         0         1  \n",
       "2              9         1         0  \n",
       "3             11         0         1  \n",
       "4             11         1         0  "
      ]
     },
     "execution_count": 3,
     "metadata": {},
     "output_type": "execute_result"
    }
   ],
   "source": [
    "df.head(5)"
   ]
  },
  {
   "cell_type": "code",
   "execution_count": 4,
   "id": "49bbaea3",
   "metadata": {},
   "outputs": [],
   "source": [
    "# split data into X and y\n",
    "y = df.pop('won')\n",
    "X = df\n",
    "# split data into train and test sets\n",
    "seed = 7\n",
    "test_size = 0.33\n",
    "X_train, X_test, y_train, y_test = train_test_split(X, y, test_size=test_size, random_state=seed)"
   ]
  },
  {
   "cell_type": "code",
   "execution_count": 5,
   "id": "78ca9bda",
   "metadata": {},
   "outputs": [
    {
     "name": "stderr",
     "output_type": "stream",
     "text": [
      "C:\\Users\\vvaib\\anaconda3\\lib\\site-packages\\lightgbm\\sklearn.py:736: UserWarning: 'verbose' argument is deprecated and will be removed in a future release of LightGBM. Pass 'log_evaluation()' callback via 'callbacks' argument instead.\n",
      "  _log_warning(\"'verbose' argument is deprecated and will be removed in a future release of LightGBM. \"\n"
     ]
    },
    {
     "name": "stdout",
     "output_type": "stream",
     "text": [
      "[20]\ttraining's binary_logloss: 0.588145\tvalid_0's binary_logloss: 0.602557\n",
      "[40]\ttraining's binary_logloss: 0.564346\tvalid_0's binary_logloss: 0.599359\n",
      "[60]\ttraining's binary_logloss: 0.546199\tvalid_0's binary_logloss: 0.600596\n",
      "[80]\ttraining's binary_logloss: 0.529762\tvalid_0's binary_logloss: 0.60314\n",
      "[100]\ttraining's binary_logloss: 0.514817\tvalid_0's binary_logloss: 0.604746\n"
     ]
    },
    {
     "data": {
      "text/plain": [
       "LGBMClassifier(learning_rate=0.09, max_depth=-5, random_state=42)"
      ]
     },
     "execution_count": 5,
     "metadata": {},
     "output_type": "execute_result"
    }
   ],
   "source": [
    "model = lgb.LGBMClassifier(learning_rate=0.09,max_depth=-5,random_state=42)\n",
    "model.fit(X_train,y_train,eval_set=[(X_test,y_test),(X_train,y_train)],\n",
    "          verbose=20,eval_metric='logloss')"
   ]
  },
  {
   "cell_type": "code",
   "execution_count": 6,
   "id": "8f35fe1e",
   "metadata": {},
   "outputs": [
    {
     "name": "stdout",
     "output_type": "stream",
     "text": [
      "Training accuracy 0.7570\n",
      "Testing accuracy 0.6538\n"
     ]
    }
   ],
   "source": [
    "print('Training accuracy {:.4f}'.format(model.score(X_train,y_train)))\n",
    "print('Testing accuracy {:.4f}'.format(model.score(X_test,y_test)))"
   ]
  },
  {
   "cell_type": "code",
   "execution_count": 7,
   "id": "bf9c58f4",
   "metadata": {},
   "outputs": [
    {
     "name": "stdout",
     "output_type": "stream",
     "text": [
      "Accuracy: 65.38%\n",
      "Precision score:  0.6565500154846702\n",
      "Recall score:  0.6459475929311396\n"
     ]
    }
   ],
   "source": [
    "# Interestingly, slightly better accuracy\n",
    "# make predictions for test data\n",
    "from sklearn.metrics import precision_score, recall_score\n",
    "y_pred = model.predict(X_test)\n",
    "predictions = [round(value) for value in y_pred]\n",
    "accuracy = accuracy_score(y_test, predictions)\n",
    "print(\"Accuracy: %.2f%%\" % (accuracy * 100.0))\n",
    "print('Precision score: ', (precision_score(y_test, predictions)))\n",
    "print('Recall score: ', recall_score(y_test, predictions))"
   ]
  },
  {
   "cell_type": "code",
   "execution_count": 8,
   "id": "673c8293",
   "metadata": {},
   "outputs": [
    {
     "data": {
      "image/png": "[encoded data removed]",
      "text/plain": [
       "<Figure size 432x288 with 1 Axes>"
      ]
     },
     "metadata": {},
     "output_type": "display_data"
    }
   ],
   "source": [
    "# plot feature importance\n",
    "import lightgbm\n",
    "from matplotlib import pyplot\n",
    "lightgbm.plot_importance(model)\n",
    "pyplot.show()"
   ]
  },
  {
   "cell_type": "code",
   "execution_count": 9,
   "id": "9f62ad62",
   "metadata": {},
   "outputs": [
    {
     "data": {
      "text/plain": [
       "<AxesSubplot:title={'center':'Metric during training'}, xlabel='Iterations', ylabel='binary_logloss'>"
      ]
     },
     "execution_count": 9,
     "metadata": {},
     "output_type": "execute_result"
    },
    {
     "data": {
      "image/png": "[encoded data removed]",
      "text/plain": [
       "<Figure size 432x288 with 1 Axes>"
      ]
     },
     "metadata": {},
     "output_type": "display_data"
    }
   ],
   "source": [
    "lgb.plot_metric(model)"
   ]
  },
  {
   "cell_type": "code",
   "execution_count": 10,
   "id": "302d4345",
   "metadata": {},
   "outputs": [
    {
     "data": {
      "text/plain": [
       "<sklearn.metrics._plot.confusion_matrix.ConfusionMatrixDisplay at 0x215821d40a0>"
      ]
     },
     "execution_count": 10,
     "metadata": {},
     "output_type": "execute_result"
    },
    {
     "data": {
      "image/png": "[encoded data removed]",
      "text/plain": [
       "<Figure size 432x288 with 2 Axes>"
      ]
     },
     "metadata": {},
     "output_type": "display_data"
    }
   ],
   "source": [
    "metrics.plot_confusion_matrix(model,X_test,y_test,cmap='Blues_r')"
   ]
  },
  {
   "cell_type": "code",
   "execution_count": 11,
   "id": "409ec251",
   "metadata": {},
   "outputs": [
    {
     "name": "stdout",
     "output_type": "stream",
     "text": [
      "              precision    recall  f1-score   support\n",
      "\n",
      "           0       0.65      0.66      0.66      3278\n",
      "           1       0.66      0.65      0.65      3282\n",
      "\n",
      "    accuracy                           0.65      6560\n",
      "   macro avg       0.65      0.65      0.65      6560\n",
      "weighted avg       0.65      0.65      0.65      6560\n",
      "\n"
     ]
    }
   ],
   "source": [
    "print(metrics.classification_report(y_test,model.predict(X_test)))"
   ]
  },
  {
   "cell_type": "code",
   "execution_count": 12,
   "id": "87c13ef3",
   "metadata": {},
   "outputs": [],
   "source": [
    "### Create a Pickle file using serialization \n",
    "pickle_out = open(\"classifier.pkl\",\"wb\")\n",
    "pickle.dump(model, pickle_out)\n",
    "pickle_out.close()"
   ]
  },
  {
   "cell_type": "code",
   "execution_count": 13,
   "id": "3657ee14",
   "metadata": {},
   "outputs": [],
   "source": [
    "import numpy as np"
   ]
  },
  {
   "cell_type": "code",
   "execution_count": 14,
   "id": "f147e0ff",
   "metadata": {},
   "outputs": [
    {
     "name": "stdout",
     "output_type": "stream",
     "text": [
      "[1]\n",
      "[[0.44167824 0.55832176]]\n"
     ]
    }
   ],
   "source": [
    "print(model.predict([[30,5,0,0,0,0,0,0,0,0,1,0,1,0,0,0,0,0,0,0]]))\n",
    "print(model.predict_proba([[30,5,0,0,0,0,0,0,0,0,1,0,1,0,0,0,0,0,0,0]]))"
   ]
  }
 ],
 "metadata": {
  "kernelspec": {
   "display_name": "Python 3 (ipykernel)",
   "language": "python",
   "name": "python3"
  },
  "language_info": {
   "codemirror_mode": {
    "name": "ipython",
    "version": 3
   },
   "file_extension": ".py",
   "mimetype": "text/x-python",
   "name": "python",
   "nbconvert_exporter": "python",
   "pygments_lexer": "ipython3",
   "version": "3.9.7"
  }
 },
 "nbformat": 4,
 "nbformat_minor": 5
}
