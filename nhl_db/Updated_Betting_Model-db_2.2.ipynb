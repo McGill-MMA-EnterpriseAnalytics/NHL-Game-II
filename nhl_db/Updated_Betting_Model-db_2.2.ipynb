{
 "cells": [
  {
   "cell_type": "markdown",
   "metadata": {
    "application/vnd.databricks.v1+cell": {
     "inputWidgets": {},
     "nuid": "70b2650d-ae38-4c62-a00b-f7b64fe6f985",
     "showTitle": false,
     "title": ""
    }
   },
   "source": [
    "### NHL-Game Part 2 Historical and New Data Storage 🥅 🏒"
   ]
  },
  {
   "cell_type": "code",
   "execution_count": 0,
   "metadata": {
    "application/vnd.databricks.v1+cell": {
     "inputWidgets": {},
     "nuid": "6482be4c-f067-47c9-b0ac-35c938b94601",
     "showTitle": false,
     "title": ""
    }
   },
   "outputs": [],
   "source": [
    "# File location and type\n",
    "file_location = \"/FileStore/tables/Period_1_Game_Stats_Final_ModelReady.csv\"\n",
    "file_type = \"csv\"\n",
    "\n",
    "# CSV options\n",
    "infer_schema = \"true\"\n",
    "first_row_is_header = \"true\"\n",
    "delimiter = \",\"\n",
    "\n",
    "# The applied options are for CSV files. For other file types, these will be ignored.\n",
    "nhl_db = spark.read.format(file_type) \\\n",
    "  .option(\"inferSchema\", infer_schema) \\\n",
    "  .option(\"header\", first_row_is_header) \\\n",
    "  .option(\"sep\", delimiter) \\\n",
    "  .load(file_location)\n",
    "\n"
   ]
  },
  {
   "cell_type": "code",
   "execution_count": 0,
   "metadata": {
    "application/vnd.databricks.v1+cell": {
     "inputWidgets": {},
     "nuid": "2ab4d41a-9472-41ab-924d-2b65894b51d0",
     "showTitle": false,
     "title": ""
    }
   },
   "outputs": [],
   "source": [
    "# Importing correct packages\n",
    "import pandas as pd\n",
    "import numpy as np\n",
    "pd.set_option('display.max_columns', None)\n",
    "\n",
    "# Machine Learning Libraries\n",
    "import lightgbm as lgb\n",
    "from sklearn import metrics\n",
    "from sklearn.model_selection import train_test_split\n",
    "from sklearn.metrics import accuracy_score\n",
    "\n",
    "# Figures\n",
    "import seaborn as sns\n",
    "import matplotlib.pyplot as plt\n",
    "sns.set_theme(style=\"whitegrid\")"
   ]
  },
  {
   "cell_type": "code",
   "execution_count": 0,
   "metadata": {
    "application/vnd.databricks.v1+cell": {
     "inputWidgets": {},
     "nuid": "2705bdba-f69f-4169-8129-08a41d3debe2",
     "showTitle": false,
     "title": ""
    }
   },
   "outputs": [],
   "source": [
    "nhl_db=nhl_db.toPandas()"
   ]
  },
  {
   "cell_type": "code",
   "execution_count": 0,
   "metadata": {
    "application/vnd.databricks.v1+cell": {
     "inputWidgets": {},
     "nuid": "7792bf6a-7a17-4732-bc14-38389096c76c",
     "showTitle": false,
     "title": ""
    }
   },
   "outputs": [],
   "source": [
    "# convert from spark to pandas dataframe format\n",
    "df = nhl_db"
   ]
  },
  {
   "cell_type": "code",
   "execution_count": 0,
   "metadata": {
    "application/vnd.databricks.v1+cell": {
     "inputWidgets": {},
     "nuid": "a0bf20fd-7708-41f6-8b18-89735904b7fb",
     "showTitle": false,
     "title": ""
    }
   },
   "outputs": [
    {
     "data": {
      "text/plain": [
       "Out[9]: (51558, 21)"
      ]
     },
     "metadata": {
      "application/vnd.databricks.v1+output": {
       "addedWidgets": {},
       "arguments": {},
       "data": "Out[9]: (51558, 21)",
       "datasetInfos": [],
       "metadata": {},
       "removedWidgets": [],
       "type": "ansi"
      }
     },
     "output_type": "display_data"
    }
   ],
   "source": [
    "df.shape\n"
   ]
  },
  {
   "cell_type": "code",
   "execution_count": 0,
   "metadata": {
    "application/vnd.databricks.v1+cell": {
     "inputWidgets": {},
     "nuid": "2d4a0faf-7e72-4e79-97b2-cc546b09f5db",
     "showTitle": false,
     "title": ""
    }
   },
   "outputs": [
    {
     "data": {
      "text/plain": [
       "/databricks/python/lib/python3.8/site-packages/pandas/core/frame.py:4308: SettingWithCopyWarning: \n",
       "A value is trying to be set on a copy of a slice from a DataFrame\n",
       "\n",
       "See the caveats in the documentation: https://pandas.pydata.org/pandas-docs/stable/user_guide/indexing.html#returning-a-view-versus-a-copy\n",
       "  return super().drop(\n",
       "Out[10]: won                      0\n",
       "Shots                    0\n",
       "Shots_Against            0\n",
       "Goals                    0\n",
       "Goals_Against            0\n",
       "Takeaways                0\n",
       "Takeaways_Against        0\n",
       "Hits                     0\n",
       "Hits_Against             0\n",
       "Blocked Shots            0\n",
       "Blocked Shots Against    0\n",
       "Giveaways                0\n",
       "Giveaways_Against        0\n",
       "Missed Shots             0\n",
       "Missed Shots_Against     0\n",
       "Penalities               0\n",
       "Penalities_Against       0\n",
       "#Won Faceoffs            0\n",
       "#Lost Faceoffs           0\n",
       "HoA_away                 0\n",
       "HoA_home                 0\n",
       "dtype: int64"
      ]
     },
     "metadata": {
      "application/vnd.databricks.v1+output": {
       "addedWidgets": {},
       "arguments": {},
       "data": "/databricks/python/lib/python3.8/site-packages/pandas/core/frame.py:4308: SettingWithCopyWarning: \nA value is trying to be set on a copy of a slice from a DataFrame\n\nSee the caveats in the documentation: https://pandas.pydata.org/pandas-docs/stable/user_guide/indexing.html#returning-a-view-versus-a-copy\n  return super().drop(\nOut[10]: won                      0\nShots                    0\nShots_Against            0\nGoals                    0\nGoals_Against            0\nTakeaways                0\nTakeaways_Against        0\nHits                     0\nHits_Against             0\nBlocked Shots            0\nBlocked Shots Against    0\nGiveaways                0\nGiveaways_Against        0\nMissed Shots             0\nMissed Shots_Against     0\nPenalities               0\nPenalities_Against       0\n#Won Faceoffs            0\n#Lost Faceoffs           0\nHoA_away                 0\nHoA_home                 0\ndtype: int64",
       "datasetInfos": [],
       "metadata": {},
       "removedWidgets": [],
       "type": "ansi"
      }
     },
     "output_type": "display_data"
    }
   ],
   "source": [
    "# No null values\n",
    "\n",
    "df = df[:-9611]\n",
    "df.drop(df.index[18800:40871],0,inplace=True)\n",
    "df = df.reset_index(drop=True)\n",
    "df.isna().sum()"
   ]
  },
  {
   "cell_type": "code",
   "execution_count": 0,
   "metadata": {
    "application/vnd.databricks.v1+cell": {
     "inputWidgets": {},
     "nuid": "aec6485a-5631-48f4-b1d8-06384a9a5927",
     "showTitle": false,
     "title": ""
    }
   },
   "outputs": [
    {
     "data": {
      "text/html": [
       "<div>\n",
       "<style scoped>\n",
       "    .dataframe tbody tr th:only-of-type {\n",
       "        vertical-align: middle;\n",
       "    }\n",
       "\n",
       "    .dataframe tbody tr th {\n",
       "        vertical-align: top;\n",
       "    }\n",
       "\n",
       "    .dataframe thead th {\n",
       "        text-align: right;\n",
       "    }\n",
       "</style>\n",
       "<table border=\"1\" class=\"dataframe\">\n",
       "  <thead>\n",
       "    <tr style=\"text-align: right;\">\n",
       "      <th></th>\n",
       "      <th>won</th>\n",
       "      <th>Shots</th>\n",
       "      <th>Shots_Against</th>\n",
       "      <th>Goals</th>\n",
       "      <th>Goals_Against</th>\n",
       "      <th>Takeaways</th>\n",
       "      <th>Takeaways_Against</th>\n",
       "      <th>Hits</th>\n",
       "      <th>Hits_Against</th>\n",
       "      <th>Blocked Shots</th>\n",
       "      <th>Blocked Shots Against</th>\n",
       "      <th>Giveaways</th>\n",
       "      <th>Giveaways_Against</th>\n",
       "      <th>Missed Shots</th>\n",
       "      <th>Missed Shots_Against</th>\n",
       "      <th>Penalities</th>\n",
       "      <th>Penalities_Against</th>\n",
       "      <th>#Won Faceoffs</th>\n",
       "      <th>#Lost Faceoffs</th>\n",
       "      <th>HoA_away</th>\n",
       "      <th>HoA_home</th>\n",
       "    </tr>\n",
       "  </thead>\n",
       "  <tbody>\n",
       "    <tr>\n",
       "      <th>0</th>\n",
       "      <td>0</td>\n",
       "      <td>8.0</td>\n",
       "      <td>8.0</td>\n",
       "      <td>0.0</td>\n",
       "      <td>3.0</td>\n",
       "      <td>1.0</td>\n",
       "      <td>3.0</td>\n",
       "      <td>14.0</td>\n",
       "      <td>5.0</td>\n",
       "      <td>3.0</td>\n",
       "      <td>3.0</td>\n",
       "      <td>6.0</td>\n",
       "      <td>7.0</td>\n",
       "      <td>4.0</td>\n",
       "      <td>0.0</td>\n",
       "      <td>1.0</td>\n",
       "      <td>1.0</td>\n",
       "      <td>10.0</td>\n",
       "      <td>12.0</td>\n",
       "      <td>1</td>\n",
       "      <td>0</td>\n",
       "    </tr>\n",
       "    <tr>\n",
       "      <th>1</th>\n",
       "      <td>1</td>\n",
       "      <td>8.0</td>\n",
       "      <td>8.0</td>\n",
       "      <td>3.0</td>\n",
       "      <td>0.0</td>\n",
       "      <td>3.0</td>\n",
       "      <td>1.0</td>\n",
       "      <td>5.0</td>\n",
       "      <td>14.0</td>\n",
       "      <td>3.0</td>\n",
       "      <td>3.0</td>\n",
       "      <td>7.0</td>\n",
       "      <td>6.0</td>\n",
       "      <td>0.0</td>\n",
       "      <td>4.0</td>\n",
       "      <td>1.0</td>\n",
       "      <td>1.0</td>\n",
       "      <td>12.0</td>\n",
       "      <td>10.0</td>\n",
       "      <td>0</td>\n",
       "      <td>1</td>\n",
       "    </tr>\n",
       "    <tr>\n",
       "      <th>2</th>\n",
       "      <td>1</td>\n",
       "      <td>11.0</td>\n",
       "      <td>12.0</td>\n",
       "      <td>0.0</td>\n",
       "      <td>1.0</td>\n",
       "      <td>0.0</td>\n",
       "      <td>2.0</td>\n",
       "      <td>4.0</td>\n",
       "      <td>4.0</td>\n",
       "      <td>6.0</td>\n",
       "      <td>8.0</td>\n",
       "      <td>2.0</td>\n",
       "      <td>0.0</td>\n",
       "      <td>6.0</td>\n",
       "      <td>3.0</td>\n",
       "      <td>1.0</td>\n",
       "      <td>3.0</td>\n",
       "      <td>11.0</td>\n",
       "      <td>9.0</td>\n",
       "      <td>1</td>\n",
       "      <td>0</td>\n",
       "    </tr>\n",
       "    <tr>\n",
       "      <th>3</th>\n",
       "      <td>0</td>\n",
       "      <td>12.0</td>\n",
       "      <td>11.0</td>\n",
       "      <td>1.0</td>\n",
       "      <td>0.0</td>\n",
       "      <td>2.0</td>\n",
       "      <td>0.0</td>\n",
       "      <td>4.0</td>\n",
       "      <td>4.0</td>\n",
       "      <td>8.0</td>\n",
       "      <td>6.0</td>\n",
       "      <td>0.0</td>\n",
       "      <td>2.0</td>\n",
       "      <td>3.0</td>\n",
       "      <td>6.0</td>\n",
       "      <td>3.0</td>\n",
       "      <td>1.0</td>\n",
       "      <td>9.0</td>\n",
       "      <td>11.0</td>\n",
       "      <td>0</td>\n",
       "      <td>1</td>\n",
       "    </tr>\n",
       "    <tr>\n",
       "      <th>4</th>\n",
       "      <td>1</td>\n",
       "      <td>9.0</td>\n",
       "      <td>8.0</td>\n",
       "      <td>0.0</td>\n",
       "      <td>1.0</td>\n",
       "      <td>3.0</td>\n",
       "      <td>2.0</td>\n",
       "      <td>4.0</td>\n",
       "      <td>5.0</td>\n",
       "      <td>7.0</td>\n",
       "      <td>1.0</td>\n",
       "      <td>7.0</td>\n",
       "      <td>5.0</td>\n",
       "      <td>3.0</td>\n",
       "      <td>8.0</td>\n",
       "      <td>2.0</td>\n",
       "      <td>1.0</td>\n",
       "      <td>7.0</td>\n",
       "      <td>11.0</td>\n",
       "      <td>1</td>\n",
       "      <td>0</td>\n",
       "    </tr>\n",
       "  </tbody>\n",
       "</table>\n",
       "</div>"
      ]
     },
     "metadata": {
      "application/vnd.databricks.v1+output": {
       "addedWidgets": {},
       "arguments": {},
       "data": "<div>\n<style scoped>\n    .dataframe tbody tr th:only-of-type {\n        vertical-align: middle;\n    }\n\n    .dataframe tbody tr th {\n        vertical-align: top;\n    }\n\n    .dataframe thead th {\n        text-align: right;\n    }\n</style>\n<table border=\"1\" class=\"dataframe\">\n  <thead>\n    <tr style=\"text-align: right;\">\n      <th></th>\n      <th>won</th>\n      <th>Shots</th>\n      <th>Shots_Against</th>\n      <th>Goals</th>\n      <th>Goals_Against</th>\n      <th>Takeaways</th>\n      <th>Takeaways_Against</th>\n      <th>Hits</th>\n      <th>Hits_Against</th>\n      <th>Blocked Shots</th>\n      <th>Blocked Shots Against</th>\n      <th>Giveaways</th>\n      <th>Giveaways_Against</th>\n      <th>Missed Shots</th>\n      <th>Missed Shots_Against</th>\n      <th>Penalities</th>\n      <th>Penalities_Against</th>\n      <th>#Won Faceoffs</th>\n      <th>#Lost Faceoffs</th>\n      <th>HoA_away</th>\n      <th>HoA_home</th>\n    </tr>\n  </thead>\n  <tbody>\n    <tr>\n      <th>0</th>\n      <td>0</td>\n      <td>8.0</td>\n      <td>8.0</td>\n      <td>0.0</td>\n      <td>3.0</td>\n      <td>1.0</td>\n      <td>3.0</td>\n      <td>14.0</td>\n      <td>5.0</td>\n      <td>3.0</td>\n      <td>3.0</td>\n      <td>6.0</td>\n      <td>7.0</td>\n      <td>4.0</td>\n      <td>0.0</td>\n      <td>1.0</td>\n      <td>1.0</td>\n      <td>10.0</td>\n      <td>12.0</td>\n      <td>1</td>\n      <td>0</td>\n    </tr>\n    <tr>\n      <th>1</th>\n      <td>1</td>\n      <td>8.0</td>\n      <td>8.0</td>\n      <td>3.0</td>\n      <td>0.0</td>\n      <td>3.0</td>\n      <td>1.0</td>\n      <td>5.0</td>\n      <td>14.0</td>\n      <td>3.0</td>\n      <td>3.0</td>\n      <td>7.0</td>\n      <td>6.0</td>\n      <td>0.0</td>\n      <td>4.0</td>\n      <td>1.0</td>\n      <td>1.0</td>\n      <td>12.0</td>\n      <td>10.0</td>\n      <td>0</td>\n      <td>1</td>\n    </tr>\n    <tr>\n      <th>2</th>\n      <td>1</td>\n      <td>11.0</td>\n      <td>12.0</td>\n      <td>0.0</td>\n      <td>1.0</td>\n      <td>0.0</td>\n      <td>2.0</td>\n      <td>4.0</td>\n      <td>4.0</td>\n      <td>6.0</td>\n      <td>8.0</td>\n      <td>2.0</td>\n      <td>0.0</td>\n      <td>6.0</td>\n      <td>3.0</td>\n      <td>1.0</td>\n      <td>3.0</td>\n      <td>11.0</td>\n      <td>9.0</td>\n      <td>1</td>\n      <td>0</td>\n    </tr>\n    <tr>\n      <th>3</th>\n      <td>0</td>\n      <td>12.0</td>\n      <td>11.0</td>\n      <td>1.0</td>\n      <td>0.0</td>\n      <td>2.0</td>\n      <td>0.0</td>\n      <td>4.0</td>\n      <td>4.0</td>\n      <td>8.0</td>\n      <td>6.0</td>\n      <td>0.0</td>\n      <td>2.0</td>\n      <td>3.0</td>\n      <td>6.0</td>\n      <td>3.0</td>\n      <td>1.0</td>\n      <td>9.0</td>\n      <td>11.0</td>\n      <td>0</td>\n      <td>1</td>\n    </tr>\n    <tr>\n      <th>4</th>\n      <td>1</td>\n      <td>9.0</td>\n      <td>8.0</td>\n      <td>0.0</td>\n      <td>1.0</td>\n      <td>3.0</td>\n      <td>2.0</td>\n      <td>4.0</td>\n      <td>5.0</td>\n      <td>7.0</td>\n      <td>1.0</td>\n      <td>7.0</td>\n      <td>5.0</td>\n      <td>3.0</td>\n      <td>8.0</td>\n      <td>2.0</td>\n      <td>1.0</td>\n      <td>7.0</td>\n      <td>11.0</td>\n      <td>1</td>\n      <td>0</td>\n    </tr>\n  </tbody>\n</table>\n</div>",
       "datasetInfos": [],
       "metadata": {},
       "removedWidgets": [],
       "textData": null,
       "type": "htmlSandbox"
      }
     },
     "output_type": "display_data"
    }
   ],
   "source": [
    "df.head(5)"
   ]
  },
  {
   "cell_type": "code",
   "execution_count": 0,
   "metadata": {
    "application/vnd.databricks.v1+cell": {
     "inputWidgets": {},
     "nuid": "f077095e-6290-4126-a89c-dcaba3bb17d1",
     "showTitle": false,
     "title": ""
    }
   },
   "outputs": [],
   "source": [
    "# split data into X and y\n",
    "y = df.pop('won')\n",
    "X = df\n",
    "# split data into train and test sets\n",
    "seed = 7\n",
    "test_size = 0.33\n",
    "X_train, X_test, y_train, y_test = train_test_split(X, y, test_size=test_size, random_state=seed)"
   ]
  },
  {
   "cell_type": "code",
   "execution_count": 0,
   "metadata": {
    "application/vnd.databricks.v1+cell": {
     "inputWidgets": {},
     "nuid": "760e565f-2846-440b-a47b-1f7afa50263f",
     "showTitle": false,
     "title": ""
    }
   },
   "outputs": [
    {
     "data": {
      "text/plain": [
       "/databricks/python/lib/python3.8/site-packages/lightgbm/sklearn.py:736: UserWarning: 'verbose' argument is deprecated and will be removed in a future release of LightGBM. Pass 'log_evaluation()' callback via 'callbacks' argument instead.\n",
       "  _log_warning(\"'verbose' argument is deprecated and will be removed in a future release of LightGBM. \"\n",
       "[20]\ttraining's binary_logloss: 0.588145\tvalid_0's binary_logloss: 0.602557\n",
       "[40]\ttraining's binary_logloss: 0.564346\tvalid_0's binary_logloss: 0.599359\n",
       "[60]\ttraining's binary_logloss: 0.546199\tvalid_0's binary_logloss: 0.600596\n",
       "[80]\ttraining's binary_logloss: 0.529762\tvalid_0's binary_logloss: 0.60314\n",
       "[100]\ttraining's binary_logloss: 0.514817\tvalid_0's binary_logloss: 0.604746\n",
       "Out[13]: LGBMClassifier(learning_rate=0.09, max_depth=-5, random_state=42)"
      ]
     },
     "metadata": {
      "application/vnd.databricks.v1+output": {
       "addedWidgets": {},
       "arguments": {},
       "data": "/databricks/python/lib/python3.8/site-packages/lightgbm/sklearn.py:736: UserWarning: 'verbose' argument is deprecated and will be removed in a future release of LightGBM. Pass 'log_evaluation()' callback via 'callbacks' argument instead.\n  _log_warning(\"'verbose' argument is deprecated and will be removed in a future release of LightGBM. \"\n[20]\ttraining's binary_logloss: 0.588145\tvalid_0's binary_logloss: 0.602557\n[40]\ttraining's binary_logloss: 0.564346\tvalid_0's binary_logloss: 0.599359\n[60]\ttraining's binary_logloss: 0.546199\tvalid_0's binary_logloss: 0.600596\n[80]\ttraining's binary_logloss: 0.529762\tvalid_0's binary_logloss: 0.60314\n[100]\ttraining's binary_logloss: 0.514817\tvalid_0's binary_logloss: 0.604746\nOut[13]: LGBMClassifier(learning_rate=0.09, max_depth=-5, random_state=42)",
       "datasetInfos": [],
       "metadata": {},
       "removedWidgets": [],
       "type": "ansi"
      }
     },
     "output_type": "display_data"
    }
   ],
   "source": [
    "model = lgb.LGBMClassifier(learning_rate=0.09,max_depth=-5,random_state=42)\n",
    "model.fit(X_train,y_train,eval_set=[(X_test,y_test),(X_train,y_train)],\n",
    "          verbose=20,eval_metric='logloss')"
   ]
  },
  {
   "cell_type": "code",
   "execution_count": 0,
   "metadata": {
    "application/vnd.databricks.v1+cell": {
     "inputWidgets": {},
     "nuid": "7306def1-9cdf-4d19-af54-bdaa0b75cc1e",
     "showTitle": false,
     "title": ""
    }
   },
   "outputs": [
    {
     "data": {
      "text/plain": [
       "Training accuracy 0.7570\n",
       "Testing accuracy 0.6538\n"
      ]
     },
     "metadata": {
      "application/vnd.databricks.v1+output": {
       "addedWidgets": {},
       "arguments": {},
       "data": "Training accuracy 0.7570\nTesting accuracy 0.6538\n",
       "datasetInfos": [],
       "metadata": {},
       "removedWidgets": [],
       "type": "ansi"
      }
     },
     "output_type": "display_data"
    }
   ],
   "source": [
    "print('Training accuracy {:.4f}'.format(model.score(X_train,y_train)))\n",
    "print('Testing accuracy {:.4f}'.format(model.score(X_test,y_test)))"
   ]
  },
  {
   "cell_type": "code",
   "execution_count": 0,
   "metadata": {
    "application/vnd.databricks.v1+cell": {
     "inputWidgets": {},
     "nuid": "d76f1a07-b2d5-4f7b-ae6e-80dd1fe09856",
     "showTitle": false,
     "title": ""
    }
   },
   "outputs": [
    {
     "data": {
      "text/plain": [
       "Accuracy: 65.38%\n",
       "Precision score:  0.6565500154846702\n",
       "Recall score:  0.6459475929311396\n"
      ]
     },
     "metadata": {
      "application/vnd.databricks.v1+output": {
       "addedWidgets": {},
       "arguments": {},
       "data": "Accuracy: 65.38%\nPrecision score:  0.6565500154846702\nRecall score:  0.6459475929311396\n",
       "datasetInfos": [],
       "metadata": {},
       "removedWidgets": [],
       "type": "ansi"
      }
     },
     "output_type": "display_data"
    }
   ],
   "source": [
    "# Interestingly, slightly better accuracy\n",
    "# make predictions for test data\n",
    "from sklearn.metrics import precision_score, recall_score\n",
    "y_pred = model.predict(X_test)\n",
    "predictions = [round(value) for value in y_pred]\n",
    "accuracy = accuracy_score(y_test, predictions)\n",
    "print(\"Accuracy: %.2f%%\" % (accuracy * 100.0))\n",
    "print('Precision score: ', (precision_score(y_test, predictions)))\n",
    "print('Recall score: ', recall_score(y_test, predictions))"
   ]
  },
  {
   "cell_type": "code",
   "execution_count": 0,
   "metadata": {
    "application/vnd.databricks.v1+cell": {
     "inputWidgets": {},
     "nuid": "c1d39bda-80fc-4c9a-85c3-c4e093c50924",
     "showTitle": false,
     "title": ""
    }
   },
   "outputs": [],
   "source": [
    "# make predictions for tonight data (optimized for continuous prediciton)\n",
    "def tonight_bet(*paramas):\n",
    "  shots=paramas[0]\n",
    "  shots_agianst=paramas[1]\n",
    "  goal=paramas[2]\n",
    "  goal_against=paramas[3]\n",
    "  takeaway=paramas[4]\n",
    "  takeaway_against=paramas[5]\n",
    "  hits=paramas[6]\n",
    "  hits_against=paramas[7]\n",
    "  blockedShots=paramas[8]\n",
    "  blockedShots_against=paramas[9]\n",
    "  giveaway=paramas[10]\n",
    "  giveaway_against=paramas[11]\n",
    "  missedShots=paramas[12]\n",
    "  missedShotsagainst=paramas[13]\n",
    "  penalties=paramas[14]\n",
    "  penalties_against=paramas[15]\n",
    "  Won_Faceoffs=paramas[16]\n",
    "  Lost_Faceoffs=paramas[17]\n",
    "  hoa_away=paramas[18]\n",
    "  hoa_home=paramas[19]\n",
    "  bet_df=pd.DataFrame({\"shots\":[shots],\"shots_agianst\":[shots_agianst],\"goal\":[goal],\"goal_against\":[goal_against],\"takeaway\":[takeaway],\n",
    "                       \"takeaway_against\":[takeaway_against],\"hits\":[hits],\"hits_against\":[hits_against],\"blockedShots\":[blockedShots],\n",
    "                       \"blockedShots_against\":[blockedShots_against],\"giveaway\":[giveaway],\"giveaway_against\":[giveaway_against],\"missedShots\":[missedShots],\n",
    "                       \"missedShotsagainst\":[missedShotsagainst],\"penalties\":[penalties],\"penalties_against\":[penalties_against],\"Won_Faceoffs\":[Won_Faceoffs],\n",
    "                       \"Lost_Faceoffs\":[Lost_Faceoffs],\"hoa_away\":[hoa_away],\"hoa_home\":[hoa_home]})\n",
    "  bet_df=bet_df.iloc[:1,:]\n",
    "  tonight_teams=bet_df\n",
    "  return tonight_teams"
   ]
  },
  {
   "cell_type": "code",
   "execution_count": 0,
   "metadata": {
    "application/vnd.databricks.v1+cell": {
     "inputWidgets": {},
     "nuid": "909a0fa0-2d98-4ec9-8edb-13e830ded2cb",
     "showTitle": false,
     "title": ""
    }
   },
   "outputs": [
    {
     "data": {
      "text/html": [
       "<div>\n",
       "<style scoped>\n",
       "    .dataframe tbody tr th:only-of-type {\n",
       "        vertical-align: middle;\n",
       "    }\n",
       "\n",
       "    .dataframe tbody tr th {\n",
       "        vertical-align: top;\n",
       "    }\n",
       "\n",
       "    .dataframe thead th {\n",
       "        text-align: right;\n",
       "    }\n",
       "</style>\n",
       "<table border=\"1\" class=\"dataframe\">\n",
       "  <thead>\n",
       "    <tr style=\"text-align: right;\">\n",
       "      <th></th>\n",
       "      <th>shots</th>\n",
       "      <th>shots_agianst</th>\n",
       "      <th>goal</th>\n",
       "      <th>goal_against</th>\n",
       "      <th>takeaway</th>\n",
       "      <th>takeaway_against</th>\n",
       "      <th>hits</th>\n",
       "      <th>hits_against</th>\n",
       "      <th>blockedShots</th>\n",
       "      <th>blockedShots_against</th>\n",
       "      <th>giveaway</th>\n",
       "      <th>giveaway_against</th>\n",
       "      <th>missedShots</th>\n",
       "      <th>missedShotsagainst</th>\n",
       "      <th>penalties</th>\n",
       "      <th>penalties_against</th>\n",
       "      <th>Won_Faceoffs</th>\n",
       "      <th>Lost_Faceoffs</th>\n",
       "      <th>hoa_away</th>\n",
       "      <th>hoa_home</th>\n",
       "    </tr>\n",
       "  </thead>\n",
       "  <tbody>\n",
       "    <tr>\n",
       "      <th>0</th>\n",
       "      <td>34</td>\n",
       "      <td>5</td>\n",
       "      <td>2</td>\n",
       "      <td>1</td>\n",
       "      <td>0</td>\n",
       "      <td>0</td>\n",
       "      <td>0</td>\n",
       "      <td>0</td>\n",
       "      <td>0</td>\n",
       "      <td>0</td>\n",
       "      <td>0</td>\n",
       "      <td>0</td>\n",
       "      <td>0</td>\n",
       "      <td>0</td>\n",
       "      <td>0</td>\n",
       "      <td>0</td>\n",
       "      <td>0</td>\n",
       "      <td>0</td>\n",
       "      <td>0</td>\n",
       "      <td>0</td>\n",
       "    </tr>\n",
       "  </tbody>\n",
       "</table>\n",
       "</div>"
      ]
     },
     "metadata": {
      "application/vnd.databricks.v1+output": {
       "addedWidgets": {},
       "arguments": {},
       "data": "<div>\n<style scoped>\n    .dataframe tbody tr th:only-of-type {\n        vertical-align: middle;\n    }\n\n    .dataframe tbody tr th {\n        vertical-align: top;\n    }\n\n    .dataframe thead th {\n        text-align: right;\n    }\n</style>\n<table border=\"1\" class=\"dataframe\">\n  <thead>\n    <tr style=\"text-align: right;\">\n      <th></th>\n      <th>shots</th>\n      <th>shots_agianst</th>\n      <th>goal</th>\n      <th>goal_against</th>\n      <th>takeaway</th>\n      <th>takeaway_against</th>\n      <th>hits</th>\n      <th>hits_against</th>\n      <th>blockedShots</th>\n      <th>blockedShots_against</th>\n      <th>giveaway</th>\n      <th>giveaway_against</th>\n      <th>missedShots</th>\n      <th>missedShotsagainst</th>\n      <th>penalties</th>\n      <th>penalties_against</th>\n      <th>Won_Faceoffs</th>\n      <th>Lost_Faceoffs</th>\n      <th>hoa_away</th>\n      <th>hoa_home</th>\n    </tr>\n  </thead>\n  <tbody>\n    <tr>\n      <th>0</th>\n      <td>34</td>\n      <td>5</td>\n      <td>2</td>\n      <td>1</td>\n      <td>0</td>\n      <td>0</td>\n      <td>0</td>\n      <td>0</td>\n      <td>0</td>\n      <td>0</td>\n      <td>0</td>\n      <td>0</td>\n      <td>0</td>\n      <td>0</td>\n      <td>0</td>\n      <td>0</td>\n      <td>0</td>\n      <td>0</td>\n      <td>0</td>\n      <td>0</td>\n    </tr>\n  </tbody>\n</table>\n</div>",
       "datasetInfos": [],
       "metadata": {},
       "removedWidgets": [],
       "textData": null,
       "type": "htmlSandbox"
      }
     },
     "output_type": "display_data"
    }
   ],
   "source": [
    "x=[34,5,2,1,0,0,0,0,0,0,0,0,0,0,0,0,0,0,0,0]\n",
    "tonight_bet(*x)\n",
    "\n"
   ]
  },
  {
   "cell_type": "code",
   "execution_count": 0,
   "metadata": {
    "application/vnd.databricks.v1+cell": {
     "inputWidgets": {},
     "nuid": "2749ab90-5409-4a15-8536-1af3a4a02357",
     "showTitle": false,
     "title": ""
    }
   },
   "outputs": [
    {
     "data": {
      "text/plain": [
       "[1]\n",
       "[[0.23307611 0.76692389]]\n"
      ]
     },
     "metadata": {
      "application/vnd.databricks.v1+output": {
       "addedWidgets": {},
       "arguments": {},
       "data": "[1]\n[[0.23307611 0.76692389]]\n",
       "datasetInfos": [],
       "metadata": {},
       "removedWidgets": [],
       "type": "ansi"
      }
     },
     "output_type": "display_data"
    }
   ],
   "source": [
    "# make predictions for test data\n",
    "X_Game_test = tonight_bet(*x)\n",
    "# store value to use in model\n",
    "\n",
    "Game_y_pred = model.predict(X_Game_test)\n",
    "prediction = [round(value) for value in Game_y_pred]\n",
    "print(prediction)\n",
    "probability = model.predict_proba(X_Game_test)\n",
    "print(probability)"
   ]
  },
  {
   "cell_type": "markdown",
   "metadata": {
    "application/vnd.databricks.v1+cell": {
     "inputWidgets": {},
     "nuid": "ddea6362-0d09-4a34-ae49-f01f73351f33",
     "showTitle": false,
     "title": ""
    }
   },
   "source": [
    "# API SportsRadar Request"
   ]
  },
  {
   "cell_type": "code",
   "execution_count": 0,
   "metadata": {
    "application/vnd.databricks.v1+cell": {
     "inputWidgets": {},
     "nuid": "42ae3569-15db-4beb-ae58-8ed4b57f66a8",
     "showTitle": false,
     "title": ""
    }
   },
   "outputs": [
    {
     "data": {
      "text/plain": [
       "API Key: sa8b3wuwy549qwy6jw6srsgv\n"
      ]
     },
     "metadata": {
      "application/vnd.databricks.v1+output": {
       "addedWidgets": {},
       "arguments": {},
       "data": "API Key: sa8b3wuwy549qwy6jw6srsgv\n",
       "datasetInfos": [],
       "metadata": {},
       "removedWidgets": [],
       "type": "ansi"
      }
     },
     "output_type": "display_data"
    }
   ],
   "source": [
    "# API Packages\n",
    "import requests\n",
    "import json\n",
    "api_key = \"sa8b3wuwy549qwy6jw6srsgv\"\n",
    "print(\"API Key:\",api_key)"
   ]
  },
  {
   "cell_type": "code",
   "execution_count": 0,
   "metadata": {
    "application/vnd.databricks.v1+cell": {
     "inputWidgets": {},
     "nuid": "505ecf1f-5eab-4c6d-8ab0-5c58bf81cba7",
     "showTitle": false,
     "title": ""
    }
   },
   "outputs": [
    {
     "data": {
      "text/plain": [
       "Today's date: 2022-04-16\n"
      ]
     },
     "metadata": {
      "application/vnd.databricks.v1+output": {
       "addedWidgets": {},
       "arguments": {},
       "data": "Today's date: 2022-04-16\n",
       "datasetInfos": [],
       "metadata": {},
       "removedWidgets": [],
       "type": "ansi"
      }
     },
     "output_type": "display_data"
    },
    {
     "data": {
      "text/html": [
       "<div>\n",
       "<style scoped>\n",
       "    .dataframe tbody tr th:only-of-type {\n",
       "        vertical-align: middle;\n",
       "    }\n",
       "\n",
       "    .dataframe tbody tr th {\n",
       "        vertical-align: top;\n",
       "    }\n",
       "\n",
       "    .dataframe thead th {\n",
       "        text-align: right;\n",
       "    }\n",
       "</style>\n",
       "<table border=\"1\" class=\"dataframe\">\n",
       "  <thead>\n",
       "    <tr style=\"text-align: right;\">\n",
       "      <th></th>\n",
       "      <th>Game ID</th>\n",
       "      <th>Home Team</th>\n",
       "      <th>Home Team ID</th>\n",
       "      <th>Away Team</th>\n",
       "      <th>Away Team ID</th>\n",
       "      <th>Start Time</th>\n",
       "    </tr>\n",
       "  </thead>\n",
       "  <tbody>\n",
       "    <tr>\n",
       "      <th>0</th>\n",
       "      <td>305e7c9a-fff5-453c-a3d7-5f9ea2b026d4</td>\n",
       "      <td>Boston Bruins</td>\n",
       "      <td>4416ba1a-0f24-11e2-8525-18a905767e44</td>\n",
       "      <td>Pittsburgh Penguins</td>\n",
       "      <td>4417b7d7-0f24-11e2-8525-18a905767e44</td>\n",
       "      <td>12:30:00</td>\n",
       "    </tr>\n",
       "    <tr>\n",
       "      <th>1</th>\n",
       "      <td>a6110d51-b977-4503-bb03-d46cbe5d4840</td>\n",
       "      <td>New York Rangers</td>\n",
       "      <td>441781b9-0f24-11e2-8525-18a905767e44</td>\n",
       "      <td>Detroit Red Wings</td>\n",
       "      <td>44169bb9-0f24-11e2-8525-18a905767e44</td>\n",
       "      <td>12:30:00</td>\n",
       "    </tr>\n",
       "    <tr>\n",
       "      <th>2</th>\n",
       "      <td>df355913-7846-4eeb-8ad4-528dca0077d6</td>\n",
       "      <td>Nashville Predators</td>\n",
       "      <td>441643b7-0f24-11e2-8525-18a905767e44</td>\n",
       "      <td>Chicago Blackhawks</td>\n",
       "      <td>4416272f-0f24-11e2-8525-18a905767e44</td>\n",
       "      <td>12:30:00</td>\n",
       "    </tr>\n",
       "    <tr>\n",
       "      <th>3</th>\n",
       "      <td>09ebf3f9-d2e0-4ac5-b2ab-550e5a90ddce</td>\n",
       "      <td>St. Louis Blues</td>\n",
       "      <td>441660ea-0f24-11e2-8525-18a905767e44</td>\n",
       "      <td>Minnesota Wild</td>\n",
       "      <td>4416091c-0f24-11e2-8525-18a905767e44</td>\n",
       "      <td>15:00:00</td>\n",
       "    </tr>\n",
       "    <tr>\n",
       "      <th>4</th>\n",
       "      <td>37425f01-d778-432b-ad37-d5c49282f395</td>\n",
       "      <td>Edmonton Oilers</td>\n",
       "      <td>4415ea6c-0f24-11e2-8525-18a905767e44</td>\n",
       "      <td>Vegas Golden Knights</td>\n",
       "      <td>42376e1c-6da8-461e-9443-cfcf0a9fcc4d</td>\n",
       "      <td>16:00:00</td>\n",
       "    </tr>\n",
       "    <tr>\n",
       "      <th>5</th>\n",
       "      <td>3aa3ada8-fd91-4dee-a01d-39b35046355b</td>\n",
       "      <td>Ottawa Senators</td>\n",
       "      <td>4416f5e2-0f24-11e2-8525-18a905767e44</td>\n",
       "      <td>Toronto Maple Leafs</td>\n",
       "      <td>441730a9-0f24-11e2-8525-18a905767e44</td>\n",
       "      <td>19:00:00</td>\n",
       "    </tr>\n",
       "    <tr>\n",
       "      <th>6</th>\n",
       "      <td>63f102bd-42ed-45b0-bb74-44dd0f6ab0a5</td>\n",
       "      <td>Buffalo Sabres</td>\n",
       "      <td>4416d559-0f24-11e2-8525-18a905767e44</td>\n",
       "      <td>Philadelphia Flyers</td>\n",
       "      <td>44179d47-0f24-11e2-8525-18a905767e44</td>\n",
       "      <td>19:00:00</td>\n",
       "    </tr>\n",
       "    <tr>\n",
       "      <th>7</th>\n",
       "      <td>9511fcc4-6851-4cac-8f84-7306000d0bea</td>\n",
       "      <td>Montreal Canadiens</td>\n",
       "      <td>441713b7-0f24-11e2-8525-18a905767e44</td>\n",
       "      <td>Washington Capitals</td>\n",
       "      <td>4417eede-0f24-11e2-8525-18a905767e44</td>\n",
       "      <td>19:00:00</td>\n",
       "    </tr>\n",
       "    <tr>\n",
       "      <th>8</th>\n",
       "      <td>b36484be-e914-4ab1-b4ac-23f70306c355</td>\n",
       "      <td>Tampa Bay Lightning</td>\n",
       "      <td>4417d3cb-0f24-11e2-8525-18a905767e44</td>\n",
       "      <td>Winnipeg Jets</td>\n",
       "      <td>44180e55-0f24-11e2-8525-18a905767e44</td>\n",
       "      <td>19:00:00</td>\n",
       "    </tr>\n",
       "    <tr>\n",
       "      <th>9</th>\n",
       "      <td>31d0a5c3-4d22-498f-a338-7004cf1a4580</td>\n",
       "      <td>Dallas Stars</td>\n",
       "      <td>44157522-0f24-11e2-8525-18a905767e44</td>\n",
       "      <td>San Jose Sharks</td>\n",
       "      <td>44155909-0f24-11e2-8525-18a905767e44</td>\n",
       "      <td>20:00:00</td>\n",
       "    </tr>\n",
       "  </tbody>\n",
       "</table>\n",
       "</div>"
      ]
     },
     "metadata": {
      "application/vnd.databricks.v1+output": {
       "addedWidgets": {},
       "arguments": {},
       "data": "<div>\n<style scoped>\n    .dataframe tbody tr th:only-of-type {\n        vertical-align: middle;\n    }\n\n    .dataframe tbody tr th {\n        vertical-align: top;\n    }\n\n    .dataframe thead th {\n        text-align: right;\n    }\n</style>\n<table border=\"1\" class=\"dataframe\">\n  <thead>\n    <tr style=\"text-align: right;\">\n      <th></th>\n      <th>Game ID</th>\n      <th>Home Team</th>\n      <th>Home Team ID</th>\n      <th>Away Team</th>\n      <th>Away Team ID</th>\n      <th>Start Time</th>\n    </tr>\n  </thead>\n  <tbody>\n    <tr>\n      <th>0</th>\n      <td>305e7c9a-fff5-453c-a3d7-5f9ea2b026d4</td>\n      <td>Boston Bruins</td>\n      <td>4416ba1a-0f24-11e2-8525-18a905767e44</td>\n      <td>Pittsburgh Penguins</td>\n      <td>4417b7d7-0f24-11e2-8525-18a905767e44</td>\n      <td>12:30:00</td>\n    </tr>\n    <tr>\n      <th>1</th>\n      <td>a6110d51-b977-4503-bb03-d46cbe5d4840</td>\n      <td>New York Rangers</td>\n      <td>441781b9-0f24-11e2-8525-18a905767e44</td>\n      <td>Detroit Red Wings</td>\n      <td>44169bb9-0f24-11e2-8525-18a905767e44</td>\n      <td>12:30:00</td>\n    </tr>\n    <tr>\n      <th>2</th>\n      <td>df355913-7846-4eeb-8ad4-528dca0077d6</td>\n      <td>Nashville Predators</td>\n      <td>441643b7-0f24-11e2-8525-18a905767e44</td>\n      <td>Chicago Blackhawks</td>\n      <td>4416272f-0f24-11e2-8525-18a905767e44</td>\n      <td>12:30:00</td>\n    </tr>\n    <tr>\n      <th>3</th>\n      <td>09ebf3f9-d2e0-4ac5-b2ab-550e5a90ddce</td>\n      <td>St. Louis Blues</td>\n      <td>441660ea-0f24-11e2-8525-18a905767e44</td>\n      <td>Minnesota Wild</td>\n      <td>4416091c-0f24-11e2-8525-18a905767e44</td>\n      <td>15:00:00</td>\n    </tr>\n    <tr>\n      <th>4</th>\n      <td>37425f01-d778-432b-ad37-d5c49282f395</td>\n      <td>Edmonton Oilers</td>\n      <td>4415ea6c-0f24-11e2-8525-18a905767e44</td>\n      <td>Vegas Golden Knights</td>\n      <td>42376e1c-6da8-461e-9443-cfcf0a9fcc4d</td>\n      <td>16:00:00</td>\n    </tr>\n    <tr>\n      <th>5</th>\n      <td>3aa3ada8-fd91-4dee-a01d-39b35046355b</td>\n      <td>Ottawa Senators</td>\n      <td>4416f5e2-0f24-11e2-8525-18a905767e44</td>\n      <td>Toronto Maple Leafs</td>\n      <td>441730a9-0f24-11e2-8525-18a905767e44</td>\n      <td>19:00:00</td>\n    </tr>\n    <tr>\n      <th>6</th>\n      <td>63f102bd-42ed-45b0-bb74-44dd0f6ab0a5</td>\n      <td>Buffalo Sabres</td>\n      <td>4416d559-0f24-11e2-8525-18a905767e44</td>\n      <td>Philadelphia Flyers</td>\n      <td>44179d47-0f24-11e2-8525-18a905767e44</td>\n      <td>19:00:00</td>\n    </tr>\n    <tr>\n      <th>7</th>\n      <td>9511fcc4-6851-4cac-8f84-7306000d0bea</td>\n      <td>Montreal Canadiens</td>\n      <td>441713b7-0f24-11e2-8525-18a905767e44</td>\n      <td>Washington Capitals</td>\n      <td>4417eede-0f24-11e2-8525-18a905767e44</td>\n      <td>19:00:00</td>\n    </tr>\n    <tr>\n      <th>8</th>\n      <td>b36484be-e914-4ab1-b4ac-23f70306c355</td>\n      <td>Tampa Bay Lightning</td>\n      <td>4417d3cb-0f24-11e2-8525-18a905767e44</td>\n      <td>Winnipeg Jets</td>\n      <td>44180e55-0f24-11e2-8525-18a905767e44</td>\n      <td>19:00:00</td>\n    </tr>\n    <tr>\n      <th>9</th>\n      <td>31d0a5c3-4d22-498f-a338-7004cf1a4580</td>\n      <td>Dallas Stars</td>\n      <td>44157522-0f24-11e2-8525-18a905767e44</td>\n      <td>San Jose Sharks</td>\n      <td>44155909-0f24-11e2-8525-18a905767e44</td>\n      <td>20:00:00</td>\n    </tr>\n  </tbody>\n</table>\n</div>",
       "datasetInfos": [],
       "metadata": {},
       "removedWidgets": [],
       "textData": null,
       "type": "htmlSandbox"
      }
     },
     "output_type": "display_data"
    }
   ],
   "source": [
    "from datetime import date\n",
    "import re\n",
    "from datetime import datetime,timedelta\n",
    "\n",
    "today = date.today()\n",
    "\n",
    "# dd/mm/YY\n",
    "Day = today.strftime(\"%d\")\n",
    "Month = today.strftime(\"%m\")\n",
    "Year = today.strftime(\"%Y\")\n",
    "today = date.today()\n",
    "print(\"Today's date:\", today)\n",
    "# Get API info\n",
    "response = requests.get((\"https://api.sportradar.us/nhl/trial/v7/en/games/{Year}/{Month}/{Day}/schedule.json?api_key=sa8b3wuwy549qwy6jw6srsgv\").format(Day=Day, Month = Month, Year = Year))\n",
    "\n",
    "# Define function that translates API into text\n",
    "def jprint(obj):\n",
    "    text = json.dumps(obj, sort_keys=True, indent=4)\n",
    "    print(text)\n",
    "    return \"\"\n",
    "\n",
    "# Set response as json\n",
    "x = response.json()\n",
    "# Print API info\n",
    "def getrs(obj):\n",
    "    Todays_Schedule = []\n",
    "    Todays_Schedule = pd.DataFrame([],columns = [\"Game ID\",\"Home Team\",'Home Team ID',\"Away Team\",\"Away Team ID\",\"Start Time\"])\n",
    "    q = len(obj[\"games\"])\n",
    "    for i in range(q):\n",
    "            GID = obj[\"games\"][i][\"id\"]\n",
    "            H = obj['games'][i]['home']['name']\n",
    "            Hid = obj['games'][i]['home']['id']\n",
    "            A = obj['games'][i]['away']['name']\n",
    "            Aid = obj['games'][i]['away']['id']\n",
    "            PD = obj['games'][i]['scheduled']\n",
    "            PD = re.search('T(.+?)Z',PD)\n",
    "            if PD:\n",
    "                found = PD.group(1)\n",
    "            format = \"%H:%M:%S\"\n",
    "            d = datetime.strptime(found,format) - timedelta(hours=4)\n",
    "            d = d.strftime(\"%H:%M:%S\")\n",
    "            PD = d\n",
    "            temp_df = [GID,H,Hid,A,Aid,PD]\n",
    "            a_series = pd.Series(temp_df,index = Todays_Schedule.columns)\n",
    "            Todays_Schedule = Todays_Schedule.append(a_series, ignore_index=True)\n",
    "    return Todays_Schedule\n",
    "data=getrs(x)\n",
    "data.head(10)"
   ]
  },
  {
   "cell_type": "markdown",
   "metadata": {
    "application/vnd.databricks.v1+cell": {
     "inputWidgets": {},
     "nuid": "517fc163-521d-4cde-9eeb-68309680bf92",
     "showTitle": false,
     "title": ""
    }
   },
   "source": [
    "# Current Game Stats"
   ]
  },
  {
   "cell_type": "code",
   "execution_count": 0,
   "metadata": {
    "application/vnd.databricks.v1+cell": {
     "inputWidgets": {},
     "nuid": "623e7b56-e3c1-4f52-866e-ea140ebe666d",
     "showTitle": false,
     "title": ""
    }
   },
   "outputs": [
    {
     "data": {
      "text/html": [
       "<div>\n",
       "<style scoped>\n",
       "    .dataframe tbody tr th:only-of-type {\n",
       "        vertical-align: middle;\n",
       "    }\n",
       "\n",
       "    .dataframe tbody tr th {\n",
       "        vertical-align: top;\n",
       "    }\n",
       "\n",
       "    .dataframe thead th {\n",
       "        text-align: right;\n",
       "    }\n",
       "</style>\n",
       "<table border=\"1\" class=\"dataframe\">\n",
       "  <thead>\n",
       "    <tr style=\"text-align: right;\">\n",
       "      <th></th>\n",
       "      <th>shots</th>\n",
       "      <th>shots_against</th>\n",
       "      <th>goals</th>\n",
       "      <th>goals_against</th>\n",
       "      <th>takeaways</th>\n",
       "      <th>takeaways_against</th>\n",
       "      <th>hits</th>\n",
       "      <th>hits_against</th>\n",
       "      <th>blockedShots</th>\n",
       "      <th>blockedShots_against</th>\n",
       "      <th>giveaways</th>\n",
       "      <th>giveaways_against</th>\n",
       "      <th>missedShots</th>\n",
       "      <th>missedShots_against</th>\n",
       "      <th>penalties</th>\n",
       "      <th>penalties_against</th>\n",
       "      <th>#Won Faceoffs</th>\n",
       "      <th>#Lost Faceoffs</th>\n",
       "      <th>HoA_away</th>\n",
       "      <th>HoA_home</th>\n",
       "    </tr>\n",
       "  </thead>\n",
       "  <tbody>\n",
       "    <tr>\n",
       "      <th>0</th>\n",
       "      <td>9</td>\n",
       "      <td>7</td>\n",
       "      <td>0</td>\n",
       "      <td>0</td>\n",
       "      <td>1</td>\n",
       "      <td>1</td>\n",
       "      <td>11</td>\n",
       "      <td>3</td>\n",
       "      <td>4</td>\n",
       "      <td>1</td>\n",
       "      <td>2</td>\n",
       "      <td>6</td>\n",
       "      <td>9</td>\n",
       "      <td>2</td>\n",
       "      <td>1</td>\n",
       "      <td>1</td>\n",
       "      <td>11</td>\n",
       "      <td>4</td>\n",
       "      <td>0</td>\n",
       "      <td>1</td>\n",
       "    </tr>\n",
       "  </tbody>\n",
       "</table>\n",
       "</div>"
      ]
     },
     "metadata": {
      "application/vnd.databricks.v1+output": {
       "addedWidgets": {},
       "arguments": {},
       "data": "<div>\n<style scoped>\n    .dataframe tbody tr th:only-of-type {\n        vertical-align: middle;\n    }\n\n    .dataframe tbody tr th {\n        vertical-align: top;\n    }\n\n    .dataframe thead th {\n        text-align: right;\n    }\n</style>\n<table border=\"1\" class=\"dataframe\">\n  <thead>\n    <tr style=\"text-align: right;\">\n      <th></th>\n      <th>shots</th>\n      <th>shots_against</th>\n      <th>goals</th>\n      <th>goals_against</th>\n      <th>takeaways</th>\n      <th>takeaways_against</th>\n      <th>hits</th>\n      <th>hits_against</th>\n      <th>blockedShots</th>\n      <th>blockedShots_against</th>\n      <th>giveaways</th>\n      <th>giveaways_against</th>\n      <th>missedShots</th>\n      <th>missedShots_against</th>\n      <th>penalties</th>\n      <th>penalties_against</th>\n      <th>#Won Faceoffs</th>\n      <th>#Lost Faceoffs</th>\n      <th>HoA_away</th>\n      <th>HoA_home</th>\n    </tr>\n  </thead>\n  <tbody>\n    <tr>\n      <th>0</th>\n      <td>9</td>\n      <td>7</td>\n      <td>0</td>\n      <td>0</td>\n      <td>1</td>\n      <td>1</td>\n      <td>11</td>\n      <td>3</td>\n      <td>4</td>\n      <td>1</td>\n      <td>2</td>\n      <td>6</td>\n      <td>9</td>\n      <td>2</td>\n      <td>1</td>\n      <td>1</td>\n      <td>11</td>\n      <td>4</td>\n      <td>0</td>\n      <td>1</td>\n    </tr>\n  </tbody>\n</table>\n</div>",
       "datasetInfos": [],
       "metadata": {},
       "removedWidgets": [],
       "textData": null,
       "type": "htmlSandbox"
      }
     },
     "output_type": "display_data"
    }
   ],
   "source": [
    "def Game_Home_Team_Stats(game_id,home_team_id):\n",
    "    ts = 0\n",
    "    tsa = 0\n",
    "    go = 0\n",
    "    goa = 0\n",
    "    t = 0\n",
    "    ta = 0\n",
    "    h = 0\n",
    "    ha = 0\n",
    "    bs = 0\n",
    "    bsa = 0\n",
    "    gi = 0\n",
    "    gia = 0\n",
    "    ms = 0\n",
    "    msa = 0\n",
    "    p = 0\n",
    "    pa = 0\n",
    "    tfw = 0\n",
    "    tfl = 0\n",
    "    away = 0\n",
    "    home = 0\n",
    "    response = requests.get((\"https://api.sportradar.us/nhl/trial/v7/en/games/{obj}/pbp.json?api_key=sa8b3wuwy549qwy6jw6srsgv\").format(obj = game_id))\n",
    "    x = response.json()\n",
    "    y = len(x['periods'][0]['events'])\n",
    "    htc = x['home']['id']\n",
    "    if htc == home_team_id:\n",
    "        home = 1\n",
    "    else:\n",
    "        away = 1\n",
    "    for i in range(y):\n",
    "        j = x['periods'][0]['events'][i]['event_type']\n",
    "        if j == 'faceoff':\n",
    "            team_id = x['periods'][0]['events'][i]['attribution']['id']\n",
    "            if team_id == home_team_id:\n",
    "                    tfw = tfw + 1\n",
    "            else:\n",
    "                    tfl = tfl + 1\n",
    "        elif j == 'goal':\n",
    "            team_id = x['periods'][0]['events'][i]['attribution']['id']\n",
    "            if team_id == home_team_id:\n",
    "                    go = go + 1\n",
    "            else:\n",
    "                    goa = goa + 1\n",
    "        elif j == 'penalty':\n",
    "            team_id = x['periods'][0]['events'][i]['attribution']['id']\n",
    "            if team_id == home_team_id:\n",
    "                    p = p + 1\n",
    "            else:\n",
    "                    pa = pa + 1\n",
    "        elif j == 'shotmissed' and 'blocked' in x['periods'][0]['events'][i]['description']:\n",
    "                team_id = x['periods'][0]['events'][i]['attribution']['id']\n",
    "                if team_id == home_team_id:\n",
    "                        bs = bs + 1\n",
    "                else:\n",
    "                        bsa = bsa + 1\n",
    "        elif j == 'shotmissed' and 'missed' in x['periods'][0]['events'][i]['description']:\n",
    "                team_id = x['periods'][0]['events'][i]['attribution']['id']\n",
    "                if team_id == home_team_id:\n",
    "                        ms = ms + 1\n",
    "                else:\n",
    "                        msa = msa + 1\n",
    "        elif j == 'giveaway':\n",
    "            team_id = x['periods'][0]['events'][i]['attribution']['id']\n",
    "            if team_id == home_team_id:\n",
    "                    gi = gi + 1\n",
    "            else:\n",
    "                    gia = gia + 1\n",
    "        elif j == 'hit':\n",
    "            team_id = x['periods'][0]['events'][i]['attribution']['id']\n",
    "            if team_id == home_team_id:\n",
    "                    h = h + 1\n",
    "            else:\n",
    "                    ha = ha + 1\n",
    "        elif j == 'takeaway':\n",
    "            team_id = x['periods'][0]['events'][i]['attribution']['id']\n",
    "            if team_id == home_team_id:\n",
    "                    t = t + 1\n",
    "            else:\n",
    "                    ta = ta + 1\n",
    "        elif 'shot' in j:\n",
    "            team_id = x['periods'][0]['events'][i]['attribution']['id']\n",
    "            if team_id == home_team_id:\n",
    "                    ts = ts + 1\n",
    "            else:\n",
    "                    tsa = tsa + 1\n",
    "        else:\n",
    "            pass\n",
    "    d = {\"shots\": [ts], \"shots_against\": [tsa],\"goals\":[go],\"goals_against\":[goa],\"takeaways\":[t],\"takeaways_against\":[ta],\"hits\":[h],\"hits_against\":[ha],\"blockedShots\":[bs],\"blockedShots_against\":[bsa],\"giveaways\":[gi],\"giveaways_against\":[gia],\"missedShots\":[ms],\"missedShots_against\":[msa],\"penalties\":[p],\"penalties_against\":[pa],\"#Won Faceoffs\":[tfw],\"#Lost Faceoffs\":[tfl],'HoA_away':[away],'HoA_home':[home]}\n",
    "    Home_Team_Stats = pd.DataFrame(d)\n",
    "    return Home_Team_Stats\n",
    " \n",
    "\n",
    "Game_Home_Team_Stats('c134d1ff-1c8f-4591-9707-452010c9597d','44157522-0f24-11e2-8525-18a905767e44')"
   ]
  },
  {
   "cell_type": "code",
   "execution_count": 0,
   "metadata": {
    "application/vnd.databricks.v1+cell": {
     "inputWidgets": {},
     "nuid": "08f31294-be99-41a7-90fa-de594d07b0e3",
     "showTitle": false,
     "title": ""
    }
   },
   "outputs": [],
   "source": [
    "# new observations\n",
    "game= Game_Home_Team_Stats('2f0a0e46-7248-49bb-a4ab-cd21c59b0436','4417eede-0f24-11e2-8525-18a905767e44')"
   ]
  },
  {
   "cell_type": "code",
   "execution_count": 0,
   "metadata": {
    "application/vnd.databricks.v1+cell": {
     "inputWidgets": {},
     "nuid": "2602f09f-6dc2-49f2-9d34-d92fc033570c",
     "showTitle": false,
     "title": ""
    }
   },
   "outputs": [
    {
     "data": {
      "text/plain": [
       "   shots  shots_against  goals  goals_against  takeaways  takeaways_against  \\\n",
       "0      7              7      3              1          7                  0   \n",
       "\n",
       "   hits  hits_against  blockedShots  blockedShots_against  giveaways  \\\n",
       "0     8             6             5                     4          2   \n",
       "\n",
       "   giveaways_against  missedShots  missedShots_against  penalties  \\\n",
       "0                  2            5                    6          1   \n",
       "\n",
       "   penalties_against  #Won Faceoffs  #Lost Faceoffs  HoA_away  HoA_home  \n",
       "0                  1             11               8         0         1  \n",
       "Out[28]: pandas.core.frame.DataFrame"
      ]
     },
     "metadata": {
      "application/vnd.databricks.v1+output": {
       "addedWidgets": {},
       "arguments": {},
       "data": "   shots  shots_against  goals  goals_against  takeaways  takeaways_against  \\\n0      7              7      3              1          7                  0   \n\n   hits  hits_against  blockedShots  blockedShots_against  giveaways  \\\n0     8             6             5                     4          2   \n\n   giveaways_against  missedShots  missedShots_against  penalties  \\\n0                  2            5                    6          1   \n\n   penalties_against  #Won Faceoffs  #Lost Faceoffs  HoA_away  HoA_home  \n0                  1             11               8         0         1  \nOut[28]: pandas.core.frame.DataFrame",
       "datasetInfos": [],
       "metadata": {},
       "removedWidgets": [],
       "type": "ansi"
      }
     },
     "output_type": "display_data"
    }
   ],
   "source": [
    "print(game)\n",
    "type(game)"
   ]
  },
  {
   "cell_type": "code",
   "execution_count": 0,
   "metadata": {
    "application/vnd.databricks.v1+cell": {
     "inputWidgets": {},
     "nuid": "b620877f-a5c9-4884-976b-d46887de5a56",
     "showTitle": false,
     "title": ""
    }
   },
   "outputs": [],
   "source": [
    "stats= game.iloc[0,:]\n",
    "stats_list= stats.tolist()\n"
   ]
  },
  {
   "cell_type": "code",
   "execution_count": 0,
   "metadata": {
    "application/vnd.databricks.v1+cell": {
     "inputWidgets": {},
     "nuid": "918059d8-a847-4464-8da2-003cb6a3bda4",
     "showTitle": false,
     "title": ""
    }
   },
   "outputs": [
    {
     "data": {
      "text/plain": [
       "[1]\n",
       "[[0.4030312 0.5969688]]\n"
      ]
     },
     "metadata": {
      "application/vnd.databricks.v1+output": {
       "addedWidgets": {},
       "arguments": {},
       "data": "[1]\n[[0.4030312 0.5969688]]\n",
       "datasetInfos": [],
       "metadata": {},
       "removedWidgets": [],
       "type": "ansi"
      }
     },
     "output_type": "display_data"
    }
   ],
   "source": [
    "# make predictions for test data\n",
    "X_Game_test = tonight_bet(*stats_list)\n",
    "# store value to use in model\n",
    "\n",
    "Game_y_pred = model.predict(X_Game_test)\n",
    "prediction = [round(value) for value in Game_y_pred]\n",
    "print(prediction)\n",
    "probability = model.predict_proba(X_Game_test)\n",
    "print(probability)"
   ]
  },
  {
   "cell_type": "code",
   "execution_count": 0,
   "metadata": {
    "application/vnd.databricks.v1+cell": {
     "inputWidgets": {},
     "nuid": "0c37bbce-2a01-43b8-ac16-ba3bf1ed79c3",
     "showTitle": false,
     "title": ""
    }
   },
   "outputs": [
    {
     "data": {
      "text/plain": [
       "Out[32]: 20"
      ]
     },
     "metadata": {
      "application/vnd.databricks.v1+output": {
       "addedWidgets": {},
       "arguments": {},
       "data": "Out[32]: 20",
       "datasetInfos": [],
       "metadata": {},
       "removedWidgets": [],
       "type": "ansi"
      }
     },
     "output_type": "display_data"
    }
   ],
   "source": [
    "type(stats_list)\n",
    "len(stats_list)"
   ]
  },
  {
   "cell_type": "code",
   "execution_count": 0,
   "metadata": {
    "application/vnd.databricks.v1+cell": {
     "inputWidgets": {},
     "nuid": "f7bf27a2-48c6-4c25-946e-12443ce4521e",
     "showTitle": false,
     "title": ""
    }
   },
   "outputs": [
    {
     "data": {
      "text/plain": [
       "[7, 7, 3, 1, 7, 0, 8, 6, 5, 4, 2, 2, 5, 6, 1, 1, 11, 8, 0, 1, 1]\n",
       "Out[30]: 21"
      ]
     },
     "metadata": {
      "application/vnd.databricks.v1+output": {
       "addedWidgets": {},
       "arguments": {},
       "data": "[7, 7, 3, 1, 7, 0, 8, 6, 5, 4, 2, 2, 5, 6, 1, 1, 11, 8, 0, 1, 1]\nOut[30]: 21",
       "datasetInfos": [],
       "metadata": {},
       "removedWidgets": [],
       "type": "ansi"
      }
     },
     "output_type": "display_data"
    }
   ],
   "source": [
    "# add the new observation info\n",
    "for i in prediction:\n",
    "    stats_list.append(i)\n",
    "print(stats_list)\n",
    "len(stats_list)"
   ]
  },
  {
   "cell_type": "code",
   "execution_count": 0,
   "metadata": {
    "application/vnd.databricks.v1+cell": {
     "inputWidgets": {},
     "nuid": "d9420199-01ff-49ef-be49-7de83df2e290",
     "showTitle": false,
     "title": ""
    }
   },
   "outputs": [],
   "source": [
    "nhl_db = nhl_db.append(pd.DataFrame([stats_list], columns=nhl_db.columns), ignore_index=True)\n"
   ]
  },
  {
   "cell_type": "code",
   "execution_count": 0,
   "metadata": {
    "application/vnd.databricks.v1+cell": {
     "inputWidgets": {},
     "nuid": "a672e9af-ba51-4eaf-af6a-37335313d756",
     "showTitle": false,
     "title": ""
    }
   },
   "outputs": [
    {
     "data": {
      "text/plain": [
       "Out[32]: (51559, 21)"
      ]
     },
     "metadata": {
      "application/vnd.databricks.v1+output": {
       "addedWidgets": {},
       "arguments": {},
       "data": "Out[32]: (51559, 21)",
       "datasetInfos": [],
       "metadata": {},
       "removedWidgets": [],
       "type": "ansi"
      }
     },
     "output_type": "display_data"
    }
   ],
   "source": [
    "nhl_db.shape"
   ]
  },
  {
   "cell_type": "code",
   "execution_count": 0,
   "metadata": {
    "application/vnd.databricks.v1+cell": {
     "inputWidgets": {},
     "nuid": "2ae52868-4539-4d97-96dc-0a98152c7449",
     "showTitle": false,
     "title": ""
    }
   },
   "outputs": [],
   "source": [
    "# convert pandas to spark format and create delta lake \n",
    "nhl_db_sp= spark.createDataFrame(nhl_db) \n",
    "#sparkDF=spark.createDataFrame(pandasDF) \n",
    "\n"
   ]
  },
  {
   "cell_type": "code",
   "execution_count": 0,
   "metadata": {
    "application/vnd.databricks.v1+cell": {
     "inputWidgets": {},
     "nuid": "f6440314-d0d6-4727-96f5-bc0152c64970",
     "showTitle": false,
     "title": ""
    }
   },
   "outputs": [
    {
     "data": {
      "text/plain": [
       "Out[34]: pyspark.sql.dataframe.DataFrame"
      ]
     },
     "metadata": {
      "application/vnd.databricks.v1+output": {
       "addedWidgets": {},
       "arguments": {},
       "data": "Out[34]: pyspark.sql.dataframe.DataFrame",
       "datasetInfos": [],
       "metadata": {},
       "removedWidgets": [],
       "type": "ansi"
      }
     },
     "output_type": "display_data"
    }
   ],
   "source": [
    "type(nhl_db_sp)"
   ]
  },
  {
   "cell_type": "code",
   "execution_count": 0,
   "metadata": {
    "application/vnd.databricks.v1+cell": {
     "inputWidgets": {},
     "nuid": "022103f7-e2cb-4757-8784-1844d84593be",
     "showTitle": false,
     "title": ""
    }
   },
   "outputs": [
    {
     "data": {
      "text/plain": [
       "+---+-----+-------------+-----+-------------+---------+-----------------+----+------------+-------------+---------------------+---------+-----------------+------------+--------------------+----------+------------------+-------------+--------------+--------+--------+\n",
       "|won|Shots|Shots_Against|Goals|Goals_Against|Takeaways|Takeaways_Against|Hits|Hits_Against|Blocked Shots|Blocked Shots Against|Giveaways|Giveaways_Against|Missed Shots|Missed Shots_Against|Penalities|Penalities_Against|#Won Faceoffs|#Lost Faceoffs|HoA_away|HoA_home|\n",
       "+---+-----+-------------+-----+-------------+---------+-----------------+----+------------+-------------+---------------------+---------+-----------------+------------+--------------------+----------+------------------+-------------+--------------+--------+--------+\n",
       "|  0|  8.0|          8.0|  0.0|          3.0|      1.0|              3.0|14.0|         5.0|          3.0|                  3.0|      6.0|              7.0|         4.0|                 0.0|       1.0|               1.0|         10.0|          12.0|       1|       0|\n",
       "|  1|  8.0|          8.0|  3.0|          0.0|      3.0|              1.0| 5.0|        14.0|          3.0|                  3.0|      7.0|              6.0|         0.0|                 4.0|       1.0|               1.0|         12.0|          10.0|       0|       1|\n",
       "|  1| 11.0|         12.0|  0.0|          1.0|      0.0|              2.0| 4.0|         4.0|          6.0|                  8.0|      2.0|              0.0|         6.0|                 3.0|       1.0|               3.0|         11.0|           9.0|       1|       0|\n",
       "|  0| 12.0|         11.0|  1.0|          0.0|      2.0|              0.0| 4.0|         4.0|          8.0|                  6.0|      0.0|              2.0|         3.0|                 6.0|       3.0|               1.0|          9.0|          11.0|       0|       1|\n",
       "|  1|  9.0|          8.0|  0.0|          1.0|      3.0|              2.0| 4.0|         5.0|          7.0|                  1.0|      7.0|              5.0|         3.0|                 8.0|       2.0|               1.0|          7.0|          11.0|       1|       0|\n",
       "|  0|  8.0|          9.0|  1.0|          0.0|      2.0|              3.0| 5.0|         4.0|          1.0|                  7.0|      5.0|              7.0|         8.0|                 3.0|       1.0|               2.0|         11.0|           7.0|       0|       1|\n",
       "|  0|  4.0|          8.0|  0.0|          1.0|      5.0|              5.0|12.0|         5.0|          3.0|                  4.0|      2.0|              2.0|         3.0|                 3.0|       1.0|               3.0|          5.0|          12.0|       1|       0|\n",
       "|  1|  8.0|          4.0|  1.0|          0.0|      5.0|              5.0| 5.0|        12.0|          4.0|                  3.0|      2.0|              2.0|         3.0|                 3.0|       3.0|               1.0|         12.0|           5.0|       0|       1|\n",
       "|  0|  5.0|         19.0|  0.0|          1.0|      2.0|              4.0| 9.0|         6.0|          3.0|                  3.0|      4.0|              5.0|         2.0|                 6.0|       5.0|               3.0|          7.0|          11.0|       1|       0|\n",
       "|  1| 19.0|          5.0|  1.0|          0.0|      4.0|              2.0| 6.0|         9.0|          3.0|                  3.0|      5.0|              4.0|         6.0|                 2.0|       3.0|               5.0|         11.0|           7.0|       0|       1|\n",
       "+---+-----+-------------+-----+-------------+---------+-----------------+----+------------+-------------+---------------------+---------+-----------------+------------+--------------------+----------+------------------+-------------+--------------+--------+--------+\n",
       "only showing top 10 rows\n",
       "\n"
      ]
     },
     "metadata": {
      "application/vnd.databricks.v1+output": {
       "addedWidgets": {},
       "arguments": {},
       "data": "+---+-----+-------------+-----+-------------+---------+-----------------+----+------------+-------------+---------------------+---------+-----------------+------------+--------------------+----------+------------------+-------------+--------------+--------+--------+\n|won|Shots|Shots_Against|Goals|Goals_Against|Takeaways|Takeaways_Against|Hits|Hits_Against|Blocked Shots|Blocked Shots Against|Giveaways|Giveaways_Against|Missed Shots|Missed Shots_Against|Penalities|Penalities_Against|#Won Faceoffs|#Lost Faceoffs|HoA_away|HoA_home|\n+---+-----+-------------+-----+-------------+---------+-----------------+----+------------+-------------+---------------------+---------+-----------------+------------+--------------------+----------+------------------+-------------+--------------+--------+--------+\n|  0|  8.0|          8.0|  0.0|          3.0|      1.0|              3.0|14.0|         5.0|          3.0|                  3.0|      6.0|              7.0|         4.0|                 0.0|       1.0|               1.0|         10.0|          12.0|       1|       0|\n|  1|  8.0|          8.0|  3.0|          0.0|      3.0|              1.0| 5.0|        14.0|          3.0|                  3.0|      7.0|              6.0|         0.0|                 4.0|       1.0|               1.0|         12.0|          10.0|       0|       1|\n|  1| 11.0|         12.0|  0.0|          1.0|      0.0|              2.0| 4.0|         4.0|          6.0|                  8.0|      2.0|              0.0|         6.0|                 3.0|       1.0|               3.0|         11.0|           9.0|       1|       0|\n|  0| 12.0|         11.0|  1.0|          0.0|      2.0|              0.0| 4.0|         4.0|          8.0|                  6.0|      0.0|              2.0|         3.0|                 6.0|       3.0|               1.0|          9.0|          11.0|       0|       1|\n|  1|  9.0|          8.0|  0.0|          1.0|      3.0|              2.0| 4.0|         5.0|          7.0|                  1.0|      7.0|              5.0|         3.0|                 8.0|       2.0|               1.0|          7.0|          11.0|       1|       0|\n|  0|  8.0|          9.0|  1.0|          0.0|      2.0|              3.0| 5.0|         4.0|          1.0|                  7.0|      5.0|              7.0|         8.0|                 3.0|       1.0|               2.0|         11.0|           7.0|       0|       1|\n|  0|  4.0|          8.0|  0.0|          1.0|      5.0|              5.0|12.0|         5.0|          3.0|                  4.0|      2.0|              2.0|         3.0|                 3.0|       1.0|               3.0|          5.0|          12.0|       1|       0|\n|  1|  8.0|          4.0|  1.0|          0.0|      5.0|              5.0| 5.0|        12.0|          4.0|                  3.0|      2.0|              2.0|         3.0|                 3.0|       3.0|               1.0|         12.0|           5.0|       0|       1|\n|  0|  5.0|         19.0|  0.0|          1.0|      2.0|              4.0| 9.0|         6.0|          3.0|                  3.0|      4.0|              5.0|         2.0|                 6.0|       5.0|               3.0|          7.0|          11.0|       1|       0|\n|  1| 19.0|          5.0|  1.0|          0.0|      4.0|              2.0| 6.0|         9.0|          3.0|                  3.0|      5.0|              4.0|         6.0|                 2.0|       3.0|               5.0|         11.0|           7.0|       0|       1|\n+---+-----+-------------+-----+-------------+---------+-----------------+----+------------+-------------+---------------------+---------+-----------------+------------+--------------------+----------+------------------+-------------+--------------+--------+--------+\nonly showing top 10 rows\n\n",
       "datasetInfos": [],
       "metadata": {},
       "removedWidgets": [],
       "type": "ansi"
      }
     },
     "output_type": "display_data"
    }
   ],
   "source": [
    "nhl_db_sp.show(10)"
   ]
  },
  {
   "cell_type": "code",
   "execution_count": 1,
   "metadata": {},
   "outputs": [],
   "source": [
    "## Set Up Delta Lake "
   ]
  },
  {
   "cell_type": "code",
   "execution_count": 0,
   "metadata": {
    "application/vnd.databricks.v1+cell": {
     "inputWidgets": {},
     "nuid": "9194bb19-650c-4967-b65f-7d5df2e809f2",
     "showTitle": false,
     "title": ""
    }
   },
   "outputs": [],
   "source": [
    "from pyspark.sql import functions as F\n",
    "from pyspark.sql.types import *"
   ]
  },
  {
   "cell_type": "code",
   "execution_count": 0,
   "metadata": {
    "application/vnd.databricks.v1+cell": {
     "inputWidgets": {},
     "nuid": "1259dfd9-44db-49af-9d4c-4ec76ab0c340",
     "showTitle": false,
     "title": ""
    }
   },
   "outputs": [
    {
     "data": {
      "text/html": [
       "<style scoped>\n",
       "  .table-result-container {\n",
       "    max-height: 300px;\n",
       "    overflow: auto;\n",
       "  }\n",
       "  table, th, td {\n",
       "    border: 1px solid black;\n",
       "    border-collapse: collapse;\n",
       "  }\n",
       "  th, td {\n",
       "    padding: 5px;\n",
       "  }\n",
       "  th {\n",
       "    text-align: left;\n",
       "  }\n",
       "</style><div class='table-result-container'><table class='table-result'><thead style='background-color: white'><tr></tr></thead><tbody></tbody></table></div>"
      ]
     },
     "metadata": {
      "application/vnd.databricks.v1+output": {
       "addedWidgets": {},
       "aggData": [],
       "aggError": "",
       "aggOverflow": false,
       "aggSchema": [],
       "aggSeriesLimitReached": false,
       "aggType": "",
       "arguments": {},
       "columnCustomDisplayInfos": {},
       "data": [],
       "datasetInfos": [],
       "dbfsResultPath": null,
       "isJsonSchema": true,
       "metadata": {
        "isDbfsCommandResult": false
       },
       "overflow": false,
       "plotOptions": {
        "customPlotOptions": {},
        "displayType": "table",
        "pivotAggregation": null,
        "pivotColumns": null,
        "xColumns": null,
        "yColumns": null
       },
       "removedWidgets": [],
       "schema": [],
       "type": "table"
      }
     },
     "output_type": "display_data"
    }
   ],
   "source": [
    "%sql\n",
    "create database if not exists nhl_delta_lake"
   ]
  },
  {
   "cell_type": "code",
   "execution_count": 0,
   "metadata": {
    "application/vnd.databricks.v1+cell": {
     "inputWidgets": {},
     "nuid": "bf26af76-44d4-47d2-ae59-cae05679bcd6",
     "showTitle": false,
     "title": ""
    }
   },
   "outputs": [],
   "source": [
    "nhl_db_sp= nhl_db_sp.withColumnRenamed(\"Takeaways Against\", \"TakeawaysAgainst\")\n",
    "nhl_db_sp= nhl_db_sp.withColumnRenamed(\"#Won Faceoffs\", \"WonFaceoffs\")\n",
    "nhl_db_sp= nhl_db_sp.withColumnRenamed(\"#Lost Faceoffs\", \"LostFaceoffs\")\n",
    "nhl_db_sp= nhl_db_sp.withColumnRenamed(\"Shots Against\", \"ShotsAgainst\")\n",
    "nhl_db_sp= nhl_db_sp.withColumnRenamed(\"Goals Against\", \"GoalsAgainst\")\n",
    "nhl_db_sp= nhl_db_sp.withColumnRenamed(\"Hits gainst\", \"HitsAgainst\")\n",
    "nhl_db_sp= nhl_db_sp.withColumnRenamed(\"Giveaways_Against\", \"GivewaysAgainst\")\n",
    "\n",
    "nhl_db_sp= nhl_db_sp.withColumnRenamed(\"Missed Shots Against\", \"MissedShotsAgainst\")\n",
    "nhl_db_sp= nhl_db_sp.withColumnRenamed(\"Penalities Against\", \"PenalitiesAgainst\")\n",
    "nhl_db_sp= nhl_db_sp.withColumnRenamed(\"HOA away\", \"HOAaway\")\n",
    "nhl_db_sp= nhl_db_sp.withColumnRenamed(\"HOA home\", \"HOAhome\")\n"
   ]
  },
  {
   "cell_type": "code",
   "execution_count": 0,
   "metadata": {
    "application/vnd.databricks.v1+cell": {
     "inputWidgets": {},
     "nuid": "93ba5770-f8f9-43e2-9095-b90395772609",
     "showTitle": false,
     "title": ""
    }
   },
   "outputs": [
    {
     "data": {
      "text/plain": [
       "+---+-----+-------------+-----+-------------+---------+-----------------+----+------------+-------------+---------------------+---------+-----------------+------------+--------------------+----------+------------------+-------------+--------------+--------+--------+\n",
       "|won|Shots|Shots_Against|Goals|Goals_Against|Takeaways|Takeaways_Against|Hits|Hits_Against|Blocked Shots|Blocked Shots Against|Giveaways|Giveaways_Against|Missed Shots|Missed Shots_Against|Penalities|Penalities_Against|#Won Faceoffs|#Lost Faceoffs|HoA_away|HoA_home|\n",
       "+---+-----+-------------+-----+-------------+---------+-----------------+----+------------+-------------+---------------------+---------+-----------------+------------+--------------------+----------+------------------+-------------+--------------+--------+--------+\n",
       "|  0|  8.0|          8.0|  0.0|          3.0|      1.0|              3.0|14.0|         5.0|          3.0|                  3.0|      6.0|              7.0|         4.0|                 0.0|       1.0|               1.0|         10.0|          12.0|       1|       0|\n",
       "|  1|  8.0|          8.0|  3.0|          0.0|      3.0|              1.0| 5.0|        14.0|          3.0|                  3.0|      7.0|              6.0|         0.0|                 4.0|       1.0|               1.0|         12.0|          10.0|       0|       1|\n",
       "|  1| 11.0|         12.0|  0.0|          1.0|      0.0|              2.0| 4.0|         4.0|          6.0|                  8.0|      2.0|              0.0|         6.0|                 3.0|       1.0|               3.0|         11.0|           9.0|       1|       0|\n",
       "|  0| 12.0|         11.0|  1.0|          0.0|      2.0|              0.0| 4.0|         4.0|          8.0|                  6.0|      0.0|              2.0|         3.0|                 6.0|       3.0|               1.0|          9.0|          11.0|       0|       1|\n",
       "|  1|  9.0|          8.0|  0.0|          1.0|      3.0|              2.0| 4.0|         5.0|          7.0|                  1.0|      7.0|              5.0|         3.0|                 8.0|       2.0|               1.0|          7.0|          11.0|       1|       0|\n",
       "+---+-----+-------------+-----+-------------+---------+-----------------+----+------------+-------------+---------------------+---------+-----------------+------------+--------------------+----------+------------------+-------------+--------------+--------+--------+\n",
       "only showing top 5 rows\n",
       "\n"
      ]
     },
     "metadata": {
      "application/vnd.databricks.v1+output": {
       "addedWidgets": {},
       "arguments": {},
       "data": "+---+-----+-------------+-----+-------------+---------+-----------------+----+------------+-------------+---------------------+---------+-----------------+------------+--------------------+----------+------------------+-------------+--------------+--------+--------+\n|won|Shots|Shots_Against|Goals|Goals_Against|Takeaways|Takeaways_Against|Hits|Hits_Against|Blocked Shots|Blocked Shots Against|Giveaways|Giveaways_Against|Missed Shots|Missed Shots_Against|Penalities|Penalities_Against|#Won Faceoffs|#Lost Faceoffs|HoA_away|HoA_home|\n+---+-----+-------------+-----+-------------+---------+-----------------+----+------------+-------------+---------------------+---------+-----------------+------------+--------------------+----------+------------------+-------------+--------------+--------+--------+\n|  0|  8.0|          8.0|  0.0|          3.0|      1.0|              3.0|14.0|         5.0|          3.0|                  3.0|      6.0|              7.0|         4.0|                 0.0|       1.0|               1.0|         10.0|          12.0|       1|       0|\n|  1|  8.0|          8.0|  3.0|          0.0|      3.0|              1.0| 5.0|        14.0|          3.0|                  3.0|      7.0|              6.0|         0.0|                 4.0|       1.0|               1.0|         12.0|          10.0|       0|       1|\n|  1| 11.0|         12.0|  0.0|          1.0|      0.0|              2.0| 4.0|         4.0|          6.0|                  8.0|      2.0|              0.0|         6.0|                 3.0|       1.0|               3.0|         11.0|           9.0|       1|       0|\n|  0| 12.0|         11.0|  1.0|          0.0|      2.0|              0.0| 4.0|         4.0|          8.0|                  6.0|      0.0|              2.0|         3.0|                 6.0|       3.0|               1.0|          9.0|          11.0|       0|       1|\n|  1|  9.0|          8.0|  0.0|          1.0|      3.0|              2.0| 4.0|         5.0|          7.0|                  1.0|      7.0|              5.0|         3.0|                 8.0|       2.0|               1.0|          7.0|          11.0|       1|       0|\n+---+-----+-------------+-----+-------------+---------+-----------------+----+------------+-------------+---------------------+---------+-----------------+------------+--------------------+----------+------------------+-------------+--------------+--------+--------+\nonly showing top 5 rows\n\n",
       "datasetInfos": [],
       "metadata": {},
       "removedWidgets": [],
       "type": "ansi"
      }
     },
     "output_type": "display_data"
    }
   ],
   "source": [
    "nhl_db_sp.show(5)"
   ]
  },
  {
   "cell_type": "code",
   "execution_count": 0,
   "metadata": {
    "application/vnd.databricks.v1+cell": {
     "inputWidgets": {},
     "nuid": "45c14aab-0e10-40a2-ba51-2d298f70b132",
     "showTitle": false,
     "title": ""
    }
   },
   "outputs": [],
   "source": [
    "# create table\n",
    "\n",
    "\n",
    "#nhl_db.write.format(\"delta\").saveAsTable(\"nhl_delta_lake\")"
   ]
  },
  {
   "cell_type": "code",
   "execution_count": 0,
   "metadata": {
    "application/vnd.databricks.v1+cell": {
     "inputWidgets": {},
     "nuid": "47d76b12-2d28-4139-b605-1ed51abc59e1",
     "showTitle": false,
     "title": ""
    }
   },
   "outputs": [],
   "source": []
  }
 ],
 "metadata": {
  "application/vnd.databricks.v1+notebook": {
   "dashboards": [],
   "language": "python",
   "notebookMetadata": {
    "pythonIndentUnit": 4
   },
   "notebookName": "Updated_Betting_Model-db_2.1",
   "notebookOrigID": 4213858437165158,
   "widgets": {}
  },
  "kernelspec": {
   "display_name": "Python 3",
   "language": "python",
   "name": "python3"
  },
  "language_info": {
   "codemirror_mode": {
    "name": "ipython",
    "version": 3
   },
   "file_extension": ".py",
   "mimetype": "text/x-python",
   "name": "python",
   "nbconvert_exporter": "python",
   "pygments_lexer": "ipython3",
   "version": "3.8.8"
  }
 },
 "nbformat": 4,
 "nbformat_minor": 1
}
