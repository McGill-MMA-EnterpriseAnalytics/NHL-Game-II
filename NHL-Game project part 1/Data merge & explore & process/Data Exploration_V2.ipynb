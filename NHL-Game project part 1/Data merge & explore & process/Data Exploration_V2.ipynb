{
 "cells": [
  {
   "cell_type": "markdown",
   "id": "d02d1f32",
   "metadata": {},
   "source": [
    "# INSY695 Group Project"
   ]
  },
  {
   "cell_type": "markdown",
   "id": "1a784a77",
   "metadata": {},
   "source": [
    "## Step 2: Data Exploration\n",
    "\n",
    "After aggregating all the datasets, we then start exploring the data."
   ]
  },
  {
   "cell_type": "markdown",
   "id": "1b178a94",
   "metadata": {},
   "source": [
    "<b>Load packages</b>"
   ]
  },
  {
   "cell_type": "code",
   "execution_count": 1,
   "id": "6fbf5290",
   "metadata": {},
   "outputs": [],
   "source": [
    "import pandas as pd\n",
    "import matplotlib.pyplot as plt\n",
    "import numpy as np\n",
    "import seaborn as sns\n",
    "%matplotlib inline\n",
    "import matplotlib.pyplot as plt\n",
    "import plotly.express as px\n",
    "import plotly.graph_objects as go\n",
    "from plotly.offline import plot, iplot, init_notebook_mode\n",
    "import xgboost as xgb\n",
    "from xgboost import XGBClassifier\n",
    "\n",
    "import warnings\n",
    "from pandas.core.common import SettingWithCopyWarning\n",
    "warnings.simplefilter(action=\"ignore\", category=SettingWithCopyWarning)\n",
    "warnings.simplefilter(action='ignore', category=DeprecationWarning)\n",
    "warnings.simplefilter(action='ignore', category=FutureWarning)\n",
    "\n",
    "from sklearn.impute import SimpleImputer\n",
    "from sklearn.experimental import enable_iterative_imputer\n",
    "from sklearn.impute import IterativeImputer\n",
    "import shap"
   ]
  },
  {
   "cell_type": "markdown",
   "id": "0c647696",
   "metadata": {},
   "source": [
    "## 2.1 <b>Import Dataset</b>"
   ]
  },
  {
   "cell_type": "code",
   "execution_count": 2,
   "id": "148d6d0a",
   "metadata": {},
   "outputs": [],
   "source": [
    "data = pd.read_csv(\"period1_combined.csv\")"
   ]
  },
  {
   "cell_type": "markdown",
   "id": "ad38b9a4",
   "metadata": {},
   "source": [
    "## 2.2 <b>Check How Data Look Like</b>"
   ]
  },
  {
   "cell_type": "code",
   "execution_count": 3,
   "id": "7fe3bf1b",
   "metadata": {},
   "outputs": [
    {
     "data": {
      "text/plain": [
       "(52610, 26)"
      ]
     },
     "execution_count": 3,
     "metadata": {},
     "output_type": "execute_result"
    }
   ],
   "source": [
    "data.shape # 52610 rows, 26 columns"
   ]
  },
  {
   "cell_type": "code",
   "execution_count": 4,
   "id": "66a6e56e",
   "metadata": {},
   "outputs": [
    {
     "data": {
      "text/html": [
       "<div>\n",
       "<style scoped>\n",
       "    .dataframe tbody tr th:only-of-type {\n",
       "        vertical-align: middle;\n",
       "    }\n",
       "\n",
       "    .dataframe tbody tr th {\n",
       "        vertical-align: top;\n",
       "    }\n",
       "\n",
       "    .dataframe thead th {\n",
       "        text-align: right;\n",
       "    }\n",
       "</style>\n",
       "<table border=\"1\" class=\"dataframe\">\n",
       "  <thead>\n",
       "    <tr style=\"text-align: right;\">\n",
       "      <th></th>\n",
       "      <th>Unnamed: 0</th>\n",
       "      <th>game_id</th>\n",
       "      <th>HoA</th>\n",
       "      <th>won</th>\n",
       "      <th>settled_in</th>\n",
       "      <th>head_coach</th>\n",
       "      <th>pim</th>\n",
       "      <th>powerPlayOpportunities</th>\n",
       "      <th>powerPlayGoals</th>\n",
       "      <th>faceOffWinPercentage</th>\n",
       "      <th>...</th>\n",
       "      <th>Giveaways</th>\n",
       "      <th>Missed Shots</th>\n",
       "      <th>Penalities</th>\n",
       "      <th>#Won Faceoffs</th>\n",
       "      <th>team_id</th>\n",
       "      <th>timeOnIce</th>\n",
       "      <th>evenTimeOnIce</th>\n",
       "      <th>shortHandedTimeOnIce</th>\n",
       "      <th>powerPlayTimeOnIce</th>\n",
       "      <th>goalie_replacement</th>\n",
       "    </tr>\n",
       "  </thead>\n",
       "  <tbody>\n",
       "    <tr>\n",
       "      <th>0</th>\n",
       "      <td>0</td>\n",
       "      <td>2016020045</td>\n",
       "      <td>away</td>\n",
       "      <td>False</td>\n",
       "      <td>REG</td>\n",
       "      <td>Dave Hakstol</td>\n",
       "      <td>2.00</td>\n",
       "      <td>1.33</td>\n",
       "      <td>0.67</td>\n",
       "      <td>50.9</td>\n",
       "      <td>...</td>\n",
       "      <td>6.0</td>\n",
       "      <td>4.0</td>\n",
       "      <td>1.0</td>\n",
       "      <td>10.0</td>\n",
       "      <td>4.0</td>\n",
       "      <td>330.28</td>\n",
       "      <td>280.46</td>\n",
       "      <td>18.52</td>\n",
       "      <td>31.30</td>\n",
       "      <td>Yes</td>\n",
       "    </tr>\n",
       "    <tr>\n",
       "      <th>1</th>\n",
       "      <td>1</td>\n",
       "      <td>2016020045</td>\n",
       "      <td>home</td>\n",
       "      <td>True</td>\n",
       "      <td>REG</td>\n",
       "      <td>Joel Quenneville</td>\n",
       "      <td>2.67</td>\n",
       "      <td>1.00</td>\n",
       "      <td>0.67</td>\n",
       "      <td>49.1</td>\n",
       "      <td>...</td>\n",
       "      <td>7.0</td>\n",
       "      <td>0.0</td>\n",
       "      <td>1.0</td>\n",
       "      <td>12.0</td>\n",
       "      <td>16.0</td>\n",
       "      <td>327.11</td>\n",
       "      <td>278.93</td>\n",
       "      <td>25.04</td>\n",
       "      <td>23.15</td>\n",
       "      <td>No</td>\n",
       "    </tr>\n",
       "    <tr>\n",
       "      <th>2</th>\n",
       "      <td>2</td>\n",
       "      <td>2017020812</td>\n",
       "      <td>away</td>\n",
       "      <td>True</td>\n",
       "      <td>OT</td>\n",
       "      <td>Randy Carlyle</td>\n",
       "      <td>2.00</td>\n",
       "      <td>1.00</td>\n",
       "      <td>0.33</td>\n",
       "      <td>43.8</td>\n",
       "      <td>...</td>\n",
       "      <td>2.0</td>\n",
       "      <td>6.0</td>\n",
       "      <td>1.0</td>\n",
       "      <td>11.0</td>\n",
       "      <td>24.0</td>\n",
       "      <td>334.07</td>\n",
       "      <td>293.20</td>\n",
       "      <td>9.48</td>\n",
       "      <td>31.39</td>\n",
       "      <td>No</td>\n",
       "    </tr>\n",
       "    <tr>\n",
       "      <th>3</th>\n",
       "      <td>3</td>\n",
       "      <td>2017020812</td>\n",
       "      <td>home</td>\n",
       "      <td>False</td>\n",
       "      <td>OT</td>\n",
       "      <td>Phil Housley</td>\n",
       "      <td>2.67</td>\n",
       "      <td>0.67</td>\n",
       "      <td>0.33</td>\n",
       "      <td>56.2</td>\n",
       "      <td>...</td>\n",
       "      <td>0.0</td>\n",
       "      <td>3.0</td>\n",
       "      <td>3.0</td>\n",
       "      <td>9.0</td>\n",
       "      <td>7.0</td>\n",
       "      <td>333.07</td>\n",
       "      <td>296.11</td>\n",
       "      <td>25.11</td>\n",
       "      <td>11.85</td>\n",
       "      <td>No</td>\n",
       "    </tr>\n",
       "    <tr>\n",
       "      <th>4</th>\n",
       "      <td>4</td>\n",
       "      <td>2015020314</td>\n",
       "      <td>away</td>\n",
       "      <td>True</td>\n",
       "      <td>REG</td>\n",
       "      <td>Patrick Roy</td>\n",
       "      <td>3.00</td>\n",
       "      <td>1.00</td>\n",
       "      <td>0.33</td>\n",
       "      <td>45.7</td>\n",
       "      <td>...</td>\n",
       "      <td>7.0</td>\n",
       "      <td>3.0</td>\n",
       "      <td>2.0</td>\n",
       "      <td>7.0</td>\n",
       "      <td>21.0</td>\n",
       "      <td>328.89</td>\n",
       "      <td>281.57</td>\n",
       "      <td>17.78</td>\n",
       "      <td>29.54</td>\n",
       "      <td>No</td>\n",
       "    </tr>\n",
       "  </tbody>\n",
       "</table>\n",
       "<p>5 rows × 26 columns</p>\n",
       "</div>"
      ],
      "text/plain": [
       "   Unnamed: 0     game_id   HoA    won settled_in        head_coach   pim  \\\n",
       "0           0  2016020045  away  False        REG      Dave Hakstol  2.00   \n",
       "1           1  2016020045  home   True        REG  Joel Quenneville  2.67   \n",
       "2           2  2017020812  away   True         OT     Randy Carlyle  2.00   \n",
       "3           3  2017020812  home  False         OT      Phil Housley  2.67   \n",
       "4           4  2015020314  away   True        REG       Patrick Roy  3.00   \n",
       "\n",
       "   powerPlayOpportunities  powerPlayGoals  faceOffWinPercentage  ...  \\\n",
       "0                    1.33            0.67                  50.9  ...   \n",
       "1                    1.00            0.67                  49.1  ...   \n",
       "2                    1.00            0.33                  43.8  ...   \n",
       "3                    0.67            0.33                  56.2  ...   \n",
       "4                    1.00            0.33                  45.7  ...   \n",
       "\n",
       "  Giveaways  Missed Shots  Penalities  #Won Faceoffs  team_id  timeOnIce  \\\n",
       "0       6.0           4.0         1.0           10.0      4.0     330.28   \n",
       "1       7.0           0.0         1.0           12.0     16.0     327.11   \n",
       "2       2.0           6.0         1.0           11.0     24.0     334.07   \n",
       "3       0.0           3.0         3.0            9.0      7.0     333.07   \n",
       "4       7.0           3.0         2.0            7.0     21.0     328.89   \n",
       "\n",
       "   evenTimeOnIce  shortHandedTimeOnIce  powerPlayTimeOnIce  goalie_replacement  \n",
       "0         280.46                 18.52               31.30                 Yes  \n",
       "1         278.93                 25.04               23.15                  No  \n",
       "2         293.20                  9.48               31.39                  No  \n",
       "3         296.11                 25.11               11.85                  No  \n",
       "4         281.57                 17.78               29.54                  No  \n",
       "\n",
       "[5 rows x 26 columns]"
      ]
     },
     "execution_count": 4,
     "metadata": {},
     "output_type": "execute_result"
    }
   ],
   "source": [
    "data.head()"
   ]
  },
  {
   "cell_type": "code",
   "execution_count": 5,
   "id": "2b46f581",
   "metadata": {},
   "outputs": [
    {
     "data": {
      "text/html": [
       "<div>\n",
       "<style scoped>\n",
       "    .dataframe tbody tr th:only-of-type {\n",
       "        vertical-align: middle;\n",
       "    }\n",
       "\n",
       "    .dataframe tbody tr th {\n",
       "        vertical-align: top;\n",
       "    }\n",
       "\n",
       "    .dataframe thead th {\n",
       "        text-align: right;\n",
       "    }\n",
       "</style>\n",
       "<table border=\"1\" class=\"dataframe\">\n",
       "  <thead>\n",
       "    <tr style=\"text-align: right;\">\n",
       "      <th></th>\n",
       "      <th>Unnamed: 0</th>\n",
       "      <th>game_id</th>\n",
       "      <th>pim</th>\n",
       "      <th>powerPlayOpportunities</th>\n",
       "      <th>powerPlayGoals</th>\n",
       "      <th>faceOffWinPercentage</th>\n",
       "      <th>Shots</th>\n",
       "      <th>Goals</th>\n",
       "      <th>Takeaways</th>\n",
       "      <th>Hits</th>\n",
       "      <th>Blocked Shots</th>\n",
       "      <th>Giveaways</th>\n",
       "      <th>Missed Shots</th>\n",
       "      <th>Penalities</th>\n",
       "      <th>#Won Faceoffs</th>\n",
       "      <th>team_id</th>\n",
       "      <th>timeOnIce</th>\n",
       "      <th>evenTimeOnIce</th>\n",
       "      <th>shortHandedTimeOnIce</th>\n",
       "      <th>powerPlayTimeOnIce</th>\n",
       "    </tr>\n",
       "  </thead>\n",
       "  <tbody>\n",
       "    <tr>\n",
       "      <th>count</th>\n",
       "      <td>52610.000000</td>\n",
       "      <td>5.261000e+04</td>\n",
       "      <td>52602.000000</td>\n",
       "      <td>52602.000000</td>\n",
       "      <td>52602.000000</td>\n",
       "      <td>30462.000000</td>\n",
       "      <td>52610.000000</td>\n",
       "      <td>52610.000000</td>\n",
       "      <td>52610.000000</td>\n",
       "      <td>52610.000000</td>\n",
       "      <td>52610.000000</td>\n",
       "      <td>52610.000000</td>\n",
       "      <td>52610.000000</td>\n",
       "      <td>52610.000000</td>\n",
       "      <td>52610.000000</td>\n",
       "      <td>52582.000000</td>\n",
       "      <td>52582.000000</td>\n",
       "      <td>52582.000000</td>\n",
       "      <td>52582.000000</td>\n",
       "      <td>52582.00000</td>\n",
       "    </tr>\n",
       "    <tr>\n",
       "      <th>mean</th>\n",
       "      <td>26304.500000</td>\n",
       "      <td>2.010765e+09</td>\n",
       "      <td>3.918255</td>\n",
       "      <td>1.231235</td>\n",
       "      <td>0.221774</td>\n",
       "      <td>49.967179</td>\n",
       "      <td>7.018628</td>\n",
       "      <td>0.971964</td>\n",
       "      <td>1.899107</td>\n",
       "      <td>6.911785</td>\n",
       "      <td>3.658810</td>\n",
       "      <td>2.593898</td>\n",
       "      <td>2.899810</td>\n",
       "      <td>1.742197</td>\n",
       "      <td>7.335069</td>\n",
       "      <td>16.874862</td>\n",
       "      <td>329.537617</td>\n",
       "      <td>269.212202</td>\n",
       "      <td>26.704262</td>\n",
       "      <td>33.62115</td>\n",
       "    </tr>\n",
       "    <tr>\n",
       "      <th>std</th>\n",
       "      <td>15187.343168</td>\n",
       "      <td>6.073510e+06</td>\n",
       "      <td>3.009886</td>\n",
       "      <td>0.623485</td>\n",
       "      <td>0.271154</td>\n",
       "      <td>7.326322</td>\n",
       "      <td>7.910037</td>\n",
       "      <td>1.198563</td>\n",
       "      <td>2.740545</td>\n",
       "      <td>8.006232</td>\n",
       "      <td>4.461539</td>\n",
       "      <td>3.661681</td>\n",
       "      <td>3.674668</td>\n",
       "      <td>1.492722</td>\n",
       "      <td>7.853894</td>\n",
       "      <td>11.188100</td>\n",
       "      <td>14.260545</td>\n",
       "      <td>30.446479</td>\n",
       "      <td>13.655711</td>\n",
       "      <td>17.22695</td>\n",
       "    </tr>\n",
       "    <tr>\n",
       "      <th>min</th>\n",
       "      <td>0.000000</td>\n",
       "      <td>2.000020e+09</td>\n",
       "      <td>0.000000</td>\n",
       "      <td>0.000000</td>\n",
       "      <td>0.000000</td>\n",
       "      <td>0.000000</td>\n",
       "      <td>0.000000</td>\n",
       "      <td>0.000000</td>\n",
       "      <td>0.000000</td>\n",
       "      <td>0.000000</td>\n",
       "      <td>0.000000</td>\n",
       "      <td>0.000000</td>\n",
       "      <td>0.000000</td>\n",
       "      <td>0.000000</td>\n",
       "      <td>0.000000</td>\n",
       "      <td>1.000000</td>\n",
       "      <td>133.330000</td>\n",
       "      <td>133.330000</td>\n",
       "      <td>0.000000</td>\n",
       "      <td>0.00000</td>\n",
       "    </tr>\n",
       "    <tr>\n",
       "      <th>25%</th>\n",
       "      <td>13152.250000</td>\n",
       "      <td>2.006020e+09</td>\n",
       "      <td>2.000000</td>\n",
       "      <td>0.670000</td>\n",
       "      <td>0.000000</td>\n",
       "      <td>45.200000</td>\n",
       "      <td>0.000000</td>\n",
       "      <td>0.000000</td>\n",
       "      <td>0.000000</td>\n",
       "      <td>0.000000</td>\n",
       "      <td>0.000000</td>\n",
       "      <td>0.000000</td>\n",
       "      <td>0.000000</td>\n",
       "      <td>1.000000</td>\n",
       "      <td>0.000000</td>\n",
       "      <td>8.000000</td>\n",
       "      <td>323.910000</td>\n",
       "      <td>250.760000</td>\n",
       "      <td>17.780000</td>\n",
       "      <td>22.22000</td>\n",
       "    </tr>\n",
       "    <tr>\n",
       "      <th>50%</th>\n",
       "      <td>26304.500000</td>\n",
       "      <td>2.011021e+09</td>\n",
       "      <td>3.330000</td>\n",
       "      <td>1.000000</td>\n",
       "      <td>0.000000</td>\n",
       "      <td>50.000000</td>\n",
       "      <td>6.000000</td>\n",
       "      <td>1.000000</td>\n",
       "      <td>1.000000</td>\n",
       "      <td>5.000000</td>\n",
       "      <td>2.000000</td>\n",
       "      <td>1.000000</td>\n",
       "      <td>2.000000</td>\n",
       "      <td>2.000000</td>\n",
       "      <td>7.000000</td>\n",
       "      <td>16.000000</td>\n",
       "      <td>327.310000</td>\n",
       "      <td>270.960000</td>\n",
       "      <td>26.300000</td>\n",
       "      <td>33.17000</td>\n",
       "    </tr>\n",
       "    <tr>\n",
       "      <th>75%</th>\n",
       "      <td>39456.750000</td>\n",
       "      <td>2.016030e+09</td>\n",
       "      <td>5.000000</td>\n",
       "      <td>1.670000</td>\n",
       "      <td>0.330000</td>\n",
       "      <td>54.800000</td>\n",
       "      <td>12.000000</td>\n",
       "      <td>2.000000</td>\n",
       "      <td>3.000000</td>\n",
       "      <td>12.000000</td>\n",
       "      <td>6.000000</td>\n",
       "      <td>4.000000</td>\n",
       "      <td>5.000000</td>\n",
       "      <td>2.000000</td>\n",
       "      <td>12.000000</td>\n",
       "      <td>24.000000</td>\n",
       "      <td>331.480000</td>\n",
       "      <td>288.940000</td>\n",
       "      <td>35.560000</td>\n",
       "      <td>44.44000</td>\n",
       "    </tr>\n",
       "    <tr>\n",
       "      <th>max</th>\n",
       "      <td>52609.000000</td>\n",
       "      <td>2.019041e+09</td>\n",
       "      <td>71.000000</td>\n",
       "      <td>5.330000</td>\n",
       "      <td>2.330000</td>\n",
       "      <td>79.200000</td>\n",
       "      <td>54.000000</td>\n",
       "      <td>12.000000</td>\n",
       "      <td>26.000000</td>\n",
       "      <td>60.000000</td>\n",
       "      <td>34.000000</td>\n",
       "      <td>30.000000</td>\n",
       "      <td>34.000000</td>\n",
       "      <td>16.000000</td>\n",
       "      <td>42.000000</td>\n",
       "      <td>90.000000</td>\n",
       "      <td>827.260000</td>\n",
       "      <td>762.870000</td>\n",
       "      <td>115.480000</td>\n",
       "      <td>146.30000</td>\n",
       "    </tr>\n",
       "  </tbody>\n",
       "</table>\n",
       "</div>"
      ],
      "text/plain": [
       "         Unnamed: 0       game_id           pim  powerPlayOpportunities  \\\n",
       "count  52610.000000  5.261000e+04  52602.000000            52602.000000   \n",
       "mean   26304.500000  2.010765e+09      3.918255                1.231235   \n",
       "std    15187.343168  6.073510e+06      3.009886                0.623485   \n",
       "min        0.000000  2.000020e+09      0.000000                0.000000   \n",
       "25%    13152.250000  2.006020e+09      2.000000                0.670000   \n",
       "50%    26304.500000  2.011021e+09      3.330000                1.000000   \n",
       "75%    39456.750000  2.016030e+09      5.000000                1.670000   \n",
       "max    52609.000000  2.019041e+09     71.000000                5.330000   \n",
       "\n",
       "       powerPlayGoals  faceOffWinPercentage         Shots         Goals  \\\n",
       "count    52602.000000          30462.000000  52610.000000  52610.000000   \n",
       "mean         0.221774             49.967179      7.018628      0.971964   \n",
       "std          0.271154              7.326322      7.910037      1.198563   \n",
       "min          0.000000              0.000000      0.000000      0.000000   \n",
       "25%          0.000000             45.200000      0.000000      0.000000   \n",
       "50%          0.000000             50.000000      6.000000      1.000000   \n",
       "75%          0.330000             54.800000     12.000000      2.000000   \n",
       "max          2.330000             79.200000     54.000000     12.000000   \n",
       "\n",
       "          Takeaways          Hits  Blocked Shots     Giveaways  Missed Shots  \\\n",
       "count  52610.000000  52610.000000   52610.000000  52610.000000  52610.000000   \n",
       "mean       1.899107      6.911785       3.658810      2.593898      2.899810   \n",
       "std        2.740545      8.006232       4.461539      3.661681      3.674668   \n",
       "min        0.000000      0.000000       0.000000      0.000000      0.000000   \n",
       "25%        0.000000      0.000000       0.000000      0.000000      0.000000   \n",
       "50%        1.000000      5.000000       2.000000      1.000000      2.000000   \n",
       "75%        3.000000     12.000000       6.000000      4.000000      5.000000   \n",
       "max       26.000000     60.000000      34.000000     30.000000     34.000000   \n",
       "\n",
       "         Penalities  #Won Faceoffs       team_id     timeOnIce  evenTimeOnIce  \\\n",
       "count  52610.000000   52610.000000  52582.000000  52582.000000   52582.000000   \n",
       "mean       1.742197       7.335069     16.874862    329.537617     269.212202   \n",
       "std        1.492722       7.853894     11.188100     14.260545      30.446479   \n",
       "min        0.000000       0.000000      1.000000    133.330000     133.330000   \n",
       "25%        1.000000       0.000000      8.000000    323.910000     250.760000   \n",
       "50%        2.000000       7.000000     16.000000    327.310000     270.960000   \n",
       "75%        2.000000      12.000000     24.000000    331.480000     288.940000   \n",
       "max       16.000000      42.000000     90.000000    827.260000     762.870000   \n",
       "\n",
       "       shortHandedTimeOnIce  powerPlayTimeOnIce  \n",
       "count          52582.000000         52582.00000  \n",
       "mean              26.704262            33.62115  \n",
       "std               13.655711            17.22695  \n",
       "min                0.000000             0.00000  \n",
       "25%               17.780000            22.22000  \n",
       "50%               26.300000            33.17000  \n",
       "75%               35.560000            44.44000  \n",
       "max              115.480000           146.30000  "
      ]
     },
     "execution_count": 5,
     "metadata": {},
     "output_type": "execute_result"
    }
   ],
   "source": [
    "data.describe()"
   ]
  },
  {
   "cell_type": "markdown",
   "id": "01fa2688",
   "metadata": {},
   "source": [
    "## 2.3 Check Missing Values"
   ]
  },
  {
   "cell_type": "code",
   "execution_count": 6,
   "id": "4a21245e",
   "metadata": {
    "scrolled": true
   },
   "outputs": [
    {
     "data": {
      "text/plain": [
       "Unnamed: 0                    0\n",
       "game_id                       0\n",
       "HoA                           0\n",
       "won                           0\n",
       "settled_in                    0\n",
       "head_coach                   28\n",
       "pim                           8\n",
       "powerPlayOpportunities        8\n",
       "powerPlayGoals                8\n",
       "faceOffWinPercentage      22148\n",
       "startRinkSide              2392\n",
       "Shots                         0\n",
       "Goals                         0\n",
       "Takeaways                     0\n",
       "Hits                          0\n",
       "Blocked Shots                 0\n",
       "Giveaways                     0\n",
       "Missed Shots                  0\n",
       "Penalities                    0\n",
       "#Won Faceoffs                 0\n",
       "team_id                      28\n",
       "timeOnIce                    28\n",
       "evenTimeOnIce                28\n",
       "shortHandedTimeOnIce         28\n",
       "powerPlayTimeOnIce           28\n",
       "goalie_replacement           35\n",
       "dtype: int64"
      ]
     },
     "execution_count": 6,
     "metadata": {},
     "output_type": "execute_result"
    }
   ],
   "source": [
    "data.isnull().sum()"
   ]
  },
  {
   "cell_type": "markdown",
   "id": "75abaea4",
   "metadata": {},
   "source": [
    "## 2.4 <b>Remove Irrelevant Column</b>"
   ]
  },
  {
   "cell_type": "code",
   "execution_count": 7,
   "id": "f60930b5",
   "metadata": {},
   "outputs": [],
   "source": [
    "data = data.drop(columns='Unnamed: 0')"
   ]
  },
  {
   "cell_type": "code",
   "execution_count": 8,
   "id": "49f0bca4",
   "metadata": {},
   "outputs": [
    {
     "data": {
      "text/html": [
       "<div>\n",
       "<style scoped>\n",
       "    .dataframe tbody tr th:only-of-type {\n",
       "        vertical-align: middle;\n",
       "    }\n",
       "\n",
       "    .dataframe tbody tr th {\n",
       "        vertical-align: top;\n",
       "    }\n",
       "\n",
       "    .dataframe thead th {\n",
       "        text-align: right;\n",
       "    }\n",
       "</style>\n",
       "<table border=\"1\" class=\"dataframe\">\n",
       "  <thead>\n",
       "    <tr style=\"text-align: right;\">\n",
       "      <th></th>\n",
       "      <th>game_id</th>\n",
       "      <th>HoA</th>\n",
       "      <th>won</th>\n",
       "      <th>settled_in</th>\n",
       "      <th>head_coach</th>\n",
       "      <th>pim</th>\n",
       "      <th>powerPlayOpportunities</th>\n",
       "      <th>powerPlayGoals</th>\n",
       "      <th>faceOffWinPercentage</th>\n",
       "      <th>startRinkSide</th>\n",
       "      <th>...</th>\n",
       "      <th>Giveaways</th>\n",
       "      <th>Missed Shots</th>\n",
       "      <th>Penalities</th>\n",
       "      <th>#Won Faceoffs</th>\n",
       "      <th>team_id</th>\n",
       "      <th>timeOnIce</th>\n",
       "      <th>evenTimeOnIce</th>\n",
       "      <th>shortHandedTimeOnIce</th>\n",
       "      <th>powerPlayTimeOnIce</th>\n",
       "      <th>goalie_replacement</th>\n",
       "    </tr>\n",
       "  </thead>\n",
       "  <tbody>\n",
       "    <tr>\n",
       "      <th>0</th>\n",
       "      <td>2016020045</td>\n",
       "      <td>away</td>\n",
       "      <td>False</td>\n",
       "      <td>REG</td>\n",
       "      <td>Dave Hakstol</td>\n",
       "      <td>2.00</td>\n",
       "      <td>1.33</td>\n",
       "      <td>0.67</td>\n",
       "      <td>50.9</td>\n",
       "      <td>left</td>\n",
       "      <td>...</td>\n",
       "      <td>6.0</td>\n",
       "      <td>4.0</td>\n",
       "      <td>1.0</td>\n",
       "      <td>10.0</td>\n",
       "      <td>4.0</td>\n",
       "      <td>330.28</td>\n",
       "      <td>280.46</td>\n",
       "      <td>18.52</td>\n",
       "      <td>31.30</td>\n",
       "      <td>Yes</td>\n",
       "    </tr>\n",
       "    <tr>\n",
       "      <th>1</th>\n",
       "      <td>2016020045</td>\n",
       "      <td>home</td>\n",
       "      <td>True</td>\n",
       "      <td>REG</td>\n",
       "      <td>Joel Quenneville</td>\n",
       "      <td>2.67</td>\n",
       "      <td>1.00</td>\n",
       "      <td>0.67</td>\n",
       "      <td>49.1</td>\n",
       "      <td>left</td>\n",
       "      <td>...</td>\n",
       "      <td>7.0</td>\n",
       "      <td>0.0</td>\n",
       "      <td>1.0</td>\n",
       "      <td>12.0</td>\n",
       "      <td>16.0</td>\n",
       "      <td>327.11</td>\n",
       "      <td>278.93</td>\n",
       "      <td>25.04</td>\n",
       "      <td>23.15</td>\n",
       "      <td>No</td>\n",
       "    </tr>\n",
       "    <tr>\n",
       "      <th>2</th>\n",
       "      <td>2017020812</td>\n",
       "      <td>away</td>\n",
       "      <td>True</td>\n",
       "      <td>OT</td>\n",
       "      <td>Randy Carlyle</td>\n",
       "      <td>2.00</td>\n",
       "      <td>1.00</td>\n",
       "      <td>0.33</td>\n",
       "      <td>43.8</td>\n",
       "      <td>right</td>\n",
       "      <td>...</td>\n",
       "      <td>2.0</td>\n",
       "      <td>6.0</td>\n",
       "      <td>1.0</td>\n",
       "      <td>11.0</td>\n",
       "      <td>24.0</td>\n",
       "      <td>334.07</td>\n",
       "      <td>293.20</td>\n",
       "      <td>9.48</td>\n",
       "      <td>31.39</td>\n",
       "      <td>No</td>\n",
       "    </tr>\n",
       "    <tr>\n",
       "      <th>3</th>\n",
       "      <td>2017020812</td>\n",
       "      <td>home</td>\n",
       "      <td>False</td>\n",
       "      <td>OT</td>\n",
       "      <td>Phil Housley</td>\n",
       "      <td>2.67</td>\n",
       "      <td>0.67</td>\n",
       "      <td>0.33</td>\n",
       "      <td>56.2</td>\n",
       "      <td>right</td>\n",
       "      <td>...</td>\n",
       "      <td>0.0</td>\n",
       "      <td>3.0</td>\n",
       "      <td>3.0</td>\n",
       "      <td>9.0</td>\n",
       "      <td>7.0</td>\n",
       "      <td>333.07</td>\n",
       "      <td>296.11</td>\n",
       "      <td>25.11</td>\n",
       "      <td>11.85</td>\n",
       "      <td>No</td>\n",
       "    </tr>\n",
       "    <tr>\n",
       "      <th>4</th>\n",
       "      <td>2015020314</td>\n",
       "      <td>away</td>\n",
       "      <td>True</td>\n",
       "      <td>REG</td>\n",
       "      <td>Patrick Roy</td>\n",
       "      <td>3.00</td>\n",
       "      <td>1.00</td>\n",
       "      <td>0.33</td>\n",
       "      <td>45.7</td>\n",
       "      <td>left</td>\n",
       "      <td>...</td>\n",
       "      <td>7.0</td>\n",
       "      <td>3.0</td>\n",
       "      <td>2.0</td>\n",
       "      <td>7.0</td>\n",
       "      <td>21.0</td>\n",
       "      <td>328.89</td>\n",
       "      <td>281.57</td>\n",
       "      <td>17.78</td>\n",
       "      <td>29.54</td>\n",
       "      <td>No</td>\n",
       "    </tr>\n",
       "  </tbody>\n",
       "</table>\n",
       "<p>5 rows × 25 columns</p>\n",
       "</div>"
      ],
      "text/plain": [
       "      game_id   HoA    won settled_in        head_coach   pim  \\\n",
       "0  2016020045  away  False        REG      Dave Hakstol  2.00   \n",
       "1  2016020045  home   True        REG  Joel Quenneville  2.67   \n",
       "2  2017020812  away   True         OT     Randy Carlyle  2.00   \n",
       "3  2017020812  home  False         OT      Phil Housley  2.67   \n",
       "4  2015020314  away   True        REG       Patrick Roy  3.00   \n",
       "\n",
       "   powerPlayOpportunities  powerPlayGoals  faceOffWinPercentage startRinkSide  \\\n",
       "0                    1.33            0.67                  50.9          left   \n",
       "1                    1.00            0.67                  49.1          left   \n",
       "2                    1.00            0.33                  43.8         right   \n",
       "3                    0.67            0.33                  56.2         right   \n",
       "4                    1.00            0.33                  45.7          left   \n",
       "\n",
       "   ...  Giveaways  Missed Shots  Penalities  #Won Faceoffs  team_id  \\\n",
       "0  ...        6.0           4.0         1.0           10.0      4.0   \n",
       "1  ...        7.0           0.0         1.0           12.0     16.0   \n",
       "2  ...        2.0           6.0         1.0           11.0     24.0   \n",
       "3  ...        0.0           3.0         3.0            9.0      7.0   \n",
       "4  ...        7.0           3.0         2.0            7.0     21.0   \n",
       "\n",
       "   timeOnIce  evenTimeOnIce  shortHandedTimeOnIce  powerPlayTimeOnIce  \\\n",
       "0     330.28         280.46                 18.52               31.30   \n",
       "1     327.11         278.93                 25.04               23.15   \n",
       "2     334.07         293.20                  9.48               31.39   \n",
       "3     333.07         296.11                 25.11               11.85   \n",
       "4     328.89         281.57                 17.78               29.54   \n",
       "\n",
       "   goalie_replacement  \n",
       "0                 Yes  \n",
       "1                  No  \n",
       "2                  No  \n",
       "3                  No  \n",
       "4                  No  \n",
       "\n",
       "[5 rows x 25 columns]"
      ]
     },
     "execution_count": 8,
     "metadata": {},
     "output_type": "execute_result"
    }
   ],
   "source": [
    "data.head()"
   ]
  },
  {
   "cell_type": "markdown",
   "id": "0a45ea04",
   "metadata": {},
   "source": [
    "## 2.5 <b>Check Variable Types</b>"
   ]
  },
  {
   "cell_type": "code",
   "execution_count": 9,
   "id": "afa84d44",
   "metadata": {
    "scrolled": true
   },
   "outputs": [
    {
     "name": "stdout",
     "output_type": "stream",
     "text": [
      "<class 'pandas.core.frame.DataFrame'>\n",
      "RangeIndex: 52610 entries, 0 to 52609\n",
      "Data columns (total 25 columns):\n",
      " #   Column                  Non-Null Count  Dtype  \n",
      "---  ------                  --------------  -----  \n",
      " 0   game_id                 52610 non-null  int64  \n",
      " 1   HoA                     52610 non-null  object \n",
      " 2   won                     52610 non-null  bool   \n",
      " 3   settled_in              52610 non-null  object \n",
      " 4   head_coach              52582 non-null  object \n",
      " 5   pim                     52602 non-null  float64\n",
      " 6   powerPlayOpportunities  52602 non-null  float64\n",
      " 7   powerPlayGoals          52602 non-null  float64\n",
      " 8   faceOffWinPercentage    30462 non-null  float64\n",
      " 9   startRinkSide           50218 non-null  object \n",
      " 10  Shots                   52610 non-null  float64\n",
      " 11  Goals                   52610 non-null  float64\n",
      " 12  Takeaways               52610 non-null  float64\n",
      " 13  Hits                    52610 non-null  float64\n",
      " 14  Blocked Shots           52610 non-null  float64\n",
      " 15  Giveaways               52610 non-null  float64\n",
      " 16  Missed Shots            52610 non-null  float64\n",
      " 17  Penalities              52610 non-null  float64\n",
      " 18  #Won Faceoffs           52610 non-null  float64\n",
      " 19  team_id                 52582 non-null  float64\n",
      " 20  timeOnIce               52582 non-null  float64\n",
      " 21  evenTimeOnIce           52582 non-null  float64\n",
      " 22  shortHandedTimeOnIce    52582 non-null  float64\n",
      " 23  powerPlayTimeOnIce      52582 non-null  float64\n",
      " 24  goalie_replacement      52575 non-null  object \n",
      "dtypes: bool(1), float64(18), int64(1), object(5)\n",
      "memory usage: 9.7+ MB\n"
     ]
    }
   ],
   "source": [
    "data.info()"
   ]
  },
  {
   "cell_type": "markdown",
   "id": "ace33658",
   "metadata": {},
   "source": [
    "<b>Generate a HTML report</b>"
   ]
  },
  {
   "cell_type": "code",
   "execution_count": 10,
   "id": "a114d400",
   "metadata": {},
   "outputs": [],
   "source": [
    "#import pandas_profiling\n",
    "#profile = data.profile_report(title='Pandas Profiling Report')\n",
    "\n",
    "#profile.to_file(output_file=\"profile_report_output.html\")"
   ]
  },
  {
   "cell_type": "markdown",
   "id": "07ab58e9",
   "metadata": {},
   "source": [
    "# 2.6 <b>Examine Data Distribution of Each Variable<b/>"
   ]
  },
  {
   "cell_type": "markdown",
   "id": "cc37c987",
   "metadata": {},
   "source": [
    "In this section, we use histograms to look at the distribution of numeric variables. For categorical variables, we count the frequency of each value."
   ]
  },
  {
   "cell_type": "code",
   "execution_count": 11,
   "id": "6371cc74",
   "metadata": {},
   "outputs": [
    {
     "data": {
      "text/plain": [
       "away    26305\n",
       "home    26305\n",
       "Name: HoA, dtype: int64"
      ]
     },
     "execution_count": 11,
     "metadata": {},
     "output_type": "execute_result"
    }
   ],
   "source": [
    "data[\"HoA\"].value_counts()"
   ]
  },
  {
   "cell_type": "code",
   "execution_count": 12,
   "id": "3cd612fb",
   "metadata": {},
   "outputs": [
    {
     "data": {
      "text/plain": [
       "False    26947\n",
       "True     25663\n",
       "Name: won, dtype: int64"
      ]
     },
     "execution_count": 12,
     "metadata": {},
     "output_type": "execute_result"
    }
   ],
   "source": [
    "data[\"won\"].value_counts()"
   ]
  },
  {
   "cell_type": "code",
   "execution_count": 13,
   "id": "6ccacc90",
   "metadata": {},
   "outputs": [
    {
     "data": {
      "text/plain": [
       "REG    40306\n",
       "OT     12256\n",
       "tbc       48\n",
       "Name: settled_in, dtype: int64"
      ]
     },
     "execution_count": 13,
     "metadata": {},
     "output_type": "execute_result"
    }
   ],
   "source": [
    "data[\"settled_in\"].value_counts()"
   ]
  },
  {
   "cell_type": "code",
   "execution_count": 14,
   "id": "b5c7c9d8",
   "metadata": {},
   "outputs": [
    {
     "data": {
      "text/plain": [
       "Barry Trotz         1804\n",
       "Joel Quenneville    1599\n",
       "John Tortorella     1563\n",
       "Claude Julien       1500\n",
       "Mike Babcock        1475\n",
       "                    ... \n",
       "Al Arbour              1\n",
       "Dan Lacroix            1\n",
       "Cap Raeder             1\n",
       "Terry O'Reilly         1\n",
       "Martin Raymond         1\n",
       "Name: head_coach, Length: 146, dtype: int64"
      ]
     },
     "execution_count": 14,
     "metadata": {},
     "output_type": "execute_result"
    }
   ],
   "source": [
    "data[\"head_coach\"].value_counts()"
   ]
  },
  {
   "cell_type": "code",
   "execution_count": 15,
   "id": "a3bf4ed5",
   "metadata": {},
   "outputs": [
    {
     "data": {
      "text/plain": [
       "<AxesSubplot:>"
      ]
     },
     "execution_count": 15,
     "metadata": {},
     "output_type": "execute_result"
    },
    {
     "data": {
      "image/png": "[encoded data removed]",
      "text/plain": [
       "<Figure size 432x288 with 1 Axes>"
      ]
     },
     "metadata": {
      "needs_background": "light"
     },
     "output_type": "display_data"
    }
   ],
   "source": [
    "data[\"pim\"].hist()"
   ]
  },
  {
   "cell_type": "code",
   "execution_count": 16,
   "id": "e6746ca2",
   "metadata": {},
   "outputs": [
    {
     "data": {
      "text/plain": [
       "<AxesSubplot:>"
      ]
     },
     "execution_count": 16,
     "metadata": {},
     "output_type": "execute_result"
    },
    {
     "data": {
      "image/png": "[encoded data removed]",
      "text/plain": [
       "<Figure size 432x288 with 1 Axes>"
      ]
     },
     "metadata": {
      "needs_background": "light"
     },
     "output_type": "display_data"
    }
   ],
   "source": [
    "data[\"powerPlayOpportunities\"].hist()"
   ]
  },
  {
   "cell_type": "code",
   "execution_count": 17,
   "id": "0b802d77",
   "metadata": {},
   "outputs": [
    {
     "data": {
      "text/plain": [
       "<AxesSubplot:>"
      ]
     },
     "execution_count": 17,
     "metadata": {},
     "output_type": "execute_result"
    },
    {
     "data": {
      "image/png": "[encoded data removed]",
      "text/plain": [
       "<Figure size 432x288 with 1 Axes>"
      ]
     },
     "metadata": {
      "needs_background": "light"
     },
     "output_type": "display_data"
    }
   ],
   "source": [
    "data[\"powerPlayGoals\"].hist()"
   ]
  },
  {
   "cell_type": "code",
   "execution_count": 18,
   "id": "ed0337f2",
   "metadata": {},
   "outputs": [
    {
     "data": {
      "text/plain": [
       "<AxesSubplot:>"
      ]
     },
     "execution_count": 18,
     "metadata": {},
     "output_type": "execute_result"
    },
    {
     "data": {
      "image/png": "[encoded data removed]",
      "text/plain": [
       "<Figure size 432x288 with 1 Axes>"
      ]
     },
     "metadata": {
      "needs_background": "light"
     },
     "output_type": "display_data"
    }
   ],
   "source": [
    "data[\"faceOffWinPercentage\"].hist()"
   ]
  },
  {
   "cell_type": "code",
   "execution_count": 19,
   "id": "38d7e77f",
   "metadata": {},
   "outputs": [
    {
     "data": {
      "text/plain": [
       "left     26852\n",
       "right    23366\n",
       "Name: startRinkSide, dtype: int64"
      ]
     },
     "execution_count": 19,
     "metadata": {},
     "output_type": "execute_result"
    }
   ],
   "source": [
    "data[\"startRinkSide\"].value_counts()"
   ]
  },
  {
   "cell_type": "code",
   "execution_count": 20,
   "id": "8952b21e",
   "metadata": {},
   "outputs": [
    {
     "data": {
      "text/plain": [
       "<AxesSubplot:>"
      ]
     },
     "execution_count": 20,
     "metadata": {},
     "output_type": "execute_result"
    },
    {
     "data": {
      "image/png": "[encoded data removed]",
      "text/plain": [
       "<Figure size 432x288 with 1 Axes>"
      ]
     },
     "metadata": {
      "needs_background": "light"
     },
     "output_type": "display_data"
    }
   ],
   "source": [
    "data[\"Shots\"].hist()"
   ]
  },
  {
   "cell_type": "code",
   "execution_count": 21,
   "id": "482a6a90",
   "metadata": {},
   "outputs": [
    {
     "data": {
      "text/plain": [
       "<AxesSubplot:>"
      ]
     },
     "execution_count": 21,
     "metadata": {},
     "output_type": "execute_result"
    },
    {
     "data": {
      "image/png": "[encoded data removed]",
      "text/plain": [
       "<Figure size 432x288 with 1 Axes>"
      ]
     },
     "metadata": {
      "needs_background": "light"
     },
     "output_type": "display_data"
    }
   ],
   "source": [
    "data[\"Goals\"].hist()"
   ]
  },
  {
   "cell_type": "code",
   "execution_count": 22,
   "id": "43622c60",
   "metadata": {},
   "outputs": [
    {
     "data": {
      "text/plain": [
       "<AxesSubplot:>"
      ]
     },
     "execution_count": 22,
     "metadata": {},
     "output_type": "execute_result"
    },
    {
     "data": {
      "image/png": "[encoded data removed]",
      "text/plain": [
       "<Figure size 432x288 with 1 Axes>"
      ]
     },
     "metadata": {
      "needs_background": "light"
     },
     "output_type": "display_data"
    }
   ],
   "source": [
    "data[\"Takeaways\"].hist()"
   ]
  },
  {
   "cell_type": "code",
   "execution_count": 23,
   "id": "ce291bd8",
   "metadata": {},
   "outputs": [
    {
     "data": {
      "text/plain": [
       "<AxesSubplot:>"
      ]
     },
     "execution_count": 23,
     "metadata": {},
     "output_type": "execute_result"
    },
    {
     "data": {
      "image/png": "[encoded data removed]",
      "text/plain": [
       "<Figure size 432x288 with 1 Axes>"
      ]
     },
     "metadata": {
      "needs_background": "light"
     },
     "output_type": "display_data"
    }
   ],
   "source": [
    "data[\"Hits\"].hist()"
   ]
  },
  {
   "cell_type": "code",
   "execution_count": 24,
   "id": "0a9753d1",
   "metadata": {},
   "outputs": [
    {
     "data": {
      "text/plain": [
       "<AxesSubplot:>"
      ]
     },
     "execution_count": 24,
     "metadata": {},
     "output_type": "execute_result"
    },
    {
     "data": {
      "image/png": "[encoded data removed]",
      "text/plain": [
       "<Figure size 432x288 with 1 Axes>"
      ]
     },
     "metadata": {
      "needs_background": "light"
     },
     "output_type": "display_data"
    }
   ],
   "source": [
    "data[\"Blocked Shots\"].hist()"
   ]
  },
  {
   "cell_type": "code",
   "execution_count": 25,
   "id": "1e63c3c3",
   "metadata": {},
   "outputs": [
    {
     "data": {
      "text/plain": [
       "<AxesSubplot:>"
      ]
     },
     "execution_count": 25,
     "metadata": {},
     "output_type": "execute_result"
    },
    {
     "data": {
      "image/png": "[encoded data removed]",
      "text/plain": [
       "<Figure size 432x288 with 1 Axes>"
      ]
     },
     "metadata": {
      "needs_background": "light"
     },
     "output_type": "display_data"
    }
   ],
   "source": [
    "data[\"Giveaways\"].hist()"
   ]
  },
  {
   "cell_type": "code",
   "execution_count": 26,
   "id": "fa74c16d",
   "metadata": {},
   "outputs": [
    {
     "data": {
      "text/plain": [
       "<AxesSubplot:>"
      ]
     },
     "execution_count": 26,
     "metadata": {},
     "output_type": "execute_result"
    },
    {
     "data": {
      "image/png": "[encoded data removed]",
      "text/plain": [
       "<Figure size 432x288 with 1 Axes>"
      ]
     },
     "metadata": {
      "needs_background": "light"
     },
     "output_type": "display_data"
    }
   ],
   "source": [
    "data[\"Missed Shots\"].hist()"
   ]
  },
  {
   "cell_type": "code",
   "execution_count": 27,
   "id": "5b37dfe6",
   "metadata": {},
   "outputs": [
    {
     "data": {
      "text/plain": [
       "<AxesSubplot:>"
      ]
     },
     "execution_count": 27,
     "metadata": {},
     "output_type": "execute_result"
    },
    {
     "data": {
      "image/png": "[encoded data removed]",
      "text/plain": [
       "<Figure size 432x288 with 1 Axes>"
      ]
     },
     "metadata": {
      "needs_background": "light"
     },
     "output_type": "display_data"
    }
   ],
   "source": [
    "data = data.rename(columns={\"Penalities\": \"Penalties\"})\n",
    "data[\"Penalties\"].hist()"
   ]
  },
  {
   "cell_type": "code",
   "execution_count": 28,
   "id": "a8986859",
   "metadata": {},
   "outputs": [
    {
     "data": {
      "text/plain": [
       "<AxesSubplot:>"
      ]
     },
     "execution_count": 28,
     "metadata": {},
     "output_type": "execute_result"
    },
    {
     "data": {
      "image/png": "[encoded data removed]",
      "text/plain": [
       "<Figure size 432x288 with 1 Axes>"
      ]
     },
     "metadata": {
      "needs_background": "light"
     },
     "output_type": "display_data"
    }
   ],
   "source": [
    "data[\"#Won Faceoffs\"].hist()"
   ]
  },
  {
   "cell_type": "code",
   "execution_count": 29,
   "id": "f8e7ac51",
   "metadata": {},
   "outputs": [
    {
     "data": {
      "text/plain": [
       "<AxesSubplot:>"
      ]
     },
     "execution_count": 29,
     "metadata": {},
     "output_type": "execute_result"
    },
    {
     "data": {
      "image/png": "[encoded data removed]",
      "text/plain": [
       "<Figure size 432x288 with 1 Axes>"
      ]
     },
     "metadata": {
      "needs_background": "light"
     },
     "output_type": "display_data"
    }
   ],
   "source": [
    "data[\"timeOnIce\"].hist()"
   ]
  },
  {
   "cell_type": "code",
   "execution_count": 30,
   "id": "e149bd5e",
   "metadata": {},
   "outputs": [
    {
     "data": {
      "text/plain": [
       "<AxesSubplot:>"
      ]
     },
     "execution_count": 30,
     "metadata": {},
     "output_type": "execute_result"
    },
    {
     "data": {
      "image/png": "[encoded data removed]",
      "text/plain": [
       "<Figure size 432x288 with 1 Axes>"
      ]
     },
     "metadata": {
      "needs_background": "light"
     },
     "output_type": "display_data"
    }
   ],
   "source": [
    "data[\"evenTimeOnIce\"].hist()"
   ]
  },
  {
   "cell_type": "code",
   "execution_count": 31,
   "id": "bb724804",
   "metadata": {},
   "outputs": [
    {
     "data": {
      "text/plain": [
       "<AxesSubplot:>"
      ]
     },
     "execution_count": 31,
     "metadata": {},
     "output_type": "execute_result"
    },
    {
     "data": {
      "image/png": "[encoded data removed]",
      "text/plain": [
       "<Figure size 432x288 with 1 Axes>"
      ]
     },
     "metadata": {
      "needs_background": "light"
     },
     "output_type": "display_data"
    }
   ],
   "source": [
    "data[\"shortHandedTimeOnIce\"].hist()"
   ]
  },
  {
   "cell_type": "code",
   "execution_count": 32,
   "id": "d24f9ad9",
   "metadata": {},
   "outputs": [
    {
     "data": {
      "text/plain": [
       "<AxesSubplot:>"
      ]
     },
     "execution_count": 32,
     "metadata": {},
     "output_type": "execute_result"
    },
    {
     "data": {
      "image/png": "[encoded data removed]",
      "text/plain": [
       "<Figure size 432x288 with 1 Axes>"
      ]
     },
     "metadata": {
      "needs_background": "light"
     },
     "output_type": "display_data"
    }
   ],
   "source": [
    "data[\"powerPlayTimeOnIce\"].hist()"
   ]
  },
  {
   "cell_type": "code",
   "execution_count": 33,
   "id": "6581d5ef",
   "metadata": {},
   "outputs": [
    {
     "data": {
      "text/plain": [
       "No     48498\n",
       "Yes     4077\n",
       "Name: goalie_replacement, dtype: int64"
      ]
     },
     "execution_count": 33,
     "metadata": {},
     "output_type": "execute_result"
    }
   ],
   "source": [
    "data[\"goalie_replacement\"].value_counts()"
   ]
  },
  {
   "cell_type": "markdown",
   "id": "40a904ee",
   "metadata": {},
   "source": [
    "## 2.7 <b>Check Outliers for Numeric Values</b>"
   ]
  },
  {
   "cell_type": "markdown",
   "id": "ed3b28ae",
   "metadata": {},
   "source": [
    "In this section, we use boxplots to observe how many outliers there are for each variable."
   ]
  },
  {
   "cell_type": "code",
   "execution_count": 34,
   "id": "af60f582",
   "metadata": {},
   "outputs": [
    {
     "data": {
      "image/png": "[encoded data removed]",
      "text/plain": [
       "<Figure size 432x288 with 1 Axes>"
      ]
     },
     "metadata": {
      "needs_background": "light"
     },
     "output_type": "display_data"
    }
   ],
   "source": [
    "sns.boxplot(data['pim']) \n",
    "sns.despine()"
   ]
  },
  {
   "cell_type": "code",
   "execution_count": 35,
   "id": "f5bcaeca",
   "metadata": {},
   "outputs": [
    {
     "data": {
      "image/png": "[encoded data removed]",
      "text/plain": [
       "<Figure size 432x288 with 1 Axes>"
      ]
     },
     "metadata": {
      "needs_background": "light"
     },
     "output_type": "display_data"
    }
   ],
   "source": [
    "sns.boxplot(data['powerPlayOpportunities']) \n",
    "sns.despine()"
   ]
  },
  {
   "cell_type": "code",
   "execution_count": 36,
   "id": "13c66279",
   "metadata": {},
   "outputs": [
    {
     "data": {
      "image/png": "[encoded data removed]",
      "text/plain": [
       "<Figure size 432x288 with 1 Axes>"
      ]
     },
     "metadata": {
      "needs_background": "light"
     },
     "output_type": "display_data"
    }
   ],
   "source": [
    "sns.boxplot(data['powerPlayGoals']) \n",
    "sns.despine()"
   ]
  },
  {
   "cell_type": "code",
   "execution_count": 37,
   "id": "a1cabef3",
   "metadata": {},
   "outputs": [
    {
     "data": {
      "image/png": "[encoded data removed]",
      "text/plain": [
       "<Figure size 432x288 with 1 Axes>"
      ]
     },
     "metadata": {
      "needs_background": "light"
     },
     "output_type": "display_data"
    }
   ],
   "source": [
    "sns.boxplot(data['faceOffWinPercentage']) \n",
    "sns.despine()"
   ]
  },
  {
   "cell_type": "code",
   "execution_count": 38,
   "id": "cbf156d3",
   "metadata": {},
   "outputs": [
    {
     "data": {
      "image/png": "[encoded data removed]",
      "text/plain": [
       "<Figure size 432x288 with 1 Axes>"
      ]
     },
     "metadata": {
      "needs_background": "light"
     },
     "output_type": "display_data"
    }
   ],
   "source": [
    "sns.boxplot(data['Shots']) \n",
    "sns.despine()"
   ]
  },
  {
   "cell_type": "code",
   "execution_count": 39,
   "id": "f3e63e1d",
   "metadata": {},
   "outputs": [
    {
     "data": {
      "image/png": "[encoded data removed]",
      "text/plain": [
       "<Figure size 432x288 with 1 Axes>"
      ]
     },
     "metadata": {
      "needs_background": "light"
     },
     "output_type": "display_data"
    }
   ],
   "source": [
    "sns.boxplot(data['Goals']) \n",
    "sns.despine()"
   ]
  },
  {
   "cell_type": "code",
   "execution_count": 40,
   "id": "d87e2f7b",
   "metadata": {},
   "outputs": [
    {
     "data": {
      "image/png": "[encoded data removed]",
      "text/plain": [
       "<Figure size 432x288 with 1 Axes>"
      ]
     },
     "metadata": {
      "needs_background": "light"
     },
     "output_type": "display_data"
    }
   ],
   "source": [
    "sns.boxplot(data['Takeaways']) \n",
    "sns.despine()"
   ]
  },
  {
   "cell_type": "code",
   "execution_count": 41,
   "id": "7fa41f4e",
   "metadata": {},
   "outputs": [
    {
     "data": {
      "image/png": "[encoded data removed]",
      "text/plain": [
       "<Figure size 432x288 with 1 Axes>"
      ]
     },
     "metadata": {
      "needs_background": "light"
     },
     "output_type": "display_data"
    }
   ],
   "source": [
    "sns.boxplot(data['Hits']) \n",
    "sns.despine()"
   ]
  },
  {
   "cell_type": "code",
   "execution_count": 42,
   "id": "6f13ec2b",
   "metadata": {},
   "outputs": [
    {
     "data": {
      "image/png": "[encoded data removed]",
      "text/plain": [
       "<Figure size 432x288 with 1 Axes>"
      ]
     },
     "metadata": {
      "needs_background": "light"
     },
     "output_type": "display_data"
    }
   ],
   "source": [
    "sns.boxplot(data['Blocked Shots']) \n",
    "sns.despine()"
   ]
  },
  {
   "cell_type": "code",
   "execution_count": 43,
   "id": "e2cf3fa3",
   "metadata": {},
   "outputs": [
    {
     "data": {
      "image/png": "[encoded data removed]",
      "text/plain": [
       "<Figure size 432x288 with 1 Axes>"
      ]
     },
     "metadata": {
      "needs_background": "light"
     },
     "output_type": "display_data"
    }
   ],
   "source": [
    "sns.boxplot(data['Giveaways']) \n",
    "sns.despine()"
   ]
  },
  {
   "cell_type": "code",
   "execution_count": 44,
   "id": "7a8b89e2",
   "metadata": {},
   "outputs": [
    {
     "data": {
      "image/png": "[encoded data removed]",
      "text/plain": [
       "<Figure size 432x288 with 1 Axes>"
      ]
     },
     "metadata": {
      "needs_background": "light"
     },
     "output_type": "display_data"
    }
   ],
   "source": [
    "sns.boxplot(data['Missed Shots']) \n",
    "sns.despine()"
   ]
  },
  {
   "cell_type": "code",
   "execution_count": 45,
   "id": "d930218a",
   "metadata": {},
   "outputs": [
    {
     "data": {
      "image/png": "[encoded data removed]",
      "text/plain": [
       "<Figure size 432x288 with 1 Axes>"
      ]
     },
     "metadata": {
      "needs_background": "light"
     },
     "output_type": "display_data"
    }
   ],
   "source": [
    "sns.boxplot(data['Penalties']) \n",
    "sns.despine()"
   ]
  },
  {
   "cell_type": "code",
   "execution_count": 46,
   "id": "aa1f202f",
   "metadata": {},
   "outputs": [
    {
     "data": {
      "image/png": "[encoded data removed]",
      "text/plain": [
       "<Figure size 432x288 with 1 Axes>"
      ]
     },
     "metadata": {
      "needs_background": "light"
     },
     "output_type": "display_data"
    }
   ],
   "source": [
    "sns.boxplot(data['#Won Faceoffs']) \n",
    "sns.despine()"
   ]
  },
  {
   "cell_type": "code",
   "execution_count": 47,
   "id": "1d372798",
   "metadata": {},
   "outputs": [
    {
     "data": {
      "image/png": "[encoded data removed]",
      "text/plain": [
       "<Figure size 432x288 with 1 Axes>"
      ]
     },
     "metadata": {
      "needs_background": "light"
     },
     "output_type": "display_data"
    }
   ],
   "source": [
    "sns.boxplot(data['timeOnIce']) \n",
    "sns.despine()"
   ]
  },
  {
   "cell_type": "code",
   "execution_count": 48,
   "id": "d195f796",
   "metadata": {},
   "outputs": [
    {
     "data": {
      "image/png": "[encoded data removed]",
      "text/plain": [
       "<Figure size 432x288 with 1 Axes>"
      ]
     },
     "metadata": {
      "needs_background": "light"
     },
     "output_type": "display_data"
    }
   ],
   "source": [
    "sns.boxplot(data['evenTimeOnIce']) \n",
    "sns.despine()"
   ]
  },
  {
   "cell_type": "code",
   "execution_count": 49,
   "id": "a34a6c5a",
   "metadata": {},
   "outputs": [
    {
     "data": {
      "image/png": "[encoded data removed]",
      "text/plain": [
       "<Figure size 432x288 with 1 Axes>"
      ]
     },
     "metadata": {
      "needs_background": "light"
     },
     "output_type": "display_data"
    }
   ],
   "source": [
    "sns.boxplot(data['shortHandedTimeOnIce']) \n",
    "sns.despine()"
   ]
  },
  {
   "cell_type": "code",
   "execution_count": 50,
   "id": "449d00b0",
   "metadata": {},
   "outputs": [
    {
     "data": {
      "image/png": "[encoded data removed]",
      "text/plain": [
       "<Figure size 432x288 with 1 Axes>"
      ]
     },
     "metadata": {
      "needs_background": "light"
     },
     "output_type": "display_data"
    }
   ],
   "source": [
    "sns.boxplot(data['powerPlayTimeOnIce']) \n",
    "sns.despine()"
   ]
  },
  {
   "cell_type": "markdown",
   "id": "82784d7d",
   "metadata": {},
   "source": [
    "## 2.8 <b>Check Relationships between Variables</b>"
   ]
  },
  {
   "cell_type": "code",
   "execution_count": 51,
   "id": "ba2088ed",
   "metadata": {},
   "outputs": [
    {
     "data": {
      "text/plain": [
       "<matplotlib.collections.PathCollection at 0x7fbf54557520>"
      ]
     },
     "execution_count": 51,
     "metadata": {},
     "output_type": "execute_result"
    },
    {
     "data": {
      "image/png": "[encoded data removed]",
      "text/plain": [
       "<Figure size 432x288 with 1 Axes>"
      ]
     },
     "metadata": {
      "needs_background": "light"
     },
     "output_type": "display_data"
    }
   ],
   "source": [
    "plt.scatter(data['Shots'], data['Goals'])"
   ]
  },
  {
   "cell_type": "code",
   "execution_count": 52,
   "id": "3d64a395",
   "metadata": {},
   "outputs": [
    {
     "data": {
      "text/plain": [
       "<matplotlib.collections.PathCollection at 0x7fbf3480bcd0>"
      ]
     },
     "execution_count": 52,
     "metadata": {},
     "output_type": "execute_result"
    },
    {
     "data": {
      "image/png": "[encoded data removed]",
      "text/plain": [
       "<Figure size 432x288 with 1 Axes>"
      ]
     },
     "metadata": {
      "needs_background": "light"
     },
     "output_type": "display_data"
    }
   ],
   "source": [
    "plt.scatter(data['pim'], data['Goals'])"
   ]
  },
  {
   "cell_type": "code",
   "execution_count": 53,
   "id": "7784df56",
   "metadata": {},
   "outputs": [
    {
     "data": {
      "text/plain": [
       "<matplotlib.collections.PathCollection at 0x7fbf34dd9d30>"
      ]
     },
     "execution_count": 53,
     "metadata": {},
     "output_type": "execute_result"
    },
    {
     "data": {
      "image/png": "[encoded data removed]",
      "text/plain": [
       "<Figure size 432x288 with 1 Axes>"
      ]
     },
     "metadata": {
      "needs_background": "light"
     },
     "output_type": "display_data"
    }
   ],
   "source": [
    "plt.scatter(data['powerPlayOpportunities'], data['Goals'])"
   ]
  },
  {
   "cell_type": "code",
   "execution_count": 54,
   "id": "f10410ec",
   "metadata": {},
   "outputs": [
    {
     "data": {
      "text/plain": [
       "<matplotlib.collections.PathCollection at 0x7fbf34f20f70>"
      ]
     },
     "execution_count": 54,
     "metadata": {},
     "output_type": "execute_result"
    },
    {
     "data": {
      "image/png": "[encoded data removed]",
      "text/plain": [
       "<Figure size 432x288 with 1 Axes>"
      ]
     },
     "metadata": {
      "needs_background": "light"
     },
     "output_type": "display_data"
    }
   ],
   "source": [
    "plt.scatter(data['Giveaways'], data['Goals'])"
   ]
  },
  {
   "cell_type": "code",
   "execution_count": 55,
   "id": "63bd1c3f",
   "metadata": {},
   "outputs": [
    {
     "data": {
      "text/plain": [
       "<matplotlib.collections.PathCollection at 0x7fbf350eebe0>"
      ]
     },
     "execution_count": 55,
     "metadata": {},
     "output_type": "execute_result"
    },
    {
     "data": {
      "image/png": "[encoded data removed]",
      "text/plain": [
       "<Figure size 432x288 with 1 Axes>"
      ]
     },
     "metadata": {
      "needs_background": "light"
     },
     "output_type": "display_data"
    }
   ],
   "source": [
    "plt.scatter(data['Takeaways'], data['Goals'])"
   ]
  },
  {
   "cell_type": "code",
   "execution_count": 56,
   "id": "c341b30f",
   "metadata": {},
   "outputs": [
    {
     "data": {
      "text/plain": [
       "<matplotlib.collections.PathCollection at 0x7fbf353000d0>"
      ]
     },
     "execution_count": 56,
     "metadata": {},
     "output_type": "execute_result"
    },
    {
     "data": {
      "image/png": "[encoded data removed]",
      "text/plain": [
       "<Figure size 432x288 with 1 Axes>"
      ]
     },
     "metadata": {
      "needs_background": "light"
     },
     "output_type": "display_data"
    }
   ],
   "source": [
    "plt.scatter(data['Blocked Shots'], data['Goals'])"
   ]
  },
  {
   "cell_type": "code",
   "execution_count": 57,
   "id": "d386857f",
   "metadata": {},
   "outputs": [
    {
     "data": {
      "text/plain": [
       "<matplotlib.collections.PathCollection at 0x7fbf35550430>"
      ]
     },
     "execution_count": 57,
     "metadata": {},
     "output_type": "execute_result"
    },
    {
     "data": {
      "image/png": "[encoded data removed]",
      "text/plain": [
       "<Figure size 432x288 with 1 Axes>"
      ]
     },
     "metadata": {
      "needs_background": "light"
     },
     "output_type": "display_data"
    }
   ],
   "source": [
    "plt.scatter(data['timeOnIce'], data['Goals'])"
   ]
  },
  {
   "cell_type": "code",
   "execution_count": 58,
   "id": "45b9677c",
   "metadata": {},
   "outputs": [
    {
     "data": {
      "text/plain": [
       "<matplotlib.collections.PathCollection at 0x7fbf357813d0>"
      ]
     },
     "execution_count": 58,
     "metadata": {},
     "output_type": "execute_result"
    },
    {
     "data": {
      "image/png": "[encoded data removed]",
      "text/plain": [
       "<Figure size 432x288 with 1 Axes>"
      ]
     },
     "metadata": {
      "needs_background": "light"
     },
     "output_type": "display_data"
    }
   ],
   "source": [
    "plt.scatter(data['evenTimeOnIce'], data['Goals'])"
   ]
  },
  {
   "cell_type": "code",
   "execution_count": 59,
   "id": "f4e261b5",
   "metadata": {},
   "outputs": [
    {
     "data": {
      "text/plain": [
       "<matplotlib.collections.PathCollection at 0x7fbf359b1940>"
      ]
     },
     "execution_count": 59,
     "metadata": {},
     "output_type": "execute_result"
    },
    {
     "data": {
      "image/png": "[encoded data removed]",
      "text/plain": [
       "<Figure size 432x288 with 1 Axes>"
      ]
     },
     "metadata": {
      "needs_background": "light"
     },
     "output_type": "display_data"
    }
   ],
   "source": [
    "plt.scatter(data['shortHandedTimeOnIce'], data['Goals'])"
   ]
  },
  {
   "cell_type": "code",
   "execution_count": 60,
   "id": "8a225629",
   "metadata": {},
   "outputs": [
    {
     "data": {
      "text/plain": [
       "<matplotlib.collections.PathCollection at 0x7fbf3556f7f0>"
      ]
     },
     "execution_count": 60,
     "metadata": {},
     "output_type": "execute_result"
    },
    {
     "data": {
      "image/png": "[encoded data removed]",
      "text/plain": [
       "<Figure size 432x288 with 1 Axes>"
      ]
     },
     "metadata": {
      "needs_background": "light"
     },
     "output_type": "display_data"
    }
   ],
   "source": [
    "plt.scatter(data['powerPlayTimeOnIce'], data['Goals'])"
   ]
  },
  {
   "cell_type": "markdown",
   "id": "0e0e641d",
   "metadata": {},
   "source": [
    "## 2.9 Check Correlations among Variables"
   ]
  },
  {
   "cell_type": "markdown",
   "id": "c32dffb2",
   "metadata": {},
   "source": [
    "<b>Correlation Matrix</b>"
   ]
  },
  {
   "cell_type": "code",
   "execution_count": 61,
   "id": "edd713bc",
   "metadata": {},
   "outputs": [
    {
     "data": {
      "text/html": [
       "<div>\n",
       "<style scoped>\n",
       "    .dataframe tbody tr th:only-of-type {\n",
       "        vertical-align: middle;\n",
       "    }\n",
       "\n",
       "    .dataframe tbody tr th {\n",
       "        vertical-align: top;\n",
       "    }\n",
       "\n",
       "    .dataframe thead th {\n",
       "        text-align: right;\n",
       "    }\n",
       "</style>\n",
       "<table border=\"1\" class=\"dataframe\">\n",
       "  <thead>\n",
       "    <tr style=\"text-align: right;\">\n",
       "      <th></th>\n",
       "      <th>game_id</th>\n",
       "      <th>won</th>\n",
       "      <th>pim</th>\n",
       "      <th>powerPlayOpportunities</th>\n",
       "      <th>powerPlayGoals</th>\n",
       "      <th>faceOffWinPercentage</th>\n",
       "      <th>Shots</th>\n",
       "      <th>Goals</th>\n",
       "      <th>Takeaways</th>\n",
       "      <th>Hits</th>\n",
       "      <th>Blocked Shots</th>\n",
       "      <th>Giveaways</th>\n",
       "      <th>Missed Shots</th>\n",
       "      <th>Penalties</th>\n",
       "      <th>#Won Faceoffs</th>\n",
       "      <th>team_id</th>\n",
       "      <th>timeOnIce</th>\n",
       "      <th>evenTimeOnIce</th>\n",
       "      <th>shortHandedTimeOnIce</th>\n",
       "      <th>powerPlayTimeOnIce</th>\n",
       "    </tr>\n",
       "  </thead>\n",
       "  <tbody>\n",
       "    <tr>\n",
       "      <th>game_id</th>\n",
       "      <td>1.000000</td>\n",
       "      <td>0.035644</td>\n",
       "      <td>-0.282438</td>\n",
       "      <td>-0.344464</td>\n",
       "      <td>-0.092177</td>\n",
       "      <td>-0.001894</td>\n",
       "      <td>0.789341</td>\n",
       "      <td>0.196113</td>\n",
       "      <td>0.619095</td>\n",
       "      <td>0.748870</td>\n",
       "      <td>0.720520</td>\n",
       "      <td>0.656967</td>\n",
       "      <td>0.695786</td>\n",
       "      <td>-0.026590</td>\n",
       "      <td>0.819437</td>\n",
       "      <td>0.121623</td>\n",
       "      <td>0.112091</td>\n",
       "      <td>0.377174</td>\n",
       "      <td>-0.319603</td>\n",
       "      <td>-0.320469</td>\n",
       "    </tr>\n",
       "    <tr>\n",
       "      <th>won</th>\n",
       "      <td>0.035644</td>\n",
       "      <td>1.000000</td>\n",
       "      <td>-0.040227</td>\n",
       "      <td>0.014062</td>\n",
       "      <td>0.240841</td>\n",
       "      <td>0.030458</td>\n",
       "      <td>0.029922</td>\n",
       "      <td>0.267319</td>\n",
       "      <td>0.033402</td>\n",
       "      <td>0.007485</td>\n",
       "      <td>0.017686</td>\n",
       "      <td>0.018816</td>\n",
       "      <td>0.025583</td>\n",
       "      <td>-0.021170</td>\n",
       "      <td>0.029584</td>\n",
       "      <td>-0.000703</td>\n",
       "      <td>-0.061166</td>\n",
       "      <td>-0.014458</td>\n",
       "      <td>0.027570</td>\n",
       "      <td>-0.046924</td>\n",
       "    </tr>\n",
       "    <tr>\n",
       "      <th>pim</th>\n",
       "      <td>-0.282438</td>\n",
       "      <td>-0.040227</td>\n",
       "      <td>1.000000</td>\n",
       "      <td>0.290553</td>\n",
       "      <td>0.125405</td>\n",
       "      <td>-0.008734</td>\n",
       "      <td>-0.241420</td>\n",
       "      <td>-0.021400</td>\n",
       "      <td>-0.196892</td>\n",
       "      <td>-0.206042</td>\n",
       "      <td>-0.203386</td>\n",
       "      <td>-0.206228</td>\n",
       "      <td>-0.213437</td>\n",
       "      <td>0.394495</td>\n",
       "      <td>-0.226532</td>\n",
       "      <td>-0.043878</td>\n",
       "      <td>-0.219767</td>\n",
       "      <td>-0.473268</td>\n",
       "      <td>0.531016</td>\n",
       "      <td>0.233581</td>\n",
       "    </tr>\n",
       "    <tr>\n",
       "      <th>powerPlayOpportunities</th>\n",
       "      <td>-0.344464</td>\n",
       "      <td>0.014062</td>\n",
       "      <td>0.290553</td>\n",
       "      <td>1.000000</td>\n",
       "      <td>0.416509</td>\n",
       "      <td>0.045235</td>\n",
       "      <td>-0.263063</td>\n",
       "      <td>-0.021325</td>\n",
       "      <td>-0.237199</td>\n",
       "      <td>-0.290760</td>\n",
       "      <td>-0.281181</td>\n",
       "      <td>-0.233411</td>\n",
       "      <td>-0.236607</td>\n",
       "      <td>0.180387</td>\n",
       "      <td>-0.279389</td>\n",
       "      <td>-0.031550</td>\n",
       "      <td>-0.102416</td>\n",
       "      <td>-0.699932</td>\n",
       "      <td>0.291013</td>\n",
       "      <td>0.921583</td>\n",
       "    </tr>\n",
       "    <tr>\n",
       "      <th>powerPlayGoals</th>\n",
       "      <td>-0.092177</td>\n",
       "      <td>0.240841</td>\n",
       "      <td>0.125405</td>\n",
       "      <td>0.416509</td>\n",
       "      <td>1.000000</td>\n",
       "      <td>0.024805</td>\n",
       "      <td>-0.073169</td>\n",
       "      <td>0.207833</td>\n",
       "      <td>-0.062641</td>\n",
       "      <td>-0.089320</td>\n",
       "      <td>-0.078443</td>\n",
       "      <td>-0.066697</td>\n",
       "      <td>-0.073773</td>\n",
       "      <td>0.080296</td>\n",
       "      <td>-0.063443</td>\n",
       "      <td>-0.014150</td>\n",
       "      <td>-0.062207</td>\n",
       "      <td>-0.211148</td>\n",
       "      <td>0.141829</td>\n",
       "      <td>0.209274</td>\n",
       "    </tr>\n",
       "    <tr>\n",
       "      <th>faceOffWinPercentage</th>\n",
       "      <td>-0.001894</td>\n",
       "      <td>0.030458</td>\n",
       "      <td>-0.008734</td>\n",
       "      <td>0.045235</td>\n",
       "      <td>0.024805</td>\n",
       "      <td>1.000000</td>\n",
       "      <td>0.056749</td>\n",
       "      <td>-0.002061</td>\n",
       "      <td>0.028990</td>\n",
       "      <td>0.003427</td>\n",
       "      <td>-0.043485</td>\n",
       "      <td>0.044582</td>\n",
       "      <td>0.054245</td>\n",
       "      <td>-0.012978</td>\n",
       "      <td>0.278906</td>\n",
       "      <td>0.011705</td>\n",
       "      <td>0.006001</td>\n",
       "      <td>-0.000322</td>\n",
       "      <td>-0.031744</td>\n",
       "      <td>0.032160</td>\n",
       "    </tr>\n",
       "    <tr>\n",
       "      <th>Shots</th>\n",
       "      <td>0.789341</td>\n",
       "      <td>0.029922</td>\n",
       "      <td>-0.241420</td>\n",
       "      <td>-0.263063</td>\n",
       "      <td>-0.073169</td>\n",
       "      <td>0.056749</td>\n",
       "      <td>1.000000</td>\n",
       "      <td>0.229203</td>\n",
       "      <td>0.635037</td>\n",
       "      <td>0.733889</td>\n",
       "      <td>0.672977</td>\n",
       "      <td>0.652551</td>\n",
       "      <td>0.728890</td>\n",
       "      <td>0.005041</td>\n",
       "      <td>0.841162</td>\n",
       "      <td>0.105719</td>\n",
       "      <td>0.094385</td>\n",
       "      <td>0.309062</td>\n",
       "      <td>-0.288510</td>\n",
       "      <td>-0.239397</td>\n",
       "    </tr>\n",
       "    <tr>\n",
       "      <th>Goals</th>\n",
       "      <td>0.196113</td>\n",
       "      <td>0.267319</td>\n",
       "      <td>-0.021400</td>\n",
       "      <td>-0.021325</td>\n",
       "      <td>0.207833</td>\n",
       "      <td>-0.002061</td>\n",
       "      <td>0.229203</td>\n",
       "      <td>1.000000</td>\n",
       "      <td>0.213079</td>\n",
       "      <td>0.184680</td>\n",
       "      <td>0.202165</td>\n",
       "      <td>0.201851</td>\n",
       "      <td>0.187022</td>\n",
       "      <td>0.065262</td>\n",
       "      <td>0.280259</td>\n",
       "      <td>0.035985</td>\n",
       "      <td>-0.050998</td>\n",
       "      <td>0.026876</td>\n",
       "      <td>-0.018791</td>\n",
       "      <td>-0.074814</td>\n",
       "    </tr>\n",
       "    <tr>\n",
       "      <th>Takeaways</th>\n",
       "      <td>0.619095</td>\n",
       "      <td>0.033402</td>\n",
       "      <td>-0.196892</td>\n",
       "      <td>-0.237199</td>\n",
       "      <td>-0.062641</td>\n",
       "      <td>0.028990</td>\n",
       "      <td>0.635037</td>\n",
       "      <td>0.213079</td>\n",
       "      <td>1.000000</td>\n",
       "      <td>0.588349</td>\n",
       "      <td>0.557075</td>\n",
       "      <td>0.567010</td>\n",
       "      <td>0.559351</td>\n",
       "      <td>0.025349</td>\n",
       "      <td>0.642733</td>\n",
       "      <td>0.091135</td>\n",
       "      <td>0.071765</td>\n",
       "      <td>0.259931</td>\n",
       "      <td>-0.220695</td>\n",
       "      <td>-0.225042</td>\n",
       "    </tr>\n",
       "    <tr>\n",
       "      <th>Hits</th>\n",
       "      <td>0.748870</td>\n",
       "      <td>0.007485</td>\n",
       "      <td>-0.206042</td>\n",
       "      <td>-0.290760</td>\n",
       "      <td>-0.089320</td>\n",
       "      <td>0.003427</td>\n",
       "      <td>0.733889</td>\n",
       "      <td>0.184680</td>\n",
       "      <td>0.588349</td>\n",
       "      <td>1.000000</td>\n",
       "      <td>0.703145</td>\n",
       "      <td>0.650616</td>\n",
       "      <td>0.641033</td>\n",
       "      <td>0.023764</td>\n",
       "      <td>0.765339</td>\n",
       "      <td>0.097920</td>\n",
       "      <td>0.128556</td>\n",
       "      <td>0.329618</td>\n",
       "      <td>-0.258975</td>\n",
       "      <td>-0.270850</td>\n",
       "    </tr>\n",
       "    <tr>\n",
       "      <th>Blocked Shots</th>\n",
       "      <td>0.720520</td>\n",
       "      <td>0.017686</td>\n",
       "      <td>-0.203386</td>\n",
       "      <td>-0.281181</td>\n",
       "      <td>-0.078443</td>\n",
       "      <td>-0.043485</td>\n",
       "      <td>0.672977</td>\n",
       "      <td>0.202165</td>\n",
       "      <td>0.557075</td>\n",
       "      <td>0.703145</td>\n",
       "      <td>1.000000</td>\n",
       "      <td>0.624766</td>\n",
       "      <td>0.583193</td>\n",
       "      <td>0.074480</td>\n",
       "      <td>0.724801</td>\n",
       "      <td>0.100598</td>\n",
       "      <td>0.098243</td>\n",
       "      <td>0.295579</td>\n",
       "      <td>-0.221926</td>\n",
       "      <td>-0.265153</td>\n",
       "    </tr>\n",
       "    <tr>\n",
       "      <th>Giveaways</th>\n",
       "      <td>0.656967</td>\n",
       "      <td>0.018816</td>\n",
       "      <td>-0.206228</td>\n",
       "      <td>-0.233411</td>\n",
       "      <td>-0.066697</td>\n",
       "      <td>0.044582</td>\n",
       "      <td>0.652551</td>\n",
       "      <td>0.201851</td>\n",
       "      <td>0.567010</td>\n",
       "      <td>0.650616</td>\n",
       "      <td>0.624766</td>\n",
       "      <td>1.000000</td>\n",
       "      <td>0.583718</td>\n",
       "      <td>0.021951</td>\n",
       "      <td>0.688152</td>\n",
       "      <td>0.061802</td>\n",
       "      <td>0.089359</td>\n",
       "      <td>0.269123</td>\n",
       "      <td>-0.235979</td>\n",
       "      <td>-0.214611</td>\n",
       "    </tr>\n",
       "    <tr>\n",
       "      <th>Missed Shots</th>\n",
       "      <td>0.695786</td>\n",
       "      <td>0.025583</td>\n",
       "      <td>-0.213437</td>\n",
       "      <td>-0.236607</td>\n",
       "      <td>-0.073773</td>\n",
       "      <td>0.054245</td>\n",
       "      <td>0.728890</td>\n",
       "      <td>0.187022</td>\n",
       "      <td>0.559351</td>\n",
       "      <td>0.641033</td>\n",
       "      <td>0.583193</td>\n",
       "      <td>0.583718</td>\n",
       "      <td>1.000000</td>\n",
       "      <td>-0.012295</td>\n",
       "      <td>0.723686</td>\n",
       "      <td>0.104671</td>\n",
       "      <td>0.085758</td>\n",
       "      <td>0.276479</td>\n",
       "      <td>-0.255810</td>\n",
       "      <td>-0.214873</td>\n",
       "    </tr>\n",
       "    <tr>\n",
       "      <th>Penalties</th>\n",
       "      <td>-0.026590</td>\n",
       "      <td>-0.021170</td>\n",
       "      <td>0.394495</td>\n",
       "      <td>0.180387</td>\n",
       "      <td>0.080296</td>\n",
       "      <td>-0.012978</td>\n",
       "      <td>0.005041</td>\n",
       "      <td>0.065262</td>\n",
       "      <td>0.025349</td>\n",
       "      <td>0.023764</td>\n",
       "      <td>0.074480</td>\n",
       "      <td>0.021951</td>\n",
       "      <td>-0.012295</td>\n",
       "      <td>1.000000</td>\n",
       "      <td>0.064321</td>\n",
       "      <td>-0.003025</td>\n",
       "      <td>-0.138438</td>\n",
       "      <td>-0.321689</td>\n",
       "      <td>0.394439</td>\n",
       "      <td>0.141274</td>\n",
       "    </tr>\n",
       "    <tr>\n",
       "      <th>#Won Faceoffs</th>\n",
       "      <td>0.819437</td>\n",
       "      <td>0.029584</td>\n",
       "      <td>-0.226532</td>\n",
       "      <td>-0.279389</td>\n",
       "      <td>-0.063443</td>\n",
       "      <td>0.278906</td>\n",
       "      <td>0.841162</td>\n",
       "      <td>0.280259</td>\n",
       "      <td>0.642733</td>\n",
       "      <td>0.765339</td>\n",
       "      <td>0.724801</td>\n",
       "      <td>0.688152</td>\n",
       "      <td>0.723686</td>\n",
       "      <td>0.064321</td>\n",
       "      <td>1.000000</td>\n",
       "      <td>0.110374</td>\n",
       "      <td>0.094926</td>\n",
       "      <td>0.313606</td>\n",
       "      <td>-0.267448</td>\n",
       "      <td>-0.263676</td>\n",
       "    </tr>\n",
       "    <tr>\n",
       "      <th>team_id</th>\n",
       "      <td>0.121623</td>\n",
       "      <td>-0.000703</td>\n",
       "      <td>-0.043878</td>\n",
       "      <td>-0.031550</td>\n",
       "      <td>-0.014150</td>\n",
       "      <td>0.011705</td>\n",
       "      <td>0.105719</td>\n",
       "      <td>0.035985</td>\n",
       "      <td>0.091135</td>\n",
       "      <td>0.097920</td>\n",
       "      <td>0.100598</td>\n",
       "      <td>0.061802</td>\n",
       "      <td>0.104671</td>\n",
       "      <td>-0.003025</td>\n",
       "      <td>0.110374</td>\n",
       "      <td>1.000000</td>\n",
       "      <td>-0.032155</td>\n",
       "      <td>0.016847</td>\n",
       "      <td>-0.035959</td>\n",
       "      <td>-0.027887</td>\n",
       "    </tr>\n",
       "    <tr>\n",
       "      <th>timeOnIce</th>\n",
       "      <td>0.112091</td>\n",
       "      <td>-0.061166</td>\n",
       "      <td>-0.219767</td>\n",
       "      <td>-0.102416</td>\n",
       "      <td>-0.062207</td>\n",
       "      <td>0.006001</td>\n",
       "      <td>0.094385</td>\n",
       "      <td>-0.050998</td>\n",
       "      <td>0.071765</td>\n",
       "      <td>0.128556</td>\n",
       "      <td>0.098243</td>\n",
       "      <td>0.089359</td>\n",
       "      <td>0.085758</td>\n",
       "      <td>-0.138438</td>\n",
       "      <td>0.094926</td>\n",
       "      <td>-0.032155</td>\n",
       "      <td>1.000000</td>\n",
       "      <td>0.609689</td>\n",
       "      <td>-0.244028</td>\n",
       "      <td>-0.056308</td>\n",
       "    </tr>\n",
       "    <tr>\n",
       "      <th>evenTimeOnIce</th>\n",
       "      <td>0.377174</td>\n",
       "      <td>-0.014458</td>\n",
       "      <td>-0.473268</td>\n",
       "      <td>-0.699932</td>\n",
       "      <td>-0.211148</td>\n",
       "      <td>-0.000322</td>\n",
       "      <td>0.309062</td>\n",
       "      <td>0.026876</td>\n",
       "      <td>0.259931</td>\n",
       "      <td>0.329618</td>\n",
       "      <td>0.295579</td>\n",
       "      <td>0.269123</td>\n",
       "      <td>0.276479</td>\n",
       "      <td>-0.321689</td>\n",
       "      <td>0.313606</td>\n",
       "      <td>0.016847</td>\n",
       "      <td>0.609689</td>\n",
       "      <td>1.000000</td>\n",
       "      <td>-0.704323</td>\n",
       "      <td>-0.704359</td>\n",
       "    </tr>\n",
       "    <tr>\n",
       "      <th>shortHandedTimeOnIce</th>\n",
       "      <td>-0.319603</td>\n",
       "      <td>0.027570</td>\n",
       "      <td>0.531016</td>\n",
       "      <td>0.291013</td>\n",
       "      <td>0.141829</td>\n",
       "      <td>-0.031744</td>\n",
       "      <td>-0.288510</td>\n",
       "      <td>-0.018791</td>\n",
       "      <td>-0.220695</td>\n",
       "      <td>-0.258975</td>\n",
       "      <td>-0.221926</td>\n",
       "      <td>-0.235979</td>\n",
       "      <td>-0.255810</td>\n",
       "      <td>0.394439</td>\n",
       "      <td>-0.267448</td>\n",
       "      <td>-0.035959</td>\n",
       "      <td>-0.244028</td>\n",
       "      <td>-0.704323</td>\n",
       "      <td>1.000000</td>\n",
       "      <td>0.250102</td>\n",
       "    </tr>\n",
       "    <tr>\n",
       "      <th>powerPlayTimeOnIce</th>\n",
       "      <td>-0.320469</td>\n",
       "      <td>-0.046924</td>\n",
       "      <td>0.233581</td>\n",
       "      <td>0.921583</td>\n",
       "      <td>0.209274</td>\n",
       "      <td>0.032160</td>\n",
       "      <td>-0.239397</td>\n",
       "      <td>-0.074814</td>\n",
       "      <td>-0.225042</td>\n",
       "      <td>-0.270850</td>\n",
       "      <td>-0.265153</td>\n",
       "      <td>-0.214611</td>\n",
       "      <td>-0.214873</td>\n",
       "      <td>0.141274</td>\n",
       "      <td>-0.263676</td>\n",
       "      <td>-0.027887</td>\n",
       "      <td>-0.056308</td>\n",
       "      <td>-0.704359</td>\n",
       "      <td>0.250102</td>\n",
       "      <td>1.000000</td>\n",
       "    </tr>\n",
       "  </tbody>\n",
       "</table>\n",
       "</div>"
      ],
      "text/plain": [
       "                         game_id       won       pim  powerPlayOpportunities  \\\n",
       "game_id                 1.000000  0.035644 -0.282438               -0.344464   \n",
       "won                     0.035644  1.000000 -0.040227                0.014062   \n",
       "pim                    -0.282438 -0.040227  1.000000                0.290553   \n",
       "powerPlayOpportunities -0.344464  0.014062  0.290553                1.000000   \n",
       "powerPlayGoals         -0.092177  0.240841  0.125405                0.416509   \n",
       "faceOffWinPercentage   -0.001894  0.030458 -0.008734                0.045235   \n",
       "Shots                   0.789341  0.029922 -0.241420               -0.263063   \n",
       "Goals                   0.196113  0.267319 -0.021400               -0.021325   \n",
       "Takeaways               0.619095  0.033402 -0.196892               -0.237199   \n",
       "Hits                    0.748870  0.007485 -0.206042               -0.290760   \n",
       "Blocked Shots           0.720520  0.017686 -0.203386               -0.281181   \n",
       "Giveaways               0.656967  0.018816 -0.206228               -0.233411   \n",
       "Missed Shots            0.695786  0.025583 -0.213437               -0.236607   \n",
       "Penalties              -0.026590 -0.021170  0.394495                0.180387   \n",
       "#Won Faceoffs           0.819437  0.029584 -0.226532               -0.279389   \n",
       "team_id                 0.121623 -0.000703 -0.043878               -0.031550   \n",
       "timeOnIce               0.112091 -0.061166 -0.219767               -0.102416   \n",
       "evenTimeOnIce           0.377174 -0.014458 -0.473268               -0.699932   \n",
       "shortHandedTimeOnIce   -0.319603  0.027570  0.531016                0.291013   \n",
       "powerPlayTimeOnIce     -0.320469 -0.046924  0.233581                0.921583   \n",
       "\n",
       "                        powerPlayGoals  faceOffWinPercentage     Shots  \\\n",
       "game_id                      -0.092177             -0.001894  0.789341   \n",
       "won                           0.240841              0.030458  0.029922   \n",
       "pim                           0.125405             -0.008734 -0.241420   \n",
       "powerPlayOpportunities        0.416509              0.045235 -0.263063   \n",
       "powerPlayGoals                1.000000              0.024805 -0.073169   \n",
       "faceOffWinPercentage          0.024805              1.000000  0.056749   \n",
       "Shots                        -0.073169              0.056749  1.000000   \n",
       "Goals                         0.207833             -0.002061  0.229203   \n",
       "Takeaways                    -0.062641              0.028990  0.635037   \n",
       "Hits                         -0.089320              0.003427  0.733889   \n",
       "Blocked Shots                -0.078443             -0.043485  0.672977   \n",
       "Giveaways                    -0.066697              0.044582  0.652551   \n",
       "Missed Shots                 -0.073773              0.054245  0.728890   \n",
       "Penalties                     0.080296             -0.012978  0.005041   \n",
       "#Won Faceoffs                -0.063443              0.278906  0.841162   \n",
       "team_id                      -0.014150              0.011705  0.105719   \n",
       "timeOnIce                    -0.062207              0.006001  0.094385   \n",
       "evenTimeOnIce                -0.211148             -0.000322  0.309062   \n",
       "shortHandedTimeOnIce          0.141829             -0.031744 -0.288510   \n",
       "powerPlayTimeOnIce            0.209274              0.032160 -0.239397   \n",
       "\n",
       "                           Goals  Takeaways      Hits  Blocked Shots  \\\n",
       "game_id                 0.196113   0.619095  0.748870       0.720520   \n",
       "won                     0.267319   0.033402  0.007485       0.017686   \n",
       "pim                    -0.021400  -0.196892 -0.206042      -0.203386   \n",
       "powerPlayOpportunities -0.021325  -0.237199 -0.290760      -0.281181   \n",
       "powerPlayGoals          0.207833  -0.062641 -0.089320      -0.078443   \n",
       "faceOffWinPercentage   -0.002061   0.028990  0.003427      -0.043485   \n",
       "Shots                   0.229203   0.635037  0.733889       0.672977   \n",
       "Goals                   1.000000   0.213079  0.184680       0.202165   \n",
       "Takeaways               0.213079   1.000000  0.588349       0.557075   \n",
       "Hits                    0.184680   0.588349  1.000000       0.703145   \n",
       "Blocked Shots           0.202165   0.557075  0.703145       1.000000   \n",
       "Giveaways               0.201851   0.567010  0.650616       0.624766   \n",
       "Missed Shots            0.187022   0.559351  0.641033       0.583193   \n",
       "Penalties               0.065262   0.025349  0.023764       0.074480   \n",
       "#Won Faceoffs           0.280259   0.642733  0.765339       0.724801   \n",
       "team_id                 0.035985   0.091135  0.097920       0.100598   \n",
       "timeOnIce              -0.050998   0.071765  0.128556       0.098243   \n",
       "evenTimeOnIce           0.026876   0.259931  0.329618       0.295579   \n",
       "shortHandedTimeOnIce   -0.018791  -0.220695 -0.258975      -0.221926   \n",
       "powerPlayTimeOnIce     -0.074814  -0.225042 -0.270850      -0.265153   \n",
       "\n",
       "                        Giveaways  Missed Shots  Penalties  #Won Faceoffs  \\\n",
       "game_id                  0.656967      0.695786  -0.026590       0.819437   \n",
       "won                      0.018816      0.025583  -0.021170       0.029584   \n",
       "pim                     -0.206228     -0.213437   0.394495      -0.226532   \n",
       "powerPlayOpportunities  -0.233411     -0.236607   0.180387      -0.279389   \n",
       "powerPlayGoals          -0.066697     -0.073773   0.080296      -0.063443   \n",
       "faceOffWinPercentage     0.044582      0.054245  -0.012978       0.278906   \n",
       "Shots                    0.652551      0.728890   0.005041       0.841162   \n",
       "Goals                    0.201851      0.187022   0.065262       0.280259   \n",
       "Takeaways                0.567010      0.559351   0.025349       0.642733   \n",
       "Hits                     0.650616      0.641033   0.023764       0.765339   \n",
       "Blocked Shots            0.624766      0.583193   0.074480       0.724801   \n",
       "Giveaways                1.000000      0.583718   0.021951       0.688152   \n",
       "Missed Shots             0.583718      1.000000  -0.012295       0.723686   \n",
       "Penalties                0.021951     -0.012295   1.000000       0.064321   \n",
       "#Won Faceoffs            0.688152      0.723686   0.064321       1.000000   \n",
       "team_id                  0.061802      0.104671  -0.003025       0.110374   \n",
       "timeOnIce                0.089359      0.085758  -0.138438       0.094926   \n",
       "evenTimeOnIce            0.269123      0.276479  -0.321689       0.313606   \n",
       "shortHandedTimeOnIce    -0.235979     -0.255810   0.394439      -0.267448   \n",
       "powerPlayTimeOnIce      -0.214611     -0.214873   0.141274      -0.263676   \n",
       "\n",
       "                         team_id  timeOnIce  evenTimeOnIce  \\\n",
       "game_id                 0.121623   0.112091       0.377174   \n",
       "won                    -0.000703  -0.061166      -0.014458   \n",
       "pim                    -0.043878  -0.219767      -0.473268   \n",
       "powerPlayOpportunities -0.031550  -0.102416      -0.699932   \n",
       "powerPlayGoals         -0.014150  -0.062207      -0.211148   \n",
       "faceOffWinPercentage    0.011705   0.006001      -0.000322   \n",
       "Shots                   0.105719   0.094385       0.309062   \n",
       "Goals                   0.035985  -0.050998       0.026876   \n",
       "Takeaways               0.091135   0.071765       0.259931   \n",
       "Hits                    0.097920   0.128556       0.329618   \n",
       "Blocked Shots           0.100598   0.098243       0.295579   \n",
       "Giveaways               0.061802   0.089359       0.269123   \n",
       "Missed Shots            0.104671   0.085758       0.276479   \n",
       "Penalties              -0.003025  -0.138438      -0.321689   \n",
       "#Won Faceoffs           0.110374   0.094926       0.313606   \n",
       "team_id                 1.000000  -0.032155       0.016847   \n",
       "timeOnIce              -0.032155   1.000000       0.609689   \n",
       "evenTimeOnIce           0.016847   0.609689       1.000000   \n",
       "shortHandedTimeOnIce   -0.035959  -0.244028      -0.704323   \n",
       "powerPlayTimeOnIce     -0.027887  -0.056308      -0.704359   \n",
       "\n",
       "                        shortHandedTimeOnIce  powerPlayTimeOnIce  \n",
       "game_id                            -0.319603           -0.320469  \n",
       "won                                 0.027570           -0.046924  \n",
       "pim                                 0.531016            0.233581  \n",
       "powerPlayOpportunities              0.291013            0.921583  \n",
       "powerPlayGoals                      0.141829            0.209274  \n",
       "faceOffWinPercentage               -0.031744            0.032160  \n",
       "Shots                              -0.288510           -0.239397  \n",
       "Goals                              -0.018791           -0.074814  \n",
       "Takeaways                          -0.220695           -0.225042  \n",
       "Hits                               -0.258975           -0.270850  \n",
       "Blocked Shots                      -0.221926           -0.265153  \n",
       "Giveaways                          -0.235979           -0.214611  \n",
       "Missed Shots                       -0.255810           -0.214873  \n",
       "Penalties                           0.394439            0.141274  \n",
       "#Won Faceoffs                      -0.267448           -0.263676  \n",
       "team_id                            -0.035959           -0.027887  \n",
       "timeOnIce                          -0.244028           -0.056308  \n",
       "evenTimeOnIce                      -0.704323           -0.704359  \n",
       "shortHandedTimeOnIce                1.000000            0.250102  \n",
       "powerPlayTimeOnIce                  0.250102            1.000000  "
      ]
     },
     "execution_count": 61,
     "metadata": {},
     "output_type": "execute_result"
    }
   ],
   "source": [
    "data.corr()"
   ]
  },
  {
   "cell_type": "markdown",
   "id": "9113d618",
   "metadata": {},
   "source": [
    "<b>Correlation Heatmap</b>"
   ]
  },
  {
   "cell_type": "code",
   "execution_count": 62,
   "id": "5055c3d9",
   "metadata": {},
   "outputs": [
    {
     "data": {
      "text/plain": [
       "<AxesSubplot:>"
      ]
     },
     "execution_count": 62,
     "metadata": {},
     "output_type": "execute_result"
    },
    {
     "data": {
      "image/png": "[encoded data removed]",
      "text/plain": [
       "<Figure size 1008x576 with 2 Axes>"
      ]
     },
     "metadata": {
      "needs_background": "light"
     },
     "output_type": "display_data"
    }
   ],
   "source": [
    "plt.figure(figsize=(14,8))\n",
    "sns.heatmap(data.corr())"
   ]
  },
  {
   "cell_type": "markdown",
   "id": "8a6fc416",
   "metadata": {},
   "source": [
    "<b>Rename some variables to keep naming conventions consistent<b/>"
   ]
  },
  {
   "cell_type": "code",
   "execution_count": 63,
   "id": "50fae73f",
   "metadata": {},
   "outputs": [],
   "source": [
    "data = data.rename(columns={\"game_id\": \"gameID\",\"HoA\":\"hoa\",\"settled_in\":\"settledIn\",\"head_coach\":\"headCoach\",\n",
    "                            \"Shots\":\"shots\",\"Goals\":\"goals\",\"Takeaways\":\"takeaways\",\"Hits\":\"hits\",\n",
    "                             \"Blocked Shots\":\"blockedShots\",\"Giveaways\":\"giveaways\",\"Missed Shots\":\"missedShots\",\n",
    "                             \"#Won Faceoffs\":\"wonFaceoffs\",\"team_id\":\"teamID\",\n",
    "                             \"goalie_replacement\":\"goalieReplacement\",\"Penalties\":\"penalties\"})"
   ]
  },
  {
   "cell_type": "code",
   "execution_count": 64,
   "id": "47d85cd1",
   "metadata": {},
   "outputs": [
    {
     "name": "stdout",
     "output_type": "stream",
     "text": [
      "<class 'pandas.core.frame.DataFrame'>\n",
      "RangeIndex: 52610 entries, 0 to 52609\n",
      "Data columns (total 25 columns):\n",
      " #   Column                  Non-Null Count  Dtype  \n",
      "---  ------                  --------------  -----  \n",
      " 0   gameID                  52610 non-null  int64  \n",
      " 1   hoa                     52610 non-null  object \n",
      " 2   won                     52610 non-null  bool   \n",
      " 3   settledIn               52610 non-null  object \n",
      " 4   headCoach               52582 non-null  object \n",
      " 5   pim                     52602 non-null  float64\n",
      " 6   powerPlayOpportunities  52602 non-null  float64\n",
      " 7   powerPlayGoals          52602 non-null  float64\n",
      " 8   faceOffWinPercentage    30462 non-null  float64\n",
      " 9   startRinkSide           50218 non-null  object \n",
      " 10  shots                   52610 non-null  float64\n",
      " 11  goals                   52610 non-null  float64\n",
      " 12  takeaways               52610 non-null  float64\n",
      " 13  hits                    52610 non-null  float64\n",
      " 14  blockedShots            52610 non-null  float64\n",
      " 15  giveaways               52610 non-null  float64\n",
      " 16  missedShots             52610 non-null  float64\n",
      " 17  penalties               52610 non-null  float64\n",
      " 18  wonFaceoffs             52610 non-null  float64\n",
      " 19  teamID                  52582 non-null  float64\n",
      " 20  timeOnIce               52582 non-null  float64\n",
      " 21  evenTimeOnIce           52582 non-null  float64\n",
      " 22  shortHandedTimeOnIce    52582 non-null  float64\n",
      " 23  powerPlayTimeOnIce      52582 non-null  float64\n",
      " 24  goalieReplacement       52575 non-null  object \n",
      "dtypes: bool(1), float64(18), int64(1), object(5)\n",
      "memory usage: 9.7+ MB\n"
     ]
    }
   ],
   "source": [
    "data.info()"
   ]
  }
 ],
 "metadata": {
  "kernelspec": {
   "display_name": "Python 3",
   "language": "python",
   "name": "python3"
  },
  "language_info": {
   "codemirror_mode": {
    "name": "ipython",
    "version": 3
   },
   "file_extension": ".py",
   "mimetype": "text/x-python",
   "name": "python",
   "nbconvert_exporter": "python",
   "pygments_lexer": "ipython3",
   "version": "3.8.10"
  }
 },
 "nbformat": 4,
 "nbformat_minor": 5
}
