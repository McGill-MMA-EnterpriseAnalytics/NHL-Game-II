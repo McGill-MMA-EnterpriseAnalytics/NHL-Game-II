{
 "cells": [
  {
   "cell_type": "markdown",
   "id": "d02d1f32",
   "metadata": {},
   "source": [
    "# INSY695 Group Project"
   ]
  },
  {
   "cell_type": "markdown",
   "id": "1a784a77",
   "metadata": {},
   "source": [
    "## Step 2: Data Exploration\n",
    "\n",
    "After aggregating all the datasets, we then start exploring the data."
   ]
  },
  {
   "cell_type": "markdown",
   "id": "0c647696",
   "metadata": {},
   "source": [
    "## 2.1 <b>Import Dataset</b>"
   ]
  },
  {
   "cell_type": "code",
   "execution_count": 1,
   "id": "148d6d0a",
   "metadata": {},
   "outputs": [],
   "source": [
    "import pandas as pd\n",
    "data = pd.read_csv(\"/Users/kex/Desktop/Winter 2022/INSY 695 Advanced Topics in Information System/Group Project/combined_data.csv\")"
   ]
  },
  {
   "cell_type": "markdown",
   "id": "ad38b9a4",
   "metadata": {},
   "source": [
    "## 2.2 <b>Check How Data Look Like</b>"
   ]
  },
  {
   "cell_type": "code",
   "execution_count": 30,
   "id": "7fe3bf1b",
   "metadata": {},
   "outputs": [
    {
     "data": {
      "text/plain": [
       "(52610, 29)"
      ]
     },
     "execution_count": 30,
     "metadata": {},
     "output_type": "execute_result"
    }
   ],
   "source": [
    "data.shape # 52610 rows, 29 columns"
   ]
  },
  {
   "cell_type": "code",
   "execution_count": 2,
   "id": "66a6e56e",
   "metadata": {},
   "outputs": [
    {
     "data": {
      "text/html": [
       "<div>\n",
       "<style scoped>\n",
       "    .dataframe tbody tr th:only-of-type {\n",
       "        vertical-align: middle;\n",
       "    }\n",
       "\n",
       "    .dataframe tbody tr th {\n",
       "        vertical-align: top;\n",
       "    }\n",
       "\n",
       "    .dataframe thead th {\n",
       "        text-align: right;\n",
       "    }\n",
       "</style>\n",
       "<table border=\"1\" class=\"dataframe\">\n",
       "  <thead>\n",
       "    <tr style=\"text-align: right;\">\n",
       "      <th></th>\n",
       "      <th>Unnamed: 0</th>\n",
       "      <th>game_id</th>\n",
       "      <th>team_id</th>\n",
       "      <th>HoA</th>\n",
       "      <th>won</th>\n",
       "      <th>settled_in</th>\n",
       "      <th>head_coach</th>\n",
       "      <th>goals</th>\n",
       "      <th>shots</th>\n",
       "      <th>hits</th>\n",
       "      <th>...</th>\n",
       "      <th>home_rink_side_start</th>\n",
       "      <th>venue</th>\n",
       "      <th>venue_time_zone_id</th>\n",
       "      <th>venue_time_zone_offset</th>\n",
       "      <th>venue_time_zone_tz</th>\n",
       "      <th>timeOnIce</th>\n",
       "      <th>evenTimeOnIce</th>\n",
       "      <th>shortHandedTimeOnIce</th>\n",
       "      <th>powerPlayTimeOnIce</th>\n",
       "      <th>goalie_replacement</th>\n",
       "    </tr>\n",
       "  </thead>\n",
       "  <tbody>\n",
       "    <tr>\n",
       "      <th>0</th>\n",
       "      <td>0</td>\n",
       "      <td>2016020045</td>\n",
       "      <td>4</td>\n",
       "      <td>away</td>\n",
       "      <td>False</td>\n",
       "      <td>REG</td>\n",
       "      <td>Dave Hakstol</td>\n",
       "      <td>4.0</td>\n",
       "      <td>27.0</td>\n",
       "      <td>30.0</td>\n",
       "      <td>...</td>\n",
       "      <td>right</td>\n",
       "      <td>United Center</td>\n",
       "      <td>America/Chicago</td>\n",
       "      <td>-5</td>\n",
       "      <td>CDT</td>\n",
       "      <td>990.833333</td>\n",
       "      <td>841.388889</td>\n",
       "      <td>55.555556</td>\n",
       "      <td>93.888889</td>\n",
       "      <td>Yes</td>\n",
       "    </tr>\n",
       "    <tr>\n",
       "      <th>1</th>\n",
       "      <td>1</td>\n",
       "      <td>2016020045</td>\n",
       "      <td>16</td>\n",
       "      <td>home</td>\n",
       "      <td>True</td>\n",
       "      <td>REG</td>\n",
       "      <td>Joel Quenneville</td>\n",
       "      <td>7.0</td>\n",
       "      <td>28.0</td>\n",
       "      <td>20.0</td>\n",
       "      <td>...</td>\n",
       "      <td>right</td>\n",
       "      <td>United Center</td>\n",
       "      <td>America/Chicago</td>\n",
       "      <td>-5</td>\n",
       "      <td>CDT</td>\n",
       "      <td>981.333333</td>\n",
       "      <td>836.777778</td>\n",
       "      <td>75.111111</td>\n",
       "      <td>69.444444</td>\n",
       "      <td>No</td>\n",
       "    </tr>\n",
       "    <tr>\n",
       "      <th>2</th>\n",
       "      <td>2</td>\n",
       "      <td>2017020812</td>\n",
       "      <td>24</td>\n",
       "      <td>away</td>\n",
       "      <td>True</td>\n",
       "      <td>OT</td>\n",
       "      <td>Randy Carlyle</td>\n",
       "      <td>4.0</td>\n",
       "      <td>34.0</td>\n",
       "      <td>16.0</td>\n",
       "      <td>...</td>\n",
       "      <td>left</td>\n",
       "      <td>KeyBank Center</td>\n",
       "      <td>America/New_York</td>\n",
       "      <td>-4</td>\n",
       "      <td>EDT</td>\n",
       "      <td>1002.222222</td>\n",
       "      <td>879.611111</td>\n",
       "      <td>28.444444</td>\n",
       "      <td>94.166667</td>\n",
       "      <td>No</td>\n",
       "    </tr>\n",
       "    <tr>\n",
       "      <th>3</th>\n",
       "      <td>3</td>\n",
       "      <td>2017020812</td>\n",
       "      <td>7</td>\n",
       "      <td>home</td>\n",
       "      <td>False</td>\n",
       "      <td>OT</td>\n",
       "      <td>Phil Housley</td>\n",
       "      <td>3.0</td>\n",
       "      <td>33.0</td>\n",
       "      <td>17.0</td>\n",
       "      <td>...</td>\n",
       "      <td>left</td>\n",
       "      <td>KeyBank Center</td>\n",
       "      <td>America/New_York</td>\n",
       "      <td>-4</td>\n",
       "      <td>EDT</td>\n",
       "      <td>999.222222</td>\n",
       "      <td>888.333333</td>\n",
       "      <td>75.333333</td>\n",
       "      <td>35.555556</td>\n",
       "      <td>No</td>\n",
       "    </tr>\n",
       "    <tr>\n",
       "      <th>4</th>\n",
       "      <td>4</td>\n",
       "      <td>2015020314</td>\n",
       "      <td>21</td>\n",
       "      <td>away</td>\n",
       "      <td>True</td>\n",
       "      <td>REG</td>\n",
       "      <td>Patrick Roy</td>\n",
       "      <td>4.0</td>\n",
       "      <td>29.0</td>\n",
       "      <td>17.0</td>\n",
       "      <td>...</td>\n",
       "      <td>right</td>\n",
       "      <td>MTS Centre</td>\n",
       "      <td>America/Winnipeg</td>\n",
       "      <td>-5</td>\n",
       "      <td>CDT</td>\n",
       "      <td>986.666667</td>\n",
       "      <td>844.722222</td>\n",
       "      <td>53.333333</td>\n",
       "      <td>88.611111</td>\n",
       "      <td>No</td>\n",
       "    </tr>\n",
       "  </tbody>\n",
       "</table>\n",
       "<p>5 rows × 30 columns</p>\n",
       "</div>"
      ],
      "text/plain": [
       "   Unnamed: 0     game_id  team_id   HoA    won settled_in        head_coach  \\\n",
       "0           0  2016020045        4  away  False        REG      Dave Hakstol   \n",
       "1           1  2016020045       16  home   True        REG  Joel Quenneville   \n",
       "2           2  2017020812       24  away   True         OT     Randy Carlyle   \n",
       "3           3  2017020812        7  home  False         OT      Phil Housley   \n",
       "4           4  2015020314       21  away   True        REG       Patrick Roy   \n",
       "\n",
       "   goals  shots  hits  ...  home_rink_side_start           venue  \\\n",
       "0    4.0   27.0  30.0  ...                 right   United Center   \n",
       "1    7.0   28.0  20.0  ...                 right   United Center   \n",
       "2    4.0   34.0  16.0  ...                  left  KeyBank Center   \n",
       "3    3.0   33.0  17.0  ...                  left  KeyBank Center   \n",
       "4    4.0   29.0  17.0  ...                 right      MTS Centre   \n",
       "\n",
       "   venue_time_zone_id  venue_time_zone_offset  venue_time_zone_tz  \\\n",
       "0     America/Chicago                      -5                 CDT   \n",
       "1     America/Chicago                      -5                 CDT   \n",
       "2    America/New_York                      -4                 EDT   \n",
       "3    America/New_York                      -4                 EDT   \n",
       "4    America/Winnipeg                      -5                 CDT   \n",
       "\n",
       "     timeOnIce  evenTimeOnIce shortHandedTimeOnIce powerPlayTimeOnIce  \\\n",
       "0   990.833333     841.388889            55.555556          93.888889   \n",
       "1   981.333333     836.777778            75.111111          69.444444   \n",
       "2  1002.222222     879.611111            28.444444          94.166667   \n",
       "3   999.222222     888.333333            75.333333          35.555556   \n",
       "4   986.666667     844.722222            53.333333          88.611111   \n",
       "\n",
       "  goalie_replacement  \n",
       "0                Yes  \n",
       "1                 No  \n",
       "2                 No  \n",
       "3                 No  \n",
       "4                 No  \n",
       "\n",
       "[5 rows x 30 columns]"
      ]
     },
     "execution_count": 2,
     "metadata": {},
     "output_type": "execute_result"
    }
   ],
   "source": [
    "data.head()"
   ]
  },
  {
   "cell_type": "markdown",
   "id": "01fa2688",
   "metadata": {},
   "source": [
    "## 2.3 Check Missing Values"
   ]
  },
  {
   "cell_type": "code",
   "execution_count": 67,
   "id": "4a21245e",
   "metadata": {
    "scrolled": true
   },
   "outputs": [
    {
     "data": {
      "text/plain": [
       "game_id                       0\n",
       "team_id                       0\n",
       "HoA                           0\n",
       "won                           0\n",
       "settled_in                    0\n",
       "head_coach                   28\n",
       "goals                         8\n",
       "shots                         8\n",
       "hits                       4928\n",
       "pim                           8\n",
       "powerPlayOpportunities        8\n",
       "powerPlayGoals                8\n",
       "faceOffWinPercentage      22148\n",
       "giveaways                  4928\n",
       "takeaways                  4928\n",
       "blocked                    4928\n",
       "startRinkSide              2392\n",
       "type                          0\n",
       "date_time_GMT                 0\n",
       "home_rink_side_start       2392\n",
       "venue                         0\n",
       "venue_time_zone_id            0\n",
       "venue_time_zone_offset        0\n",
       "venue_time_zone_tz            0\n",
       "timeOnIce                    28\n",
       "evenTimeOnIce                28\n",
       "shortHandedTimeOnIce         28\n",
       "powerPlayTimeOnIce           28\n",
       "goalie_replacement           35\n",
       "year                          0\n",
       "month                         0\n",
       "dtype: int64"
      ]
     },
     "execution_count": 67,
     "metadata": {},
     "output_type": "execute_result"
    }
   ],
   "source": [
    "data.isnull().sum()"
   ]
  },
  {
   "cell_type": "markdown",
   "id": "75abaea4",
   "metadata": {},
   "source": [
    "## 2.4 <b>Remove Irrelevant Column</b>"
   ]
  },
  {
   "cell_type": "code",
   "execution_count": 3,
   "id": "f60930b5",
   "metadata": {},
   "outputs": [],
   "source": [
    "data = data.drop(columns='Unnamed: 0')"
   ]
  },
  {
   "cell_type": "code",
   "execution_count": 4,
   "id": "49f0bca4",
   "metadata": {},
   "outputs": [
    {
     "data": {
      "text/html": [
       "<div>\n",
       "<style scoped>\n",
       "    .dataframe tbody tr th:only-of-type {\n",
       "        vertical-align: middle;\n",
       "    }\n",
       "\n",
       "    .dataframe tbody tr th {\n",
       "        vertical-align: top;\n",
       "    }\n",
       "\n",
       "    .dataframe thead th {\n",
       "        text-align: right;\n",
       "    }\n",
       "</style>\n",
       "<table border=\"1\" class=\"dataframe\">\n",
       "  <thead>\n",
       "    <tr style=\"text-align: right;\">\n",
       "      <th></th>\n",
       "      <th>game_id</th>\n",
       "      <th>team_id</th>\n",
       "      <th>HoA</th>\n",
       "      <th>won</th>\n",
       "      <th>settled_in</th>\n",
       "      <th>head_coach</th>\n",
       "      <th>goals</th>\n",
       "      <th>shots</th>\n",
       "      <th>hits</th>\n",
       "      <th>pim</th>\n",
       "      <th>...</th>\n",
       "      <th>home_rink_side_start</th>\n",
       "      <th>venue</th>\n",
       "      <th>venue_time_zone_id</th>\n",
       "      <th>venue_time_zone_offset</th>\n",
       "      <th>venue_time_zone_tz</th>\n",
       "      <th>timeOnIce</th>\n",
       "      <th>evenTimeOnIce</th>\n",
       "      <th>shortHandedTimeOnIce</th>\n",
       "      <th>powerPlayTimeOnIce</th>\n",
       "      <th>goalie_replacement</th>\n",
       "    </tr>\n",
       "  </thead>\n",
       "  <tbody>\n",
       "    <tr>\n",
       "      <th>0</th>\n",
       "      <td>2016020045</td>\n",
       "      <td>4</td>\n",
       "      <td>away</td>\n",
       "      <td>False</td>\n",
       "      <td>REG</td>\n",
       "      <td>Dave Hakstol</td>\n",
       "      <td>4.0</td>\n",
       "      <td>27.0</td>\n",
       "      <td>30.0</td>\n",
       "      <td>6.0</td>\n",
       "      <td>...</td>\n",
       "      <td>right</td>\n",
       "      <td>United Center</td>\n",
       "      <td>America/Chicago</td>\n",
       "      <td>-5</td>\n",
       "      <td>CDT</td>\n",
       "      <td>990.833333</td>\n",
       "      <td>841.388889</td>\n",
       "      <td>55.555556</td>\n",
       "      <td>93.888889</td>\n",
       "      <td>Yes</td>\n",
       "    </tr>\n",
       "    <tr>\n",
       "      <th>1</th>\n",
       "      <td>2016020045</td>\n",
       "      <td>16</td>\n",
       "      <td>home</td>\n",
       "      <td>True</td>\n",
       "      <td>REG</td>\n",
       "      <td>Joel Quenneville</td>\n",
       "      <td>7.0</td>\n",
       "      <td>28.0</td>\n",
       "      <td>20.0</td>\n",
       "      <td>8.0</td>\n",
       "      <td>...</td>\n",
       "      <td>right</td>\n",
       "      <td>United Center</td>\n",
       "      <td>America/Chicago</td>\n",
       "      <td>-5</td>\n",
       "      <td>CDT</td>\n",
       "      <td>981.333333</td>\n",
       "      <td>836.777778</td>\n",
       "      <td>75.111111</td>\n",
       "      <td>69.444444</td>\n",
       "      <td>No</td>\n",
       "    </tr>\n",
       "    <tr>\n",
       "      <th>2</th>\n",
       "      <td>2017020812</td>\n",
       "      <td>24</td>\n",
       "      <td>away</td>\n",
       "      <td>True</td>\n",
       "      <td>OT</td>\n",
       "      <td>Randy Carlyle</td>\n",
       "      <td>4.0</td>\n",
       "      <td>34.0</td>\n",
       "      <td>16.0</td>\n",
       "      <td>6.0</td>\n",
       "      <td>...</td>\n",
       "      <td>left</td>\n",
       "      <td>KeyBank Center</td>\n",
       "      <td>America/New_York</td>\n",
       "      <td>-4</td>\n",
       "      <td>EDT</td>\n",
       "      <td>1002.222222</td>\n",
       "      <td>879.611111</td>\n",
       "      <td>28.444444</td>\n",
       "      <td>94.166667</td>\n",
       "      <td>No</td>\n",
       "    </tr>\n",
       "    <tr>\n",
       "      <th>3</th>\n",
       "      <td>2017020812</td>\n",
       "      <td>7</td>\n",
       "      <td>home</td>\n",
       "      <td>False</td>\n",
       "      <td>OT</td>\n",
       "      <td>Phil Housley</td>\n",
       "      <td>3.0</td>\n",
       "      <td>33.0</td>\n",
       "      <td>17.0</td>\n",
       "      <td>8.0</td>\n",
       "      <td>...</td>\n",
       "      <td>left</td>\n",
       "      <td>KeyBank Center</td>\n",
       "      <td>America/New_York</td>\n",
       "      <td>-4</td>\n",
       "      <td>EDT</td>\n",
       "      <td>999.222222</td>\n",
       "      <td>888.333333</td>\n",
       "      <td>75.333333</td>\n",
       "      <td>35.555556</td>\n",
       "      <td>No</td>\n",
       "    </tr>\n",
       "    <tr>\n",
       "      <th>4</th>\n",
       "      <td>2015020314</td>\n",
       "      <td>21</td>\n",
       "      <td>away</td>\n",
       "      <td>True</td>\n",
       "      <td>REG</td>\n",
       "      <td>Patrick Roy</td>\n",
       "      <td>4.0</td>\n",
       "      <td>29.0</td>\n",
       "      <td>17.0</td>\n",
       "      <td>9.0</td>\n",
       "      <td>...</td>\n",
       "      <td>right</td>\n",
       "      <td>MTS Centre</td>\n",
       "      <td>America/Winnipeg</td>\n",
       "      <td>-5</td>\n",
       "      <td>CDT</td>\n",
       "      <td>986.666667</td>\n",
       "      <td>844.722222</td>\n",
       "      <td>53.333333</td>\n",
       "      <td>88.611111</td>\n",
       "      <td>No</td>\n",
       "    </tr>\n",
       "  </tbody>\n",
       "</table>\n",
       "<p>5 rows × 29 columns</p>\n",
       "</div>"
      ],
      "text/plain": [
       "      game_id  team_id   HoA    won settled_in        head_coach  goals  \\\n",
       "0  2016020045        4  away  False        REG      Dave Hakstol    4.0   \n",
       "1  2016020045       16  home   True        REG  Joel Quenneville    7.0   \n",
       "2  2017020812       24  away   True         OT     Randy Carlyle    4.0   \n",
       "3  2017020812        7  home  False         OT      Phil Housley    3.0   \n",
       "4  2015020314       21  away   True        REG       Patrick Roy    4.0   \n",
       "\n",
       "   shots  hits  pim  ...  home_rink_side_start           venue  \\\n",
       "0   27.0  30.0  6.0  ...                 right   United Center   \n",
       "1   28.0  20.0  8.0  ...                 right   United Center   \n",
       "2   34.0  16.0  6.0  ...                  left  KeyBank Center   \n",
       "3   33.0  17.0  8.0  ...                  left  KeyBank Center   \n",
       "4   29.0  17.0  9.0  ...                 right      MTS Centre   \n",
       "\n",
       "   venue_time_zone_id  venue_time_zone_offset  venue_time_zone_tz  \\\n",
       "0     America/Chicago                      -5                 CDT   \n",
       "1     America/Chicago                      -5                 CDT   \n",
       "2    America/New_York                      -4                 EDT   \n",
       "3    America/New_York                      -4                 EDT   \n",
       "4    America/Winnipeg                      -5                 CDT   \n",
       "\n",
       "     timeOnIce evenTimeOnIce shortHandedTimeOnIce powerPlayTimeOnIce  \\\n",
       "0   990.833333    841.388889            55.555556          93.888889   \n",
       "1   981.333333    836.777778            75.111111          69.444444   \n",
       "2  1002.222222    879.611111            28.444444          94.166667   \n",
       "3   999.222222    888.333333            75.333333          35.555556   \n",
       "4   986.666667    844.722222            53.333333          88.611111   \n",
       "\n",
       "  goalie_replacement  \n",
       "0                Yes  \n",
       "1                 No  \n",
       "2                 No  \n",
       "3                 No  \n",
       "4                 No  \n",
       "\n",
       "[5 rows x 29 columns]"
      ]
     },
     "execution_count": 4,
     "metadata": {},
     "output_type": "execute_result"
    }
   ],
   "source": [
    "data.head()"
   ]
  },
  {
   "cell_type": "markdown",
   "id": "0a45ea04",
   "metadata": {},
   "source": [
    "## 2.5 <b>Check Variable Types</b>"
   ]
  },
  {
   "cell_type": "code",
   "execution_count": 5,
   "id": "afa84d44",
   "metadata": {
    "scrolled": true
   },
   "outputs": [
    {
     "name": "stdout",
     "output_type": "stream",
     "text": [
      "<class 'pandas.core.frame.DataFrame'>\n",
      "RangeIndex: 52610 entries, 0 to 52609\n",
      "Data columns (total 29 columns):\n",
      " #   Column                  Non-Null Count  Dtype  \n",
      "---  ------                  --------------  -----  \n",
      " 0   game_id                 52610 non-null  int64  \n",
      " 1   team_id                 52610 non-null  int64  \n",
      " 2   HoA                     52610 non-null  object \n",
      " 3   won                     52610 non-null  bool   \n",
      " 4   settled_in              52610 non-null  object \n",
      " 5   head_coach              52582 non-null  object \n",
      " 6   goals                   52602 non-null  float64\n",
      " 7   shots                   52602 non-null  float64\n",
      " 8   hits                    47682 non-null  float64\n",
      " 9   pim                     52602 non-null  float64\n",
      " 10  powerPlayOpportunities  52602 non-null  float64\n",
      " 11  powerPlayGoals          52602 non-null  float64\n",
      " 12  faceOffWinPercentage    30462 non-null  float64\n",
      " 13  giveaways               47682 non-null  float64\n",
      " 14  takeaways               47682 non-null  float64\n",
      " 15  blocked                 47682 non-null  float64\n",
      " 16  startRinkSide           50218 non-null  object \n",
      " 17  type                    52610 non-null  object \n",
      " 18  date_time_GMT           52610 non-null  object \n",
      " 19  home_rink_side_start    50218 non-null  object \n",
      " 20  venue                   52610 non-null  object \n",
      " 21  venue_time_zone_id      52610 non-null  object \n",
      " 22  venue_time_zone_offset  52610 non-null  int64  \n",
      " 23  venue_time_zone_tz      52610 non-null  object \n",
      " 24  timeOnIce               52582 non-null  float64\n",
      " 25  evenTimeOnIce           52582 non-null  float64\n",
      " 26  shortHandedTimeOnIce    52582 non-null  float64\n",
      " 27  powerPlayTimeOnIce      52582 non-null  float64\n",
      " 28  goalie_replacement      52575 non-null  object \n",
      "dtypes: bool(1), float64(14), int64(3), object(11)\n",
      "memory usage: 11.3+ MB\n"
     ]
    }
   ],
   "source": [
    "data.info()"
   ]
  },
  {
   "cell_type": "markdown",
   "id": "07ab58e9",
   "metadata": {},
   "source": [
    "# 2.6 <b>Examine Data Distribution of Each Variable<b/>"
   ]
  },
  {
   "cell_type": "markdown",
   "id": "cc37c987",
   "metadata": {},
   "source": [
    "In this section, we use histograms to look at the distribution of numeric variables. For categorical variables, we count the frequency of each value."
   ]
  },
  {
   "cell_type": "code",
   "execution_count": 6,
   "id": "6371cc74",
   "metadata": {},
   "outputs": [
    {
     "data": {
      "text/plain": [
       "away    26305\n",
       "home    26305\n",
       "Name: HoA, dtype: int64"
      ]
     },
     "execution_count": 6,
     "metadata": {},
     "output_type": "execute_result"
    }
   ],
   "source": [
    "data[\"HoA\"].value_counts()"
   ]
  },
  {
   "cell_type": "code",
   "execution_count": 7,
   "id": "3cd612fb",
   "metadata": {},
   "outputs": [
    {
     "data": {
      "text/plain": [
       "False    26947\n",
       "True     25663\n",
       "Name: won, dtype: int64"
      ]
     },
     "execution_count": 7,
     "metadata": {},
     "output_type": "execute_result"
    }
   ],
   "source": [
    "data[\"won\"].value_counts()"
   ]
  },
  {
   "cell_type": "code",
   "execution_count": 10,
   "id": "6ccacc90",
   "metadata": {},
   "outputs": [
    {
     "data": {
      "text/plain": [
       "REG    40306\n",
       "OT     12256\n",
       "tbc       48\n",
       "Name: settled_in, dtype: int64"
      ]
     },
     "execution_count": 10,
     "metadata": {},
     "output_type": "execute_result"
    }
   ],
   "source": [
    "data[\"settled_in\"].value_counts()"
   ]
  },
  {
   "cell_type": "code",
   "execution_count": 9,
   "id": "b5c7c9d8",
   "metadata": {},
   "outputs": [
    {
     "data": {
      "text/plain": [
       "Barry Trotz         1804\n",
       "Joel Quenneville    1599\n",
       "John Tortorella     1563\n",
       "Claude Julien       1500\n",
       "Mike Babcock        1475\n",
       "                    ... \n",
       "Al Arbour              1\n",
       "Dan Lacroix            1\n",
       "Cap Raeder             1\n",
       "Terry O'Reilly         1\n",
       "Martin Raymond         1\n",
       "Name: head_coach, Length: 146, dtype: int64"
      ]
     },
     "execution_count": 9,
     "metadata": {},
     "output_type": "execute_result"
    }
   ],
   "source": [
    "data[\"head_coach\"].value_counts()"
   ]
  },
  {
   "cell_type": "code",
   "execution_count": 13,
   "id": "54b4357c",
   "metadata": {},
   "outputs": [
    {
     "data": {
      "text/plain": [
       "<AxesSubplot:>"
      ]
     },
     "execution_count": 13,
     "metadata": {},
     "output_type": "execute_result"
    },
    {
     "data": {
      "image/png": "[encoded data removed]",
      "text/plain": [
       "<Figure size 432x288 with 1 Axes>"
      ]
     },
     "metadata": {
      "needs_background": "light"
     },
     "output_type": "display_data"
    }
   ],
   "source": [
    "data[\"goals\"].hist()"
   ]
  },
  {
   "cell_type": "code",
   "execution_count": 14,
   "id": "8952b21e",
   "metadata": {},
   "outputs": [
    {
     "data": {
      "text/plain": [
       "<AxesSubplot:>"
      ]
     },
     "execution_count": 14,
     "metadata": {},
     "output_type": "execute_result"
    },
    {
     "data": {
      "image/png": "[encoded data removed]",
      "text/plain": [
       "<Figure size 432x288 with 1 Axes>"
      ]
     },
     "metadata": {
      "needs_background": "light"
     },
     "output_type": "display_data"
    }
   ],
   "source": [
    "data[\"shots\"].hist()"
   ]
  },
  {
   "cell_type": "code",
   "execution_count": 15,
   "id": "ce291bd8",
   "metadata": {},
   "outputs": [
    {
     "data": {
      "text/plain": [
       "<AxesSubplot:>"
      ]
     },
     "execution_count": 15,
     "metadata": {},
     "output_type": "execute_result"
    },
    {
     "data": {
      "image/png": "[encoded data removed]",
      "text/plain": [
       "<Figure size 432x288 with 1 Axes>"
      ]
     },
     "metadata": {
      "needs_background": "light"
     },
     "output_type": "display_data"
    }
   ],
   "source": [
    "data[\"hits\"].hist()"
   ]
  },
  {
   "cell_type": "code",
   "execution_count": 16,
   "id": "0a9753d1",
   "metadata": {},
   "outputs": [
    {
     "data": {
      "text/plain": [
       "<AxesSubplot:>"
      ]
     },
     "execution_count": 16,
     "metadata": {},
     "output_type": "execute_result"
    },
    {
     "data": {
      "image/png": "[encoded data removed]",
      "text/plain": [
       "<Figure size 432x288 with 1 Axes>"
      ]
     },
     "metadata": {
      "needs_background": "light"
     },
     "output_type": "display_data"
    }
   ],
   "source": [
    "data[\"pim\"].hist()"
   ]
  },
  {
   "cell_type": "code",
   "execution_count": 17,
   "id": "1e63c3c3",
   "metadata": {},
   "outputs": [
    {
     "data": {
      "text/plain": [
       "<AxesSubplot:>"
      ]
     },
     "execution_count": 17,
     "metadata": {},
     "output_type": "execute_result"
    },
    {
     "data": {
      "image/png": "[encoded data removed]",
      "text/plain": [
       "<Figure size 432x288 with 1 Axes>"
      ]
     },
     "metadata": {
      "needs_background": "light"
     },
     "output_type": "display_data"
    }
   ],
   "source": [
    "data[\"powerPlayOpportunities\"].hist()"
   ]
  },
  {
   "cell_type": "code",
   "execution_count": 18,
   "id": "fa74c16d",
   "metadata": {},
   "outputs": [
    {
     "data": {
      "text/plain": [
       "<AxesSubplot:>"
      ]
     },
     "execution_count": 18,
     "metadata": {},
     "output_type": "execute_result"
    },
    {
     "data": {
      "image/png": "[encoded data removed]",
      "text/plain": [
       "<Figure size 432x288 with 1 Axes>"
      ]
     },
     "metadata": {
      "needs_background": "light"
     },
     "output_type": "display_data"
    }
   ],
   "source": [
    "data[\"powerPlayGoals\"].hist()"
   ]
  },
  {
   "cell_type": "code",
   "execution_count": 19,
   "id": "5b37dfe6",
   "metadata": {},
   "outputs": [
    {
     "data": {
      "text/plain": [
       "<AxesSubplot:>"
      ]
     },
     "execution_count": 19,
     "metadata": {},
     "output_type": "execute_result"
    },
    {
     "data": {
      "image/png": "[encoded data removed]",
      "text/plain": [
       "<Figure size 432x288 with 1 Axes>"
      ]
     },
     "metadata": {
      "needs_background": "light"
     },
     "output_type": "display_data"
    }
   ],
   "source": [
    "data[\"faceOffWinPercentage\"].hist()"
   ]
  },
  {
   "cell_type": "code",
   "execution_count": 20,
   "id": "a8986859",
   "metadata": {},
   "outputs": [
    {
     "data": {
      "text/plain": [
       "<AxesSubplot:>"
      ]
     },
     "execution_count": 20,
     "metadata": {},
     "output_type": "execute_result"
    },
    {
     "data": {
      "image/png": "[encoded data removed]",
      "text/plain": [
       "<Figure size 432x288 with 1 Axes>"
      ]
     },
     "metadata": {
      "needs_background": "light"
     },
     "output_type": "display_data"
    }
   ],
   "source": [
    "data[\"giveaways\"].hist()"
   ]
  },
  {
   "cell_type": "code",
   "execution_count": 21,
   "id": "cc64e729",
   "metadata": {},
   "outputs": [
    {
     "data": {
      "text/plain": [
       "<AxesSubplot:>"
      ]
     },
     "execution_count": 21,
     "metadata": {},
     "output_type": "execute_result"
    },
    {
     "data": {
      "image/png": "[encoded data removed]",
      "text/plain": [
       "<Figure size 432x288 with 1 Axes>"
      ]
     },
     "metadata": {
      "needs_background": "light"
     },
     "output_type": "display_data"
    }
   ],
   "source": [
    "data[\"takeaways\"].hist()"
   ]
  },
  {
   "cell_type": "code",
   "execution_count": 22,
   "id": "e3507439",
   "metadata": {},
   "outputs": [
    {
     "data": {
      "text/plain": [
       "<AxesSubplot:>"
      ]
     },
     "execution_count": 22,
     "metadata": {},
     "output_type": "execute_result"
    },
    {
     "data": {
      "image/png": "[encoded data removed]",
      "text/plain": [
       "<Figure size 432x288 with 1 Axes>"
      ]
     },
     "metadata": {
      "needs_background": "light"
     },
     "output_type": "display_data"
    }
   ],
   "source": [
    "data[\"blocked\"].hist()"
   ]
  },
  {
   "cell_type": "code",
   "execution_count": 23,
   "id": "7b525403",
   "metadata": {},
   "outputs": [
    {
     "data": {
      "text/plain": [
       "<AxesSubplot:>"
      ]
     },
     "execution_count": 23,
     "metadata": {},
     "output_type": "execute_result"
    },
    {
     "data": {
      "image/png": "[encoded data removed]",
      "text/plain": [
       "<Figure size 432x288 with 1 Axes>"
      ]
     },
     "metadata": {
      "needs_background": "light"
     },
     "output_type": "display_data"
    }
   ],
   "source": [
    "data[\"powerPlayOpportunities\"].hist()"
   ]
  },
  {
   "cell_type": "code",
   "execution_count": 24,
   "id": "ebad8f66",
   "metadata": {},
   "outputs": [
    {
     "data": {
      "text/plain": [
       "left     26852\n",
       "right    23366\n",
       "Name: startRinkSide, dtype: int64"
      ]
     },
     "execution_count": 24,
     "metadata": {},
     "output_type": "execute_result"
    }
   ],
   "source": [
    "data[\"startRinkSide\"].value_counts()"
   ]
  },
  {
   "cell_type": "code",
   "execution_count": 25,
   "id": "9457db5c",
   "metadata": {},
   "outputs": [
    {
     "data": {
      "text/plain": [
       "R    50342\n",
       "P     2248\n",
       "A       20\n",
       "Name: type, dtype: int64"
      ]
     },
     "execution_count": 25,
     "metadata": {},
     "output_type": "execute_result"
    }
   ],
   "source": [
    "data[\"type\"].value_counts()"
   ]
  },
  {
   "cell_type": "code",
   "execution_count": 29,
   "id": "89038707",
   "metadata": {},
   "outputs": [
    {
     "data": {
      "text/plain": [
       "2019-11-28T00:00:00Z    32\n",
       "2018-12-02T00:00:00Z    28\n",
       "2020-02-05T00:00:00Z    28\n",
       "2019-11-24T00:00:00Z    28\n",
       "2020-01-17T00:00:00Z    28\n",
       "                        ..\n",
       "2010-02-14T01:30:00Z     2\n",
       "2010-01-15T01:00:00Z     2\n",
       "2010-03-28T01:00:00Z     2\n",
       "2009-10-11T01:00:00Z     2\n",
       "2008-01-16T02:00:00Z     2\n",
       "Name: date_time_GMT, Length: 14468, dtype: int64"
      ]
     },
     "execution_count": 29,
     "metadata": {},
     "output_type": "execute_result"
    }
   ],
   "source": [
    "# Check the format of variable \"date_time_GMT\"\n",
    "data[\"date_time_GMT\"].value_counts()"
   ]
  },
  {
   "cell_type": "code",
   "execution_count": 31,
   "id": "89de3092",
   "metadata": {},
   "outputs": [
    {
     "name": "stderr",
     "output_type": "stream",
     "text": [
      "<ipython-input-31-9627649f83d4>:3: SettingWithCopyWarning: \n",
      "A value is trying to be set on a copy of a slice from a DataFrame\n",
      "\n",
      "See the caveats in the documentation: https://pandas.pydata.org/pandas-docs/stable/user_guide/indexing.html#returning-a-view-versus-a-copy\n",
      "  data['year'][i]=data['date_time_GMT'][i][0:4]\n"
     ]
    }
   ],
   "source": [
    "# Extract value of year from variable \"data_time_GMT\"\n",
    "data['year']=\"\"\n",
    "for i in range(52610):\n",
    "    data['year'][i]=data['date_time_GMT'][i][0:4]"
   ]
  },
  {
   "cell_type": "code",
   "execution_count": 41,
   "id": "1dcfe7e3",
   "metadata": {
    "scrolled": true
   },
   "outputs": [
    {
     "name": "stdout",
     "output_type": "stream",
     "text": [
      "2019    5492\n",
      "2018    3948\n",
      "2013    2814\n",
      "2017    2738\n",
      "2015    2658\n",
      "2011    2638\n",
      "2016    2624\n",
      "2009    2560\n",
      "2014    2540\n",
      "2001    2502\n",
      "2006    2480\n",
      "2007    2460\n",
      "2003    2454\n",
      "2002    2402\n",
      "2008    2402\n",
      "2020    2386\n",
      "2010    2382\n",
      "2012    1514\n",
      "2004    1354\n",
      "2005    1134\n",
      "2000    1128\n",
      "Name: year, dtype: int64\n"
     ]
    },
    {
     "data": {
      "text/plain": [
       "<AxesSubplot:>"
      ]
     },
     "execution_count": 41,
     "metadata": {},
     "output_type": "execute_result"
    },
    {
     "data": {
      "image/png": "[encoded data removed]",
      "text/plain": [
       "<Figure size 432x288 with 1 Axes>"
      ]
     },
     "metadata": {
      "needs_background": "light"
     },
     "output_type": "display_data"
    }
   ],
   "source": [
    "# Check distribution of \"year\"\n",
    "print(data[\"year\"].value_counts())\n",
    "data[\"year\"].hist()"
   ]
  },
  {
   "cell_type": "code",
   "execution_count": 34,
   "id": "2fce2679",
   "metadata": {},
   "outputs": [
    {
     "name": "stderr",
     "output_type": "stream",
     "text": [
      "<ipython-input-34-4d4d0fb3aa5a>:4: SettingWithCopyWarning: \n",
      "A value is trying to be set on a copy of a slice from a DataFrame\n",
      "\n",
      "See the caveats in the documentation: https://pandas.pydata.org/pandas-docs/stable/user_guide/indexing.html#returning-a-view-versus-a-copy\n",
      "  data['month'][i]=data['date_time_GMT'][i][5:7]\n"
     ]
    }
   ],
   "source": [
    "# Extract value of month from variable \"data_time_GMT\"\n",
    "data['month']=\"\"\n",
    "for i in range(52610):\n",
    "    data['month'][i]=data['date_time_GMT'][i][5:7]"
   ]
  },
  {
   "cell_type": "code",
   "execution_count": 35,
   "id": "8a5291f8",
   "metadata": {},
   "outputs": [
    {
     "data": {
      "text/plain": [
       "<AxesSubplot:>"
      ]
     },
     "execution_count": 35,
     "metadata": {},
     "output_type": "execute_result"
    },
    {
     "data": {
      "image/png": "[encoded data removed]",
      "text/plain": [
       "<Figure size 432x288 with 1 Axes>"
      ]
     },
     "metadata": {
      "needs_background": "light"
     },
     "output_type": "display_data"
    }
   ],
   "source": [
    "# Check distribution of \"year\"\n",
    "data[\"month\"].hist()"
   ]
  },
  {
   "cell_type": "code",
   "execution_count": 42,
   "id": "d56e0904",
   "metadata": {},
   "outputs": [
    {
     "data": {
      "text/plain": [
       "right    26852\n",
       "left     23366\n",
       "Name: home_rink_side_start, dtype: int64"
      ]
     },
     "execution_count": 42,
     "metadata": {},
     "output_type": "execute_result"
    }
   ],
   "source": [
    "data[\"home_rink_side_start\"].value_counts()"
   ]
  },
  {
   "cell_type": "code",
   "execution_count": 43,
   "id": "1e2bc0a0",
   "metadata": {},
   "outputs": [
    {
     "data": {
      "text/plain": [
       "Madison Square Garden    1764\n",
       "United Center            1742\n",
       "Nationwide Arena         1702\n",
       "Xcel Energy Center       1702\n",
       "Pepsi Center             1682\n",
       "                         ... \n",
       "TCF Bank Stadium            2\n",
       "Wrigley Field               2\n",
       "McMahon Stadium             2\n",
       "Fenway Park                 2\n",
       "Coors Field                 2\n",
       "Name: venue, Length: 116, dtype: int64"
      ]
     },
     "execution_count": 43,
     "metadata": {},
     "output_type": "execute_result"
    }
   ],
   "source": [
    "data[\"venue\"].value_counts()"
   ]
  },
  {
   "cell_type": "code",
   "execution_count": 44,
   "id": "baa4f043",
   "metadata": {},
   "outputs": [
    {
     "data": {
      "text/plain": [
       "America/New_York       23480\n",
       "America/Chicago         8788\n",
       "America/Los_Angeles     5756\n",
       "America/Denver          3426\n",
       "America/Vancouver       1740\n",
       "America/Montreal        1738\n",
       "America/Detroit         1712\n",
       "America/Toronto         1702\n",
       "America/Phoenix         1694\n",
       "America/Edmonton        1678\n",
       "America/Winnipeg         896\n",
       "Name: venue_time_zone_id, dtype: int64"
      ]
     },
     "execution_count": 44,
     "metadata": {},
     "output_type": "execute_result"
    }
   ],
   "source": [
    "data[\"venue_time_zone_id\"].value_counts()"
   ]
  },
  {
   "cell_type": "code",
   "execution_count": 45,
   "id": "fa2a07e0",
   "metadata": {},
   "outputs": [
    {
     "data": {
      "text/plain": [
       "-4    23994\n",
       "-5    12610\n",
       "-7     8600\n",
       "-6     5972\n",
       "-8     1434\n",
       "Name: venue_time_zone_offset, dtype: int64"
      ]
     },
     "execution_count": 45,
     "metadata": {},
     "output_type": "execute_result"
    }
   ],
   "source": [
    "data[\"venue_time_zone_offset\"].value_counts()"
   ]
  },
  {
   "cell_type": "code",
   "execution_count": 46,
   "id": "8d2ca49e",
   "metadata": {},
   "outputs": [
    {
     "data": {
      "text/plain": [
       "EDT    23994\n",
       "CDT     7972\n",
       "PDT     6062\n",
       "EST     4638\n",
       "MDT     4260\n",
       "MST     2538\n",
       "CST     1712\n",
       "PST     1434\n",
       "Name: venue_time_zone_tz, dtype: int64"
      ]
     },
     "execution_count": 46,
     "metadata": {},
     "output_type": "execute_result"
    }
   ],
   "source": [
    "data[\"venue_time_zone_tz\"].value_counts()"
   ]
  },
  {
   "cell_type": "code",
   "execution_count": 48,
   "id": "f8e7ac51",
   "metadata": {},
   "outputs": [
    {
     "data": {
      "text/plain": [
       "<AxesSubplot:>"
      ]
     },
     "execution_count": 48,
     "metadata": {},
     "output_type": "execute_result"
    },
    {
     "data": {
      "image/png": "[encoded data removed]",
      "text/plain": [
       "<Figure size 432x288 with 1 Axes>"
      ]
     },
     "metadata": {
      "needs_background": "light"
     },
     "output_type": "display_data"
    }
   ],
   "source": [
    "data[\"timeOnIce\"].hist()"
   ]
  },
  {
   "cell_type": "code",
   "execution_count": 49,
   "id": "e149bd5e",
   "metadata": {},
   "outputs": [
    {
     "data": {
      "text/plain": [
       "<AxesSubplot:>"
      ]
     },
     "execution_count": 49,
     "metadata": {},
     "output_type": "execute_result"
    },
    {
     "data": {
      "image/png": "[encoded data removed]",
      "text/plain": [
       "<Figure size 432x288 with 1 Axes>"
      ]
     },
     "metadata": {
      "needs_background": "light"
     },
     "output_type": "display_data"
    }
   ],
   "source": [
    "data[\"evenTimeOnIce\"].hist()"
   ]
  },
  {
   "cell_type": "code",
   "execution_count": 50,
   "id": "bb724804",
   "metadata": {},
   "outputs": [
    {
     "data": {
      "text/plain": [
       "<AxesSubplot:>"
      ]
     },
     "execution_count": 50,
     "metadata": {},
     "output_type": "execute_result"
    },
    {
     "data": {
      "image/png": "[encoded data removed]",
      "text/plain": [
       "<Figure size 432x288 with 1 Axes>"
      ]
     },
     "metadata": {
      "needs_background": "light"
     },
     "output_type": "display_data"
    }
   ],
   "source": [
    "data[\"shortHandedTimeOnIce\"].hist()"
   ]
  },
  {
   "cell_type": "code",
   "execution_count": 51,
   "id": "d24f9ad9",
   "metadata": {},
   "outputs": [
    {
     "data": {
      "text/plain": [
       "<AxesSubplot:>"
      ]
     },
     "execution_count": 51,
     "metadata": {},
     "output_type": "execute_result"
    },
    {
     "data": {
      "image/png": "[encoded data removed]",
      "text/plain": [
       "<Figure size 432x288 with 1 Axes>"
      ]
     },
     "metadata": {
      "needs_background": "light"
     },
     "output_type": "display_data"
    }
   ],
   "source": [
    "data[\"powerPlayTimeOnIce\"].hist()"
   ]
  },
  {
   "cell_type": "code",
   "execution_count": 52,
   "id": "6581d5ef",
   "metadata": {},
   "outputs": [
    {
     "data": {
      "text/plain": [
       "No     48498\n",
       "Yes     4077\n",
       "Name: goalie_replacement, dtype: int64"
      ]
     },
     "execution_count": 52,
     "metadata": {},
     "output_type": "execute_result"
    }
   ],
   "source": [
    "data[\"goalie_replacement\"].value_counts()"
   ]
  },
  {
   "cell_type": "markdown",
   "id": "40a904ee",
   "metadata": {},
   "source": [
    "## 2.7 <b>Check Outliers for Numeric Values</b>"
   ]
  },
  {
   "cell_type": "markdown",
   "id": "ed3b28ae",
   "metadata": {},
   "source": [
    "In this section, we use boxplots to observe how many outliers there are for each variable."
   ]
  },
  {
   "cell_type": "code",
   "execution_count": 53,
   "id": "f3e63e1d",
   "metadata": {},
   "outputs": [
    {
     "name": "stderr",
     "output_type": "stream",
     "text": [
      "/Users/kex/opt/anaconda3/envs/day_1_env/lib/python3.8/site-packages/seaborn/_decorators.py:36: FutureWarning: Pass the following variable as a keyword arg: x. From version 0.12, the only valid positional argument will be `data`, and passing other arguments without an explicit keyword will result in an error or misinterpretation.\n",
      "  warnings.warn(\n"
     ]
    },
    {
     "data": {
      "image/png": "[encoded data removed]",
      "text/plain": [
       "<Figure size 432x288 with 1 Axes>"
      ]
     },
     "metadata": {
      "needs_background": "light"
     },
     "output_type": "display_data"
    }
   ],
   "source": [
    "import seaborn as sns \n",
    "sns.boxplot(data['goals']) \n",
    "sns.despine()"
   ]
  },
  {
   "cell_type": "code",
   "execution_count": 54,
   "id": "d87e2f7b",
   "metadata": {},
   "outputs": [
    {
     "name": "stderr",
     "output_type": "stream",
     "text": [
      "/Users/kex/opt/anaconda3/envs/day_1_env/lib/python3.8/site-packages/seaborn/_decorators.py:36: FutureWarning: Pass the following variable as a keyword arg: x. From version 0.12, the only valid positional argument will be `data`, and passing other arguments without an explicit keyword will result in an error or misinterpretation.\n",
      "  warnings.warn(\n"
     ]
    },
    {
     "data": {
      "image/png": "[encoded data removed]",
      "text/plain": [
       "<Figure size 432x288 with 1 Axes>"
      ]
     },
     "metadata": {
      "needs_background": "light"
     },
     "output_type": "display_data"
    }
   ],
   "source": [
    "sns.boxplot(data['shots']) \n",
    "sns.despine()"
   ]
  },
  {
   "cell_type": "code",
   "execution_count": 55,
   "id": "7fa41f4e",
   "metadata": {},
   "outputs": [
    {
     "name": "stderr",
     "output_type": "stream",
     "text": [
      "/Users/kex/opt/anaconda3/envs/day_1_env/lib/python3.8/site-packages/seaborn/_decorators.py:36: FutureWarning: Pass the following variable as a keyword arg: x. From version 0.12, the only valid positional argument will be `data`, and passing other arguments without an explicit keyword will result in an error or misinterpretation.\n",
      "  warnings.warn(\n"
     ]
    },
    {
     "data": {
      "image/png": "[encoded data removed]",
      "text/plain": [
       "<Figure size 432x288 with 1 Axes>"
      ]
     },
     "metadata": {
      "needs_background": "light"
     },
     "output_type": "display_data"
    }
   ],
   "source": [
    "sns.boxplot(data['hits']) \n",
    "sns.despine()"
   ]
  },
  {
   "cell_type": "code",
   "execution_count": 56,
   "id": "6f13ec2b",
   "metadata": {},
   "outputs": [
    {
     "name": "stderr",
     "output_type": "stream",
     "text": [
      "/Users/kex/opt/anaconda3/envs/day_1_env/lib/python3.8/site-packages/seaborn/_decorators.py:36: FutureWarning: Pass the following variable as a keyword arg: x. From version 0.12, the only valid positional argument will be `data`, and passing other arguments without an explicit keyword will result in an error or misinterpretation.\n",
      "  warnings.warn(\n"
     ]
    },
    {
     "data": {
      "image/png": "[encoded data removed]",
      "text/plain": [
       "<Figure size 432x288 with 1 Axes>"
      ]
     },
     "metadata": {
      "needs_background": "light"
     },
     "output_type": "display_data"
    }
   ],
   "source": [
    "sns.boxplot(data['pim']) \n",
    "sns.despine()"
   ]
  },
  {
   "cell_type": "code",
   "execution_count": 57,
   "id": "e2cf3fa3",
   "metadata": {},
   "outputs": [
    {
     "name": "stderr",
     "output_type": "stream",
     "text": [
      "/Users/kex/opt/anaconda3/envs/day_1_env/lib/python3.8/site-packages/seaborn/_decorators.py:36: FutureWarning: Pass the following variable as a keyword arg: x. From version 0.12, the only valid positional argument will be `data`, and passing other arguments without an explicit keyword will result in an error or misinterpretation.\n",
      "  warnings.warn(\n"
     ]
    },
    {
     "data": {
      "image/png": "[encoded data removed]",
      "text/plain": [
       "<Figure size 432x288 with 1 Axes>"
      ]
     },
     "metadata": {
      "needs_background": "light"
     },
     "output_type": "display_data"
    }
   ],
   "source": [
    "sns.boxplot(data['powerPlayOpportunities']) \n",
    "sns.despine()"
   ]
  },
  {
   "cell_type": "code",
   "execution_count": 58,
   "id": "7a8b89e2",
   "metadata": {},
   "outputs": [
    {
     "name": "stderr",
     "output_type": "stream",
     "text": [
      "/Users/kex/opt/anaconda3/envs/day_1_env/lib/python3.8/site-packages/seaborn/_decorators.py:36: FutureWarning: Pass the following variable as a keyword arg: x. From version 0.12, the only valid positional argument will be `data`, and passing other arguments without an explicit keyword will result in an error or misinterpretation.\n",
      "  warnings.warn(\n"
     ]
    },
    {
     "data": {
      "image/png": "[encoded data removed]",
      "text/plain": [
       "<Figure size 432x288 with 1 Axes>"
      ]
     },
     "metadata": {
      "needs_background": "light"
     },
     "output_type": "display_data"
    }
   ],
   "source": [
    "sns.boxplot(data['powerPlayGoals']) \n",
    "sns.despine()"
   ]
  },
  {
   "cell_type": "code",
   "execution_count": 59,
   "id": "d930218a",
   "metadata": {},
   "outputs": [
    {
     "name": "stderr",
     "output_type": "stream",
     "text": [
      "/Users/kex/opt/anaconda3/envs/day_1_env/lib/python3.8/site-packages/seaborn/_decorators.py:36: FutureWarning: Pass the following variable as a keyword arg: x. From version 0.12, the only valid positional argument will be `data`, and passing other arguments without an explicit keyword will result in an error or misinterpretation.\n",
      "  warnings.warn(\n"
     ]
    },
    {
     "data": {
      "image/png": "[encoded data removed]",
      "text/plain": [
       "<Figure size 432x288 with 1 Axes>"
      ]
     },
     "metadata": {
      "needs_background": "light"
     },
     "output_type": "display_data"
    }
   ],
   "source": [
    "sns.boxplot(data['faceOffWinPercentage']) \n",
    "sns.despine()"
   ]
  },
  {
   "cell_type": "code",
   "execution_count": 60,
   "id": "aa1f202f",
   "metadata": {},
   "outputs": [
    {
     "name": "stderr",
     "output_type": "stream",
     "text": [
      "/Users/kex/opt/anaconda3/envs/day_1_env/lib/python3.8/site-packages/seaborn/_decorators.py:36: FutureWarning: Pass the following variable as a keyword arg: x. From version 0.12, the only valid positional argument will be `data`, and passing other arguments without an explicit keyword will result in an error or misinterpretation.\n",
      "  warnings.warn(\n"
     ]
    },
    {
     "data": {
      "image/png": "[encoded data removed]",
      "text/plain": [
       "<Figure size 432x288 with 1 Axes>"
      ]
     },
     "metadata": {
      "needs_background": "light"
     },
     "output_type": "display_data"
    }
   ],
   "source": [
    "sns.boxplot(data['giveaways']) \n",
    "sns.despine()"
   ]
  },
  {
   "cell_type": "code",
   "execution_count": 61,
   "id": "6ec4cc0f",
   "metadata": {},
   "outputs": [
    {
     "name": "stderr",
     "output_type": "stream",
     "text": [
      "/Users/kex/opt/anaconda3/envs/day_1_env/lib/python3.8/site-packages/seaborn/_decorators.py:36: FutureWarning: Pass the following variable as a keyword arg: x. From version 0.12, the only valid positional argument will be `data`, and passing other arguments without an explicit keyword will result in an error or misinterpretation.\n",
      "  warnings.warn(\n"
     ]
    },
    {
     "data": {
      "image/png": "[encoded data removed]",
      "text/plain": [
       "<Figure size 432x288 with 1 Axes>"
      ]
     },
     "metadata": {
      "needs_background": "light"
     },
     "output_type": "display_data"
    }
   ],
   "source": [
    "sns.boxplot(data['takeaways']) \n",
    "sns.despine()"
   ]
  },
  {
   "cell_type": "code",
   "execution_count": 62,
   "id": "c709f914",
   "metadata": {},
   "outputs": [
    {
     "name": "stderr",
     "output_type": "stream",
     "text": [
      "/Users/kex/opt/anaconda3/envs/day_1_env/lib/python3.8/site-packages/seaborn/_decorators.py:36: FutureWarning: Pass the following variable as a keyword arg: x. From version 0.12, the only valid positional argument will be `data`, and passing other arguments without an explicit keyword will result in an error or misinterpretation.\n",
      "  warnings.warn(\n"
     ]
    },
    {
     "data": {
      "image/png": "[encoded data removed]",
      "text/plain": [
       "<Figure size 432x288 with 1 Axes>"
      ]
     },
     "metadata": {
      "needs_background": "light"
     },
     "output_type": "display_data"
    }
   ],
   "source": [
    "sns.boxplot(data['blocked']) \n",
    "sns.despine()"
   ]
  },
  {
   "cell_type": "code",
   "execution_count": 63,
   "id": "1d372798",
   "metadata": {},
   "outputs": [
    {
     "name": "stderr",
     "output_type": "stream",
     "text": [
      "/Users/kex/opt/anaconda3/envs/day_1_env/lib/python3.8/site-packages/seaborn/_decorators.py:36: FutureWarning: Pass the following variable as a keyword arg: x. From version 0.12, the only valid positional argument will be `data`, and passing other arguments without an explicit keyword will result in an error or misinterpretation.\n",
      "  warnings.warn(\n"
     ]
    },
    {
     "data": {
      "image/png": "[encoded data removed]",
      "text/plain": [
       "<Figure size 432x288 with 1 Axes>"
      ]
     },
     "metadata": {
      "needs_background": "light"
     },
     "output_type": "display_data"
    }
   ],
   "source": [
    "sns.boxplot(data['timeOnIce']) \n",
    "sns.despine()"
   ]
  },
  {
   "cell_type": "code",
   "execution_count": 64,
   "id": "d195f796",
   "metadata": {},
   "outputs": [
    {
     "name": "stderr",
     "output_type": "stream",
     "text": [
      "/Users/kex/opt/anaconda3/envs/day_1_env/lib/python3.8/site-packages/seaborn/_decorators.py:36: FutureWarning: Pass the following variable as a keyword arg: x. From version 0.12, the only valid positional argument will be `data`, and passing other arguments without an explicit keyword will result in an error or misinterpretation.\n",
      "  warnings.warn(\n"
     ]
    },
    {
     "data": {
      "image/png": "[encoded data removed]",
      "text/plain": [
       "<Figure size 432x288 with 1 Axes>"
      ]
     },
     "metadata": {
      "needs_background": "light"
     },
     "output_type": "display_data"
    }
   ],
   "source": [
    "sns.boxplot(data['evenTimeOnIce']) \n",
    "sns.despine()"
   ]
  },
  {
   "cell_type": "code",
   "execution_count": 65,
   "id": "a34a6c5a",
   "metadata": {},
   "outputs": [
    {
     "name": "stderr",
     "output_type": "stream",
     "text": [
      "/Users/kex/opt/anaconda3/envs/day_1_env/lib/python3.8/site-packages/seaborn/_decorators.py:36: FutureWarning: Pass the following variable as a keyword arg: x. From version 0.12, the only valid positional argument will be `data`, and passing other arguments without an explicit keyword will result in an error or misinterpretation.\n",
      "  warnings.warn(\n"
     ]
    },
    {
     "data": {
      "image/png": "[encoded data removed]",
      "text/plain": [
       "<Figure size 432x288 with 1 Axes>"
      ]
     },
     "metadata": {
      "needs_background": "light"
     },
     "output_type": "display_data"
    }
   ],
   "source": [
    "sns.boxplot(data['shortHandedTimeOnIce']) \n",
    "sns.despine()"
   ]
  },
  {
   "cell_type": "code",
   "execution_count": 66,
   "id": "449d00b0",
   "metadata": {},
   "outputs": [
    {
     "name": "stderr",
     "output_type": "stream",
     "text": [
      "/Users/kex/opt/anaconda3/envs/day_1_env/lib/python3.8/site-packages/seaborn/_decorators.py:36: FutureWarning: Pass the following variable as a keyword arg: x. From version 0.12, the only valid positional argument will be `data`, and passing other arguments without an explicit keyword will result in an error or misinterpretation.\n",
      "  warnings.warn(\n"
     ]
    },
    {
     "data": {
      "image/png": "[encoded data removed]",
      "text/plain": [
       "<Figure size 432x288 with 1 Axes>"
      ]
     },
     "metadata": {
      "needs_background": "light"
     },
     "output_type": "display_data"
    }
   ],
   "source": [
    "sns.boxplot(data['powerPlayTimeOnIce']) \n",
    "sns.despine()"
   ]
  },
  {
   "cell_type": "markdown",
   "id": "82784d7d",
   "metadata": {},
   "source": [
    "## 2.8 <b>Check Relationships between Variables</b>"
   ]
  },
  {
   "cell_type": "code",
   "execution_count": 71,
   "id": "ba2088ed",
   "metadata": {},
   "outputs": [
    {
     "data": {
      "text/plain": [
       "<matplotlib.collections.PathCollection at 0x7fd6b43d1be0>"
      ]
     },
     "execution_count": 71,
     "metadata": {},
     "output_type": "execute_result"
    },
    {
     "data": {
      "image/png": "[encoded data removed]",
      "text/plain": [
       "<Figure size 432x288 with 1 Axes>"
      ]
     },
     "metadata": {
      "needs_background": "light"
     },
     "output_type": "display_data"
    }
   ],
   "source": [
    "import matplotlib.pyplot as plt\n",
    "plt.scatter(data['shots'], data['goals'])"
   ]
  },
  {
   "cell_type": "code",
   "execution_count": 72,
   "id": "3d64a395",
   "metadata": {},
   "outputs": [
    {
     "data": {
      "text/plain": [
       "<matplotlib.collections.PathCollection at 0x7fd6b43e7fa0>"
      ]
     },
     "execution_count": 72,
     "metadata": {},
     "output_type": "execute_result"
    },
    {
     "data": {
      "image/png": "[encoded data removed]",
      "text/plain": [
       "<Figure size 432x288 with 1 Axes>"
      ]
     },
     "metadata": {
      "needs_background": "light"
     },
     "output_type": "display_data"
    }
   ],
   "source": [
    "plt.scatter(data['pim'], data['goals'])"
   ]
  },
  {
   "cell_type": "code",
   "execution_count": 73,
   "id": "7784df56",
   "metadata": {},
   "outputs": [
    {
     "data": {
      "text/plain": [
       "<matplotlib.collections.PathCollection at 0x7fd6b3966a60>"
      ]
     },
     "execution_count": 73,
     "metadata": {},
     "output_type": "execute_result"
    },
    {
     "data": {
      "image/png": "[encoded data removed]",
      "text/plain": [
       "<Figure size 432x288 with 1 Axes>"
      ]
     },
     "metadata": {
      "needs_background": "light"
     },
     "output_type": "display_data"
    }
   ],
   "source": [
    "plt.scatter(data['powerPlayOpportunities'], data['goals'])"
   ]
  },
  {
   "cell_type": "code",
   "execution_count": 75,
   "id": "f10410ec",
   "metadata": {},
   "outputs": [
    {
     "data": {
      "text/plain": [
       "<matplotlib.collections.PathCollection at 0x7fd6afcf7e50>"
      ]
     },
     "execution_count": 75,
     "metadata": {},
     "output_type": "execute_result"
    },
    {
     "data": {
      "image/png": "[encoded data removed]",
      "text/plain": [
       "<Figure size 432x288 with 1 Axes>"
      ]
     },
     "metadata": {
      "needs_background": "light"
     },
     "output_type": "display_data"
    }
   ],
   "source": [
    "plt.scatter(data['giveaways'], data['goals'])"
   ]
  },
  {
   "cell_type": "code",
   "execution_count": 82,
   "id": "63bd1c3f",
   "metadata": {},
   "outputs": [
    {
     "data": {
      "text/plain": [
       "<matplotlib.collections.PathCollection at 0x7fd6b50cb700>"
      ]
     },
     "execution_count": 82,
     "metadata": {},
     "output_type": "execute_result"
    },
    {
     "data": {
      "image/png": "[encoded data removed]",
      "text/plain": [
       "<Figure size 432x288 with 1 Axes>"
      ]
     },
     "metadata": {
      "needs_background": "light"
     },
     "output_type": "display_data"
    }
   ],
   "source": [
    "plt.scatter(data['takeaways'], data['goals'])"
   ]
  },
  {
   "cell_type": "code",
   "execution_count": 83,
   "id": "c341b30f",
   "metadata": {},
   "outputs": [
    {
     "data": {
      "text/plain": [
       "<matplotlib.collections.PathCollection at 0x7fd6b3a6f340>"
      ]
     },
     "execution_count": 83,
     "metadata": {},
     "output_type": "execute_result"
    },
    {
     "data": {
      "image/png": "[encoded data removed]",
      "text/plain": [
       "<Figure size 432x288 with 1 Axes>"
      ]
     },
     "metadata": {
      "needs_background": "light"
     },
     "output_type": "display_data"
    }
   ],
   "source": [
    "plt.scatter(data['blocked'], data['goals'])"
   ]
  },
  {
   "cell_type": "code",
   "execution_count": 78,
   "id": "d386857f",
   "metadata": {},
   "outputs": [
    {
     "data": {
      "text/plain": [
       "<matplotlib.collections.PathCollection at 0x7fd6b3a97790>"
      ]
     },
     "execution_count": 78,
     "metadata": {},
     "output_type": "execute_result"
    },
    {
     "data": {
      "image/png": "[encoded data removed]",
      "text/plain": [
       "<Figure size 432x288 with 1 Axes>"
      ]
     },
     "metadata": {
      "needs_background": "light"
     },
     "output_type": "display_data"
    }
   ],
   "source": [
    "plt.scatter(data['timeOnIce'], data['goals'])"
   ]
  },
  {
   "cell_type": "code",
   "execution_count": 79,
   "id": "45b9677c",
   "metadata": {},
   "outputs": [
    {
     "data": {
      "text/plain": [
       "<matplotlib.collections.PathCollection at 0x7fd6b3cf2d00>"
      ]
     },
     "execution_count": 79,
     "metadata": {},
     "output_type": "execute_result"
    },
    {
     "data": {
      "image/png": "[encoded data removed]",
      "text/plain": [
       "<Figure size 432x288 with 1 Axes>"
      ]
     },
     "metadata": {
      "needs_background": "light"
     },
     "output_type": "display_data"
    }
   ],
   "source": [
    "plt.scatter(data['evenTimeOnIce'], data['goals'])"
   ]
  },
  {
   "cell_type": "code",
   "execution_count": 80,
   "id": "f4e261b5",
   "metadata": {},
   "outputs": [
    {
     "data": {
      "text/plain": [
       "<matplotlib.collections.PathCollection at 0x7fd6b3cc02b0>"
      ]
     },
     "execution_count": 80,
     "metadata": {},
     "output_type": "execute_result"
    },
    {
     "data": {
      "image/png": "[encoded data removed]",
      "text/plain": [
       "<Figure size 432x288 with 1 Axes>"
      ]
     },
     "metadata": {
      "needs_background": "light"
     },
     "output_type": "display_data"
    }
   ],
   "source": [
    "plt.scatter(data['shortHandedTimeOnIce'], data['goals'])"
   ]
  },
  {
   "cell_type": "code",
   "execution_count": 81,
   "id": "8a225629",
   "metadata": {},
   "outputs": [
    {
     "data": {
      "text/plain": [
       "<matplotlib.collections.PathCollection at 0x7fd6b413c340>"
      ]
     },
     "execution_count": 81,
     "metadata": {},
     "output_type": "execute_result"
    },
    {
     "data": {
      "image/png": "[encoded data removed]",
      "text/plain": [
       "<Figure size 432x288 with 1 Axes>"
      ]
     },
     "metadata": {
      "needs_background": "light"
     },
     "output_type": "display_data"
    }
   ],
   "source": [
    "plt.scatter(data['powerPlayTimeOnIce'], data['goals'])"
   ]
  },
  {
   "cell_type": "markdown",
   "id": "0e0e641d",
   "metadata": {},
   "source": [
    "## 2.9 Check Correlations among Variables"
   ]
  },
  {
   "cell_type": "markdown",
   "id": "c32dffb2",
   "metadata": {},
   "source": [
    "<b>Correlation Matrix</b>"
   ]
  },
  {
   "cell_type": "code",
   "execution_count": 84,
   "id": "edd713bc",
   "metadata": {},
   "outputs": [
    {
     "data": {
      "text/html": [
       "<div>\n",
       "<style scoped>\n",
       "    .dataframe tbody tr th:only-of-type {\n",
       "        vertical-align: middle;\n",
       "    }\n",
       "\n",
       "    .dataframe tbody tr th {\n",
       "        vertical-align: top;\n",
       "    }\n",
       "\n",
       "    .dataframe thead th {\n",
       "        text-align: right;\n",
       "    }\n",
       "</style>\n",
       "<table border=\"1\" class=\"dataframe\">\n",
       "  <thead>\n",
       "    <tr style=\"text-align: right;\">\n",
       "      <th></th>\n",
       "      <th>game_id</th>\n",
       "      <th>team_id</th>\n",
       "      <th>won</th>\n",
       "      <th>goals</th>\n",
       "      <th>shots</th>\n",
       "      <th>hits</th>\n",
       "      <th>pim</th>\n",
       "      <th>powerPlayOpportunities</th>\n",
       "      <th>powerPlayGoals</th>\n",
       "      <th>faceOffWinPercentage</th>\n",
       "      <th>giveaways</th>\n",
       "      <th>takeaways</th>\n",
       "      <th>blocked</th>\n",
       "      <th>venue_time_zone_offset</th>\n",
       "      <th>timeOnIce</th>\n",
       "      <th>evenTimeOnIce</th>\n",
       "      <th>shortHandedTimeOnIce</th>\n",
       "      <th>powerPlayTimeOnIce</th>\n",
       "    </tr>\n",
       "  </thead>\n",
       "  <tbody>\n",
       "    <tr>\n",
       "      <th>game_id</th>\n",
       "      <td>1.000000</td>\n",
       "      <td>0.122000</td>\n",
       "      <td>0.035644</td>\n",
       "      <td>0.037271</td>\n",
       "      <td>0.154728</td>\n",
       "      <td>0.342978</td>\n",
       "      <td>-0.282431</td>\n",
       "      <td>-0.344502</td>\n",
       "      <td>-0.092124</td>\n",
       "      <td>-0.001894</td>\n",
       "      <td>0.133770</td>\n",
       "      <td>0.145461</td>\n",
       "      <td>0.278443</td>\n",
       "      <td>-0.200089</td>\n",
       "      <td>0.112090</td>\n",
       "      <td>0.377174</td>\n",
       "      <td>-0.319614</td>\n",
       "      <td>-0.320463</td>\n",
       "    </tr>\n",
       "    <tr>\n",
       "      <th>team_id</th>\n",
       "      <td>0.122000</td>\n",
       "      <td>1.000000</td>\n",
       "      <td>-0.001185</td>\n",
       "      <td>-0.007874</td>\n",
       "      <td>-0.019162</td>\n",
       "      <td>0.011246</td>\n",
       "      <td>-0.044171</td>\n",
       "      <td>-0.032043</td>\n",
       "      <td>-0.014289</td>\n",
       "      <td>0.009204</td>\n",
       "      <td>-0.028017</td>\n",
       "      <td>-0.002926</td>\n",
       "      <td>-0.005821</td>\n",
       "      <td>-0.455311</td>\n",
       "      <td>-0.032154</td>\n",
       "      <td>0.016848</td>\n",
       "      <td>-0.035961</td>\n",
       "      <td>-0.027887</td>\n",
       "    </tr>\n",
       "    <tr>\n",
       "      <th>won</th>\n",
       "      <td>0.035644</td>\n",
       "      <td>-0.001185</td>\n",
       "      <td>1.000000</td>\n",
       "      <td>0.596658</td>\n",
       "      <td>0.025200</td>\n",
       "      <td>-0.039339</td>\n",
       "      <td>-0.040231</td>\n",
       "      <td>0.014049</td>\n",
       "      <td>0.240823</td>\n",
       "      <td>0.030458</td>\n",
       "      <td>-0.004803</td>\n",
       "      <td>0.104937</td>\n",
       "      <td>0.166406</td>\n",
       "      <td>-0.001869</td>\n",
       "      <td>-0.061166</td>\n",
       "      <td>-0.014459</td>\n",
       "      <td>0.027564</td>\n",
       "      <td>-0.046930</td>\n",
       "    </tr>\n",
       "    <tr>\n",
       "      <th>goals</th>\n",
       "      <td>0.037271</td>\n",
       "      <td>-0.007874</td>\n",
       "      <td>0.596658</td>\n",
       "      <td>1.000000</td>\n",
       "      <td>0.150048</td>\n",
       "      <td>-0.064944</td>\n",
       "      <td>0.038303</td>\n",
       "      <td>0.097074</td>\n",
       "      <td>0.459827</td>\n",
       "      <td>0.035202</td>\n",
       "      <td>0.012130</td>\n",
       "      <td>0.095462</td>\n",
       "      <td>0.093338</td>\n",
       "      <td>-0.005184</td>\n",
       "      <td>-0.075527</td>\n",
       "      <td>-0.045709</td>\n",
       "      <td>0.036049</td>\n",
       "      <td>-0.010313</td>\n",
       "    </tr>\n",
       "    <tr>\n",
       "      <th>shots</th>\n",
       "      <td>0.154728</td>\n",
       "      <td>-0.019162</td>\n",
       "      <td>0.025200</td>\n",
       "      <td>0.150048</td>\n",
       "      <td>1.000000</td>\n",
       "      <td>0.050009</td>\n",
       "      <td>-0.082409</td>\n",
       "      <td>0.120679</td>\n",
       "      <td>0.083634</td>\n",
       "      <td>0.138162</td>\n",
       "      <td>0.048839</td>\n",
       "      <td>0.099960</td>\n",
       "      <td>-0.074203</td>\n",
       "      <td>0.008603</td>\n",
       "      <td>0.196708</td>\n",
       "      <td>0.098488</td>\n",
       "      <td>-0.164846</td>\n",
       "      <td>0.119446</td>\n",
       "    </tr>\n",
       "    <tr>\n",
       "      <th>hits</th>\n",
       "      <td>0.342978</td>\n",
       "      <td>0.011246</td>\n",
       "      <td>-0.039339</td>\n",
       "      <td>-0.064944</td>\n",
       "      <td>0.050009</td>\n",
       "      <td>1.000000</td>\n",
       "      <td>-0.062390</td>\n",
       "      <td>-0.187209</td>\n",
       "      <td>-0.073287</td>\n",
       "      <td>0.003448</td>\n",
       "      <td>0.202028</td>\n",
       "      <td>0.165264</td>\n",
       "      <td>0.291648</td>\n",
       "      <td>-0.014920</td>\n",
       "      <td>0.188226</td>\n",
       "      <td>0.253318</td>\n",
       "      <td>-0.133942</td>\n",
       "      <td>-0.182580</td>\n",
       "    </tr>\n",
       "    <tr>\n",
       "      <th>pim</th>\n",
       "      <td>-0.282431</td>\n",
       "      <td>-0.044171</td>\n",
       "      <td>-0.040231</td>\n",
       "      <td>0.038303</td>\n",
       "      <td>-0.082409</td>\n",
       "      <td>-0.062390</td>\n",
       "      <td>1.000000</td>\n",
       "      <td>0.290575</td>\n",
       "      <td>0.125317</td>\n",
       "      <td>-0.008737</td>\n",
       "      <td>-0.067719</td>\n",
       "      <td>-0.068962</td>\n",
       "      <td>-0.063378</td>\n",
       "      <td>0.045888</td>\n",
       "      <td>-0.219771</td>\n",
       "      <td>-0.473263</td>\n",
       "      <td>0.531020</td>\n",
       "      <td>0.233566</td>\n",
       "    </tr>\n",
       "    <tr>\n",
       "      <th>powerPlayOpportunities</th>\n",
       "      <td>-0.344502</td>\n",
       "      <td>-0.032043</td>\n",
       "      <td>0.014049</td>\n",
       "      <td>0.097074</td>\n",
       "      <td>0.120679</td>\n",
       "      <td>-0.187209</td>\n",
       "      <td>0.290575</td>\n",
       "      <td>1.000000</td>\n",
       "      <td>0.416477</td>\n",
       "      <td>0.045209</td>\n",
       "      <td>-0.011836</td>\n",
       "      <td>-0.059365</td>\n",
       "      <td>-0.163430</td>\n",
       "      <td>0.047011</td>\n",
       "      <td>-0.102390</td>\n",
       "      <td>-0.699930</td>\n",
       "      <td>0.291043</td>\n",
       "      <td>0.921578</td>\n",
       "    </tr>\n",
       "    <tr>\n",
       "      <th>powerPlayGoals</th>\n",
       "      <td>-0.092124</td>\n",
       "      <td>-0.014289</td>\n",
       "      <td>0.240823</td>\n",
       "      <td>0.459827</td>\n",
       "      <td>0.083634</td>\n",
       "      <td>-0.073287</td>\n",
       "      <td>0.125317</td>\n",
       "      <td>0.416477</td>\n",
       "      <td>1.000000</td>\n",
       "      <td>0.024791</td>\n",
       "      <td>-0.001385</td>\n",
       "      <td>0.014879</td>\n",
       "      <td>0.008025</td>\n",
       "      <td>0.010598</td>\n",
       "      <td>-0.062093</td>\n",
       "      <td>-0.211025</td>\n",
       "      <td>0.141753</td>\n",
       "      <td>0.209193</td>\n",
       "    </tr>\n",
       "    <tr>\n",
       "      <th>faceOffWinPercentage</th>\n",
       "      <td>-0.001894</td>\n",
       "      <td>0.009204</td>\n",
       "      <td>0.030458</td>\n",
       "      <td>0.035202</td>\n",
       "      <td>0.138162</td>\n",
       "      <td>0.003448</td>\n",
       "      <td>-0.008737</td>\n",
       "      <td>0.045209</td>\n",
       "      <td>0.024791</td>\n",
       "      <td>1.000000</td>\n",
       "      <td>0.068740</td>\n",
       "      <td>0.059343</td>\n",
       "      <td>-0.080402</td>\n",
       "      <td>0.001420</td>\n",
       "      <td>0.006000</td>\n",
       "      <td>-0.000322</td>\n",
       "      <td>-0.031742</td>\n",
       "      <td>0.032160</td>\n",
       "    </tr>\n",
       "    <tr>\n",
       "      <th>giveaways</th>\n",
       "      <td>0.133770</td>\n",
       "      <td>-0.028017</td>\n",
       "      <td>-0.004803</td>\n",
       "      <td>0.012130</td>\n",
       "      <td>0.048839</td>\n",
       "      <td>0.202028</td>\n",
       "      <td>-0.067719</td>\n",
       "      <td>-0.011836</td>\n",
       "      <td>-0.001385</td>\n",
       "      <td>0.068740</td>\n",
       "      <td>1.000000</td>\n",
       "      <td>0.337996</td>\n",
       "      <td>0.226224</td>\n",
       "      <td>-0.067296</td>\n",
       "      <td>0.082148</td>\n",
       "      <td>0.081226</td>\n",
       "      <td>-0.079051</td>\n",
       "      <td>-0.011309</td>\n",
       "    </tr>\n",
       "    <tr>\n",
       "      <th>takeaways</th>\n",
       "      <td>0.145461</td>\n",
       "      <td>-0.002926</td>\n",
       "      <td>0.104937</td>\n",
       "      <td>0.095462</td>\n",
       "      <td>0.099960</td>\n",
       "      <td>0.165264</td>\n",
       "      <td>-0.068962</td>\n",
       "      <td>-0.059365</td>\n",
       "      <td>0.014879</td>\n",
       "      <td>0.059343</td>\n",
       "      <td>0.337996</td>\n",
       "      <td>1.000000</td>\n",
       "      <td>0.225506</td>\n",
       "      <td>-0.000792</td>\n",
       "      <td>0.068147</td>\n",
       "      <td>0.099187</td>\n",
       "      <td>-0.055490</td>\n",
       "      <td>-0.073821</td>\n",
       "    </tr>\n",
       "    <tr>\n",
       "      <th>blocked</th>\n",
       "      <td>0.278443</td>\n",
       "      <td>-0.005821</td>\n",
       "      <td>0.166406</td>\n",
       "      <td>0.093338</td>\n",
       "      <td>-0.074203</td>\n",
       "      <td>0.291648</td>\n",
       "      <td>-0.063378</td>\n",
       "      <td>-0.163430</td>\n",
       "      <td>0.008025</td>\n",
       "      <td>-0.080402</td>\n",
       "      <td>0.226224</td>\n",
       "      <td>0.225506</td>\n",
       "      <td>1.000000</td>\n",
       "      <td>-0.025018</td>\n",
       "      <td>0.131419</td>\n",
       "      <td>0.166819</td>\n",
       "      <td>0.000232</td>\n",
       "      <td>-0.183953</td>\n",
       "    </tr>\n",
       "    <tr>\n",
       "      <th>venue_time_zone_offset</th>\n",
       "      <td>-0.200089</td>\n",
       "      <td>-0.455311</td>\n",
       "      <td>-0.001869</td>\n",
       "      <td>-0.005184</td>\n",
       "      <td>0.008603</td>\n",
       "      <td>-0.014920</td>\n",
       "      <td>0.045888</td>\n",
       "      <td>0.047011</td>\n",
       "      <td>0.010598</td>\n",
       "      <td>0.001420</td>\n",
       "      <td>-0.067296</td>\n",
       "      <td>-0.000792</td>\n",
       "      <td>-0.025018</td>\n",
       "      <td>1.000000</td>\n",
       "      <td>-0.006532</td>\n",
       "      <td>-0.045669</td>\n",
       "      <td>0.042005</td>\n",
       "      <td>0.042009</td>\n",
       "    </tr>\n",
       "    <tr>\n",
       "      <th>timeOnIce</th>\n",
       "      <td>0.112090</td>\n",
       "      <td>-0.032154</td>\n",
       "      <td>-0.061166</td>\n",
       "      <td>-0.075527</td>\n",
       "      <td>0.196708</td>\n",
       "      <td>0.188226</td>\n",
       "      <td>-0.219771</td>\n",
       "      <td>-0.102390</td>\n",
       "      <td>-0.062093</td>\n",
       "      <td>0.006000</td>\n",
       "      <td>0.082148</td>\n",
       "      <td>0.068147</td>\n",
       "      <td>0.131419</td>\n",
       "      <td>-0.006532</td>\n",
       "      <td>1.000000</td>\n",
       "      <td>0.609688</td>\n",
       "      <td>-0.244025</td>\n",
       "      <td>-0.056305</td>\n",
       "    </tr>\n",
       "    <tr>\n",
       "      <th>evenTimeOnIce</th>\n",
       "      <td>0.377174</td>\n",
       "      <td>0.016848</td>\n",
       "      <td>-0.014459</td>\n",
       "      <td>-0.045709</td>\n",
       "      <td>0.098488</td>\n",
       "      <td>0.253318</td>\n",
       "      <td>-0.473263</td>\n",
       "      <td>-0.699930</td>\n",
       "      <td>-0.211025</td>\n",
       "      <td>-0.000322</td>\n",
       "      <td>0.081226</td>\n",
       "      <td>0.099187</td>\n",
       "      <td>0.166819</td>\n",
       "      <td>-0.045669</td>\n",
       "      <td>0.609688</td>\n",
       "      <td>1.000000</td>\n",
       "      <td>-0.704329</td>\n",
       "      <td>-0.704355</td>\n",
       "    </tr>\n",
       "    <tr>\n",
       "      <th>shortHandedTimeOnIce</th>\n",
       "      <td>-0.319614</td>\n",
       "      <td>-0.035961</td>\n",
       "      <td>0.027564</td>\n",
       "      <td>0.036049</td>\n",
       "      <td>-0.164846</td>\n",
       "      <td>-0.133942</td>\n",
       "      <td>0.531020</td>\n",
       "      <td>0.291043</td>\n",
       "      <td>0.141753</td>\n",
       "      <td>-0.031742</td>\n",
       "      <td>-0.079051</td>\n",
       "      <td>-0.055490</td>\n",
       "      <td>0.000232</td>\n",
       "      <td>0.042005</td>\n",
       "      <td>-0.244025</td>\n",
       "      <td>-0.704329</td>\n",
       "      <td>1.000000</td>\n",
       "      <td>0.250105</td>\n",
       "    </tr>\n",
       "    <tr>\n",
       "      <th>powerPlayTimeOnIce</th>\n",
       "      <td>-0.320463</td>\n",
       "      <td>-0.027887</td>\n",
       "      <td>-0.046930</td>\n",
       "      <td>-0.010313</td>\n",
       "      <td>0.119446</td>\n",
       "      <td>-0.182580</td>\n",
       "      <td>0.233566</td>\n",
       "      <td>0.921578</td>\n",
       "      <td>0.209193</td>\n",
       "      <td>0.032160</td>\n",
       "      <td>-0.011309</td>\n",
       "      <td>-0.073821</td>\n",
       "      <td>-0.183953</td>\n",
       "      <td>0.042009</td>\n",
       "      <td>-0.056305</td>\n",
       "      <td>-0.704355</td>\n",
       "      <td>0.250105</td>\n",
       "      <td>1.000000</td>\n",
       "    </tr>\n",
       "  </tbody>\n",
       "</table>\n",
       "</div>"
      ],
      "text/plain": [
       "                         game_id   team_id       won     goals     shots  \\\n",
       "game_id                 1.000000  0.122000  0.035644  0.037271  0.154728   \n",
       "team_id                 0.122000  1.000000 -0.001185 -0.007874 -0.019162   \n",
       "won                     0.035644 -0.001185  1.000000  0.596658  0.025200   \n",
       "goals                   0.037271 -0.007874  0.596658  1.000000  0.150048   \n",
       "shots                   0.154728 -0.019162  0.025200  0.150048  1.000000   \n",
       "hits                    0.342978  0.011246 -0.039339 -0.064944  0.050009   \n",
       "pim                    -0.282431 -0.044171 -0.040231  0.038303 -0.082409   \n",
       "powerPlayOpportunities -0.344502 -0.032043  0.014049  0.097074  0.120679   \n",
       "powerPlayGoals         -0.092124 -0.014289  0.240823  0.459827  0.083634   \n",
       "faceOffWinPercentage   -0.001894  0.009204  0.030458  0.035202  0.138162   \n",
       "giveaways               0.133770 -0.028017 -0.004803  0.012130  0.048839   \n",
       "takeaways               0.145461 -0.002926  0.104937  0.095462  0.099960   \n",
       "blocked                 0.278443 -0.005821  0.166406  0.093338 -0.074203   \n",
       "venue_time_zone_offset -0.200089 -0.455311 -0.001869 -0.005184  0.008603   \n",
       "timeOnIce               0.112090 -0.032154 -0.061166 -0.075527  0.196708   \n",
       "evenTimeOnIce           0.377174  0.016848 -0.014459 -0.045709  0.098488   \n",
       "shortHandedTimeOnIce   -0.319614 -0.035961  0.027564  0.036049 -0.164846   \n",
       "powerPlayTimeOnIce     -0.320463 -0.027887 -0.046930 -0.010313  0.119446   \n",
       "\n",
       "                            hits       pim  powerPlayOpportunities  \\\n",
       "game_id                 0.342978 -0.282431               -0.344502   \n",
       "team_id                 0.011246 -0.044171               -0.032043   \n",
       "won                    -0.039339 -0.040231                0.014049   \n",
       "goals                  -0.064944  0.038303                0.097074   \n",
       "shots                   0.050009 -0.082409                0.120679   \n",
       "hits                    1.000000 -0.062390               -0.187209   \n",
       "pim                    -0.062390  1.000000                0.290575   \n",
       "powerPlayOpportunities -0.187209  0.290575                1.000000   \n",
       "powerPlayGoals         -0.073287  0.125317                0.416477   \n",
       "faceOffWinPercentage    0.003448 -0.008737                0.045209   \n",
       "giveaways               0.202028 -0.067719               -0.011836   \n",
       "takeaways               0.165264 -0.068962               -0.059365   \n",
       "blocked                 0.291648 -0.063378               -0.163430   \n",
       "venue_time_zone_offset -0.014920  0.045888                0.047011   \n",
       "timeOnIce               0.188226 -0.219771               -0.102390   \n",
       "evenTimeOnIce           0.253318 -0.473263               -0.699930   \n",
       "shortHandedTimeOnIce   -0.133942  0.531020                0.291043   \n",
       "powerPlayTimeOnIce     -0.182580  0.233566                0.921578   \n",
       "\n",
       "                        powerPlayGoals  faceOffWinPercentage  giveaways  \\\n",
       "game_id                      -0.092124             -0.001894   0.133770   \n",
       "team_id                      -0.014289              0.009204  -0.028017   \n",
       "won                           0.240823              0.030458  -0.004803   \n",
       "goals                         0.459827              0.035202   0.012130   \n",
       "shots                         0.083634              0.138162   0.048839   \n",
       "hits                         -0.073287              0.003448   0.202028   \n",
       "pim                           0.125317             -0.008737  -0.067719   \n",
       "powerPlayOpportunities        0.416477              0.045209  -0.011836   \n",
       "powerPlayGoals                1.000000              0.024791  -0.001385   \n",
       "faceOffWinPercentage          0.024791              1.000000   0.068740   \n",
       "giveaways                    -0.001385              0.068740   1.000000   \n",
       "takeaways                     0.014879              0.059343   0.337996   \n",
       "blocked                       0.008025             -0.080402   0.226224   \n",
       "venue_time_zone_offset        0.010598              0.001420  -0.067296   \n",
       "timeOnIce                    -0.062093              0.006000   0.082148   \n",
       "evenTimeOnIce                -0.211025             -0.000322   0.081226   \n",
       "shortHandedTimeOnIce          0.141753             -0.031742  -0.079051   \n",
       "powerPlayTimeOnIce            0.209193              0.032160  -0.011309   \n",
       "\n",
       "                        takeaways   blocked  venue_time_zone_offset  \\\n",
       "game_id                  0.145461  0.278443               -0.200089   \n",
       "team_id                 -0.002926 -0.005821               -0.455311   \n",
       "won                      0.104937  0.166406               -0.001869   \n",
       "goals                    0.095462  0.093338               -0.005184   \n",
       "shots                    0.099960 -0.074203                0.008603   \n",
       "hits                     0.165264  0.291648               -0.014920   \n",
       "pim                     -0.068962 -0.063378                0.045888   \n",
       "powerPlayOpportunities  -0.059365 -0.163430                0.047011   \n",
       "powerPlayGoals           0.014879  0.008025                0.010598   \n",
       "faceOffWinPercentage     0.059343 -0.080402                0.001420   \n",
       "giveaways                0.337996  0.226224               -0.067296   \n",
       "takeaways                1.000000  0.225506               -0.000792   \n",
       "blocked                  0.225506  1.000000               -0.025018   \n",
       "venue_time_zone_offset  -0.000792 -0.025018                1.000000   \n",
       "timeOnIce                0.068147  0.131419               -0.006532   \n",
       "evenTimeOnIce            0.099187  0.166819               -0.045669   \n",
       "shortHandedTimeOnIce    -0.055490  0.000232                0.042005   \n",
       "powerPlayTimeOnIce      -0.073821 -0.183953                0.042009   \n",
       "\n",
       "                        timeOnIce  evenTimeOnIce  shortHandedTimeOnIce  \\\n",
       "game_id                  0.112090       0.377174             -0.319614   \n",
       "team_id                 -0.032154       0.016848             -0.035961   \n",
       "won                     -0.061166      -0.014459              0.027564   \n",
       "goals                   -0.075527      -0.045709              0.036049   \n",
       "shots                    0.196708       0.098488             -0.164846   \n",
       "hits                     0.188226       0.253318             -0.133942   \n",
       "pim                     -0.219771      -0.473263              0.531020   \n",
       "powerPlayOpportunities  -0.102390      -0.699930              0.291043   \n",
       "powerPlayGoals          -0.062093      -0.211025              0.141753   \n",
       "faceOffWinPercentage     0.006000      -0.000322             -0.031742   \n",
       "giveaways                0.082148       0.081226             -0.079051   \n",
       "takeaways                0.068147       0.099187             -0.055490   \n",
       "blocked                  0.131419       0.166819              0.000232   \n",
       "venue_time_zone_offset  -0.006532      -0.045669              0.042005   \n",
       "timeOnIce                1.000000       0.609688             -0.244025   \n",
       "evenTimeOnIce            0.609688       1.000000             -0.704329   \n",
       "shortHandedTimeOnIce    -0.244025      -0.704329              1.000000   \n",
       "powerPlayTimeOnIce      -0.056305      -0.704355              0.250105   \n",
       "\n",
       "                        powerPlayTimeOnIce  \n",
       "game_id                          -0.320463  \n",
       "team_id                          -0.027887  \n",
       "won                              -0.046930  \n",
       "goals                            -0.010313  \n",
       "shots                             0.119446  \n",
       "hits                             -0.182580  \n",
       "pim                               0.233566  \n",
       "powerPlayOpportunities            0.921578  \n",
       "powerPlayGoals                    0.209193  \n",
       "faceOffWinPercentage              0.032160  \n",
       "giveaways                        -0.011309  \n",
       "takeaways                        -0.073821  \n",
       "blocked                          -0.183953  \n",
       "venue_time_zone_offset            0.042009  \n",
       "timeOnIce                        -0.056305  \n",
       "evenTimeOnIce                    -0.704355  \n",
       "shortHandedTimeOnIce              0.250105  \n",
       "powerPlayTimeOnIce                1.000000  "
      ]
     },
     "execution_count": 84,
     "metadata": {},
     "output_type": "execute_result"
    }
   ],
   "source": [
    "data.corr()"
   ]
  },
  {
   "cell_type": "markdown",
   "id": "9113d618",
   "metadata": {},
   "source": [
    "<b>Correlation Heatmap</b>"
   ]
  },
  {
   "cell_type": "code",
   "execution_count": 87,
   "id": "5055c3d9",
   "metadata": {},
   "outputs": [
    {
     "data": {
      "text/plain": [
       "<AxesSubplot:>"
      ]
     },
     "execution_count": 87,
     "metadata": {},
     "output_type": "execute_result"
    },
    {
     "data": {
      "image/png": "[encoded data removed]",
      "text/plain": [
       "<Figure size 432x288 with 2 Axes>"
      ]
     },
     "metadata": {
      "needs_background": "light"
     },
     "output_type": "display_data"
    }
   ],
   "source": [
    "sns.heatmap(data.corr())"
   ]
  }
 ],
 "metadata": {
  "kernelspec": {
   "display_name": "Python 3",
   "language": "python",
   "name": "python3"
  },
  "language_info": {
   "codemirror_mode": {
    "name": "ipython",
    "version": 3
   },
   "file_extension": ".py",
   "mimetype": "text/x-python",
   "name": "python",
   "nbconvert_exporter": "python",
   "pygments_lexer": "ipython3",
   "version": "3.8.10"
  }
 },
 "nbformat": 4,
 "nbformat_minor": 5
}
