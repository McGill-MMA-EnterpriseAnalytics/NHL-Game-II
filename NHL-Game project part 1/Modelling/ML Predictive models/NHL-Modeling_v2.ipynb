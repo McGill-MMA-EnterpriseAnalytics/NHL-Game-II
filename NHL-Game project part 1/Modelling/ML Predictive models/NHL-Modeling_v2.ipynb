{
 "cells": [
  {
   "cell_type": "markdown",
   "id": "dd854976",
   "metadata": {},
   "source": [
    "@author: Betty Au (bettyau), Claire Cai (ClaireCai97)"
   ]
  },
  {
   "cell_type": "markdown",
   "id": "05bed39a",
   "metadata": {},
   "source": [
    "# Step 5: Modeling"
   ]
  },
  {
   "cell_type": "markdown",
   "id": "2c47b2e8",
   "metadata": {},
   "source": [
    "We will examine supervised machine learning models on sports betting of NHL hockey data. The target and control features are defined as follows: <br>\n",
    "- <b>Target Feature</b>: ```won``` <br>\n",
    "- <b>Control Features</b>: ```pim```, ```powerPlayGoals```, ```faceOffWinPercentage```, ```shots```, ```goals```, ```takeaways```, ```hits```, ```blockedShots```, ```giveaways```, ```missedShots```, ```penalties```, ```timeOnIce```, ```evenTimeOnIce```, ```shortHandedTimeOnIce```, ```powerPlayTimeOnIce```, ```hoa_away```, ```hoa_home```, ```settledIn_OT```, ```settledIn_REG```, ```startRinkSide_left```, ```startRinkSide_right```,\n",
    "```goalieReplacement_No```, ```goalieReplacement_Yes``` <br>\n",
    "\n",
    "The modeling objective is to investigate factors that contribute to the outcome of a hockey game and predict which NHL hockey team will win a game. The results can be used to make data-driven decisions regarding the game's outcome. The following set of models is used:\n",
    "- <b>Logistic Regression</b>\n",
    "- <b>Artificial Neural Networks</b>\n",
    "- <b>Random Forest</b>\n",
    "- <b>Gradient Boosting</b>\n",
    "\n",
    "Specifically, logistic regression will serve as a baseline model for the classification problem and the rest of the classification models will be built and compared against its model performance, as well as feature importance. "
   ]
  },
  {
   "cell_type": "markdown",
   "id": "272f6635",
   "metadata": {},
   "source": [
    "## 5.1 Load Libraries"
   ]
  },
  {
   "cell_type": "code",
   "execution_count": 1,
   "id": "e2473c72",
   "metadata": {},
   "outputs": [],
   "source": [
    "import os\n",
    "import pandas as pd\n",
    "import matplotlib.pyplot as plt\n",
    "\n",
    "from sklearn.model_selection import train_test_split\n",
    "from sklearn.preprocessing import StandardScaler\n",
    "\n",
    "from sklearn import ensemble, model_selection, metrics\n",
    "from sklearn.linear_model import LogisticRegression\n",
    "from sklearn.neural_network import MLPClassifier\n",
    "from sklearn.ensemble import RandomForestClassifier\n",
    "from sklearn.ensemble import GradientBoostingClassifier\n",
    "\n",
    "from sklearn.metrics import (\n",
    "    confusion_matrix, \n",
    "    accuracy_score, \n",
    "    precision_recall_curve,\n",
    "    average_precision_score,\n",
    "    roc_curve,\n",
    "    roc_auc_score,\n",
    "    classification_report,\n",
    "    plot_confusion_matrix\n",
    ")\n",
    "\n",
    "# Where to save the figures\n",
    "PROJECT_ROOT_DIR = \".\"\n",
    "CHAPTER_ID = \"INSY695_Group_Project\"\n",
    "IMAGES_PATH = os.path.join(PROJECT_ROOT_DIR, \"images\", CHAPTER_ID)\n",
    "os.makedirs(IMAGES_PATH, exist_ok=True)"
   ]
  },
  {
   "cell_type": "markdown",
   "id": "fd00c6a5",
   "metadata": {},
   "source": [
    "## 5.2 Data import"
   ]
  },
  {
   "cell_type": "code",
   "execution_count": 2,
   "id": "f96f7b7e",
   "metadata": {},
   "outputs": [],
   "source": [
    "df = pd.read_csv(\"/Users/bettyau/Downloads/readyformodel_V2.1.csv\")\n",
    "\n",
    "# define x and y\n",
    "X, y = df.drop(['won'], axis=1), df.won\n",
    "\n",
    "# split the data \n",
    "X_train, X_test, y_train, y_test = train_test_split(X, y, test_size=0.2, random_state=5)"
   ]
  },
  {
   "cell_type": "code",
   "execution_count": 3,
   "id": "8976d2ca",
   "metadata": {},
   "outputs": [],
   "source": [
    "# standarize the dataset\n",
    "scaler = StandardScaler()\n",
    "\n",
    "X_train_sc = scaler.fit_transform(X_train)\n",
    "X_test_sc= scaler.fit_transform(X_test) # scaler.transform(X_test)"
   ]
  },
  {
   "cell_type": "markdown",
   "id": "58508095",
   "metadata": {},
   "source": [
    "## 5.3 Helpful function"
   ]
  },
  {
   "cell_type": "code",
   "execution_count": 4,
   "id": "d444e1bc",
   "metadata": {},
   "outputs": [],
   "source": [
    "def save_fig(fig_id, tight_layout=True, fig_extension=\"png\", resolution=300):\n",
    "    path = os.path.join(IMAGES_PATH, fig_id + \".\" + fig_extension)\n",
    "    print(\"Saving figure\", fig_id)\n",
    "    if tight_layout:\n",
    "        plt.tight_layout()\n",
    "    plt.savefig(path, format=fig_extension, dpi=resolution)"
   ]
  },
  {
   "cell_type": "markdown",
   "id": "d90cb38e",
   "metadata": {},
   "source": [
    "### Classification report"
   ]
  },
  {
   "cell_type": "code",
   "execution_count": 5,
   "id": "6b961ed8",
   "metadata": {},
   "outputs": [],
   "source": [
    "def clf_score(clf, X_train, y_train, X_val, y_val, train=True):\n",
    "    if train:\n",
    "        print(\"Train Result:\\n\")\n",
    "        print(\"accuracy score: {0:.4f}\\n\".format(accuracy_score(y_train, clf.predict(X_train))))\n",
    "        print(\"Classification Report: \\n {}\\n\".format(classification_report(y_train, clf.predict(X_train))))\n",
    "        print(\"Confusion Matrix: \\n {}\\n\".format(confusion_matrix(y_train, clf.predict(X_train))))\n",
    "\n",
    "        res = cross_val_score(clf, X_train, y_train, cv=10, scoring='accuracy')\n",
    "        print(\"Average Accuracy: \\t {0:.4f}\".format(np.mean(res)))\n",
    "        print(\"Accuracy SD: \\t\\t {0:.4f}\".format(np.std(res)))\n",
    "\n",
    "    elif train == False:\n",
    "        print(\"Validation Result:\\n\")\n",
    "        print(\"accuracy score: {0:.4f}\\n\".format(accuracy_score(y_val, clf.predict(X_val))))\n",
    "        \n",
    "        precision, recall, _ = precision_recall_curve(y_val, clf.predict(X_val))\n",
    "        average_precision = average_precision_score(y_val, clf.predict(X_val))\n",
    "        plot_pr_curve(precision, recall, average_precision)\n",
    "        \n",
    "        fpr, tpr, _ = roc_curve(y_val, clf.predict(X_val))\n",
    "        roc_auc = roc_auc_score(y_val, clf.predict(X_val))\n",
    "        print(\"roc auc score: {}\\n\".format(roc_auc))\n",
    "        plot_roc_curve(fpr, tpr, roc_auc)\n",
    "        \n",
    "        print(\"Classification Report: \\n {}\\n\".format(classification_report(y_val, clf.predict(X_val))))\n",
    "        print(\"Confusion Matrix: \\n {}\\n\".format(confusion_matrix(y_val, clf.predict(X_val))))\n",
    "        plot_confusion_matrix(clf,  X_val, clf.predict(X_val))\n",
    "        print(\"End of validation Result\\n\")"
   ]
  },
  {
   "cell_type": "markdown",
   "id": "6ca68eaa",
   "metadata": {},
   "source": [
    "### PR Curve"
   ]
  },
  {
   "cell_type": "code",
   "execution_count": 6,
   "id": "7b7ca0cc",
   "metadata": {},
   "outputs": [],
   "source": [
    "def plot_pr_curve(precision, recall, average_precision):\n",
    "    plt.step(recall, precision, color='b', alpha=0.2, where='post')\n",
    "    plt.fill_between(recall, precision, step='post', alpha=0.2, color='b')   \n",
    "    plt.xlabel('Recall')\n",
    "    plt.ylabel('Precision')\n",
    "    plt.ylim([0.0, 1.05])\n",
    "    plt.xlim([0.0, 1.0])\n",
    "    plt.title('2-class Precision-Recall curve: AP={0:0.2f}'.format(average_precision))\n",
    "    plt.show()"
   ]
  },
  {
   "cell_type": "markdown",
   "id": "a1edfe01",
   "metadata": {},
   "source": [
    "### ROC Curve"
   ]
  },
  {
   "cell_type": "code",
   "execution_count": 7,
   "id": "c47ef758",
   "metadata": {},
   "outputs": [],
   "source": [
    "def plot_roc_curve(fpr, tpr, roc_auc):\n",
    "    plt.title('Receiver Operating Characteristic')\n",
    "    plt.plot(fpr, tpr, 'b', label = 'AUC = %0.2f' % roc_auc)\n",
    "    plt.legend(loc = 'lower right')\n",
    "    plt.plot([0, 1], [0, 1],'r--')\n",
    "    plt.xlim([0, 1])\n",
    "    plt.ylim([0, 1])\n",
    "    plt.ylabel('True Positive Rate')\n",
    "    plt.xlabel('False Positive Rate')\n",
    "    plt.show()"
   ]
  },
  {
   "cell_type": "markdown",
   "id": "b255be0a",
   "metadata": {},
   "source": [
    "## 5.4 Build Model"
   ]
  },
  {
   "cell_type": "markdown",
   "id": "138afd05",
   "metadata": {},
   "source": [
    "### 5.4.1 Logistic Regression"
   ]
  },
  {
   "cell_type": "code",
   "execution_count": 8,
   "id": "4d62111b",
   "metadata": {},
   "outputs": [],
   "source": [
    "lr = LogisticRegression()\n",
    "model1 = lr.fit(X_train_sc, y_train)"
   ]
  },
  {
   "cell_type": "code",
   "execution_count": 9,
   "id": "48d99ecc",
   "metadata": {},
   "outputs": [
    {
     "name": "stdout",
     "output_type": "stream",
     "text": [
      "0.6689294026377036\n"
     ]
    }
   ],
   "source": [
    "# cross-validation\n",
    "y_test_pred = model1.predict(X_test_sc)\n",
    "accuracy_lr = metrics.accuracy_score(y_test, y_test_pred)\n",
    "print(accuracy_lr)"
   ]
  },
  {
   "cell_type": "code",
   "execution_count": 10,
   "id": "75186230",
   "metadata": {},
   "outputs": [
    {
     "data": {
      "text/html": [
       "<div>\n",
       "<style scoped>\n",
       "    .dataframe tbody tr th:only-of-type {\n",
       "        vertical-align: middle;\n",
       "    }\n",
       "\n",
       "    .dataframe tbody tr th {\n",
       "        vertical-align: top;\n",
       "    }\n",
       "\n",
       "    .dataframe thead th {\n",
       "        text-align: right;\n",
       "    }\n",
       "</style>\n",
       "<table border=\"1\" class=\"dataframe\">\n",
       "  <thead>\n",
       "    <tr style=\"text-align: right;\">\n",
       "      <th></th>\n",
       "      <th>predictor</th>\n",
       "      <th>feature importance</th>\n",
       "    </tr>\n",
       "  </thead>\n",
       "  <tbody>\n",
       "    <tr>\n",
       "      <th>18</th>\n",
       "      <td>settledIn_REG</td>\n",
       "      <td>1.214892</td>\n",
       "    </tr>\n",
       "    <tr>\n",
       "      <th>17</th>\n",
       "      <td>settledIn_OT</td>\n",
       "      <td>1.181894</td>\n",
       "    </tr>\n",
       "    <tr>\n",
       "      <th>4</th>\n",
       "      <td>goals</td>\n",
       "      <td>0.585512</td>\n",
       "    </tr>\n",
       "    <tr>\n",
       "      <th>1</th>\n",
       "      <td>powerPlayGoals</td>\n",
       "      <td>0.380196</td>\n",
       "    </tr>\n",
       "    <tr>\n",
       "      <th>21</th>\n",
       "      <td>goalieReplacement_No</td>\n",
       "      <td>0.268579</td>\n",
       "    </tr>\n",
       "    <tr>\n",
       "      <th>16</th>\n",
       "      <td>hoa_home</td>\n",
       "      <td>0.087368</td>\n",
       "    </tr>\n",
       "    <tr>\n",
       "      <th>13</th>\n",
       "      <td>shortHandedTimeOnIce</td>\n",
       "      <td>0.084293</td>\n",
       "    </tr>\n",
       "    <tr>\n",
       "      <th>3</th>\n",
       "      <td>shots</td>\n",
       "      <td>0.024857</td>\n",
       "    </tr>\n",
       "    <tr>\n",
       "      <th>2</th>\n",
       "      <td>faceOffWinPercentage</td>\n",
       "      <td>0.017338</td>\n",
       "    </tr>\n",
       "    <tr>\n",
       "      <th>9</th>\n",
       "      <td>missedShots</td>\n",
       "      <td>0.006951</td>\n",
       "    </tr>\n",
       "    <tr>\n",
       "      <th>20</th>\n",
       "      <td>startRinkSide_right</td>\n",
       "      <td>0.005182</td>\n",
       "    </tr>\n",
       "    <tr>\n",
       "      <th>19</th>\n",
       "      <td>startRinkSide_left</td>\n",
       "      <td>-0.005182</td>\n",
       "    </tr>\n",
       "    <tr>\n",
       "      <th>5</th>\n",
       "      <td>takeaways</td>\n",
       "      <td>-0.016745</td>\n",
       "    </tr>\n",
       "    <tr>\n",
       "      <th>7</th>\n",
       "      <td>blockedShots</td>\n",
       "      <td>-0.022160</td>\n",
       "    </tr>\n",
       "    <tr>\n",
       "      <th>6</th>\n",
       "      <td>hits</td>\n",
       "      <td>-0.047984</td>\n",
       "    </tr>\n",
       "    <tr>\n",
       "      <th>8</th>\n",
       "      <td>giveaways</td>\n",
       "      <td>-0.053044</td>\n",
       "    </tr>\n",
       "    <tr>\n",
       "      <th>12</th>\n",
       "      <td>evenTimeOnIce</td>\n",
       "      <td>-0.077128</td>\n",
       "    </tr>\n",
       "    <tr>\n",
       "      <th>10</th>\n",
       "      <td>penalties</td>\n",
       "      <td>-0.082075</td>\n",
       "    </tr>\n",
       "    <tr>\n",
       "      <th>15</th>\n",
       "      <td>hoa_away</td>\n",
       "      <td>-0.087368</td>\n",
       "    </tr>\n",
       "    <tr>\n",
       "      <th>11</th>\n",
       "      <td>timeOnIce</td>\n",
       "      <td>-0.153122</td>\n",
       "    </tr>\n",
       "    <tr>\n",
       "      <th>0</th>\n",
       "      <td>pim</td>\n",
       "      <td>-0.154291</td>\n",
       "    </tr>\n",
       "    <tr>\n",
       "      <th>14</th>\n",
       "      <td>powerPlayTimeOnIce</td>\n",
       "      <td>-0.207012</td>\n",
       "    </tr>\n",
       "    <tr>\n",
       "      <th>22</th>\n",
       "      <td>goalieReplacement_Yes</td>\n",
       "      <td>-0.268579</td>\n",
       "    </tr>\n",
       "  </tbody>\n",
       "</table>\n",
       "</div>"
      ],
      "text/plain": [
       "                predictor  feature importance\n",
       "18          settledIn_REG            1.214892\n",
       "17           settledIn_OT            1.181894\n",
       "4                   goals            0.585512\n",
       "1          powerPlayGoals            0.380196\n",
       "21   goalieReplacement_No            0.268579\n",
       "16               hoa_home            0.087368\n",
       "13   shortHandedTimeOnIce            0.084293\n",
       "3                   shots            0.024857\n",
       "2    faceOffWinPercentage            0.017338\n",
       "9             missedShots            0.006951\n",
       "20    startRinkSide_right            0.005182\n",
       "19     startRinkSide_left           -0.005182\n",
       "5               takeaways           -0.016745\n",
       "7            blockedShots           -0.022160\n",
       "6                    hits           -0.047984\n",
       "8               giveaways           -0.053044\n",
       "12          evenTimeOnIce           -0.077128\n",
       "10              penalties           -0.082075\n",
       "15               hoa_away           -0.087368\n",
       "11              timeOnIce           -0.153122\n",
       "0                     pim           -0.154291\n",
       "14     powerPlayTimeOnIce           -0.207012\n",
       "22  goalieReplacement_Yes           -0.268579"
      ]
     },
     "execution_count": 10,
     "metadata": {},
     "output_type": "execute_result"
    }
   ],
   "source": [
    "# get importance\n",
    "importance = model1.coef_[0]\n",
    "\n",
    "# summarize feature importance\n",
    "pd.DataFrame(list(zip(X_train.columns, importance)), \n",
    "             columns = ['predictor','feature importance']).sort_values(\"feature importance\", ascending = False)"
   ]
  },
  {
   "cell_type": "code",
   "execution_count": 11,
   "id": "0b82ae7e",
   "metadata": {},
   "outputs": [
    {
     "data": {
      "image/png": "[encoded data removed]",
      "text/plain": [
       "<Figure size 432x288 with 1 Axes>"
      ]
     },
     "metadata": {
      "needs_background": "light"
     },
     "output_type": "display_data"
    }
   ],
   "source": [
    "# plot feature importance\n",
    "plt.bar([x for x in range(len(importance))], importance)\n",
    "plt.show()"
   ]
  },
  {
   "cell_type": "code",
   "execution_count": 12,
   "id": "4f1a354e",
   "metadata": {},
   "outputs": [
    {
     "name": "stdout",
     "output_type": "stream",
     "text": [
      "Validation Result:\n",
      "\n",
      "accuracy score: 0.6689\n",
      "\n"
     ]
    },
    {
     "data": {
      "image/png": "[encoded data removed]",
      "text/plain": [
       "<Figure size 432x288 with 1 Axes>"
      ]
     },
     "metadata": {
      "needs_background": "light"
     },
     "output_type": "display_data"
    },
    {
     "name": "stdout",
     "output_type": "stream",
     "text": [
      "roc auc score: 0.6677571254906322\n",
      "\n"
     ]
    },
    {
     "data": {
      "image/png": "[encoded data removed]",
      "text/plain": [
       "<Figure size 432x288 with 1 Axes>"
      ]
     },
     "metadata": {
      "needs_background": "light"
     },
     "output_type": "display_data"
    },
    {
     "name": "stdout",
     "output_type": "stream",
     "text": [
      "Classification Report: \n",
      "               precision    recall  f1-score   support\n",
      "\n",
      "           0       0.66      0.73      0.69      5257\n",
      "           1       0.68      0.61      0.64      5055\n",
      "\n",
      "    accuracy                           0.67     10312\n",
      "   macro avg       0.67      0.67      0.67     10312\n",
      "weighted avg       0.67      0.67      0.67     10312\n",
      "\n",
      "\n",
      "Confusion Matrix: \n",
      " [[3825 1432]\n",
      " [1982 3073]]\n",
      "\n",
      "End of validation Result\n",
      "\n"
     ]
    },
    {
     "name": "stderr",
     "output_type": "stream",
     "text": [
      "/Users/bettyau/opt/anaconda3/lib/python3.9/site-packages/sklearn/utils/deprecation.py:87: FutureWarning: Function plot_confusion_matrix is deprecated; Function `plot_confusion_matrix` is deprecated in 1.0 and will be removed in 1.2. Use one of the class methods: ConfusionMatrixDisplay.from_predictions or ConfusionMatrixDisplay.from_estimator.\n",
      "  warnings.warn(msg, category=FutureWarning)\n"
     ]
    },
    {
     "data": {
      "image/png": "[encoded data removed]",
      "text/plain": [
       "<Figure size 432x288 with 2 Axes>"
      ]
     },
     "metadata": {
      "needs_background": "light"
     },
     "output_type": "display_data"
    }
   ],
   "source": [
    "# classfication report\n",
    "clf_score(model1, X_train_sc, y_train, X_test_sc, y_test, train=False)"
   ]
  },
  {
   "cell_type": "markdown",
   "id": "669bf295",
   "metadata": {},
   "source": [
    "### 5.4.2 ANN"
   ]
  },
  {
   "cell_type": "code",
   "execution_count": 13,
   "id": "5b1378e0",
   "metadata": {},
   "outputs": [],
   "source": [
    "mlp = MLPClassifier(hidden_layer_sizes = (5),max_iter = 1000, random_state = 5) \n",
    "model2 = mlp.fit(X_train_sc, y_train)"
   ]
  },
  {
   "cell_type": "code",
   "execution_count": 14,
   "id": "b3763948",
   "metadata": {
    "scrolled": true
   },
   "outputs": [
    {
     "name": "stdout",
     "output_type": "stream",
     "text": [
      "0.6938518231186966\n"
     ]
    }
   ],
   "source": [
    "# cross-validation\n",
    "y_test_pred = model2.predict(X_test_sc)\n",
    "accuracy_ANN = metrics.accuracy_score(y_test, y_test_pred)\n",
    "print(accuracy_ANN) "
   ]
  },
  {
   "cell_type": "code",
   "execution_count": 15,
   "id": "ceb08f4a",
   "metadata": {},
   "outputs": [
    {
     "name": "stdout",
     "output_type": "stream",
     "text": [
      "Validation Result:\n",
      "\n",
      "accuracy score: 0.6939\n",
      "\n"
     ]
    },
    {
     "data": {
      "image/png": "[encoded data removed]",
      "text/plain": [
       "<Figure size 432x288 with 1 Axes>"
      ]
     },
     "metadata": {
      "needs_background": "light"
     },
     "output_type": "display_data"
    },
    {
     "name": "stdout",
     "output_type": "stream",
     "text": [
      "roc auc score: 0.692417363726044\n",
      "\n"
     ]
    },
    {
     "data": {
      "image/png": "[encoded data removed]",
      "text/plain": [
       "<Figure size 432x288 with 1 Axes>"
      ]
     },
     "metadata": {
      "needs_background": "light"
     },
     "output_type": "display_data"
    },
    {
     "name": "stdout",
     "output_type": "stream",
     "text": [
      "Classification Report: \n",
      "               precision    recall  f1-score   support\n",
      "\n",
      "           0       0.68      0.77      0.72      5257\n",
      "           1       0.72      0.62      0.66      5055\n",
      "\n",
      "    accuracy                           0.69     10312\n",
      "   macro avg       0.70      0.69      0.69     10312\n",
      "weighted avg       0.70      0.69      0.69     10312\n",
      "\n",
      "\n",
      "Confusion Matrix: \n",
      " [[4025 1232]\n",
      " [1925 3130]]\n",
      "\n",
      "End of validation Result\n",
      "\n"
     ]
    },
    {
     "name": "stderr",
     "output_type": "stream",
     "text": [
      "/Users/bettyau/opt/anaconda3/lib/python3.9/site-packages/sklearn/utils/deprecation.py:87: FutureWarning: Function plot_confusion_matrix is deprecated; Function `plot_confusion_matrix` is deprecated in 1.0 and will be removed in 1.2. Use one of the class methods: ConfusionMatrixDisplay.from_predictions or ConfusionMatrixDisplay.from_estimator.\n",
      "  warnings.warn(msg, category=FutureWarning)\n"
     ]
    },
    {
     "data": {
      "image/png": "[encoded data removed]",
      "text/plain": [
       "<Figure size 432x288 with 2 Axes>"
      ]
     },
     "metadata": {
      "needs_background": "light"
     },
     "output_type": "display_data"
    }
   ],
   "source": [
    "# classfication report\n",
    "clf_score(model2, X_train_sc, y_train, X_test_sc, y_test, train=False)"
   ]
  },
  {
   "cell_type": "markdown",
   "id": "0ceeb736",
   "metadata": {},
   "source": [
    "In ANN there is no clear heuristic way to perform feature importance.\n",
    "\n",
    "There are two very popular alternative approaches:\n",
    "\n",
    "1. CW - Connection weight algorithm\n",
    "2. Garson's algorithm\n",
    "\n",
    "Both provide a calculated relative score of each feature's importance. There are many resources debating which is better, including more algorithms of the same family. We will explore these two approaches in the second half of the course. "
   ]
  },
  {
   "cell_type": "markdown",
   "id": "cc926ca9",
   "metadata": {},
   "source": [
    "### 5.4.3 Random Forest"
   ]
  },
  {
   "cell_type": "code",
   "execution_count": 16,
   "id": "aaf5ca8a",
   "metadata": {},
   "outputs": [],
   "source": [
    "randomforest = RandomForestClassifier(random_state = 5,oob_score = True) \n",
    "model3 = randomforest.fit(X_train, y_train)"
   ]
  },
  {
   "cell_type": "code",
   "execution_count": 17,
   "id": "c1fa6ffd",
   "metadata": {},
   "outputs": [
    {
     "data": {
      "text/plain": [
       "0.7523821069220512"
      ]
     },
     "execution_count": 17,
     "metadata": {},
     "output_type": "execute_result"
    }
   ],
   "source": [
    "# cross-validation\n",
    "model3.oob_score_ "
   ]
  },
  {
   "cell_type": "code",
   "execution_count": 18,
   "id": "dc239355",
   "metadata": {},
   "outputs": [
    {
     "data": {
      "text/html": [
       "<div>\n",
       "<style scoped>\n",
       "    .dataframe tbody tr th:only-of-type {\n",
       "        vertical-align: middle;\n",
       "    }\n",
       "\n",
       "    .dataframe tbody tr th {\n",
       "        vertical-align: top;\n",
       "    }\n",
       "\n",
       "    .dataframe thead th {\n",
       "        text-align: right;\n",
       "    }\n",
       "</style>\n",
       "<table border=\"1\" class=\"dataframe\">\n",
       "  <thead>\n",
       "    <tr style=\"text-align: right;\">\n",
       "      <th></th>\n",
       "      <th>predictor</th>\n",
       "      <th>feature importance</th>\n",
       "    </tr>\n",
       "  </thead>\n",
       "  <tbody>\n",
       "    <tr>\n",
       "      <th>11</th>\n",
       "      <td>timeOnIce</td>\n",
       "      <td>0.164544</td>\n",
       "    </tr>\n",
       "    <tr>\n",
       "      <th>13</th>\n",
       "      <td>shortHandedTimeOnIce</td>\n",
       "      <td>0.107938</td>\n",
       "    </tr>\n",
       "    <tr>\n",
       "      <th>12</th>\n",
       "      <td>evenTimeOnIce</td>\n",
       "      <td>0.102960</td>\n",
       "    </tr>\n",
       "    <tr>\n",
       "      <th>14</th>\n",
       "      <td>powerPlayTimeOnIce</td>\n",
       "      <td>0.094662</td>\n",
       "    </tr>\n",
       "    <tr>\n",
       "      <th>4</th>\n",
       "      <td>goals</td>\n",
       "      <td>0.079308</td>\n",
       "    </tr>\n",
       "    <tr>\n",
       "      <th>0</th>\n",
       "      <td>pim</td>\n",
       "      <td>0.072245</td>\n",
       "    </tr>\n",
       "    <tr>\n",
       "      <th>2</th>\n",
       "      <td>faceOffWinPercentage</td>\n",
       "      <td>0.043572</td>\n",
       "    </tr>\n",
       "    <tr>\n",
       "      <th>10</th>\n",
       "      <td>penalties</td>\n",
       "      <td>0.039125</td>\n",
       "    </tr>\n",
       "    <tr>\n",
       "      <th>6</th>\n",
       "      <td>hits</td>\n",
       "      <td>0.033681</td>\n",
       "    </tr>\n",
       "    <tr>\n",
       "      <th>3</th>\n",
       "      <td>shots</td>\n",
       "      <td>0.032469</td>\n",
       "    </tr>\n",
       "    <tr>\n",
       "      <th>1</th>\n",
       "      <td>powerPlayGoals</td>\n",
       "      <td>0.029372</td>\n",
       "    </tr>\n",
       "    <tr>\n",
       "      <th>7</th>\n",
       "      <td>blockedShots</td>\n",
       "      <td>0.029076</td>\n",
       "    </tr>\n",
       "    <tr>\n",
       "      <th>9</th>\n",
       "      <td>missedShots</td>\n",
       "      <td>0.027490</td>\n",
       "    </tr>\n",
       "    <tr>\n",
       "      <th>8</th>\n",
       "      <td>giveaways</td>\n",
       "      <td>0.027040</td>\n",
       "    </tr>\n",
       "    <tr>\n",
       "      <th>5</th>\n",
       "      <td>takeaways</td>\n",
       "      <td>0.024540</td>\n",
       "    </tr>\n",
       "    <tr>\n",
       "      <th>21</th>\n",
       "      <td>goalieReplacement_No</td>\n",
       "      <td>0.020668</td>\n",
       "    </tr>\n",
       "    <tr>\n",
       "      <th>22</th>\n",
       "      <td>goalieReplacement_Yes</td>\n",
       "      <td>0.018583</td>\n",
       "    </tr>\n",
       "    <tr>\n",
       "      <th>20</th>\n",
       "      <td>startRinkSide_right</td>\n",
       "      <td>0.010247</td>\n",
       "    </tr>\n",
       "    <tr>\n",
       "      <th>19</th>\n",
       "      <td>startRinkSide_left</td>\n",
       "      <td>0.010165</td>\n",
       "    </tr>\n",
       "    <tr>\n",
       "      <th>17</th>\n",
       "      <td>settledIn_OT</td>\n",
       "      <td>0.009382</td>\n",
       "    </tr>\n",
       "    <tr>\n",
       "      <th>18</th>\n",
       "      <td>settledIn_REG</td>\n",
       "      <td>0.008185</td>\n",
       "    </tr>\n",
       "    <tr>\n",
       "      <th>16</th>\n",
       "      <td>hoa_home</td>\n",
       "      <td>0.007403</td>\n",
       "    </tr>\n",
       "    <tr>\n",
       "      <th>15</th>\n",
       "      <td>hoa_away</td>\n",
       "      <td>0.007345</td>\n",
       "    </tr>\n",
       "  </tbody>\n",
       "</table>\n",
       "</div>"
      ],
      "text/plain": [
       "                predictor  feature importance\n",
       "11              timeOnIce            0.164544\n",
       "13   shortHandedTimeOnIce            0.107938\n",
       "12          evenTimeOnIce            0.102960\n",
       "14     powerPlayTimeOnIce            0.094662\n",
       "4                   goals            0.079308\n",
       "0                     pim            0.072245\n",
       "2    faceOffWinPercentage            0.043572\n",
       "10              penalties            0.039125\n",
       "6                    hits            0.033681\n",
       "3                   shots            0.032469\n",
       "1          powerPlayGoals            0.029372\n",
       "7            blockedShots            0.029076\n",
       "9             missedShots            0.027490\n",
       "8               giveaways            0.027040\n",
       "5               takeaways            0.024540\n",
       "21   goalieReplacement_No            0.020668\n",
       "22  goalieReplacement_Yes            0.018583\n",
       "20    startRinkSide_right            0.010247\n",
       "19     startRinkSide_left            0.010165\n",
       "17           settledIn_OT            0.009382\n",
       "18          settledIn_REG            0.008185\n",
       "16               hoa_home            0.007403\n",
       "15               hoa_away            0.007345"
      ]
     },
     "execution_count": 18,
     "metadata": {},
     "output_type": "execute_result"
    }
   ],
   "source": [
    "# get importance\n",
    "importance = model3.feature_importances_\n",
    "\n",
    "# summarize feature importance\n",
    "pd.DataFrame(list(zip(X_train.columns, importance)), \n",
    "             columns = ['predictor','feature importance']).sort_values(\"feature importance\", ascending = False)"
   ]
  },
  {
   "cell_type": "code",
   "execution_count": 19,
   "id": "dfb1c0f2",
   "metadata": {},
   "outputs": [
    {
     "data": {
      "image/png": "[encoded data removed]",
      "text/plain": [
       "<Figure size 432x288 with 1 Axes>"
      ]
     },
     "metadata": {
      "needs_background": "light"
     },
     "output_type": "display_data"
    }
   ],
   "source": [
    "# plot feature importance\n",
    "plt.bar([x for x in range(len(importance))], importance)\n",
    "plt.show()"
   ]
  },
  {
   "cell_type": "code",
   "execution_count": 20,
   "id": "eb78fa8b",
   "metadata": {},
   "outputs": [
    {
     "name": "stdout",
     "output_type": "stream",
     "text": [
      "Validation Result:\n",
      "\n",
      "accuracy score: 0.7638\n",
      "\n"
     ]
    },
    {
     "data": {
      "image/png": "[encoded data removed]",
      "text/plain": [
       "<Figure size 432x288 with 1 Axes>"
      ]
     },
     "metadata": {
      "needs_background": "light"
     },
     "output_type": "display_data"
    },
    {
     "name": "stdout",
     "output_type": "stream",
     "text": [
      "roc auc score: 0.7631589889943737\n",
      "\n"
     ]
    },
    {
     "data": {
      "image/png": "[encoded data removed]",
      "text/plain": [
       "<Figure size 432x288 with 1 Axes>"
      ]
     },
     "metadata": {
      "needs_background": "light"
     },
     "output_type": "display_data"
    },
    {
     "name": "stdout",
     "output_type": "stream",
     "text": [
      "Classification Report: \n",
      "               precision    recall  f1-score   support\n",
      "\n",
      "           0       0.76      0.79      0.77      5257\n",
      "           1       0.77      0.73      0.75      5055\n",
      "\n",
      "    accuracy                           0.76     10312\n",
      "   macro avg       0.76      0.76      0.76     10312\n",
      "weighted avg       0.76      0.76      0.76     10312\n",
      "\n",
      "\n",
      "Confusion Matrix: \n",
      " [[4176 1081]\n",
      " [1355 3700]]\n",
      "\n"
     ]
    },
    {
     "name": "stderr",
     "output_type": "stream",
     "text": [
      "/Users/bettyau/opt/anaconda3/lib/python3.9/site-packages/sklearn/utils/deprecation.py:87: FutureWarning: Function plot_confusion_matrix is deprecated; Function `plot_confusion_matrix` is deprecated in 1.0 and will be removed in 1.2. Use one of the class methods: ConfusionMatrixDisplay.from_predictions or ConfusionMatrixDisplay.from_estimator.\n",
      "  warnings.warn(msg, category=FutureWarning)\n"
     ]
    },
    {
     "name": "stdout",
     "output_type": "stream",
     "text": [
      "End of validation Result\n",
      "\n"
     ]
    },
    {
     "data": {
      "image/png": "[encoded data removed]",
      "text/plain": [
       "<Figure size 432x288 with 2 Axes>"
      ]
     },
     "metadata": {
      "needs_background": "light"
     },
     "output_type": "display_data"
    }
   ],
   "source": [
    "# classification report\n",
    "clf_score(model3, X_train, y_train, X_test, y_test, train=False)"
   ]
  },
  {
   "cell_type": "markdown",
   "id": "ff743252",
   "metadata": {},
   "source": [
    "### 5.4.4 Gradient Boosting"
   ]
  },
  {
   "cell_type": "code",
   "execution_count": 21,
   "id": "3231232e",
   "metadata": {},
   "outputs": [],
   "source": [
    "gbt = GradientBoostingClassifier(random_state = 5)\n",
    "model4 = gbt.fit(X_train_sc, y_train)"
   ]
  },
  {
   "cell_type": "code",
   "execution_count": 22,
   "id": "fb1b8710",
   "metadata": {},
   "outputs": [
    {
     "name": "stdout",
     "output_type": "stream",
     "text": [
      "0.7190651667959659\n"
     ]
    }
   ],
   "source": [
    "# cross-validation\n",
    "y_test_pred = model4.predict(X_test_sc)\n",
    "accuracy_gbt=metrics.accuracy_score(y_test, y_test_pred)\n",
    "print(accuracy_gbt)"
   ]
  },
  {
   "cell_type": "code",
   "execution_count": 23,
   "id": "daab26e1",
   "metadata": {},
   "outputs": [
    {
     "data": {
      "text/html": [
       "<div>\n",
       "<style scoped>\n",
       "    .dataframe tbody tr th:only-of-type {\n",
       "        vertical-align: middle;\n",
       "    }\n",
       "\n",
       "    .dataframe tbody tr th {\n",
       "        vertical-align: top;\n",
       "    }\n",
       "\n",
       "    .dataframe thead th {\n",
       "        text-align: right;\n",
       "    }\n",
       "</style>\n",
       "<table border=\"1\" class=\"dataframe\">\n",
       "  <thead>\n",
       "    <tr style=\"text-align: right;\">\n",
       "      <th></th>\n",
       "      <th>predictor</th>\n",
       "      <th>feature importance</th>\n",
       "    </tr>\n",
       "  </thead>\n",
       "  <tbody>\n",
       "    <tr>\n",
       "      <th>11</th>\n",
       "      <td>timeOnIce</td>\n",
       "      <td>3.209036e-01</td>\n",
       "    </tr>\n",
       "    <tr>\n",
       "      <th>4</th>\n",
       "      <td>goals</td>\n",
       "      <td>2.643736e-01</td>\n",
       "    </tr>\n",
       "    <tr>\n",
       "      <th>1</th>\n",
       "      <td>powerPlayGoals</td>\n",
       "      <td>8.172163e-02</td>\n",
       "    </tr>\n",
       "    <tr>\n",
       "      <th>21</th>\n",
       "      <td>goalieReplacement_No</td>\n",
       "      <td>7.042770e-02</td>\n",
       "    </tr>\n",
       "    <tr>\n",
       "      <th>0</th>\n",
       "      <td>pim</td>\n",
       "      <td>6.177498e-02</td>\n",
       "    </tr>\n",
       "    <tr>\n",
       "      <th>22</th>\n",
       "      <td>goalieReplacement_Yes</td>\n",
       "      <td>6.076237e-02</td>\n",
       "    </tr>\n",
       "    <tr>\n",
       "      <th>17</th>\n",
       "      <td>settledIn_OT</td>\n",
       "      <td>4.168470e-02</td>\n",
       "    </tr>\n",
       "    <tr>\n",
       "      <th>13</th>\n",
       "      <td>shortHandedTimeOnIce</td>\n",
       "      <td>3.423580e-02</td>\n",
       "    </tr>\n",
       "    <tr>\n",
       "      <th>14</th>\n",
       "      <td>powerPlayTimeOnIce</td>\n",
       "      <td>1.626676e-02</td>\n",
       "    </tr>\n",
       "    <tr>\n",
       "      <th>16</th>\n",
       "      <td>hoa_home</td>\n",
       "      <td>1.360430e-02</td>\n",
       "    </tr>\n",
       "    <tr>\n",
       "      <th>6</th>\n",
       "      <td>hits</td>\n",
       "      <td>6.555537e-03</td>\n",
       "    </tr>\n",
       "    <tr>\n",
       "      <th>18</th>\n",
       "      <td>settledIn_REG</td>\n",
       "      <td>5.828775e-03</td>\n",
       "    </tr>\n",
       "    <tr>\n",
       "      <th>10</th>\n",
       "      <td>penalties</td>\n",
       "      <td>5.296913e-03</td>\n",
       "    </tr>\n",
       "    <tr>\n",
       "      <th>15</th>\n",
       "      <td>hoa_away</td>\n",
       "      <td>4.793632e-03</td>\n",
       "    </tr>\n",
       "    <tr>\n",
       "      <th>3</th>\n",
       "      <td>shots</td>\n",
       "      <td>3.999431e-03</td>\n",
       "    </tr>\n",
       "    <tr>\n",
       "      <th>7</th>\n",
       "      <td>blockedShots</td>\n",
       "      <td>2.834474e-03</td>\n",
       "    </tr>\n",
       "    <tr>\n",
       "      <th>2</th>\n",
       "      <td>faceOffWinPercentage</td>\n",
       "      <td>1.964256e-03</td>\n",
       "    </tr>\n",
       "    <tr>\n",
       "      <th>12</th>\n",
       "      <td>evenTimeOnIce</td>\n",
       "      <td>1.823543e-03</td>\n",
       "    </tr>\n",
       "    <tr>\n",
       "      <th>9</th>\n",
       "      <td>missedShots</td>\n",
       "      <td>6.000243e-04</td>\n",
       "    </tr>\n",
       "    <tr>\n",
       "      <th>5</th>\n",
       "      <td>takeaways</td>\n",
       "      <td>5.477219e-04</td>\n",
       "    </tr>\n",
       "    <tr>\n",
       "      <th>20</th>\n",
       "      <td>startRinkSide_right</td>\n",
       "      <td>2.292851e-07</td>\n",
       "    </tr>\n",
       "    <tr>\n",
       "      <th>8</th>\n",
       "      <td>giveaways</td>\n",
       "      <td>0.000000e+00</td>\n",
       "    </tr>\n",
       "    <tr>\n",
       "      <th>19</th>\n",
       "      <td>startRinkSide_left</td>\n",
       "      <td>0.000000e+00</td>\n",
       "    </tr>\n",
       "  </tbody>\n",
       "</table>\n",
       "</div>"
      ],
      "text/plain": [
       "                predictor  feature importance\n",
       "11              timeOnIce        3.209036e-01\n",
       "4                   goals        2.643736e-01\n",
       "1          powerPlayGoals        8.172163e-02\n",
       "21   goalieReplacement_No        7.042770e-02\n",
       "0                     pim        6.177498e-02\n",
       "22  goalieReplacement_Yes        6.076237e-02\n",
       "17           settledIn_OT        4.168470e-02\n",
       "13   shortHandedTimeOnIce        3.423580e-02\n",
       "14     powerPlayTimeOnIce        1.626676e-02\n",
       "16               hoa_home        1.360430e-02\n",
       "6                    hits        6.555537e-03\n",
       "18          settledIn_REG        5.828775e-03\n",
       "10              penalties        5.296913e-03\n",
       "15               hoa_away        4.793632e-03\n",
       "3                   shots        3.999431e-03\n",
       "7            blockedShots        2.834474e-03\n",
       "2    faceOffWinPercentage        1.964256e-03\n",
       "12          evenTimeOnIce        1.823543e-03\n",
       "9             missedShots        6.000243e-04\n",
       "5               takeaways        5.477219e-04\n",
       "20    startRinkSide_right        2.292851e-07\n",
       "8               giveaways        0.000000e+00\n",
       "19     startRinkSide_left        0.000000e+00"
      ]
     },
     "execution_count": 23,
     "metadata": {},
     "output_type": "execute_result"
    }
   ],
   "source": [
    "# get importance\n",
    "importance = model4.feature_importances_\n",
    "# summarize feature importance\n",
    "pd.DataFrame(list(zip(X_train.columns, importance)), \n",
    "             columns = ['predictor','feature importance']).sort_values(\"feature importance\", ascending = False)"
   ]
  },
  {
   "cell_type": "code",
   "execution_count": 24,
   "id": "7b876301",
   "metadata": {},
   "outputs": [
    {
     "data": {
      "image/png": "[encoded data removed]",
      "text/plain": [
       "<Figure size 432x288 with 1 Axes>"
      ]
     },
     "metadata": {
      "needs_background": "light"
     },
     "output_type": "display_data"
    }
   ],
   "source": [
    "# plot feature importance\n",
    "plt.bar([x for x in range(len(importance))], importance)\n",
    "plt.show()"
   ]
  },
  {
   "cell_type": "code",
   "execution_count": 25,
   "id": "02992bac",
   "metadata": {},
   "outputs": [
    {
     "name": "stdout",
     "output_type": "stream",
     "text": [
      "Validation Result:\n",
      "\n",
      "accuracy score: 0.7191\n",
      "\n"
     ]
    },
    {
     "data": {
      "image/png": "[encoded data removed]",
      "text/plain": [
       "<Figure size 432x288 with 1 Axes>"
      ]
     },
     "metadata": {
      "needs_background": "light"
     },
     "output_type": "display_data"
    },
    {
     "name": "stdout",
     "output_type": "stream",
     "text": [
      "roc auc score: 0.7175871764029196\n",
      "\n"
     ]
    },
    {
     "data": {
      "image/png": "[encoded data removed]",
      "text/plain": [
       "<Figure size 432x288 with 1 Axes>"
      ]
     },
     "metadata": {
      "needs_background": "light"
     },
     "output_type": "display_data"
    },
    {
     "name": "stdout",
     "output_type": "stream",
     "text": [
      "Classification Report: \n",
      "               precision    recall  f1-score   support\n",
      "\n",
      "           0       0.70      0.79      0.74      5257\n",
      "           1       0.75      0.64      0.69      5055\n",
      "\n",
      "    accuracy                           0.72     10312\n",
      "   macro avg       0.72      0.72      0.72     10312\n",
      "weighted avg       0.72      0.72      0.72     10312\n",
      "\n",
      "\n",
      "Confusion Matrix: \n",
      " [[4169 1088]\n",
      " [1809 3246]]\n",
      "\n",
      "End of validation Result\n",
      "\n"
     ]
    },
    {
     "name": "stderr",
     "output_type": "stream",
     "text": [
      "/Users/bettyau/opt/anaconda3/lib/python3.9/site-packages/sklearn/utils/deprecation.py:87: FutureWarning: Function plot_confusion_matrix is deprecated; Function `plot_confusion_matrix` is deprecated in 1.0 and will be removed in 1.2. Use one of the class methods: ConfusionMatrixDisplay.from_predictions or ConfusionMatrixDisplay.from_estimator.\n",
      "  warnings.warn(msg, category=FutureWarning)\n"
     ]
    },
    {
     "data": {
      "image/png": "[encoded data removed]",
      "text/plain": [
       "<Figure size 432x288 with 2 Axes>"
      ]
     },
     "metadata": {
      "needs_background": "light"
     },
     "output_type": "display_data"
    }
   ],
   "source": [
    "# classification report\n",
    "clf_score(model4, X_train_sc, y_train, X_test_sc, y_test, train=False)"
   ]
  },
  {
   "cell_type": "markdown",
   "id": "fb9361c9",
   "metadata": {},
   "source": [
    "## 5.5 Hyperparamter tuning"
   ]
  },
  {
   "cell_type": "markdown",
   "id": "1e03e0c4",
   "metadata": {},
   "source": [
    "### 5.5.1 Hyperparameter tuning with Grid Search"
   ]
  },
  {
   "cell_type": "code",
   "execution_count": 26,
   "id": "908dc144",
   "metadata": {},
   "outputs": [
    {
     "name": "stdout",
     "output_type": "stream",
     "text": [
      "{'max_features': 0.4, 'min_samples_leaf': 1, 'n_estimators': 200, 'random_state': 5}\n"
     ]
    }
   ],
   "source": [
    "clf_rf_grid = ensemble.RandomForestClassifier()\n",
    "params = {\n",
    "    \"max_features\": [0.4, \"auto\"],\n",
    "    \"n_estimators\": [10, 100, 200],\n",
    "    \"min_samples_leaf\": [1, 0.1],\n",
    "    \"random_state\": [5],\n",
    "}\n",
    "cv = model_selection.GridSearchCV(clf_rf_grid, params,\n",
    "                                  n_jobs=-1).fit(X_train, y_train)\n",
    "print(cv.best_params_)"
   ]
  },
  {
   "cell_type": "markdown",
   "id": "91bb5003",
   "metadata": {},
   "source": [
    "### 5.5.2 Use best hyperparameters with RF"
   ]
  },
  {
   "cell_type": "code",
   "execution_count": 27,
   "id": "51e08ed2",
   "metadata": {},
   "outputs": [
    {
     "data": {
      "text/plain": [
       "0.7697827773467805"
      ]
     },
     "execution_count": 27,
     "metadata": {},
     "output_type": "execute_result"
    }
   ],
   "source": [
    "rf_best = ensemble.RandomForestClassifier(\n",
    "    **{\n",
    "        \"max_features\": 0.4,\n",
    "        \"min_samples_leaf\": 1,\n",
    "        \"n_estimators\": 200,\n",
    "        \"random_state\": 5,\n",
    "    })\n",
    "rf_best.fit(X_train, y_train)\n",
    "rf_best.score(X_test, y_test)"
   ]
  },
  {
   "cell_type": "code",
   "execution_count": 28,
   "id": "3e31eade",
   "metadata": {},
   "outputs": [
    {
     "name": "stdout",
     "output_type": "stream",
     "text": [
      "Validation Result:\n",
      "\n",
      "accuracy score: 0.7698\n",
      "\n"
     ]
    },
    {
     "data": {
      "image/png": "[encoded data removed]",
      "text/plain": [
       "<Figure size 432x288 with 1 Axes>"
      ]
     },
     "metadata": {
      "needs_background": "light"
     },
     "output_type": "display_data"
    },
    {
     "name": "stdout",
     "output_type": "stream",
     "text": [
      "roc auc score: 0.7692991324082609\n",
      "\n"
     ]
    },
    {
     "data": {
      "image/png": "[encoded data removed]",
      "text/plain": [
       "<Figure size 432x288 with 1 Axes>"
      ]
     },
     "metadata": {
      "needs_background": "light"
     },
     "output_type": "display_data"
    },
    {
     "name": "stdout",
     "output_type": "stream",
     "text": [
      "Classification Report: \n",
      "               precision    recall  f1-score   support\n",
      "\n",
      "           0       0.76      0.79      0.78      5257\n",
      "           1       0.78      0.74      0.76      5055\n",
      "\n",
      "    accuracy                           0.77     10312\n",
      "   macro avg       0.77      0.77      0.77     10312\n",
      "weighted avg       0.77      0.77      0.77     10312\n",
      "\n",
      "\n",
      "Confusion Matrix: \n",
      " [[4174 1083]\n",
      " [1291 3764]]\n",
      "\n"
     ]
    },
    {
     "name": "stderr",
     "output_type": "stream",
     "text": [
      "/Users/bettyau/opt/anaconda3/lib/python3.9/site-packages/sklearn/utils/deprecation.py:87: FutureWarning: Function plot_confusion_matrix is deprecated; Function `plot_confusion_matrix` is deprecated in 1.0 and will be removed in 1.2. Use one of the class methods: ConfusionMatrixDisplay.from_predictions or ConfusionMatrixDisplay.from_estimator.\n",
      "  warnings.warn(msg, category=FutureWarning)\n"
     ]
    },
    {
     "name": "stdout",
     "output_type": "stream",
     "text": [
      "End of validation Result\n",
      "\n"
     ]
    },
    {
     "data": {
      "image/png": "[encoded data removed]",
      "text/plain": [
       "<Figure size 432x288 with 2 Axes>"
      ]
     },
     "metadata": {
      "needs_background": "light"
     },
     "output_type": "display_data"
    }
   ],
   "source": [
    "# classification report\n",
    "clf_score(rf_best, X_train, y_train, X_test, y_test, train=False)"
   ]
  },
  {
   "cell_type": "markdown",
   "id": "73463026",
   "metadata": {},
   "source": [
    "## 5.6 Modeling results"
   ]
  },
  {
   "cell_type": "markdown",
   "id": "54659459",
   "metadata": {},
   "source": [
    "We display the visualization of validation result, roc auc score, classification report and confusion matrix for 4 models respectively by using the function ```clf_score```. The visualization is more intuitive than numbers to show the results of cross-validation. Based on the output above, we can conclude that ```Random Forest``` generates the highest number of correct predictions regarding the game's outcome. The most contributing factors are outlined below: \n",
    "\n",
    "* ```timeOnIce```\n",
    "* ```shortHandedTimeOnIce```\n",
    "* ```evenTimeOnIce```\n",
    "* ```powerPlayTimeOnIce```\n",
    "* ```goals```\n",
    "* ```pim```\n",
    "\n",
    "Based on cross validation of the Random Forest model, the accuracy score improves from 0.7638 to 0.7698 after the hyperparameters have been tuned. The detailed process is showed in Section 5.5. \n",
    "\n",
    "In Section 5.5, you can see that we choose to tune the hyperparameters:\n",
    "\n",
    "* ```max_features```\n",
    "* ```n_estimators```\n",
    "* ```min_samples_leaf```\n",
    "* ```random_state```"
   ]
  },
  {
   "cell_type": "markdown",
   "id": "4f51d39a",
   "metadata": {},
   "source": [
    "## 5.7 Modeling insights and limitations"
   ]
  },
  {
   "cell_type": "markdown",
   "id": "e5d20966",
   "metadata": {},
   "source": [
    "The modeling output implies that decision-makers should focus on the top contributing factors such as time on ice, short-handed time on ice, even time on ice, power-play time on ice, number of goals and penalty infraction minutes \n",
    "when judging the outcome of the hockey game with the first-period statistics. By leveraging the Random Forest model, users can utilize hockey game statistics to determine the game’s outcomes as to which team will win or lose after the first period. The model generates accurate predictions on sports betting over randomly guessing the outcome. Also, the model performance validates the proof of value and achieves the business objective to develop a predictive model with an accuracy score higher than 52.4% in order to break even. \n",
    "\n",
    "The system limitation is that Sports analytics is generally difficult to model with the best models performing at accuracy levels ranging from 50-70%. However, our model performs very well at the accuracy level of around 76%, which potentially faces overfitting issues. Our team will carry over investigating this topic in the second half of the course."
   ]
  },
  {
   "cell_type": "code",
   "execution_count": null,
   "id": "6f44e932",
   "metadata": {},
   "outputs": [],
   "source": []
  },
  {
   "cell_type": "code",
   "execution_count": null,
   "id": "b068667b",
   "metadata": {},
   "outputs": [],
   "source": []
  }
 ],
 "metadata": {
  "kernelspec": {
   "display_name": "Python 3 (ipykernel)",
   "language": "python",
   "name": "python3"
  },
  "language_info": {
   "codemirror_mode": {
    "name": "ipython",
    "version": 3
   },
   "file_extension": ".py",
   "mimetype": "text/x-python",
   "name": "python",
   "nbconvert_exporter": "python",
   "pygments_lexer": "ipython3",
   "version": "3.9.7"
  }
 },
 "nbformat": 4,
 "nbformat_minor": 5
}
