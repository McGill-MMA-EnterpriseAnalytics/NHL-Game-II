{
 "cells": [
  {
   "cell_type": "markdown",
   "id": "b741b6a3",
   "metadata": {},
   "source": [
    "# INSY695 Group Project"
   ]
  },
  {
   "cell_type": "markdown",
   "id": "f39f8cce",
   "metadata": {},
   "source": [
    "## Step 4: Modeling "
   ]
  },
  {
   "cell_type": "markdown",
   "id": "d4ec33f9",
   "metadata": {},
   "source": [
    "We will examine supervised machine learning models on sports betting of NHL hockey data. The target and control features are defined as follows: <br>\n",
    "- <b>Target Feature</b>: won <br>\n",
    "- <b>Control Features</b>: x1, x2, x3, x4 ...<br>\n",
    "\n",
    "The modeling objective is to investigate factors that contribute to the outcome of a hockey game and predict which NHL hockey team will win a game. The results can be used to make data-driven decisions regarding the game's outcome. The following set of models is used:\n",
    "- <b>Logistic Regression</b>\n",
    "- <b>Artificial Neural Networks</b>\n",
    "- <b>Random Forest</b>\n",
    "- <b>Gradient Boosting</b>\n",
    "\n",
    "Specifically, logistic regression will serve as a baseline model for the classification problem and the rest of the classification models will be built and compared against its model performance as well as feature importance. "
   ]
  },
  {
   "cell_type": "markdown",
   "id": "0f5d7bc2",
   "metadata": {},
   "source": [
    "## 4.1: Load Libraries"
   ]
  },
  {
   "cell_type": "code",
   "execution_count": null,
   "id": "72dde963",
   "metadata": {},
   "outputs": [],
   "source": [
    "import pandas as pd\n",
    "from sklearn.preprocessing import StandardScaler\n",
    "from sklearn.model_selection import train_test_split\n",
    "from sklearn.linear_model import LogisticRegression\n",
    "from sklearn import metrics\n",
    "from sklearn.neural_network import MLPClassifier\n",
    "from sklearn.ensemble import RandomForestClassifier\n",
    "from sklearn.ensemble import GradientBoostingClassifier\n",
    "import numpy as np\n",
    "from matplotlib import pyplot"
   ]
  },
  {
   "cell_type": "markdown",
   "id": "62269578",
   "metadata": {},
   "source": [
    "## 4.2: Split Data"
   ]
  },
  {
   "cell_type": "code",
   "execution_count": null,
   "id": "bf1b13b5",
   "metadata": {},
   "outputs": [],
   "source": [
    "X = df.drop(columns=['won'])\n",
    "y = df['won']\n",
    "X_train, X_test, y_train, y_test = train_test_split(X, y, test_size = 0.30, random_state = 5)"
   ]
  },
  {
   "cell_type": "markdown",
   "id": "6c41969d",
   "metadata": {},
   "source": [
    "## 4.3: Build Model"
   ]
  },
  {
   "cell_type": "markdown",
   "id": "4fec93c0",
   "metadata": {},
   "source": [
    "### Logistic Regression"
   ]
  },
  {
   "cell_type": "code",
   "execution_count": null,
   "id": "3c56b178",
   "metadata": {},
   "outputs": [],
   "source": [
    "lr=LogisticRegression()\n",
    "model1=lr.fit(X_train,y_train)"
   ]
  },
  {
   "cell_type": "code",
   "execution_count": null,
   "id": "b910d9ba",
   "metadata": {},
   "outputs": [],
   "source": [
    "# cross-validation\n",
    "y_test_pred=model1.predict(X_test)\n",
    "accuracy_lr=metrics.accuracy_score(y_test, y_test_pred)\n",
    "print(accuracy_lr)"
   ]
  },
  {
   "cell_type": "code",
   "execution_count": null,
   "id": "cf7af6ca",
   "metadata": {},
   "outputs": [],
   "source": [
    "# get importance\n",
    "importance = model1.coef_[0]\n",
    "# summarize feature importance\n",
    "for i,v in enumerate(importance):\n",
    "    print('Feature: %0d, Score: %.5f' % (i,v))\n",
    "# plot feature importance\n",
    "pyplot.bar([x for x in range(len(importance))], importance)\n",
    "pyplot.show()"
   ]
  },
  {
   "cell_type": "markdown",
   "id": "8868efee",
   "metadata": {},
   "source": [
    "### ANN"
   ]
  },
  {
   "cell_type": "code",
   "execution_count": null,
   "id": "3ac689e2",
   "metadata": {},
   "outputs": [],
   "source": [
    "mlp = MLPClassifier(hidden_layer_sizes=(5),max_iter=1000, random_state=5) \n",
    "model2 = mlp.fit(X_train,y_train)"
   ]
  },
  {
   "cell_type": "code",
   "execution_count": null,
   "id": "4c9837ba",
   "metadata": {},
   "outputs": [],
   "source": [
    "# cross-validation\n",
    "y_test_pred = model2.predict(X_test)\n",
    "accuracy_ANN=metrics.accuracy_score(y_test, y_test_pred)\n",
    "print(accuracy_ANN) "
   ]
  },
  {
   "cell_type": "code",
   "execution_count": null,
   "id": "d275db86",
   "metadata": {},
   "outputs": [],
   "source": [
    "# get importance\n",
    "importance = model2.coef_[0]\n",
    "# summarize feature importance\n",
    "for i,v in enumerate(importance):\n",
    "    print('Feature: %0d, Score: %.5f' % (i,v))\n",
    "# plot feature importance\n",
    "pyplot.bar([x for x in range(len(importance))], importance)\n",
    "pyplot.show()"
   ]
  },
  {
   "cell_type": "markdown",
   "id": "720be1c4",
   "metadata": {},
   "source": [
    "### Random Forest"
   ]
  },
  {
   "cell_type": "code",
   "execution_count": null,
   "id": "ddb8f259",
   "metadata": {},
   "outputs": [],
   "source": [
    "randomforest = RandomForestClassifier(random_state=5,oob_score=True) \n",
    "model3 = randomforest.fit(X, y)\n",
    "\n",
    "# cross-validation\n",
    "model3.oob_score_ "
   ]
  },
  {
   "cell_type": "code",
   "execution_count": null,
   "id": "b788bc84",
   "metadata": {},
   "outputs": [],
   "source": [
    "# get importance\n",
    "importance = model3.feature_importances_\n",
    "# summarize feature importance\n",
    "for i,v in enumerate(importance):\n",
    "    print('Feature: %0d, Score: %.5f' % (i,v))\n",
    "# plot feature importance\n",
    "pyplot.bar([x for x in range(len(importance))], importance)\n",
    "pyplot.show()"
   ]
  },
  {
   "cell_type": "markdown",
   "id": "300cc7ce",
   "metadata": {},
   "source": [
    "### Gradient Boosting"
   ]
  },
  {
   "cell_type": "code",
   "execution_count": null,
   "id": "54bb90c2",
   "metadata": {},
   "outputs": [],
   "source": [
    "gbt = GradientBoostingClassifier(random_state=5)\n",
    "model4 = gbt.fit(X_train, y_train)"
   ]
  },
  {
   "cell_type": "code",
   "execution_count": null,
   "id": "44766092",
   "metadata": {},
   "outputs": [],
   "source": [
    "# cross-validation\n",
    "y_test_pred = model4.predict(X_test)\n",
    "accuracy_gbt=metrics.accuracy_score(y_test, y_test_pred)\n",
    "print(accuracy_gbt)"
   ]
  },
  {
   "cell_type": "code",
   "execution_count": null,
   "id": "45f6b283",
   "metadata": {},
   "outputs": [],
   "source": [
    "# get importance\n",
    "importance = model4.feature_importances_\n",
    "# summarize feature importance\n",
    "for i,v in enumerate(importance):\n",
    "    print('Feature: %0d, Score: %.5f' % (i,v))\n",
    "# plot feature importance\n",
    "pyplot.bar([x for x in range(len(importance))], importance)\n",
    "pyplot.show()"
   ]
  },
  {
   "cell_type": "markdown",
   "id": "8fbca89c",
   "metadata": {},
   "source": [
    "Based on the output above, we can conclude that ___ generates the highest number of correct predictions regarding the game's outcome. The most contributing factors are outlined below: \n",
    "- x1\n",
    "- x2\n"
   ]
  },
  {
   "cell_type": "markdown",
   "id": "62812532",
   "metadata": {},
   "source": [
    "## 4.4: Model Fine-Tuning"
   ]
  },
  {
   "cell_type": "markdown",
   "id": "6e00f045",
   "metadata": {},
   "source": [
    "Selecting the best performing model to perform fine-tuning via grid search."
   ]
  },
  {
   "cell_type": "code",
   "execution_count": null,
   "id": "4c2f8271",
   "metadata": {},
   "outputs": [],
   "source": [
    "# find optimal ___ with grid search for ____\n",
    "alpha = [0.001, 0.01, 0.1, 1, 10, 100, 1000]\n",
    "param_grid = dict(alpha=alpha)\n",
    "grid = GridSearchCV(estimator=lin_reg, param_grid=param_grid, scoring='neg_mean_squared_error', verbose=1, n_jobs=-1)\n",
    "grid_result = grid.fit(X_train, y_train)\n",
    "print('Best Score: ', grid_result.best_score_)\n",
    "print('Best Params: ', grid_result.best_params_)"
   ]
  }
 ],
 "metadata": {
  "kernelspec": {
   "display_name": "Python 3",
   "language": "python",
   "name": "python3"
  },
  "language_info": {
   "codemirror_mode": {
    "name": "ipython",
    "version": 3
   },
   "file_extension": ".py",
   "mimetype": "text/x-python",
   "name": "python",
   "nbconvert_exporter": "python",
   "pygments_lexer": "ipython3",
   "version": "3.8.8"
  }
 },
 "nbformat": 4,
 "nbformat_minor": 5
}
