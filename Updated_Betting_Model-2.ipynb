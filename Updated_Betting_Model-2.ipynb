{
 "cells": [
  {
   "cell_type": "code",
   "execution_count": 1,
   "id": "e531917b",
   "metadata": {},
   "outputs": [],
   "source": [
    "# Importing correct packages\n",
    "import pandas as pd\n",
    "import numpy as np\n",
    "pd.set_option('display.max_columns', None)\n",
    "\n",
    "# Machine Learning Libraries\n",
    "import lightgbm as lgb\n",
    "from sklearn import metrics\n",
    "from sklearn.model_selection import train_test_split\n",
    "from sklearn.metrics import accuracy_score\n",
    "\n",
    "# Figures\n",
    "import seaborn as sns\n",
    "import matplotlib.pyplot as plt\n",
    "sns.set_theme(style=\"whitegrid\")"
   ]
  },
  {
   "cell_type": "code",
   "execution_count": 2,
   "id": "4ea2f5e6",
   "metadata": {},
   "outputs": [
    {
     "name": "stderr",
     "output_type": "stream",
     "text": [
      "/var/folders/dq/3qj0hnk53pb8rjp2l_k7zby80000gn/T/ipykernel_72453/1532244197.py:4: FutureWarning: In a future version of pandas all arguments of DataFrame.drop except for the argument 'labels' will be keyword-only\n",
      "  df.drop(df.index[18800:40871],0,inplace=True)\n"
     ]
    },
    {
     "data": {
      "text/plain": [
       "won                      0\n",
       "Shots                    0\n",
       "Shots_Against            0\n",
       "Goals                    0\n",
       "Goals_Against            0\n",
       "Takeaways                0\n",
       "Takeaways_Against        0\n",
       "Hits                     0\n",
       "Hits_Against             0\n",
       "Blocked Shots            0\n",
       "Blocked Shots Against    0\n",
       "Giveaways                0\n",
       "Giveaways_Against        0\n",
       "Missed Shots             0\n",
       "Missed Shots_Against     0\n",
       "Penalities               0\n",
       "Penalities_Against       0\n",
       "#Won Faceoffs            0\n",
       "#Lost Faceoffs           0\n",
       "HoA_away                 0\n",
       "HoA_home                 0\n",
       "dtype: int64"
      ]
     },
     "execution_count": 2,
     "metadata": {},
     "output_type": "execute_result"
    }
   ],
   "source": [
    "# No null values\n",
    "df = pd.read_csv(\"/Users/matthewbuttlerives/Desktop/Data Folder/Period_1_Game_Stats_Final_ModelReady.csv\")\n",
    "df = df[:-9611]\n",
    "df.drop(df.index[18800:40871],0,inplace=True)\n",
    "df = df.reset_index(drop=True)\n",
    "df.isna().sum()"
   ]
  },
  {
   "cell_type": "code",
   "execution_count": 3,
   "id": "406612c0",
   "metadata": {},
   "outputs": [
    {
     "data": {
      "text/html": [
       "<div>\n",
       "<style scoped>\n",
       "    .dataframe tbody tr th:only-of-type {\n",
       "        vertical-align: middle;\n",
       "    }\n",
       "\n",
       "    .dataframe tbody tr th {\n",
       "        vertical-align: top;\n",
       "    }\n",
       "\n",
       "    .dataframe thead th {\n",
       "        text-align: right;\n",
       "    }\n",
       "</style>\n",
       "<table border=\"1\" class=\"dataframe\">\n",
       "  <thead>\n",
       "    <tr style=\"text-align: right;\">\n",
       "      <th></th>\n",
       "      <th>won</th>\n",
       "      <th>Shots</th>\n",
       "      <th>Shots_Against</th>\n",
       "      <th>Goals</th>\n",
       "      <th>Goals_Against</th>\n",
       "      <th>Takeaways</th>\n",
       "      <th>Takeaways_Against</th>\n",
       "      <th>Hits</th>\n",
       "      <th>Hits_Against</th>\n",
       "      <th>Blocked Shots</th>\n",
       "      <th>Blocked Shots Against</th>\n",
       "      <th>Giveaways</th>\n",
       "      <th>Giveaways_Against</th>\n",
       "      <th>Missed Shots</th>\n",
       "      <th>Missed Shots_Against</th>\n",
       "      <th>Penalities</th>\n",
       "      <th>Penalities_Against</th>\n",
       "      <th>#Won Faceoffs</th>\n",
       "      <th>#Lost Faceoffs</th>\n",
       "      <th>HoA_away</th>\n",
       "      <th>HoA_home</th>\n",
       "    </tr>\n",
       "  </thead>\n",
       "  <tbody>\n",
       "    <tr>\n",
       "      <th>0</th>\n",
       "      <td>0</td>\n",
       "      <td>8.0</td>\n",
       "      <td>8.0</td>\n",
       "      <td>0.0</td>\n",
       "      <td>3.0</td>\n",
       "      <td>1.0</td>\n",
       "      <td>3.0</td>\n",
       "      <td>14.0</td>\n",
       "      <td>5.0</td>\n",
       "      <td>3.0</td>\n",
       "      <td>3.0</td>\n",
       "      <td>6.0</td>\n",
       "      <td>7.0</td>\n",
       "      <td>4.0</td>\n",
       "      <td>0.0</td>\n",
       "      <td>1.0</td>\n",
       "      <td>1.0</td>\n",
       "      <td>10.0</td>\n",
       "      <td>12.0</td>\n",
       "      <td>1</td>\n",
       "      <td>0</td>\n",
       "    </tr>\n",
       "    <tr>\n",
       "      <th>1</th>\n",
       "      <td>1</td>\n",
       "      <td>8.0</td>\n",
       "      <td>8.0</td>\n",
       "      <td>3.0</td>\n",
       "      <td>0.0</td>\n",
       "      <td>3.0</td>\n",
       "      <td>1.0</td>\n",
       "      <td>5.0</td>\n",
       "      <td>14.0</td>\n",
       "      <td>3.0</td>\n",
       "      <td>3.0</td>\n",
       "      <td>7.0</td>\n",
       "      <td>6.0</td>\n",
       "      <td>0.0</td>\n",
       "      <td>4.0</td>\n",
       "      <td>1.0</td>\n",
       "      <td>1.0</td>\n",
       "      <td>12.0</td>\n",
       "      <td>10.0</td>\n",
       "      <td>0</td>\n",
       "      <td>1</td>\n",
       "    </tr>\n",
       "    <tr>\n",
       "      <th>2</th>\n",
       "      <td>1</td>\n",
       "      <td>11.0</td>\n",
       "      <td>12.0</td>\n",
       "      <td>0.0</td>\n",
       "      <td>1.0</td>\n",
       "      <td>0.0</td>\n",
       "      <td>2.0</td>\n",
       "      <td>4.0</td>\n",
       "      <td>4.0</td>\n",
       "      <td>6.0</td>\n",
       "      <td>8.0</td>\n",
       "      <td>2.0</td>\n",
       "      <td>0.0</td>\n",
       "      <td>6.0</td>\n",
       "      <td>3.0</td>\n",
       "      <td>1.0</td>\n",
       "      <td>3.0</td>\n",
       "      <td>11.0</td>\n",
       "      <td>9.0</td>\n",
       "      <td>1</td>\n",
       "      <td>0</td>\n",
       "    </tr>\n",
       "    <tr>\n",
       "      <th>3</th>\n",
       "      <td>0</td>\n",
       "      <td>12.0</td>\n",
       "      <td>11.0</td>\n",
       "      <td>1.0</td>\n",
       "      <td>0.0</td>\n",
       "      <td>2.0</td>\n",
       "      <td>0.0</td>\n",
       "      <td>4.0</td>\n",
       "      <td>4.0</td>\n",
       "      <td>8.0</td>\n",
       "      <td>6.0</td>\n",
       "      <td>0.0</td>\n",
       "      <td>2.0</td>\n",
       "      <td>3.0</td>\n",
       "      <td>6.0</td>\n",
       "      <td>3.0</td>\n",
       "      <td>1.0</td>\n",
       "      <td>9.0</td>\n",
       "      <td>11.0</td>\n",
       "      <td>0</td>\n",
       "      <td>1</td>\n",
       "    </tr>\n",
       "    <tr>\n",
       "      <th>4</th>\n",
       "      <td>1</td>\n",
       "      <td>9.0</td>\n",
       "      <td>8.0</td>\n",
       "      <td>0.0</td>\n",
       "      <td>1.0</td>\n",
       "      <td>3.0</td>\n",
       "      <td>2.0</td>\n",
       "      <td>4.0</td>\n",
       "      <td>5.0</td>\n",
       "      <td>7.0</td>\n",
       "      <td>1.0</td>\n",
       "      <td>7.0</td>\n",
       "      <td>5.0</td>\n",
       "      <td>3.0</td>\n",
       "      <td>8.0</td>\n",
       "      <td>2.0</td>\n",
       "      <td>1.0</td>\n",
       "      <td>7.0</td>\n",
       "      <td>11.0</td>\n",
       "      <td>1</td>\n",
       "      <td>0</td>\n",
       "    </tr>\n",
       "  </tbody>\n",
       "</table>\n",
       "</div>"
      ],
      "text/plain": [
       "   won  Shots  Shots_Against  Goals  Goals_Against  Takeaways  \\\n",
       "0    0    8.0            8.0    0.0            3.0        1.0   \n",
       "1    1    8.0            8.0    3.0            0.0        3.0   \n",
       "2    1   11.0           12.0    0.0            1.0        0.0   \n",
       "3    0   12.0           11.0    1.0            0.0        2.0   \n",
       "4    1    9.0            8.0    0.0            1.0        3.0   \n",
       "\n",
       "   Takeaways_Against  Hits  Hits_Against  Blocked Shots  \\\n",
       "0                3.0  14.0           5.0            3.0   \n",
       "1                1.0   5.0          14.0            3.0   \n",
       "2                2.0   4.0           4.0            6.0   \n",
       "3                0.0   4.0           4.0            8.0   \n",
       "4                2.0   4.0           5.0            7.0   \n",
       "\n",
       "   Blocked Shots Against  Giveaways  Giveaways_Against  Missed Shots  \\\n",
       "0                    3.0        6.0                7.0           4.0   \n",
       "1                    3.0        7.0                6.0           0.0   \n",
       "2                    8.0        2.0                0.0           6.0   \n",
       "3                    6.0        0.0                2.0           3.0   \n",
       "4                    1.0        7.0                5.0           3.0   \n",
       "\n",
       "   Missed Shots_Against  Penalities  Penalities_Against  #Won Faceoffs  \\\n",
       "0                   0.0         1.0                 1.0           10.0   \n",
       "1                   4.0         1.0                 1.0           12.0   \n",
       "2                   3.0         1.0                 3.0           11.0   \n",
       "3                   6.0         3.0                 1.0            9.0   \n",
       "4                   8.0         2.0                 1.0            7.0   \n",
       "\n",
       "   #Lost Faceoffs  HoA_away  HoA_home  \n",
       "0            12.0         1         0  \n",
       "1            10.0         0         1  \n",
       "2             9.0         1         0  \n",
       "3            11.0         0         1  \n",
       "4            11.0         1         0  "
      ]
     },
     "execution_count": 3,
     "metadata": {},
     "output_type": "execute_result"
    }
   ],
   "source": [
    "df.head(5)"
   ]
  },
  {
   "cell_type": "code",
   "execution_count": 4,
   "id": "49bbaea3",
   "metadata": {},
   "outputs": [],
   "source": [
    "# split data into X and y\n",
    "y = df.pop('won')\n",
    "X = df\n",
    "# split data into train and test sets\n",
    "seed = 7\n",
    "test_size = 0.33\n",
    "X_train, X_test, y_train, y_test = train_test_split(X, y, test_size=test_size, random_state=seed)"
   ]
  },
  {
   "cell_type": "code",
   "execution_count": 5,
   "id": "78ca9bda",
   "metadata": {},
   "outputs": [
    {
     "name": "stderr",
     "output_type": "stream",
     "text": [
      "/opt/anaconda3/lib/python3.8/site-packages/lightgbm/sklearn.py:736: UserWarning: 'verbose' argument is deprecated and will be removed in a future release of LightGBM. Pass 'log_evaluation()' callback via 'callbacks' argument instead.\n",
      "  _log_warning(\"'verbose' argument is deprecated and will be removed in a future release of LightGBM. \"\n"
     ]
    },
    {
     "name": "stdout",
     "output_type": "stream",
     "text": [
      "[20]\ttraining's binary_logloss: 0.588145\tvalid_0's binary_logloss: 0.602557\n",
      "[40]\ttraining's binary_logloss: 0.564346\tvalid_0's binary_logloss: 0.599359\n",
      "[60]\ttraining's binary_logloss: 0.546199\tvalid_0's binary_logloss: 0.600596\n",
      "[80]\ttraining's binary_logloss: 0.529762\tvalid_0's binary_logloss: 0.60314\n",
      "[100]\ttraining's binary_logloss: 0.514817\tvalid_0's binary_logloss: 0.604746\n"
     ]
    },
    {
     "data": {
      "text/plain": [
       "LGBMClassifier(learning_rate=0.09, max_depth=-5, random_state=42)"
      ]
     },
     "execution_count": 5,
     "metadata": {},
     "output_type": "execute_result"
    }
   ],
   "source": [
    "model = lgb.LGBMClassifier(learning_rate=0.09,max_depth=-5,random_state=42)\n",
    "model.fit(X_train,y_train,eval_set=[(X_test,y_test),(X_train,y_train)],\n",
    "          verbose=20,eval_metric='logloss')"
   ]
  },
  {
   "cell_type": "code",
   "execution_count": 6,
   "id": "8f35fe1e",
   "metadata": {},
   "outputs": [
    {
     "name": "stdout",
     "output_type": "stream",
     "text": [
      "Training accuracy 0.7570\n",
      "Testing accuracy 0.6538\n"
     ]
    }
   ],
   "source": [
    "print('Training accuracy {:.4f}'.format(model.score(X_train,y_train)))\n",
    "print('Testing accuracy {:.4f}'.format(model.score(X_test,y_test)))"
   ]
  },
  {
   "cell_type": "code",
   "execution_count": 7,
   "id": "bf9c58f4",
   "metadata": {},
   "outputs": [
    {
     "name": "stdout",
     "output_type": "stream",
     "text": [
      "Accuracy: 65.38%\n",
      "Precision score:  0.6565500154846702\n",
      "Recall score:  0.6459475929311396\n"
     ]
    }
   ],
   "source": [
    "# Interestingly, slightly better accuracy\n",
    "# make predictions for test data\n",
    "from sklearn.metrics import precision_score, recall_score\n",
    "y_pred = model.predict(X_test)\n",
    "predictions = [round(value) for value in y_pred]\n",
    "accuracy = accuracy_score(y_test, predictions)\n",
    "print(\"Accuracy: %.2f%%\" % (accuracy * 100.0))\n",
    "print('Precision score: ', (precision_score(y_test, predictions)))\n",
    "print('Recall score: ', recall_score(y_test, predictions))"
   ]
  },
  {
   "cell_type": "code",
   "execution_count": 8,
   "id": "673c8293",
   "metadata": {},
   "outputs": [
    {
     "data": {
      "image/png": "[encoded data removed]",
      "text/plain": [
       "<Figure size 432x288 with 1 Axes>"
      ]
     },
     "metadata": {},
     "output_type": "display_data"
    }
   ],
   "source": [
    "# plot feature importance\n",
    "import lightgbm\n",
    "from matplotlib import pyplot\n",
    "lightgbm.plot_importance(model)\n",
    "pyplot.show()"
   ]
  },
  {
   "cell_type": "code",
   "execution_count": 9,
   "id": "9f62ad62",
   "metadata": {},
   "outputs": [
    {
     "data": {
      "text/plain": [
       "<AxesSubplot:title={'center':'Metric during training'}, xlabel='Iterations', ylabel='binary_logloss'>"
      ]
     },
     "execution_count": 9,
     "metadata": {},
     "output_type": "execute_result"
    },
    {
     "data": {
      "image/png": "[encoded data removed]",
      "text/plain": [
       "<Figure size 432x288 with 1 Axes>"
      ]
     },
     "metadata": {},
     "output_type": "display_data"
    }
   ],
   "source": [
    "lgb.plot_metric(model)"
   ]
  },
  {
   "cell_type": "code",
   "execution_count": 10,
   "id": "302d4345",
   "metadata": {},
   "outputs": [
    {
     "name": "stderr",
     "output_type": "stream",
     "text": [
      "/opt/anaconda3/lib/python3.8/site-packages/sklearn/utils/deprecation.py:87: FutureWarning: Function plot_confusion_matrix is deprecated; Function `plot_confusion_matrix` is deprecated in 1.0 and will be removed in 1.2. Use one of the class methods: ConfusionMatrixDisplay.from_predictions or ConfusionMatrixDisplay.from_estimator.\n",
      "  warnings.warn(msg, category=FutureWarning)\n"
     ]
    },
    {
     "data": {
      "text/plain": [
       "<sklearn.metrics._plot.confusion_matrix.ConfusionMatrixDisplay at 0x7fb360e1a370>"
      ]
     },
     "execution_count": 10,
     "metadata": {},
     "output_type": "execute_result"
    },
    {
     "data": {
      "image/png": "[encoded data removed]",
      "text/plain": [
       "<Figure size 432x288 with 2 Axes>"
      ]
     },
     "metadata": {},
     "output_type": "display_data"
    }
   ],
   "source": [
    "metrics.plot_confusion_matrix(model,X_test,y_test,cmap='Blues_r')"
   ]
  },
  {
   "cell_type": "code",
   "execution_count": 11,
   "id": "409ec251",
   "metadata": {},
   "outputs": [
    {
     "name": "stdout",
     "output_type": "stream",
     "text": [
      "              precision    recall  f1-score   support\n",
      "\n",
      "           0       0.65      0.66      0.66      3278\n",
      "           1       0.66      0.65      0.65      3282\n",
      "\n",
      "    accuracy                           0.65      6560\n",
      "   macro avg       0.65      0.65      0.65      6560\n",
      "weighted avg       0.65      0.65      0.65      6560\n",
      "\n"
     ]
    }
   ],
   "source": [
    "print(metrics.classification_report(y_test,model.predict(X_test)))"
   ]
  },
  {
   "cell_type": "code",
   "execution_count": 12,
   "id": "b0e5a7a1",
   "metadata": {},
   "outputs": [
    {
     "data": {
      "text/html": [
       "<div>\n",
       "<style scoped>\n",
       "    .dataframe tbody tr th:only-of-type {\n",
       "        vertical-align: middle;\n",
       "    }\n",
       "\n",
       "    .dataframe tbody tr th {\n",
       "        vertical-align: top;\n",
       "    }\n",
       "\n",
       "    .dataframe thead th {\n",
       "        text-align: right;\n",
       "    }\n",
       "</style>\n",
       "<table border=\"1\" class=\"dataframe\">\n",
       "  <thead>\n",
       "    <tr style=\"text-align: right;\">\n",
       "      <th></th>\n",
       "      <th>Shots</th>\n",
       "      <th>Shots_Against</th>\n",
       "      <th>Goals</th>\n",
       "      <th>Goals_Against</th>\n",
       "      <th>Takeaways</th>\n",
       "      <th>Takeaways_Against</th>\n",
       "      <th>Hits</th>\n",
       "      <th>Hits_Against</th>\n",
       "      <th>Blocked Shots</th>\n",
       "      <th>Blocked Shots Against</th>\n",
       "      <th>Giveaways</th>\n",
       "      <th>Giveaways_Against</th>\n",
       "      <th>Missed Shots</th>\n",
       "      <th>Missed Shots_Against</th>\n",
       "      <th>Penalities</th>\n",
       "      <th>Penalities_Against</th>\n",
       "      <th>#Won Faceoffs</th>\n",
       "      <th>#Lost Faceoffs</th>\n",
       "      <th>HoA_away</th>\n",
       "      <th>HoA_home</th>\n",
       "    </tr>\n",
       "  </thead>\n",
       "  <tbody>\n",
       "    <tr>\n",
       "      <th>0</th>\n",
       "      <td>8.0</td>\n",
       "      <td>8.0</td>\n",
       "      <td>0.0</td>\n",
       "      <td>3.0</td>\n",
       "      <td>1.0</td>\n",
       "      <td>3.0</td>\n",
       "      <td>14.0</td>\n",
       "      <td>5.0</td>\n",
       "      <td>3.0</td>\n",
       "      <td>3.0</td>\n",
       "      <td>6.0</td>\n",
       "      <td>7.0</td>\n",
       "      <td>4.0</td>\n",
       "      <td>0.0</td>\n",
       "      <td>1.0</td>\n",
       "      <td>1.0</td>\n",
       "      <td>10.0</td>\n",
       "      <td>12.0</td>\n",
       "      <td>1</td>\n",
       "      <td>0</td>\n",
       "    </tr>\n",
       "  </tbody>\n",
       "</table>\n",
       "</div>"
      ],
      "text/plain": [
       "   Shots  Shots_Against  Goals  Goals_Against  Takeaways  Takeaways_Against  \\\n",
       "0    8.0            8.0    0.0            3.0        1.0                3.0   \n",
       "\n",
       "   Hits  Hits_Against  Blocked Shots  Blocked Shots Against  Giveaways  \\\n",
       "0  14.0           5.0            3.0                    3.0        6.0   \n",
       "\n",
       "   Giveaways_Against  Missed Shots  Missed Shots_Against  Penalities  \\\n",
       "0                7.0           4.0                   0.0         1.0   \n",
       "\n",
       "   Penalities_Against  #Won Faceoffs  #Lost Faceoffs  HoA_away  HoA_home  \n",
       "0                 1.0           10.0            12.0         1         0  "
      ]
     },
     "execution_count": 12,
     "metadata": {},
     "output_type": "execute_result"
    }
   ],
   "source": [
    "df.head(1)"
   ]
  },
  {
   "cell_type": "code",
   "execution_count": 13,
   "id": "b14d0e10",
   "metadata": {},
   "outputs": [],
   "source": [
    "# make predictions for tonight data\n",
    "def tonight_bet(shots,shots_against,goals,goals_against,takeaways,takeaways_against,hits,hits_against,blockedShots,blockedShots_against,giveaways,giveaways_against,missedShots,missedShots_against,penalties,penalties_against,Won_Faceoffs,Lost_Faceoffs,hoa_away,hoa_home):\n",
    "    bet_df = pd.DataFrame({\"shots\": [shots],\"shots_against\": [shots_against],\"goals\": [goals],\"goals_against\": [goals_against],\"takeaways\": [takeaways],\"takeaways_against\": [takeaways_against],\"hits\": [hits],\"hits_against\": [hits_against]\n",
    "                       ,\"blockedShots\": [blockedShots],\"blockedShots_against\": [blockedShots_against],\"giveaways\": [giveaways],\"giveaways_against\": [giveaways_against],\"missedShots\": [missedShots],\"missedShots_against\": [missedShots_against]\n",
    "                       ,\"penalties\": [penalties],\"penalties_against\": [penalties_against],\"#Won Faceoffs\": [Won_Faceoffs],\"#Lost Faceoffs\": [Lost_Faceoffs],\"hoa_away\": [hoa_away],\"hoa_home\": [hoa_home],},index=[0,1,2,3,4,5,6,7,8,9,10,11,12,13,14,15,16,17,18,19],)\n",
    "    bet_df = bet_df.iloc[:1 , :]\n",
    "    tonights_team = bet_df\n",
    "    return tonights_team"
   ]
  },
  {
   "cell_type": "code",
   "execution_count": 14,
   "id": "3169f3a1",
   "metadata": {},
   "outputs": [
    {
     "data": {
      "text/html": [
       "<div>\n",
       "<style scoped>\n",
       "    .dataframe tbody tr th:only-of-type {\n",
       "        vertical-align: middle;\n",
       "    }\n",
       "\n",
       "    .dataframe tbody tr th {\n",
       "        vertical-align: top;\n",
       "    }\n",
       "\n",
       "    .dataframe thead th {\n",
       "        text-align: right;\n",
       "    }\n",
       "</style>\n",
       "<table border=\"1\" class=\"dataframe\">\n",
       "  <thead>\n",
       "    <tr style=\"text-align: right;\">\n",
       "      <th></th>\n",
       "      <th>shots</th>\n",
       "      <th>shots_against</th>\n",
       "      <th>goals</th>\n",
       "      <th>goals_against</th>\n",
       "      <th>takeaways</th>\n",
       "      <th>takeaways_against</th>\n",
       "      <th>hits</th>\n",
       "      <th>hits_against</th>\n",
       "      <th>blockedShots</th>\n",
       "      <th>blockedShots_against</th>\n",
       "      <th>giveaways</th>\n",
       "      <th>giveaways_against</th>\n",
       "      <th>missedShots</th>\n",
       "      <th>missedShots_against</th>\n",
       "      <th>penalties</th>\n",
       "      <th>penalties_against</th>\n",
       "      <th>#Won Faceoffs</th>\n",
       "      <th>#Lost Faceoffs</th>\n",
       "      <th>hoa_away</th>\n",
       "      <th>hoa_home</th>\n",
       "    </tr>\n",
       "  </thead>\n",
       "  <tbody>\n",
       "    <tr>\n",
       "      <th>0</th>\n",
       "      <td>30</td>\n",
       "      <td>5</td>\n",
       "      <td>0</td>\n",
       "      <td>0</td>\n",
       "      <td>0</td>\n",
       "      <td>0</td>\n",
       "      <td>0</td>\n",
       "      <td>0</td>\n",
       "      <td>0</td>\n",
       "      <td>0</td>\n",
       "      <td>1</td>\n",
       "      <td>0</td>\n",
       "      <td>1</td>\n",
       "      <td>0</td>\n",
       "      <td>0</td>\n",
       "      <td>0</td>\n",
       "      <td>0</td>\n",
       "      <td>0</td>\n",
       "      <td>0</td>\n",
       "      <td>0</td>\n",
       "    </tr>\n",
       "  </tbody>\n",
       "</table>\n",
       "</div>"
      ],
      "text/plain": [
       "   shots  shots_against  goals  goals_against  takeaways  takeaways_against  \\\n",
       "0     30              5      0              0          0                  0   \n",
       "\n",
       "   hits  hits_against  blockedShots  blockedShots_against  giveaways  \\\n",
       "0     0             0             0                     0          1   \n",
       "\n",
       "   giveaways_against  missedShots  missedShots_against  penalties  \\\n",
       "0                  0            1                    0          0   \n",
       "\n",
       "   penalties_against  #Won Faceoffs  #Lost Faceoffs  hoa_away  hoa_home  \n",
       "0                  0              0               0         0         0  "
      ]
     },
     "execution_count": 14,
     "metadata": {},
     "output_type": "execute_result"
    }
   ],
   "source": [
    "tonight_bet(30,5,0,0,0,0,0,0,0,0,1,0,1,0,0,0,0,0,0,0)"
   ]
  },
  {
   "cell_type": "code",
   "execution_count": 15,
   "id": "727d8a09",
   "metadata": {},
   "outputs": [
    {
     "name": "stdout",
     "output_type": "stream",
     "text": [
      "[1]\n",
      "[[0.44167824 0.55832176]]\n"
     ]
    }
   ],
   "source": [
    "# make predictions for test data\n",
    "X_Game_test = tonight_bet(30,5,0,0,0,0,0,0,0,0,1,0,1,0,0,0,0,0,0,0)\n",
    "# store value to use in model\n",
    "\n",
    "Game_y_pred = model.predict(X_Game_test)\n",
    "prediction = [round(value) for value in Game_y_pred]\n",
    "print(prediction)\n",
    "probability = model.predict_proba(X_Game_test)\n",
    "print(probability)"
   ]
  },
  {
   "cell_type": "markdown",
   "id": "1e0f5371",
   "metadata": {},
   "source": [
    "# API SportsRadar Request"
   ]
  },
  {
   "cell_type": "code",
   "execution_count": 16,
   "id": "3e7e1d45",
   "metadata": {},
   "outputs": [
    {
     "name": "stdout",
     "output_type": "stream",
     "text": [
      "API Key: sa8b3wuwy549qwy6jw6srsgv\n"
     ]
    }
   ],
   "source": [
    "# API Packages\n",
    "import requests\n",
    "import json\n",
    "from sportradar.api import API\n",
    "\n",
    "api_key = \"sa8b3wuwy549qwy6jw6srsgv\"\n",
    "print(\"API Key:\",api_key)"
   ]
  },
  {
   "cell_type": "markdown",
   "id": "d4dab1fa",
   "metadata": {},
   "source": [
    "## Today's Games"
   ]
  },
  {
   "cell_type": "code",
   "execution_count": 22,
   "id": "05be20b1",
   "metadata": {},
   "outputs": [
    {
     "name": "stdout",
     "output_type": "stream",
     "text": [
      "Today's date: 2022-04-05\n"
     ]
    },
    {
     "data": {
      "text/html": [
       "<div>\n",
       "<style scoped>\n",
       "    .dataframe tbody tr th:only-of-type {\n",
       "        vertical-align: middle;\n",
       "    }\n",
       "\n",
       "    .dataframe tbody tr th {\n",
       "        vertical-align: top;\n",
       "    }\n",
       "\n",
       "    .dataframe thead th {\n",
       "        text-align: right;\n",
       "    }\n",
       "</style>\n",
       "<table border=\"1\" class=\"dataframe\">\n",
       "  <thead>\n",
       "    <tr style=\"text-align: right;\">\n",
       "      <th></th>\n",
       "      <th>Game ID</th>\n",
       "      <th>Home Team</th>\n",
       "      <th>Away Team</th>\n",
       "      <th>Start Time</th>\n",
       "    </tr>\n",
       "  </thead>\n",
       "  <tbody>\n",
       "    <tr>\n",
       "      <th>0</th>\n",
       "      <td>0b873568-d04c-42be-a6ff-c048192f58a8</td>\n",
       "      <td>Philadelphia Flyers</td>\n",
       "      <td>Columbus Blue Jackets</td>\n",
       "      <td>19:00:00</td>\n",
       "    </tr>\n",
       "    <tr>\n",
       "      <th>1</th>\n",
       "      <td>3ffad869-b5ec-414b-b162-a29bb0a3ac16</td>\n",
       "      <td>Pittsburgh Penguins</td>\n",
       "      <td>Colorado Avalanche</td>\n",
       "      <td>19:00:00</td>\n",
       "    </tr>\n",
       "    <tr>\n",
       "      <th>2</th>\n",
       "      <td>6d3496c2-75cc-4324-b751-f9b0e84385e1</td>\n",
       "      <td>Buffalo Sabres</td>\n",
       "      <td>Carolina Hurricanes</td>\n",
       "      <td>19:00:00</td>\n",
       "    </tr>\n",
       "    <tr>\n",
       "      <th>3</th>\n",
       "      <td>7c8d5934-98de-4076-ac3b-c78a1cfcf77a</td>\n",
       "      <td>New Jersey Devils</td>\n",
       "      <td>New York Rangers</td>\n",
       "      <td>19:00:00</td>\n",
       "    </tr>\n",
       "    <tr>\n",
       "      <th>4</th>\n",
       "      <td>8cdbd93f-7df7-4ccb-be24-d560546ed352</td>\n",
       "      <td>Montreal Canadiens</td>\n",
       "      <td>Ottawa Senators</td>\n",
       "      <td>19:00:00</td>\n",
       "    </tr>\n",
       "    <tr>\n",
       "      <th>5</th>\n",
       "      <td>981309ce-e25f-4891-b3d4-d20cc1b72439</td>\n",
       "      <td>Florida Panthers</td>\n",
       "      <td>Toronto Maple Leafs</td>\n",
       "      <td>19:00:00</td>\n",
       "    </tr>\n",
       "    <tr>\n",
       "      <th>6</th>\n",
       "      <td>204717db-c437-45c0-8534-faed9504b13d</td>\n",
       "      <td>Detroit Red Wings</td>\n",
       "      <td>Boston Bruins</td>\n",
       "      <td>19:30:00</td>\n",
       "    </tr>\n",
       "    <tr>\n",
       "      <th>7</th>\n",
       "      <td>333a8718-43ac-4423-8681-e271f7687717</td>\n",
       "      <td>Nashville Predators</td>\n",
       "      <td>Minnesota Wild</td>\n",
       "      <td>20:00:00</td>\n",
       "    </tr>\n",
       "    <tr>\n",
       "      <th>8</th>\n",
       "      <td>32fdc2ad-a003-4b38-8ed7-7df5867bff99</td>\n",
       "      <td>Dallas Stars</td>\n",
       "      <td>New York Islanders</td>\n",
       "      <td>20:30:00</td>\n",
       "    </tr>\n",
       "    <tr>\n",
       "      <th>9</th>\n",
       "      <td>39eebe95-2074-4cba-8ff3-60193fe76200</td>\n",
       "      <td>San Jose Sharks</td>\n",
       "      <td>Edmonton Oilers</td>\n",
       "      <td>22:30:00</td>\n",
       "    </tr>\n",
       "  </tbody>\n",
       "</table>\n",
       "</div>"
      ],
      "text/plain": [
       "                                Game ID            Home Team  \\\n",
       "0  0b873568-d04c-42be-a6ff-c048192f58a8  Philadelphia Flyers   \n",
       "1  3ffad869-b5ec-414b-b162-a29bb0a3ac16  Pittsburgh Penguins   \n",
       "2  6d3496c2-75cc-4324-b751-f9b0e84385e1       Buffalo Sabres   \n",
       "3  7c8d5934-98de-4076-ac3b-c78a1cfcf77a    New Jersey Devils   \n",
       "4  8cdbd93f-7df7-4ccb-be24-d560546ed352   Montreal Canadiens   \n",
       "5  981309ce-e25f-4891-b3d4-d20cc1b72439     Florida Panthers   \n",
       "6  204717db-c437-45c0-8534-faed9504b13d    Detroit Red Wings   \n",
       "7  333a8718-43ac-4423-8681-e271f7687717  Nashville Predators   \n",
       "8  32fdc2ad-a003-4b38-8ed7-7df5867bff99         Dallas Stars   \n",
       "9  39eebe95-2074-4cba-8ff3-60193fe76200      San Jose Sharks   \n",
       "\n",
       "               Away Team Start Time  \n",
       "0  Columbus Blue Jackets   19:00:00  \n",
       "1     Colorado Avalanche   19:00:00  \n",
       "2    Carolina Hurricanes   19:00:00  \n",
       "3       New York Rangers   19:00:00  \n",
       "4        Ottawa Senators   19:00:00  \n",
       "5    Toronto Maple Leafs   19:00:00  \n",
       "6          Boston Bruins   19:30:00  \n",
       "7         Minnesota Wild   20:00:00  \n",
       "8     New York Islanders   20:30:00  \n",
       "9        Edmonton Oilers   22:30:00  "
      ]
     },
     "execution_count": 22,
     "metadata": {},
     "output_type": "execute_result"
    }
   ],
   "source": [
    "from datetime import date\n",
    "import re\n",
    "from datetime import datetime,timedelta\n",
    "\n",
    "today = date.today()\n",
    "\n",
    "# dd/mm/YY\n",
    "Day = today.strftime(\"%d\")\n",
    "Month = today.strftime(\"%m\")\n",
    "Year = today.strftime(\"%Y\")\n",
    "today = date.today()\n",
    "print(\"Today's date:\", today)\n",
    "# Get API info\n",
    "response = requests.get((\"https://api.sportradar.us/nhl/trial/v7/en/games/{Year}/{Month}/{Day}/schedule.json?api_key=sa8b3wuwy549qwy6jw6srsgv\").format(Day=Day, Month = Month, Year = Year))\n",
    "\n",
    "# Define function that translates API into text\n",
    "def jprint(obj):\n",
    "    text = json.dumps(obj, sort_keys=True, indent=4)\n",
    "    print(text)\n",
    "    return \"\"\n",
    "\n",
    "# Set response as json\n",
    "x = response.json()\n",
    "# Print API info\n",
    "def getrs(obj):\n",
    "    Todays_Schedule = []\n",
    "    Todays_Schedule = pd.DataFrame([],columns = [\"Game ID\",\"Home Team\",\"Away Team\",\"Start Time\"])\n",
    "    q = len(obj[\"games\"])\n",
    "    for i in range(q):\n",
    "            GID = obj[\"games\"][i][\"id\"]\n",
    "            H = obj['games'][i]['home']['name']\n",
    "            A = obj['games'][i]['away']['name']\n",
    "            PD = obj['games'][i]['scheduled']\n",
    "            PD = re.search('T(.+?)Z',PD)\n",
    "            if PD:\n",
    "                found = PD.group(1)\n",
    "            format = \"%H:%M:%S\"\n",
    "            d = datetime.strptime(found,format) - timedelta(hours=4)\n",
    "            d = d.strftime(\"%H:%M:%S\")\n",
    "            PD = d\n",
    "            temp_df = [GID,H,A,PD]\n",
    "            a_series = pd.Series(temp_df,index = Todays_Schedule.columns)\n",
    "            Todays_Schedule = Todays_Schedule.append(a_series, ignore_index=True)\n",
    "    return Todays_Schedule\n",
    "data=getrs(x)\n",
    "data.head(10)"
   ]
  },
  {
   "cell_type": "markdown",
   "id": "5182a57e",
   "metadata": {},
   "source": [
    "# Current Game Stats"
   ]
  },
  {
   "cell_type": "code",
   "execution_count": 24,
   "id": "fe2285e9",
   "metadata": {},
   "outputs": [],
   "source": [
    "def get_game_play_by_play(self, game_id):\n",
    "        \"\"\"Get the Play-by-Play data for an NHL Game\"\"\"\n",
    "        path = \"https://api.sportradar.us/nhl/trial/v7/en/games/{game_id}/pbp.json?api_key={your_api_key}\".format(game_id=game_id,your_api_key = self)\n",
    "        response = requests.get(path)\n",
    "        x = response.json()\n",
    "        text = json.dumps(x, sort_keys=True, indent=4)\n",
    "        print(text)\n",
    "        return \"\""
   ]
  },
  {
   "cell_type": "code",
   "execution_count": 20,
   "id": "8fb86663",
   "metadata": {},
   "outputs": [],
   "source": [
    "response = requests.get(\"https://api.sportradar.us/nhl/trial/v7/en/games/e0e9b4c3-2d01-458f-9094-331687b96cb3/pbp.json?api_key=sa8b3wuwy549qwy6jw6srsgv\")\n",
    "\n",
    "# Define function that translates API into text\n",
    "def jprint(obj):\n",
    "    text = json.dumps(obj, sort_keys=True, indent=4)\n",
    "    print(text)\n",
    "    return \"\"\n",
    "\n",
    "# Set response as json\n",
    "x = response.json()\n",
    "x"
   ]
  },
  {
   "cell_type": "code",
   "execution_count": 18,
   "id": "f6bec0aa",
   "metadata": {},
   "outputs": [],
   "source": [
    "#j = len(x['periods'][0]['events'])\n",
    "#for i in range(j):\n",
    "#    t = x['periods'][0]['events'][i]['event_type']\n",
    "#    if t == \"goal\":\n",
    "#        print(t)\n",
    " #   else:\n",
    " #       pass"
   ]
  },
  {
   "cell_type": "code",
   "execution_count": 20,
   "id": "459be5dd",
   "metadata": {},
   "outputs": [],
   "source": [
    "#def update_stats(obj):\n",
    " #   Home_Team = []\n",
    " #   Away_Team = []\n",
    "  #  Home_Team = pd.DataFrame([],columns = [\"shots\",\"goals\",\"takeaways\",\"hits\",\"BlockedShots\",\"giveaway\",\"misses\",\"penalties\",\"#Won Faceoffs\",\"#Lost Faceoffs\"])\n",
    "    #Home_Team = pd.DataFrame([],columns = [\"shots\",'shots_against','goals','goals_against','takeaways','takeaways_against','hits','hits_against','blockedShots','blockedShots_against','giveaways','giveaways_against','missedShots','missedShots_against','penalties','penalties_against','#Won Faceoffs','#Lost Faceoffs'])\n",
    "  #  Away_Team = pd.DataFrame([],columns = [\"shots\",'shots_against','goals','goals_against','takeaways','takeaways_against','hits','hits_against','blockedShots','blockedShots_against','giveaways','giveaways_against','missedShots','missedShots_against','penalties','penalties_against','#Won Faceoffs','#Lost Faceoffs'])\n",
    "  #  ht = len(obj[\"home\"]['players'])\n",
    "  #  at = len(obj['away']['players'])   \n",
    "  #  total_g = 0\n",
    "  #  total_s = 0\n",
    "  #  total_t = 0\n",
    "  #  total_h = 0\n",
    "  #  total_bs = 0\n",
    "   # total_gi = 0\n",
    "  #  total_m = 0\n",
    "   # total_p = 0\n",
    "   # total_fw = 0\n",
    "  #  total_fl = 0\n",
    "  #  I = None\n",
    "  #  for i in range(ht):\n",
    "    #        g = obj[\"home\"][\"players\"][i]['statistics']['periods'][0]['total']['goals']\n",
    "    #        s = obj[\"home\"][\"players\"][i]['statistics']['periods'][0]['total']['shots']\n",
    "    #        t = obj[\"home\"][\"players\"][i]['statistics']['periods'][0]['total']['takeaways']\n",
    "    #        h = obj[\"home\"][\"players\"][i]['statistics']['periods'][0]['total']['hits']\n",
    "     #       bs = obj[\"home\"][\"players\"][i]['statistics']['periods'][0]['total']['blocked_shots']\n",
    "     #       gi = obj[\"home\"][\"players\"][i]['statistics']['periods'][0]['total']['giveaways']\n",
    "      #      m = obj[\"home\"][\"players\"][i]['statistics']['periods'][0]['total']['missed_shots']\n",
    "    #        p = obj[\"home\"][\"players\"][i]['statistics']['periods'][0]['total']['penalties']\n",
    "     #       fw = obj[\"home\"][\"players\"][i]['statistics']['periods'][0]['total']['faceoffs_won']\n",
    "       #     fl = obj[\"home\"][\"players\"][i]['statistics']['periods'][0]['total']['faceoffs_lost'] \n",
    "      #      if total_g < g and total_g + g != total_g:\n",
    "      #          I = i\n",
    "      #      else:\n",
    "       #         pass\n",
    "      #      if total_g == g and i != I:\n",
    "      #          total_g = total_g + g\n",
    "      #          I = i\n",
    "      #      else:\n",
    "      #          pass\n",
    "      #      if total_s < s and total_s + s != total_s:\n",
    "      #          total_s = total_s + 1\n",
    "     #           I = i\n",
    "     #       else:\n",
    "      #          pass\n",
    "      #      if total_s == s and i != I:\n",
    "      #          total_s = total_s + 1\n",
    "      #          I = i\n",
    "      #      else:\n",
    "      #          pass\n",
    "      #      if total_t < t:\n",
    "       #         total_t = total_t + (t - total_t)\n",
    "       #     else:\n",
    "        #        pass\n",
    "     #       if total_h < h:\n",
    "     #           total_h = total_h + (h - total_h)\n",
    "     #       else:\n",
    "    #            pass\n",
    "    #        if total_bs < bs:\n",
    "    #            total_bs = total_bs + (bs - total_bs)\n",
    "    #        else:\n",
    "   #             pass\n",
    "   #         if total_gi < gi:\n",
    "   #             total_gi = total_gi + (gi - total_gi)\n",
    "   #         else:\n",
    "   #             pass\n",
    "    #        if total_m < m:\n",
    "   #             total_m = total_m + (m - total_m)\n",
    "    #        else:\n",
    "    #            pass\n",
    "   #         if total_p < p:\n",
    "     #           total_p = total_p + (p - total_p)\n",
    "    #        else:\n",
    "    #            pass\n",
    "    #        if total_fw < fw:\n",
    "    #            total_fw = total_fw + (fw - total_fw)\n",
    "    #        else:\n",
    "    #            pass\n",
    "   #         if total_fl < fl:\n",
    "    #            total_fl = total_fl + (fl - total_fl)\n",
    " #           else:\n",
    " #               pass\n",
    " #   home_df = [total_s,total_g,total_t,total_h,total_bs,total_gi,total_m,total_p,total_fw,total_fl]\n",
    " #   h_series = pd.Series(home_df,index = Home_Team.columns)\n",
    " #   Home_Team = Home_Team.append(h_series, ignore_index=True)\n",
    " #   return Home_Team\n",
    "#update_stats(x)"
   ]
  },
  {
   "cell_type": "code",
   "execution_count": 21,
   "id": "f281ca3e",
   "metadata": {},
   "outputs": [],
   "source": [
    "#for i in range(at):\n",
    "    #        ga = obj[\"away\"][\"players\"][i]['statistics']['periods'][0]['total']['goals']\n",
    "    #        sa = obj[\"away\"][\"players\"][i]['statistics']['periods'][0]['total']['shots']\n",
    "    #        ta = obj[\"away\"][\"players\"][i]['statistics']['periods'][0]['total']['takeaways']\n",
    "    #        ha = obj[\"away\"][\"players\"][i]['statistics']['periods'][0]['total']['hits']\n",
    "   #         bsa = obj[\"away\"][\"players\"][i]['statistics']['periods'][0]['total']['blocked_shots']\n",
    "   #         gia = obj[\"away\"][\"players\"][i]['statistics']['periods'][0]['total']['giveaways']\n",
    "   #         ma = obj[\"away\"][\"players\"][i]['statistics']['periods'][0]['total']['missed_shots']\n",
    "   #         pa = obj[\"away\"][\"players\"][i]['statistics']['periods'][0]['total']['penalties']\n",
    "    #        fwa = obj[\"away\"][\"players\"][i]['statistics']['periods'][0]['total']['faceoffs_won']\n",
    "    #        fla = obj[\"away\"][\"players\"][i]['statistics']['periods'][0]['total']['faceoffs_lost'] \n",
    "    #away_df = [sa,s,ga,g,ta,t,ha,h,bsa,bs,gia,gi,ma,m,pa,p,fwa,fla]\n",
    "      #  a_series = pd.Series(away_df,index = Away_Team.columns)\n",
    "         #   Away_Team = Away_Team.append(a_series, ignore_index=True)"
   ]
  },
  {
   "cell_type": "code",
   "execution_count": null,
   "id": "918ec2a2",
   "metadata": {},
   "outputs": [],
   "source": []
  }
 ],
 "metadata": {
  "kernelspec": {
   "display_name": "Python 3 (ipykernel)",
   "language": "python",
   "name": "python3"
  },
  "language_info": {
   "codemirror_mode": {
    "name": "ipython",
    "version": 3
   },
   "file_extension": ".py",
   "mimetype": "text/x-python",
   "name": "python",
   "nbconvert_exporter": "python",
   "pygments_lexer": "ipython3",
   "version": "3.8.2"
  }
 },
 "nbformat": 4,
 "nbformat_minor": 5
}
