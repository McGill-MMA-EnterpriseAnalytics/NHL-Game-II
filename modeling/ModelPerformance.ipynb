{
 "cells": [
  {
   "cell_type": "code",
   "execution_count": 1,
   "id": "2d8bdd73",
   "metadata": {},
   "outputs": [],
   "source": [
    "import pandas as pd\n",
    "import numpy as np\n",
    "import matplotlib"
   ]
  },
  {
   "cell_type": "code",
   "execution_count": null,
   "id": "08666a19",
   "metadata": {},
   "outputs": [],
   "source": [
    "#Uses Fictitious list to simulate model accuracy over time\n",
    "#Would need to connect this to script recording model predictions vs real outcomes\n",
    "#Will write script to take in a dataframe like:\n",
    "#4 columns: Date, Model_Prediction, Real_Outcome, Predicted_Probability"
   ]
  },
  {
   "cell_type": "code",
   "execution_count": 30,
   "id": "2c09ee26",
   "metadata": {},
   "outputs": [],
   "source": [
    "def exp_decay(x_vals,a,b):\n",
    "    y = x_vals.apply(lambda x: a*(1 - b)**x)\n",
    "    return y"
   ]
  },
  {
   "cell_type": "code",
   "execution_count": 31,
   "id": "ad9d675d",
   "metadata": {},
   "outputs": [],
   "source": [
    "x = pd.Series([i for i in range(1,100)])"
   ]
  },
  {
   "cell_type": "code",
   "execution_count": 62,
   "id": "4dbeedb8",
   "metadata": {},
   "outputs": [],
   "source": [
    "y = exp_decay(x, 0.65, 0.1)"
   ]
  },
  {
   "cell_type": "code",
   "execution_count": 63,
   "id": "460e700b",
   "metadata": {},
   "outputs": [
    {
     "data": {
      "text/plain": [
       "<AxesSubplot:>"
      ]
     },
     "execution_count": 63,
     "metadata": {},
     "output_type": "execute_result"
    },
    {
     "data": {
      "image/png": "[encoded data removed]",
      "text/plain": [
       "<Figure size 432x288 with 1 Axes>"
      ]
     },
     "metadata": {
      "needs_background": "light"
     },
     "output_type": "display_data"
    }
   ],
   "source": [
    "y.plot()"
   ]
  },
  {
   "cell_type": "code",
   "execution_count": null,
   "id": "daf4fd18",
   "metadata": {},
   "outputs": [],
   "source": []
  }
 ],
 "metadata": {
  "kernelspec": {
   "display_name": "Python 3 (ipykernel)",
   "language": "python",
   "name": "python3"
  },
  "language_info": {
   "codemirror_mode": {
    "name": "ipython",
    "version": 3
   },
   "file_extension": ".py",
   "mimetype": "text/x-python",
   "name": "python",
   "nbconvert_exporter": "python",
   "pygments_lexer": "ipython3",
   "version": "3.8.13"
  }
 },
 "nbformat": 4,
 "nbformat_minor": 5
}
