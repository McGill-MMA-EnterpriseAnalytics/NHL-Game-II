{
 "cells": [
  {
   "cell_type": "code",
   "execution_count": null,
   "id": "e531917b",
   "metadata": {},
   "outputs": [],
   "source": [
    "# Importing correct packages\n",
    "import pandas as pd\n",
    "import numpy as np\n",
    "pd.set_option('display.max_columns', None)\n",
    "\n",
    "# Machine Learning Libraries\n",
    "import lightgbm as lgb\n",
    "from sklearn import metrics\n",
    "from sklearn.model_selection import train_test_split\n",
    "from sklearn.metrics import accuracy_score\n",
    "\n",
    "# Figures\n",
    "import seaborn as sns\n",
    "import matplotlib.pyplot as plt\n",
    "sns.set_theme(style=\"whitegrid\")\n",
    "\n",
    "from sklearn.metrics import (\n",
    "    confusion_matrix, \n",
    "    accuracy_score, \n",
    "    precision_recall_curve,\n",
    "    average_precision_score,\n",
    "    roc_curve,\n",
    "    roc_auc_score,\n",
    "    classification_report,\n",
    "    plot_confusion_matrix\n",
    ")"
   ]
  },
  {
   "cell_type": "code",
   "execution_count": null,
   "id": "4ea2f5e6",
   "metadata": {},
   "outputs": [],
   "source": [
    "# No null values\n",
    "path = '/Users/AngelaChen/NHL-Game-II'\n",
    "df = pd.read_csv(path + \"/Period_1_Game_Stats_Final_ModelReady.csv\")\n",
    "df = df[:-9611]\n",
    "df.drop(df.index[18800:40871],0,inplace=True)\n",
    "df = df.reset_index(drop=True)\n",
    "df.isna().sum()"
   ]
  },
  {
   "cell_type": "code",
   "execution_count": null,
   "id": "406612c0",
   "metadata": {},
   "outputs": [],
   "source": [
    "df.head(5)"
   ]
  },
  {
   "cell_type": "code",
   "execution_count": null,
   "id": "49bbaea3",
   "metadata": {},
   "outputs": [],
   "source": [
    "# split data into X and y\n",
    "y = df.pop('won')\n",
    "X = df\n",
    "# split data into train and test sets\n",
    "seed = 7\n",
    "test_size = 0.33\n",
    "X_train, X_test, y_train, y_test = train_test_split(X, y, test_size=test_size, random_state=seed)"
   ]
  },
  {
   "cell_type": "code",
   "execution_count": null,
   "id": "78ca9bda",
   "metadata": {},
   "outputs": [],
   "source": [
    "# Lightgbm.LGBMClassifier\n",
    "model = lgb.LGBMClassifier(learning_rate=0.09,max_depth=-5,random_state=42)\n",
    "model.fit(X_train,y_train,eval_set=[(X_test,y_test),(X_train,y_train)],\n",
    "          verbose=20,eval_metric='logloss')"
   ]
  },
  {
   "cell_type": "code",
   "execution_count": null,
   "id": "8f35fe1e",
   "metadata": {},
   "outputs": [],
   "source": [
    "print('Training accuracy {:.4f}'.format(model.score(X_train,y_train)))\n",
    "print('Testing accuracy {:.4f}'.format(model.score(X_test,y_test)))"
   ]
  },
  {
   "cell_type": "code",
   "execution_count": null,
   "id": "bf9c58f4",
   "metadata": {},
   "outputs": [],
   "source": [
    "# Interestingly, slightly better accuracy\n",
    "# make predictions for test data\n",
    "from sklearn.metrics import precision_score, recall_score\n",
    "y_pred = model.predict(X_test)\n",
    "predictions = [round(value) for value in y_pred]\n",
    "accuracy = accuracy_score(y_test, predictions)\n",
    "print(\"Accuracy: %.2f%%\" % (accuracy * 100.0))\n",
    "print('Precision score: ', (precision_score(y_test, predictions)))\n",
    "print('Recall score: ', recall_score(y_test, predictions))"
   ]
  },
  {
   "cell_type": "code",
   "execution_count": null,
   "id": "673c8293",
   "metadata": {},
   "outputs": [],
   "source": [
    "# plot feature importance\n",
    "import lightgbm\n",
    "from matplotlib import pyplot\n",
    "lightgbm.plot_importance(model)\n",
    "pyplot.show()"
   ]
  },
  {
   "cell_type": "code",
   "execution_count": null,
   "id": "9f62ad62",
   "metadata": {},
   "outputs": [],
   "source": [
    "lgb.plot_metric(model)"
   ]
  },
  {
   "cell_type": "code",
   "execution_count": null,
   "id": "302d4345",
   "metadata": {},
   "outputs": [],
   "source": [
    "metrics.plot_confusion_matrix(model,X_test,y_test,cmap='Blues_r')"
   ]
  },
  {
   "cell_type": "code",
   "execution_count": null,
   "id": "409ec251",
   "metadata": {},
   "outputs": [],
   "source": [
    "print(metrics.classification_report(y_test,model.predict(X_test)))"
   ]
  },
  {
   "cell_type": "markdown",
   "id": "fcb30490",
   "metadata": {},
   "source": [
    "## Hyperparameter tuning (gridsearchcv)"
   ]
  },
  {
   "cell_type": "code",
   "execution_count": null,
   "id": "973eb6c8",
   "metadata": {},
   "outputs": [],
   "source": [
    "from sklearn.model_selection import GridSearchCV\n",
    "from sklearn.model_selection import KFold\n",
    "\n",
    "clf_lgb_grid = lgb.LGBMClassifier(learning_rate=0.09,max_depth=-5,random_state=42)\n",
    "gkf = KFold(n_splits=5, shuffle=True, random_state=42).split(X=X_train, y=y_train)\n",
    "\n",
    "param_grid = {\n",
    "    'num_leaves': [31, 62],\n",
    "    'max_depth': [-1, 10, 20],\n",
    "    'learning_rate': [0.01, 0.02, 0.03, 0.04, 0.05, 0.06, 0.07, 0.08, 0.09, 0.1]\n",
    "    }\n",
    "gsearch = GridSearchCV(estimator=clf_lgb_grid, param_grid=param_grid, cv=gkf)\n",
    "lgb_model = gsearch.fit(X=X_train, y=y_train)\n",
    "\n",
    "print(lgb_model.best_params_, lgb_model.best_score_)"
   ]
  },
  {
   "cell_type": "markdown",
   "id": "82d2263e",
   "metadata": {},
   "source": [
    "## Final model"
   ]
  },
  {
   "cell_type": "code",
   "execution_count": null,
   "id": "19e59df9",
   "metadata": {},
   "outputs": [],
   "source": [
    "final_model = lgb.LGBMClassifier(learning_rate=0.04, max_depth=10, num_leaves = 31, random_state=42)\n",
    "final_model.fit(X_train,y_train)\n",
    "final_model.score(X_test, y_test)"
   ]
  },
  {
   "cell_type": "code",
   "execution_count": null,
   "id": "a82ee2ce",
   "metadata": {},
   "outputs": [],
   "source": [
    "# Define some helpful functions\n",
    "def clf_score(clf, X_train, y_train, X_val, y_val, train=True):\n",
    "    if train:\n",
    "        print(\"Train Result:\\n\")\n",
    "        print(\"accuracy score: {0:.4f}\\n\".format(accuracy_score(y_train, clf.predict(X_train))))\n",
    "        print(\"Classification Report: \\n {}\\n\".format(classification_report(y_train, clf.predict(X_train))))\n",
    "        print(\"Confusion Matrix: \\n {}\\n\".format(confusion_matrix(y_train, clf.predict(X_train))))\n",
    "\n",
    "        res = cross_val_score(clf, X_train, y_train, cv=10, scoring='accuracy')\n",
    "        print(\"Average Accuracy: \\t {0:.4f}\".format(np.mean(res)))\n",
    "        print(\"Accuracy SD: \\t\\t {0:.4f}\".format(np.std(res)))\n",
    "\n",
    "    elif train == False:\n",
    "        print(\"Validation Result:\\n\")\n",
    "        print(\"accuracy score: {0:.4f}\\n\".format(accuracy_score(y_val, clf.predict(X_val))))\n",
    "        \n",
    "        precision, recall, _ = precision_recall_curve(y_val, clf.predict(X_val))\n",
    "        average_precision = average_precision_score(y_val, clf.predict(X_val))\n",
    "        plot_pr_curve(precision, recall, average_precision)\n",
    "        \n",
    "        fpr, tpr, _ = roc_curve(y_val, clf.predict(X_val))\n",
    "        roc_auc = roc_auc_score(y_val, clf.predict(X_val))\n",
    "        print(\"roc auc score: {}\\n\".format(roc_auc))\n",
    "        plot_roc_curve(fpr, tpr, roc_auc)\n",
    "        \n",
    "        print(\"Classification Report: \\n {}\\n\".format(classification_report(y_val, clf.predict(X_val))))\n",
    "        print(\"Confusion Matrix: \\n {}\\n\".format(confusion_matrix(y_val, clf.predict(X_val))))\n",
    "        plot_confusion_matrix(clf,  X_val, clf.predict(X_val))\n",
    "        print(\"End of validation Result\\n\")\n",
    "\n",
    "def plot_pr_curve(precision, recall, average_precision):\n",
    "    plt.step(recall, precision, color='b', alpha=0.2, where='post')\n",
    "    plt.fill_between(recall, precision, step='post', alpha=0.2, color='b')   \n",
    "    plt.xlabel('Recall')\n",
    "    plt.ylabel('Precision')\n",
    "    plt.ylim([0.0, 1.05])\n",
    "    plt.xlim([0.0, 1.0])\n",
    "    plt.title('2-class Precision-Recall curve: AP={0:0.2f}'.format(average_precision))\n",
    "    plt.show()\n",
    "\n",
    "def plot_roc_curve(fpr, tpr, roc_auc):\n",
    "    plt.title('Receiver Operating Characteristic')\n",
    "    plt.plot(fpr, tpr, 'b', label = 'AUC = %0.2f' % roc_auc)\n",
    "    plt.legend(loc = 'lower right')\n",
    "    plt.plot([0, 1], [0, 1],'r--')\n",
    "    plt.xlim([0, 1])\n",
    "    plt.ylim([0, 1])\n",
    "    plt.ylabel('True Positive Rate')\n",
    "    plt.xlabel('False Positive Rate')\n",
    "    plt.show()"
   ]
  },
  {
   "cell_type": "markdown",
   "id": "577f7e76",
   "metadata": {},
   "source": [
    "## Streaming data using Sportradar API"
   ]
  },
  {
   "cell_type": "code",
   "execution_count": null,
   "id": "dee9d802",
   "metadata": {},
   "outputs": [],
   "source": [
    "# classification report\n",
    "clf_score(final_model, X_train, y_train, X_test, y_test, train=False)"
   ]
  },
  {
   "cell_type": "code",
   "execution_count": null,
   "id": "b14d0e10",
   "metadata": {},
   "outputs": [],
   "source": [
    "# make predictions for tonight data\n",
    "def tonight_bet(shots,shots_against,goals,goals_against,takeaways,takeaways_against,hits,hits_against,blockedShots,blockedShots_against,giveaways,giveaways_against,missedShots,missedShots_against,penalties,penalties_against,Won_Faceoffs,Lost_Faceoffs,hoa_away,hoa_home):\n",
    "    bet_df = pd.DataFrame({\"shots\": [shots],\"shots_against\": [shots_against],\"goals\": [goals],\"goals_against\": [goals_against],\"takeaways\": [takeaways],\"takeaways_against\": [takeaways_against],\"hits\": [hits],\"hits_against\": [hits_against]\n",
    "                       ,\"blockedShots\": [blockedShots],\"blockedShots_against\": [blockedShots_against],\"giveaways\": [giveaways],\"giveaways_against\": [giveaways_against],\"missedShots\": [missedShots],\"missedShots_against\": [missedShots_against]\n",
    "                       ,\"penalties\": [penalties],\"penalties_against\": [penalties_against],\"#Won Faceoffs\": [Won_Faceoffs],\"#Lost Faceoffs\": [Lost_Faceoffs],\"hoa_away\": [hoa_away],\"hoa_home\": [hoa_home],},index=[0,1,2,3,4,5,6,7,8,9,10,11,12,13,14,15,16,17,18,19],)\n",
    "    bet_df = bet_df.iloc[:1 , :]\n",
    "    tonights_team = bet_df\n",
    "    return tonights_team"
   ]
  },
  {
   "cell_type": "code",
   "execution_count": null,
   "id": "3169f3a1",
   "metadata": {},
   "outputs": [],
   "source": [
    "tonight_bet(30,5,0,0,0,0,0,0,0,0,1,0,1,0,0,0,0,0,0,0)"
   ]
  },
  {
   "cell_type": "code",
   "execution_count": null,
   "id": "727d8a09",
   "metadata": {},
   "outputs": [],
   "source": [
    "# make predictions for test data\n",
    "X_Game_test = tonight_bet(30,5,0,0,0,0,0,0,0,0,1,0,1,0,0,0,0,0,0,0)\n",
    "# store value to use in model\n",
    "\n",
    "Game_y_pred = model.predict(X_Game_test)\n",
    "prediction = [round(value) for value in Game_y_pred]\n",
    "print(prediction)\n",
    "probability = model.predict_proba(X_Game_test)\n",
    "print(probability)"
   ]
  },
  {
   "cell_type": "markdown",
   "id": "1e0f5371",
   "metadata": {},
   "source": [
    "# API SportsRadar Request"
   ]
  },
  {
   "cell_type": "code",
   "execution_count": null,
   "id": "3e7e1d45",
   "metadata": {},
   "outputs": [],
   "source": [
    "# API Packages\n",
    "import requests\n",
    "import json\n",
    "from sportradar.api import API\n",
    "\n",
    "api_key = \"sa8b3wuwy549qwy6jw6srsgv\"\n",
    "print(\"API Key:\",api_key)"
   ]
  },
  {
   "cell_type": "markdown",
   "id": "d4dab1fa",
   "metadata": {},
   "source": [
    "## Today's Games"
   ]
  },
  {
   "cell_type": "code",
   "execution_count": null,
   "id": "05be20b1",
   "metadata": {},
   "outputs": [],
   "source": [
    "from datetime import date\n",
    "import re\n",
    "from datetime import datetime,timedelta\n",
    "\n",
    "today = date.today()\n",
    "\n",
    "# dd/mm/YY\n",
    "Day = today.strftime(\"%d\")\n",
    "Month = today.strftime(\"%m\")\n",
    "Year = today.strftime(\"%Y\")\n",
    "today = date.today()\n",
    "print(\"Today's date:\", today)\n",
    "# Get API info\n",
    "response = requests.get((\"https://api.sportradar.us/nhl/trial/v7/en/games/{Year}/{Month}/{Day}/schedule.json?api_key=sa8b3wuwy549qwy6jw6srsgv\").format(Day=Day, Month = Month, Year = Year))\n",
    "\n",
    "# Define function that translates API into text\n",
    "def jprint(obj):\n",
    "    text = json.dumps(obj, sort_keys=True, indent=4)\n",
    "    print(text)\n",
    "    return \"\"\n",
    "\n",
    "# Set response as json\n",
    "x = response.json()\n",
    "# Print API info\n",
    "def getrs(obj):\n",
    "    Todays_Schedule = []\n",
    "    Todays_Schedule = pd.DataFrame([],columns = [\"Game ID\",\"Home Team\",\"Away Team\",\"Start Time\"])\n",
    "    q = len(obj[\"games\"])\n",
    "    for i in range(q):\n",
    "            GID = obj[\"games\"][i][\"id\"]\n",
    "            H = obj['games'][i]['home']['name']\n",
    "            A = obj['games'][i]['away']['name']\n",
    "            PD = obj['games'][i]['scheduled']\n",
    "            PD = re.search('T(.+?)Z',PD)\n",
    "            if PD:\n",
    "                found = PD.group(1)\n",
    "            format = \"%H:%M:%S\"\n",
    "            d = datetime.strptime(found,format) - timedelta(hours=4)\n",
    "            d = d.strftime(\"%H:%M:%S\")\n",
    "            PD = d\n",
    "            temp_df = [GID,H,A,PD]\n",
    "            a_series = pd.Series(temp_df,index = Todays_Schedule.columns)\n",
    "            Todays_Schedule = Todays_Schedule.append(a_series, ignore_index=True)\n",
    "    return Todays_Schedule\n",
    "data=getrs(x)\n",
    "data.head(10)"
   ]
  },
  {
   "cell_type": "markdown",
   "id": "5182a57e",
   "metadata": {},
   "source": [
    "# Current Game Stats"
   ]
  },
  {
   "cell_type": "code",
   "execution_count": null,
   "id": "fe2285e9",
   "metadata": {},
   "outputs": [],
   "source": [
    "def get_game_play_by_play(self, game_id):\n",
    "        \"\"\"Get the Play-by-Play data for an NHL Game\"\"\"\n",
    "        path = \"https://api.sportradar.us/nhl/trial/v7/en/games/{game_id}/pbp.json?api_key={your_api_key}\".format(game_id=game_id,your_api_key = self)\n",
    "        response = requests.get(path)\n",
    "        x = response.json()\n",
    "        text = json.dumps(x, sort_keys=True, indent=4)\n",
    "        print(text)\n",
    "        return \"\""
   ]
  },
  {
   "cell_type": "code",
   "execution_count": null,
   "id": "8fb86663",
   "metadata": {},
   "outputs": [],
   "source": [
    "response = requests.get(\"https://api.sportradar.us/nhl/trial/v7/en/games/e0e9b4c3-2d01-458f-9094-331687b96cb3/pbp.json?api_key=sa8b3wuwy549qwy6jw6srsgv\")\n",
    "\n",
    "# Define function that translates API into text\n",
    "def jprint(obj):\n",
    "    text = json.dumps(obj, sort_keys=True, indent=4)\n",
    "    print(text)\n",
    "    return \"\"\n",
    "\n",
    "# Set response as json\n",
    "x = response.json()\n",
    "x"
   ]
  },
  {
   "cell_type": "code",
   "execution_count": null,
   "id": "f6bec0aa",
   "metadata": {},
   "outputs": [],
   "source": [
    "#j = len(x['periods'][0]['events'])\n",
    "#for i in range(j):\n",
    "#    t = x['periods'][0]['events'][i]['event_type']\n",
    "#    if t == \"goal\":\n",
    "#        print(t)\n",
    " #   else:\n",
    " #       pass"
   ]
  },
  {
   "cell_type": "code",
   "execution_count": null,
   "id": "459be5dd",
   "metadata": {},
   "outputs": [],
   "source": [
    "#def update_stats(obj):\n",
    " #   Home_Team = []\n",
    " #   Away_Team = []\n",
    "  #  Home_Team = pd.DataFrame([],columns = [\"shots\",\"goals\",\"takeaways\",\"hits\",\"BlockedShots\",\"giveaway\",\"misses\",\"penalties\",\"#Won Faceoffs\",\"#Lost Faceoffs\"])\n",
    "    #Home_Team = pd.DataFrame([],columns = [\"shots\",'shots_against','goals','goals_against','takeaways','takeaways_against','hits','hits_against','blockedShots','blockedShots_against','giveaways','giveaways_against','missedShots','missedShots_against','penalties','penalties_against','#Won Faceoffs','#Lost Faceoffs'])\n",
    "  #  Away_Team = pd.DataFrame([],columns = [\"shots\",'shots_against','goals','goals_against','takeaways','takeaways_against','hits','hits_against','blockedShots','blockedShots_against','giveaways','giveaways_against','missedShots','missedShots_against','penalties','penalties_against','#Won Faceoffs','#Lost Faceoffs'])\n",
    "  #  ht = len(obj[\"home\"]['players'])\n",
    "  #  at = len(obj['away']['players'])   \n",
    "  #  total_g = 0\n",
    "  #  total_s = 0\n",
    "  #  total_t = 0\n",
    "  #  total_h = 0\n",
    "  #  total_bs = 0\n",
    "   # total_gi = 0\n",
    "  #  total_m = 0\n",
    "   # total_p = 0\n",
    "   # total_fw = 0\n",
    "  #  total_fl = 0\n",
    "  #  I = None\n",
    "  #  for i in range(ht):\n",
    "    #        g = obj[\"home\"][\"players\"][i]['statistics']['periods'][0]['total']['goals']\n",
    "    #        s = obj[\"home\"][\"players\"][i]['statistics']['periods'][0]['total']['shots']\n",
    "    #        t = obj[\"home\"][\"players\"][i]['statistics']['periods'][0]['total']['takeaways']\n",
    "    #        h = obj[\"home\"][\"players\"][i]['statistics']['periods'][0]['total']['hits']\n",
    "     #       bs = obj[\"home\"][\"players\"][i]['statistics']['periods'][0]['total']['blocked_shots']\n",
    "     #       gi = obj[\"home\"][\"players\"][i]['statistics']['periods'][0]['total']['giveaways']\n",
    "      #      m = obj[\"home\"][\"players\"][i]['statistics']['periods'][0]['total']['missed_shots']\n",
    "    #        p = obj[\"home\"][\"players\"][i]['statistics']['periods'][0]['total']['penalties']\n",
    "     #       fw = obj[\"home\"][\"players\"][i]['statistics']['periods'][0]['total']['faceoffs_won']\n",
    "       #     fl = obj[\"home\"][\"players\"][i]['statistics']['periods'][0]['total']['faceoffs_lost'] \n",
    "      #      if total_g < g and total_g + g != total_g:\n",
    "      #          I = i\n",
    "      #      else:\n",
    "       #         pass\n",
    "      #      if total_g == g and i != I:\n",
    "      #          total_g = total_g + g\n",
    "      #          I = i\n",
    "      #      else:\n",
    "      #          pass\n",
    "      #      if total_s < s and total_s + s != total_s:\n",
    "      #          total_s = total_s + 1\n",
    "     #           I = i\n",
    "     #       else:\n",
    "      #          pass\n",
    "      #      if total_s == s and i != I:\n",
    "      #          total_s = total_s + 1\n",
    "      #          I = i\n",
    "      #      else:\n",
    "      #          pass\n",
    "      #      if total_t < t:\n",
    "       #         total_t = total_t + (t - total_t)\n",
    "       #     else:\n",
    "        #        pass\n",
    "     #       if total_h < h:\n",
    "     #           total_h = total_h + (h - total_h)\n",
    "     #       else:\n",
    "    #            pass\n",
    "    #        if total_bs < bs:\n",
    "    #            total_bs = total_bs + (bs - total_bs)\n",
    "    #        else:\n",
    "   #             pass\n",
    "   #         if total_gi < gi:\n",
    "   #             total_gi = total_gi + (gi - total_gi)\n",
    "   #         else:\n",
    "   #             pass\n",
    "    #        if total_m < m:\n",
    "   #             total_m = total_m + (m - total_m)\n",
    "    #        else:\n",
    "    #            pass\n",
    "   #         if total_p < p:\n",
    "     #           total_p = total_p + (p - total_p)\n",
    "    #        else:\n",
    "    #            pass\n",
    "    #        if total_fw < fw:\n",
    "    #            total_fw = total_fw + (fw - total_fw)\n",
    "    #        else:\n",
    "    #            pass\n",
    "   #         if total_fl < fl:\n",
    "    #            total_fl = total_fl + (fl - total_fl)\n",
    " #           else:\n",
    " #               pass\n",
    " #   home_df = [total_s,total_g,total_t,total_h,total_bs,total_gi,total_m,total_p,total_fw,total_fl]\n",
    " #   h_series = pd.Series(home_df,index = Home_Team.columns)\n",
    " #   Home_Team = Home_Team.append(h_series, ignore_index=True)\n",
    " #   return Home_Team\n",
    "#update_stats(x)"
   ]
  },
  {
   "cell_type": "code",
   "execution_count": null,
   "id": "f281ca3e",
   "metadata": {},
   "outputs": [],
   "source": [
    "#for i in range(at):\n",
    "    #        ga = obj[\"away\"][\"players\"][i]['statistics']['periods'][0]['total']['goals']\n",
    "    #        sa = obj[\"away\"][\"players\"][i]['statistics']['periods'][0]['total']['shots']\n",
    "    #        ta = obj[\"away\"][\"players\"][i]['statistics']['periods'][0]['total']['takeaways']\n",
    "    #        ha = obj[\"away\"][\"players\"][i]['statistics']['periods'][0]['total']['hits']\n",
    "   #         bsa = obj[\"away\"][\"players\"][i]['statistics']['periods'][0]['total']['blocked_shots']\n",
    "   #         gia = obj[\"away\"][\"players\"][i]['statistics']['periods'][0]['total']['giveaways']\n",
    "   #         ma = obj[\"away\"][\"players\"][i]['statistics']['periods'][0]['total']['missed_shots']\n",
    "   #         pa = obj[\"away\"][\"players\"][i]['statistics']['periods'][0]['total']['penalties']\n",
    "    #        fwa = obj[\"away\"][\"players\"][i]['statistics']['periods'][0]['total']['faceoffs_won']\n",
    "    #        fla = obj[\"away\"][\"players\"][i]['statistics']['periods'][0]['total']['faceoffs_lost'] \n",
    "    #away_df = [sa,s,ga,g,ta,t,ha,h,bsa,bs,gia,gi,ma,m,pa,p,fwa,fla]\n",
    "      #  a_series = pd.Series(away_df,index = Away_Team.columns)\n",
    "         #   Away_Team = Away_Team.append(a_series, ignore_index=True)"
   ]
  },
  {
   "cell_type": "code",
   "execution_count": null,
   "id": "918ec2a2",
   "metadata": {},
   "outputs": [],
   "source": []
  }
 ],
 "metadata": {
  "kernelspec": {
   "display_name": "Python 3 (ipykernel)",
   "language": "python",
   "name": "python3"
  },
  "language_info": {
   "codemirror_mode": {
    "name": "ipython",
    "version": 3
   },
   "file_extension": ".py",
   "mimetype": "text/x-python",
   "name": "python",
   "nbconvert_exporter": "python",
   "pygments_lexer": "ipython3",
   "version": "3.8.13"
  }
 },
 "nbformat": 4,
 "nbformat_minor": 5
}
