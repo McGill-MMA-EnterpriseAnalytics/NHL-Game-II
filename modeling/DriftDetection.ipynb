{
 "cells": [
  {
   "cell_type": "code",
   "execution_count": 75,
   "id": "8d3554ee",
   "metadata": {},
   "outputs": [],
   "source": [
    "import pandas as pd\n",
    "import numpy as np\n",
    "from alibi_detect.cd import TabularDrift\n",
    "from alibi_detect.cd import ClassifierDrift\n",
    "import matplotlib.pyplot as plt\n",
    "import tensorflow as tf\n",
    "from tensorflow import keras"
   ]
  },
  {
   "cell_type": "code",
   "execution_count": 4,
   "id": "87fcfcc6",
   "metadata": {},
   "outputs": [],
   "source": [
    "df = pd.read_csv(r\"H:\\GitHub\\NHL-Game-II\\Period_1_Game_Stats_Final_ModelReady.csv\")"
   ]
  },
  {
   "cell_type": "code",
   "execution_count": 5,
   "id": "ab097246",
   "metadata": {},
   "outputs": [
    {
     "data": {
      "text/plain": [
       "won                        int64\n",
       "Shots                    float64\n",
       "Shots_Against            float64\n",
       "Goals                    float64\n",
       "Goals_Against            float64\n",
       "Takeaways                float64\n",
       "Takeaways_Against        float64\n",
       "Hits                     float64\n",
       "Hits_Against             float64\n",
       "Blocked Shots            float64\n",
       "Blocked Shots Against    float64\n",
       "Giveaways                float64\n",
       "Giveaways_Against        float64\n",
       "Missed Shots             float64\n",
       "Missed Shots_Against     float64\n",
       "Penalities               float64\n",
       "Penalities_Against       float64\n",
       "#Won Faceoffs            float64\n",
       "#Lost Faceoffs           float64\n",
       "HoA_away                   int64\n",
       "HoA_home                   int64\n",
       "dtype: object"
      ]
     },
     "execution_count": 5,
     "metadata": {},
     "output_type": "execute_result"
    }
   ],
   "source": [
    "df.dtypes"
   ]
  },
  {
   "cell_type": "code",
   "execution_count": 14,
   "id": "696d26de",
   "metadata": {},
   "outputs": [
    {
     "data": {
      "text/html": [
       "<div>\n",
       "<style scoped>\n",
       "    .dataframe tbody tr th:only-of-type {\n",
       "        vertical-align: middle;\n",
       "    }\n",
       "\n",
       "    .dataframe tbody tr th {\n",
       "        vertical-align: top;\n",
       "    }\n",
       "\n",
       "    .dataframe thead th {\n",
       "        text-align: right;\n",
       "    }\n",
       "</style>\n",
       "<table border=\"1\" class=\"dataframe\">\n",
       "  <thead>\n",
       "    <tr style=\"text-align: right;\">\n",
       "      <th></th>\n",
       "      <th>won</th>\n",
       "      <th>Shots</th>\n",
       "      <th>Shots_Against</th>\n",
       "      <th>Goals</th>\n",
       "      <th>Goals_Against</th>\n",
       "      <th>Takeaways</th>\n",
       "      <th>Takeaways_Against</th>\n",
       "      <th>Hits</th>\n",
       "      <th>Hits_Against</th>\n",
       "      <th>Blocked Shots</th>\n",
       "      <th>...</th>\n",
       "      <th>Giveaways</th>\n",
       "      <th>Giveaways_Against</th>\n",
       "      <th>Missed Shots</th>\n",
       "      <th>Missed Shots_Against</th>\n",
       "      <th>Penalities</th>\n",
       "      <th>Penalities_Against</th>\n",
       "      <th>#Won Faceoffs</th>\n",
       "      <th>#Lost Faceoffs</th>\n",
       "      <th>HoA_away</th>\n",
       "      <th>HoA_home</th>\n",
       "    </tr>\n",
       "  </thead>\n",
       "  <tbody>\n",
       "    <tr>\n",
       "      <th>0</th>\n",
       "      <td>0</td>\n",
       "      <td>8.0</td>\n",
       "      <td>8.0</td>\n",
       "      <td>0.0</td>\n",
       "      <td>3.0</td>\n",
       "      <td>1.0</td>\n",
       "      <td>3.0</td>\n",
       "      <td>14.0</td>\n",
       "      <td>5.0</td>\n",
       "      <td>3.0</td>\n",
       "      <td>...</td>\n",
       "      <td>6.0</td>\n",
       "      <td>7.0</td>\n",
       "      <td>4.0</td>\n",
       "      <td>0.0</td>\n",
       "      <td>1.0</td>\n",
       "      <td>1.0</td>\n",
       "      <td>10.0</td>\n",
       "      <td>12.0</td>\n",
       "      <td>1</td>\n",
       "      <td>0</td>\n",
       "    </tr>\n",
       "    <tr>\n",
       "      <th>1</th>\n",
       "      <td>1</td>\n",
       "      <td>8.0</td>\n",
       "      <td>8.0</td>\n",
       "      <td>3.0</td>\n",
       "      <td>0.0</td>\n",
       "      <td>3.0</td>\n",
       "      <td>1.0</td>\n",
       "      <td>5.0</td>\n",
       "      <td>14.0</td>\n",
       "      <td>3.0</td>\n",
       "      <td>...</td>\n",
       "      <td>7.0</td>\n",
       "      <td>6.0</td>\n",
       "      <td>0.0</td>\n",
       "      <td>4.0</td>\n",
       "      <td>1.0</td>\n",
       "      <td>1.0</td>\n",
       "      <td>12.0</td>\n",
       "      <td>10.0</td>\n",
       "      <td>0</td>\n",
       "      <td>1</td>\n",
       "    </tr>\n",
       "    <tr>\n",
       "      <th>2</th>\n",
       "      <td>1</td>\n",
       "      <td>11.0</td>\n",
       "      <td>12.0</td>\n",
       "      <td>0.0</td>\n",
       "      <td>1.0</td>\n",
       "      <td>0.0</td>\n",
       "      <td>2.0</td>\n",
       "      <td>4.0</td>\n",
       "      <td>4.0</td>\n",
       "      <td>6.0</td>\n",
       "      <td>...</td>\n",
       "      <td>2.0</td>\n",
       "      <td>0.0</td>\n",
       "      <td>6.0</td>\n",
       "      <td>3.0</td>\n",
       "      <td>1.0</td>\n",
       "      <td>3.0</td>\n",
       "      <td>11.0</td>\n",
       "      <td>9.0</td>\n",
       "      <td>1</td>\n",
       "      <td>0</td>\n",
       "    </tr>\n",
       "    <tr>\n",
       "      <th>3</th>\n",
       "      <td>0</td>\n",
       "      <td>12.0</td>\n",
       "      <td>11.0</td>\n",
       "      <td>1.0</td>\n",
       "      <td>0.0</td>\n",
       "      <td>2.0</td>\n",
       "      <td>0.0</td>\n",
       "      <td>4.0</td>\n",
       "      <td>4.0</td>\n",
       "      <td>8.0</td>\n",
       "      <td>...</td>\n",
       "      <td>0.0</td>\n",
       "      <td>2.0</td>\n",
       "      <td>3.0</td>\n",
       "      <td>6.0</td>\n",
       "      <td>3.0</td>\n",
       "      <td>1.0</td>\n",
       "      <td>9.0</td>\n",
       "      <td>11.0</td>\n",
       "      <td>0</td>\n",
       "      <td>1</td>\n",
       "    </tr>\n",
       "    <tr>\n",
       "      <th>4</th>\n",
       "      <td>1</td>\n",
       "      <td>9.0</td>\n",
       "      <td>8.0</td>\n",
       "      <td>0.0</td>\n",
       "      <td>1.0</td>\n",
       "      <td>3.0</td>\n",
       "      <td>2.0</td>\n",
       "      <td>4.0</td>\n",
       "      <td>5.0</td>\n",
       "      <td>7.0</td>\n",
       "      <td>...</td>\n",
       "      <td>7.0</td>\n",
       "      <td>5.0</td>\n",
       "      <td>3.0</td>\n",
       "      <td>8.0</td>\n",
       "      <td>2.0</td>\n",
       "      <td>1.0</td>\n",
       "      <td>7.0</td>\n",
       "      <td>11.0</td>\n",
       "      <td>1</td>\n",
       "      <td>0</td>\n",
       "    </tr>\n",
       "  </tbody>\n",
       "</table>\n",
       "<p>5 rows × 21 columns</p>\n",
       "</div>"
      ],
      "text/plain": [
       "   won  Shots  Shots_Against  Goals  Goals_Against  Takeaways  \\\n",
       "0    0    8.0            8.0    0.0            3.0        1.0   \n",
       "1    1    8.0            8.0    3.0            0.0        3.0   \n",
       "2    1   11.0           12.0    0.0            1.0        0.0   \n",
       "3    0   12.0           11.0    1.0            0.0        2.0   \n",
       "4    1    9.0            8.0    0.0            1.0        3.0   \n",
       "\n",
       "   Takeaways_Against  Hits  Hits_Against  Blocked Shots  ...  Giveaways  \\\n",
       "0                3.0  14.0           5.0            3.0  ...        6.0   \n",
       "1                1.0   5.0          14.0            3.0  ...        7.0   \n",
       "2                2.0   4.0           4.0            6.0  ...        2.0   \n",
       "3                0.0   4.0           4.0            8.0  ...        0.0   \n",
       "4                2.0   4.0           5.0            7.0  ...        7.0   \n",
       "\n",
       "   Giveaways_Against  Missed Shots  Missed Shots_Against  Penalities  \\\n",
       "0                7.0           4.0                   0.0         1.0   \n",
       "1                6.0           0.0                   4.0         1.0   \n",
       "2                0.0           6.0                   3.0         1.0   \n",
       "3                2.0           3.0                   6.0         3.0   \n",
       "4                5.0           3.0                   8.0         2.0   \n",
       "\n",
       "   Penalities_Against  #Won Faceoffs  #Lost Faceoffs  HoA_away  HoA_home  \n",
       "0                 1.0           10.0            12.0         1         0  \n",
       "1                 1.0           12.0            10.0         0         1  \n",
       "2                 3.0           11.0             9.0         1         0  \n",
       "3                 1.0            9.0            11.0         0         1  \n",
       "4                 1.0            7.0            11.0         1         0  \n",
       "\n",
       "[5 rows x 21 columns]"
      ]
     },
     "execution_count": 14,
     "metadata": {},
     "output_type": "execute_result"
    }
   ],
   "source": [
    "df.head()"
   ]
  },
  {
   "cell_type": "code",
   "execution_count": 24,
   "id": "72deacd9",
   "metadata": {},
   "outputs": [],
   "source": [
    "#Drop the label column\n",
    "df = df.drop(\"won\",axis=1)"
   ]
  },
  {
   "cell_type": "code",
   "execution_count": 41,
   "id": "a5a16982",
   "metadata": {},
   "outputs": [],
   "source": [
    "#Get the feature names\n",
    "feature_names = df.columns"
   ]
  },
  {
   "cell_type": "code",
   "execution_count": 69,
   "id": "a9815678",
   "metadata": {},
   "outputs": [],
   "source": [
    "#Split dataset into two\n",
    "#Reference game contains all data minus last 20 games\n",
    "X_ref = np.array(df.iloc[:-30,:])\n",
    "#Test set has last 20 games\n",
    "X_new = np.array(df.iloc[-30:,:])"
   ]
  },
  {
   "cell_type": "code",
   "execution_count": 70,
   "id": "70b28f93",
   "metadata": {},
   "outputs": [],
   "source": [
    "#TabularDrift: K-S tests for num features, Chi-squared for categorical\n",
    "cd = TabularDrift(p_val=0.05, x_ref = X_ref)"
   ]
  },
  {
   "cell_type": "code",
   "execution_count": 71,
   "id": "1a1a74ad",
   "metadata": {},
   "outputs": [
    {
     "name": "stdout",
     "output_type": "stream",
     "text": [
      "Drift? Yes!\n"
     ]
    }
   ],
   "source": [
    "#Predict general drift\n",
    "preds = cd.predict(X_new, return_p_val=True, return_distance = True)\n",
    "labels = ['No!', 'Yes!']\n",
    "print('Drift? {}'.format(labels[preds['data']['is_drift']]))"
   ]
  },
  {
   "cell_type": "code",
   "execution_count": 72,
   "id": "bb53744d",
   "metadata": {},
   "outputs": [],
   "source": [
    "#Predict the drift for each feature\n",
    "fpreds = cd.predict(X_new, drift_type=\"feature\", return_p_val=True, return_distance=True)"
   ]
  },
  {
   "cell_type": "code",
   "execution_count": 73,
   "id": "51c02de1",
   "metadata": {
    "scrolled": true
   },
   "outputs": [
    {
     "name": "stdout",
     "output_type": "stream",
     "text": [
      "Shots -- Drift? Yes! -- K-S 0.561 -- p-value 0.000\n",
      "Shots_Against -- Drift? Yes! -- K-S 0.561 -- p-value 0.000\n",
      "Goals -- Drift? Yes! -- K-S 0.292 -- p-value 0.009\n",
      "Goals_Against -- Drift? Yes! -- K-S 0.292 -- p-value 0.009\n",
      "Takeaways -- Drift? Yes! -- K-S 0.593 -- p-value 0.000\n",
      "Takeaways_Against -- Drift? Yes! -- K-S 0.660 -- p-value 0.000\n",
      "Hits -- Drift? Yes! -- K-S 0.902 -- p-value 0.000\n",
      "Hits_Against -- Drift? Yes! -- K-S 0.903 -- p-value 0.000\n",
      "Blocked Shots -- Drift? Yes! -- K-S 0.585 -- p-value 0.000\n",
      "Blocked Shots Against -- Drift? Yes! -- K-S 0.584 -- p-value 0.000\n",
      "Giveaways -- Drift? Yes! -- K-S 0.480 -- p-value 0.000\n",
      "Giveaways_Against -- Drift? Yes! -- K-S 0.414 -- p-value 0.000\n",
      "Missed Shots -- Drift? Yes! -- K-S 0.452 -- p-value 0.000\n",
      "Missed Shots_Against -- Drift? Yes! -- K-S 0.518 -- p-value 0.000\n",
      "Penalities -- Drift? No! -- K-S 0.216 -- p-value 0.104\n",
      "Penalities_Against -- Drift? No! -- K-S 0.215 -- p-value 0.106\n",
      "#Won Faceoffs -- Drift? Yes! -- K-S 0.675 -- p-value 0.000\n",
      "#Lost Faceoffs -- Drift? Yes! -- K-S 0.609 -- p-value 0.000\n",
      "HoA_away -- Drift? No! -- K-S 0.035 -- p-value 1.000\n",
      "HoA_home -- Drift? No! -- K-S 0.035 -- p-value 1.000\n"
     ]
    }
   ],
   "source": [
    "#Get drift per feature\n",
    "for f in range(cd.n_features):\n",
    "    stat = 'K-S'\n",
    "    fname = feature_names[f]\n",
    "    is_drift = fpreds['data']['is_drift'][f]\n",
    "    stat_val, p_val = fpreds['data']['distance'][f], fpreds['data']['p_val'][f]\n",
    "    print(f'{fname} -- Drift? {labels[is_drift]} -- {stat} {stat_val:.3f} -- p-value {p_val:.3f}')"
   ]
  },
  {
   "cell_type": "code",
   "execution_count": null,
   "id": "a0bfea82",
   "metadata": {},
   "outputs": [],
   "source": [
    "#def plot_numerical():\n",
    "    "
   ]
  }
 ],
 "metadata": {
  "kernelspec": {
   "display_name": "Python 3 (ipykernel)",
   "language": "python",
   "name": "python3"
  },
  "language_info": {
   "codemirror_mode": {
    "name": "ipython",
    "version": 3
   },
   "file_extension": ".py",
   "mimetype": "text/x-python",
   "name": "python",
   "nbconvert_exporter": "python",
   "pygments_lexer": "ipython3",
   "version": "3.8.12"
  }
 },
 "nbformat": 4,
 "nbformat_minor": 5
}
