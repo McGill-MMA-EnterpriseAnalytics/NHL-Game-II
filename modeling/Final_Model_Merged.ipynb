{
 "cells": [
  {
   "cell_type": "markdown",
   "metadata": {
    "id": "Cg-llkP1aBpn"
   },
   "source": [
    "# Final model \n",
    "## Merged file including work from Angela, Louis and Matthew"
   ]
  },
  {
   "cell_type": "markdown",
   "metadata": {},
   "source": [
    "## Section 1.) Modeling Construction and Optimization"
   ]
  },
  {
   "cell_type": "code",
   "execution_count": 1,
   "metadata": {
    "id": "izGvCqeAZ_9H"
   },
   "outputs": [],
   "source": [
    "# Importing correct packages\n",
    "import pandas as pd\n",
    "import numpy as np\n",
    "pd.set_option('display.max_columns', None)\n",
    "\n",
    "# Machine Learning Libraries\n",
    "import lightgbm as lgb\n",
    "from sklearn import metrics\n",
    "from sklearn.model_selection import train_test_split\n",
    "from sklearn.metrics import accuracy_score\n",
    "\n",
    "# API Packages\n",
    "from datetime import date\n",
    "import re\n",
    "from datetime import datetime,timedelta\n",
    "import requests\n",
    "import json\n",
    "\n",
    "# Data Drift Packaging\n",
    "#from alibi_detect.cd import TabularDrift\n",
    "#from alibi_detect.cd import ClassifierDrift\n",
    "#import tensorflow as tf\n",
    "#from tensorflow import keras\n",
    "\n",
    "# Unit Test Packaging\n",
    "import treon\n",
    "import unittest\n",
    "import pickle\n",
    "\n",
    "# Figures\n",
    "import seaborn as sns\n",
    "import matplotlib.pyplot as plt\n",
    "sns.set_theme(style=\"whitegrid\")\n",
    "\n",
    "from sklearn.metrics import (\n",
    "    confusion_matrix, \n",
    "    accuracy_score, \n",
    "    precision_recall_curve,\n",
    "    average_precision_score,\n",
    "    roc_curve,\n",
    "    roc_auc_score,\n",
    "    classification_report,\n",
    "    plot_confusion_matrix\n",
    ")"
   ]
  },
  {
   "cell_type": "code",
   "execution_count": 2,
   "metadata": {
    "colab": {
     "base_uri": "https://localhost:8080/"
    },
    "id": "Vzo2VbkOaJFX",
    "outputId": "57cd3e7e-9c5a-481d-db0f-382f2e8d566e"
   },
   "outputs": [
    {
     "data": {
      "text/html": [
       "<div>\n",
       "<style scoped>\n",
       "    .dataframe tbody tr th:only-of-type {\n",
       "        vertical-align: middle;\n",
       "    }\n",
       "\n",
       "    .dataframe tbody tr th {\n",
       "        vertical-align: top;\n",
       "    }\n",
       "\n",
       "    .dataframe thead th {\n",
       "        text-align: right;\n",
       "    }\n",
       "</style>\n",
       "<table border=\"1\" class=\"dataframe\">\n",
       "  <thead>\n",
       "    <tr style=\"text-align: right;\">\n",
       "      <th></th>\n",
       "      <th>won</th>\n",
       "      <th>Shots</th>\n",
       "      <th>Shots_Against</th>\n",
       "      <th>Goals</th>\n",
       "      <th>Goals_Against</th>\n",
       "      <th>Takeaways</th>\n",
       "      <th>Takeaways_Against</th>\n",
       "      <th>Hits</th>\n",
       "      <th>Hits_Against</th>\n",
       "      <th>Blocked Shots</th>\n",
       "      <th>Blocked Shots Against</th>\n",
       "      <th>Giveaways</th>\n",
       "      <th>Giveaways_Against</th>\n",
       "      <th>Missed Shots</th>\n",
       "      <th>Missed Shots_Against</th>\n",
       "      <th>Penalities</th>\n",
       "      <th>Penalities_Against</th>\n",
       "      <th>#Won Faceoffs</th>\n",
       "      <th>#Lost Faceoffs</th>\n",
       "      <th>HoA_away</th>\n",
       "      <th>HoA_home</th>\n",
       "    </tr>\n",
       "  </thead>\n",
       "  <tbody>\n",
       "    <tr>\n",
       "      <th>0</th>\n",
       "      <td>0</td>\n",
       "      <td>8.0</td>\n",
       "      <td>8.0</td>\n",
       "      <td>0.0</td>\n",
       "      <td>3.0</td>\n",
       "      <td>1.0</td>\n",
       "      <td>3.0</td>\n",
       "      <td>14.0</td>\n",
       "      <td>5.0</td>\n",
       "      <td>3.0</td>\n",
       "      <td>3.0</td>\n",
       "      <td>6.0</td>\n",
       "      <td>7.0</td>\n",
       "      <td>4.0</td>\n",
       "      <td>0.0</td>\n",
       "      <td>1.0</td>\n",
       "      <td>1.0</td>\n",
       "      <td>10.0</td>\n",
       "      <td>12.0</td>\n",
       "      <td>1</td>\n",
       "      <td>0</td>\n",
       "    </tr>\n",
       "    <tr>\n",
       "      <th>1</th>\n",
       "      <td>1</td>\n",
       "      <td>8.0</td>\n",
       "      <td>8.0</td>\n",
       "      <td>3.0</td>\n",
       "      <td>0.0</td>\n",
       "      <td>3.0</td>\n",
       "      <td>1.0</td>\n",
       "      <td>5.0</td>\n",
       "      <td>14.0</td>\n",
       "      <td>3.0</td>\n",
       "      <td>3.0</td>\n",
       "      <td>7.0</td>\n",
       "      <td>6.0</td>\n",
       "      <td>0.0</td>\n",
       "      <td>4.0</td>\n",
       "      <td>1.0</td>\n",
       "      <td>1.0</td>\n",
       "      <td>12.0</td>\n",
       "      <td>10.0</td>\n",
       "      <td>0</td>\n",
       "      <td>1</td>\n",
       "    </tr>\n",
       "    <tr>\n",
       "      <th>2</th>\n",
       "      <td>1</td>\n",
       "      <td>11.0</td>\n",
       "      <td>12.0</td>\n",
       "      <td>0.0</td>\n",
       "      <td>1.0</td>\n",
       "      <td>0.0</td>\n",
       "      <td>2.0</td>\n",
       "      <td>4.0</td>\n",
       "      <td>4.0</td>\n",
       "      <td>6.0</td>\n",
       "      <td>8.0</td>\n",
       "      <td>2.0</td>\n",
       "      <td>0.0</td>\n",
       "      <td>6.0</td>\n",
       "      <td>3.0</td>\n",
       "      <td>1.0</td>\n",
       "      <td>3.0</td>\n",
       "      <td>11.0</td>\n",
       "      <td>9.0</td>\n",
       "      <td>1</td>\n",
       "      <td>0</td>\n",
       "    </tr>\n",
       "    <tr>\n",
       "      <th>3</th>\n",
       "      <td>0</td>\n",
       "      <td>12.0</td>\n",
       "      <td>11.0</td>\n",
       "      <td>1.0</td>\n",
       "      <td>0.0</td>\n",
       "      <td>2.0</td>\n",
       "      <td>0.0</td>\n",
       "      <td>4.0</td>\n",
       "      <td>4.0</td>\n",
       "      <td>8.0</td>\n",
       "      <td>6.0</td>\n",
       "      <td>0.0</td>\n",
       "      <td>2.0</td>\n",
       "      <td>3.0</td>\n",
       "      <td>6.0</td>\n",
       "      <td>3.0</td>\n",
       "      <td>1.0</td>\n",
       "      <td>9.0</td>\n",
       "      <td>11.0</td>\n",
       "      <td>0</td>\n",
       "      <td>1</td>\n",
       "    </tr>\n",
       "    <tr>\n",
       "      <th>4</th>\n",
       "      <td>1</td>\n",
       "      <td>9.0</td>\n",
       "      <td>8.0</td>\n",
       "      <td>0.0</td>\n",
       "      <td>1.0</td>\n",
       "      <td>3.0</td>\n",
       "      <td>2.0</td>\n",
       "      <td>4.0</td>\n",
       "      <td>5.0</td>\n",
       "      <td>7.0</td>\n",
       "      <td>1.0</td>\n",
       "      <td>7.0</td>\n",
       "      <td>5.0</td>\n",
       "      <td>3.0</td>\n",
       "      <td>8.0</td>\n",
       "      <td>2.0</td>\n",
       "      <td>1.0</td>\n",
       "      <td>7.0</td>\n",
       "      <td>11.0</td>\n",
       "      <td>1</td>\n",
       "      <td>0</td>\n",
       "    </tr>\n",
       "  </tbody>\n",
       "</table>\n",
       "</div>"
      ],
      "text/plain": [
       "   won  Shots  Shots_Against  Goals  Goals_Against  Takeaways  \\\n",
       "0    0    8.0            8.0    0.0            3.0        1.0   \n",
       "1    1    8.0            8.0    3.0            0.0        3.0   \n",
       "2    1   11.0           12.0    0.0            1.0        0.0   \n",
       "3    0   12.0           11.0    1.0            0.0        2.0   \n",
       "4    1    9.0            8.0    0.0            1.0        3.0   \n",
       "\n",
       "   Takeaways_Against  Hits  Hits_Against  Blocked Shots  \\\n",
       "0                3.0  14.0           5.0            3.0   \n",
       "1                1.0   5.0          14.0            3.0   \n",
       "2                2.0   4.0           4.0            6.0   \n",
       "3                0.0   4.0           4.0            8.0   \n",
       "4                2.0   4.0           5.0            7.0   \n",
       "\n",
       "   Blocked Shots Against  Giveaways  Giveaways_Against  Missed Shots  \\\n",
       "0                    3.0        6.0                7.0           4.0   \n",
       "1                    3.0        7.0                6.0           0.0   \n",
       "2                    8.0        2.0                0.0           6.0   \n",
       "3                    6.0        0.0                2.0           3.0   \n",
       "4                    1.0        7.0                5.0           3.0   \n",
       "\n",
       "   Missed Shots_Against  Penalities  Penalities_Against  #Won Faceoffs  \\\n",
       "0                   0.0         1.0                 1.0           10.0   \n",
       "1                   4.0         1.0                 1.0           12.0   \n",
       "2                   3.0         1.0                 3.0           11.0   \n",
       "3                   6.0         3.0                 1.0            9.0   \n",
       "4                   8.0         2.0                 1.0            7.0   \n",
       "\n",
       "   #Lost Faceoffs  HoA_away  HoA_home  \n",
       "0            12.0         1         0  \n",
       "1            10.0         0         1  \n",
       "2             9.0         1         0  \n",
       "3            11.0         0         1  \n",
       "4            11.0         1         0  "
      ]
     },
     "execution_count": 2,
     "metadata": {},
     "output_type": "execute_result"
    }
   ],
   "source": [
    "# Importation of Revised Dataset from April 10th, 2022\n",
    "df = pd.read_csv(\"/Users/matthewbuttlerives/Desktop/Data Folder/Period_1_Game_Stats_Final_ModelReady(April-10th-2022).csv\")\n",
    "df.head()"
   ]
  },
  {
   "cell_type": "code",
   "execution_count": 3,
   "metadata": {
    "id": "B-pdVB7-aJcP"
   },
   "outputs": [],
   "source": [
    "# split data into X and y\n",
    "y = df.pop('won')\n",
    "X = df\n",
    "\n",
    "# split data into train and test sets\n",
    "seed = 7\n",
    "test_size = 0.33\n",
    "X_train, X_test, y_train, y_test = train_test_split(X, y, test_size=test_size, random_state=seed)"
   ]
  },
  {
   "cell_type": "code",
   "execution_count": 4,
   "metadata": {
    "colab": {
     "base_uri": "https://localhost:8080/"
    },
    "id": "QjwHYpS6aJen",
    "outputId": "f9c8eac2-1bc1-4599-c890-fc430b81cc47"
   },
   "outputs": [
    {
     "data": {
      "text/plain": [
       "0.6608801583675955"
      ]
     },
     "execution_count": 4,
     "metadata": {},
     "output_type": "execute_result"
    }
   ],
   "source": [
    "# Final Lightgbm.LGBMClassifier model\n",
    "final_model = lgb.LGBMClassifier(learning_rate=0.04, max_depth=10, num_leaves = 31, random_state=42)\n",
    "final_model.fit(X_train,y_train)\n",
    "final_model.score(X_test, y_test)"
   ]
  },
  {
   "cell_type": "code",
   "execution_count": 5,
   "metadata": {},
   "outputs": [
    {
     "name": "stdout",
     "output_type": "stream",
     "text": [
      "Training accuracy 0.7156\n",
      "Testing accuracy 0.6609\n"
     ]
    }
   ],
   "source": [
    "# Accuracy Scores\n",
    "print('Training accuracy {:.4f}'.format(final_model.score(X_train,y_train)))\n",
    "print('Testing accuracy {:.4f}'.format(final_model.score(X_test,y_test)))"
   ]
  },
  {
   "cell_type": "code",
   "execution_count": 6,
   "metadata": {},
   "outputs": [
    {
     "name": "stdout",
     "output_type": "stream",
     "text": [
      "Accuracy: 66.09%\n",
      "Precision score:  0.6652347345811599\n",
      "Recall score:  0.6561743341404358\n"
     ]
    }
   ],
   "source": [
    "# Accuracy, Precision and Recall Scores\n",
    "from sklearn.metrics import precision_score, recall_score\n",
    "y_pred = final_model.predict(X_test)\n",
    "predictions = [round(value) for value in y_pred]\n",
    "accuracy = accuracy_score(y_test, predictions)\n",
    "print(\"Accuracy: %.2f%%\" % (accuracy * 100.0))\n",
    "print('Precision score: ', (precision_score(y_test, predictions)))\n",
    "print('Recall score: ', recall_score(y_test, predictions))"
   ]
  },
  {
   "cell_type": "code",
   "execution_count": 7,
   "metadata": {
    "id": "TnEavOowaJhH"
   },
   "outputs": [],
   "source": [
    "# Define some helpful functions\n",
    "def clf_score(clf, X_train, y_train, X_val, y_val, train=True):\n",
    "    if train:\n",
    "        print(\"Train Result:\\n\")\n",
    "        print(\"accuracy score: {0:.4f}\\n\".format(accuracy_score(y_train, clf.predict(X_train))))\n",
    "        print(\"Classification Report: \\n {}\\n\".format(classification_report(y_train, clf.predict(X_train))))\n",
    "        print(\"Confusion Matrix: \\n {}\\n\".format(confusion_matrix(y_train, clf.predict(X_train))))\n",
    "\n",
    "        res = cross_val_score(clf, X_train, y_train, cv=10, scoring='accuracy')\n",
    "        print(\"Average Accuracy: \\t {0:.4f}\".format(np.mean(res)))\n",
    "        print(\"Accuracy SD: \\t\\t {0:.4f}\".format(np.std(res)))\n",
    "\n",
    "    elif train == False:\n",
    "        print(\"Validation Result:\\n\")\n",
    "        print(\"accuracy score: {0:.4f}\\n\".format(accuracy_score(y_val, clf.predict(X_val))))\n",
    "        \n",
    "        precision, recall, _ = precision_recall_curve(y_val, clf.predict(X_val))\n",
    "        average_precision = average_precision_score(y_val, clf.predict(X_val))\n",
    "        plot_pr_curve(precision, recall, average_precision)\n",
    "        \n",
    "        fpr, tpr, _ = roc_curve(y_val, clf.predict(X_val))\n",
    "        roc_auc = roc_auc_score(y_val, clf.predict(X_val))\n",
    "        print(\"roc auc score: {}\\n\".format(roc_auc))\n",
    "        plot_roc_curve(fpr, tpr, roc_auc)\n",
    "        \n",
    "        print(\"Classification Report: \\n {}\\n\".format(classification_report(y_val, clf.predict(X_val))))\n",
    "        print(\"Confusion Matrix: \\n {}\\n\".format(confusion_matrix(y_val, clf.predict(X_val))))\n",
    "        plot_confusion_matrix(clf,  X_val, clf.predict(X_val))\n",
    "        print(\"End of validation Result\\n\")\n",
    "\n",
    "def plot_pr_curve(precision, recall, average_precision):\n",
    "    plt.step(recall, precision, color='b', alpha=0.2, where='post')\n",
    "    plt.fill_between(recall, precision, step='post', alpha=0.2, color='b')   \n",
    "    plt.xlabel('Recall')\n",
    "    plt.ylabel('Precision')\n",
    "    plt.ylim([0.0, 1.05])\n",
    "    plt.xlim([0.0, 1.0])\n",
    "    plt.title('2-class Precision-Recall curve: AP={0:0.2f}'.format(average_precision))\n",
    "    plt.show()\n",
    "\n",
    "def plot_roc_curve(fpr, tpr, roc_auc):\n",
    "    plt.title('Receiver Operating Characteristic')\n",
    "    plt.plot(fpr, tpr, 'b', label = 'AUC = %0.2f' % roc_auc)\n",
    "    plt.legend(loc = 'lower right')\n",
    "    plt.plot([0, 1], [0, 1],'r--')\n",
    "    plt.xlim([0, 1])\n",
    "    plt.ylim([0, 1])\n",
    "    plt.ylabel('True Positive Rate')\n",
    "    plt.xlabel('False Positive Rate')\n",
    "    plt.show()"
   ]
  },
  {
   "cell_type": "code",
   "execution_count": 8,
   "metadata": {
    "colab": {
     "base_uri": "https://localhost:8080/",
     "height": 1000
    },
    "id": "8ntlHwNSaJjW",
    "outputId": "f0e314b1-e6a0-43f9-d49d-05905c792442"
   },
   "outputs": [
    {
     "name": "stdout",
     "output_type": "stream",
     "text": [
      "Validation Result:\n",
      "\n",
      "accuracy score: 0.6609\n",
      "\n"
     ]
    },
    {
     "data": {
      "image/png": "[encoded data removed]",
      "text/plain": [
       "<Figure size 432x288 with 1 Axes>"
      ]
     },
     "metadata": {},
     "output_type": "display_data"
    },
    {
     "name": "stdout",
     "output_type": "stream",
     "text": [
      "roc auc score: 0.6609097230003436\n",
      "\n"
     ]
    },
    {
     "data": {
      "image/png": "[encoded data removed]",
      "text/plain": [
       "<Figure size 432x288 with 1 Axes>"
      ]
     },
     "metadata": {},
     "output_type": "display_data"
    },
    {
     "name": "stdout",
     "output_type": "stream",
     "text": [
      "Classification Report: \n",
      "               precision    recall  f1-score   support\n",
      "\n",
      "           0       0.66      0.67      0.66      3263\n",
      "           1       0.67      0.66      0.66      3304\n",
      "\n",
      "    accuracy                           0.66      6567\n",
      "   macro avg       0.66      0.66      0.66      6567\n",
      "weighted avg       0.66      0.66      0.66      6567\n",
      "\n",
      "\n",
      "Confusion Matrix: \n",
      " [[2172 1091]\n",
      " [1136 2168]]\n",
      "\n",
      "End of validation Result\n",
      "\n"
     ]
    },
    {
     "name": "stderr",
     "output_type": "stream",
     "text": [
      "/opt/anaconda3/lib/python3.8/site-packages/sklearn/utils/deprecation.py:87: FutureWarning: Function plot_confusion_matrix is deprecated; Function `plot_confusion_matrix` is deprecated in 1.0 and will be removed in 1.2. Use one of the class methods: ConfusionMatrixDisplay.from_predictions or ConfusionMatrixDisplay.from_estimator.\n",
      "  warnings.warn(msg, category=FutureWarning)\n"
     ]
    },
    {
     "data": {
      "image/png": "[encoded data removed]",
      "text/plain": [
       "<Figure size 432x288 with 2 Axes>"
      ]
     },
     "metadata": {},
     "output_type": "display_data"
    }
   ],
   "source": [
    "# classification report\n",
    "clf_score(final_model, X_train, y_train, X_test, y_test, train=False)"
   ]
  },
  {
   "cell_type": "code",
   "execution_count": 9,
   "metadata": {},
   "outputs": [
    {
     "data": {
      "image/png": "[encoded data removed]",
      "text/plain": [
       "<Figure size 432x288 with 1 Axes>"
      ]
     },
     "metadata": {},
     "output_type": "display_data"
    }
   ],
   "source": [
    "# plot feature importance\n",
    "lgb.plot_importance(final_model)\n",
    "plt.show()"
   ]
  },
  {
   "cell_type": "code",
   "execution_count": 10,
   "metadata": {},
   "outputs": [
    {
     "name": "stderr",
     "output_type": "stream",
     "text": [
      "/opt/anaconda3/lib/python3.8/site-packages/sklearn/utils/deprecation.py:87: FutureWarning: Function plot_confusion_matrix is deprecated; Function `plot_confusion_matrix` is deprecated in 1.0 and will be removed in 1.2. Use one of the class methods: ConfusionMatrixDisplay.from_predictions or ConfusionMatrixDisplay.from_estimator.\n",
      "  warnings.warn(msg, category=FutureWarning)\n"
     ]
    },
    {
     "data": {
      "text/plain": [
       "<sklearn.metrics._plot.confusion_matrix.ConfusionMatrixDisplay at 0x7fe418ab6be0>"
      ]
     },
     "execution_count": 10,
     "metadata": {},
     "output_type": "execute_result"
    },
    {
     "data": {
      "image/png": "[encoded data removed]",
      "text/plain": [
       "<Figure size 432x288 with 2 Axes>"
      ]
     },
     "metadata": {},
     "output_type": "display_data"
    }
   ],
   "source": [
    "metrics.plot_confusion_matrix(final_model,X_test,y_test,cmap='Blues_r')"
   ]
  },
  {
   "cell_type": "code",
   "execution_count": 11,
   "metadata": {},
   "outputs": [
    {
     "name": "stdout",
     "output_type": "stream",
     "text": [
      "              precision    recall  f1-score   support\n",
      "\n",
      "           0       0.66      0.67      0.66      3263\n",
      "           1       0.67      0.66      0.66      3304\n",
      "\n",
      "    accuracy                           0.66      6567\n",
      "   macro avg       0.66      0.66      0.66      6567\n",
      "weighted avg       0.66      0.66      0.66      6567\n",
      "\n"
     ]
    }
   ],
   "source": [
    "print(metrics.classification_report(y_test,final_model.predict(X_test)))"
   ]
  },
  {
   "cell_type": "markdown",
   "metadata": {},
   "source": [
    "## Section 2.) SportsRadar API Retrieval and generation of probabilites"
   ]
  },
  {
   "cell_type": "code",
   "execution_count": 12,
   "metadata": {},
   "outputs": [
    {
     "name": "stdout",
     "output_type": "stream",
     "text": [
      "Today's date: 2022-04-15\n"
     ]
    },
    {
     "data": {
      "text/html": [
       "<div>\n",
       "<style scoped>\n",
       "    .dataframe tbody tr th:only-of-type {\n",
       "        vertical-align: middle;\n",
       "    }\n",
       "\n",
       "    .dataframe tbody tr th {\n",
       "        vertical-align: top;\n",
       "    }\n",
       "\n",
       "    .dataframe thead th {\n",
       "        text-align: right;\n",
       "    }\n",
       "</style>\n",
       "<table border=\"1\" class=\"dataframe\">\n",
       "  <thead>\n",
       "    <tr style=\"text-align: right;\">\n",
       "      <th></th>\n",
       "      <th>Game ID</th>\n",
       "      <th>Home Team</th>\n",
       "      <th>Home Team ID</th>\n",
       "      <th>Away Team</th>\n",
       "      <th>Away Team ID</th>\n",
       "      <th>Start Time</th>\n",
       "    </tr>\n",
       "  </thead>\n",
       "  <tbody>\n",
       "    <tr>\n",
       "      <th>0</th>\n",
       "      <td>0c37466c-fb04-4885-84b9-551ad7d59b6a</td>\n",
       "      <td>Buffalo Sabres</td>\n",
       "      <td>4416d559-0f24-11e2-8525-18a905767e44</td>\n",
       "      <td>St. Louis Blues</td>\n",
       "      <td>441660ea-0f24-11e2-8525-18a905767e44</td>\n",
       "      <td>19:00:00</td>\n",
       "    </tr>\n",
       "    <tr>\n",
       "      <th>1</th>\n",
       "      <td>1d106ed5-c01f-4d89-b036-32fd131d2dd2</td>\n",
       "      <td>Boston Bruins</td>\n",
       "      <td>4416ba1a-0f24-11e2-8525-18a905767e44</td>\n",
       "      <td>Ottawa Senators</td>\n",
       "      <td>4416f5e2-0f24-11e2-8525-18a905767e44</td>\n",
       "      <td>19:00:00</td>\n",
       "    </tr>\n",
       "    <tr>\n",
       "      <th>2</th>\n",
       "      <td>486d0a94-0883-47fc-87c4-4ec3c013d0b0</td>\n",
       "      <td>Tampa Bay Lightning</td>\n",
       "      <td>4417d3cb-0f24-11e2-8525-18a905767e44</td>\n",
       "      <td>Anaheim Ducks</td>\n",
       "      <td>441862de-0f24-11e2-8525-18a905767e44</td>\n",
       "      <td>19:00:00</td>\n",
       "    </tr>\n",
       "    <tr>\n",
       "      <th>3</th>\n",
       "      <td>6dd80f5e-1bea-48a5-8745-c8616d5b34c4</td>\n",
       "      <td>Carolina Hurricanes</td>\n",
       "      <td>44182a9d-0f24-11e2-8525-18a905767e44</td>\n",
       "      <td>Detroit Red Wings</td>\n",
       "      <td>44169bb9-0f24-11e2-8525-18a905767e44</td>\n",
       "      <td>19:00:00</td>\n",
       "    </tr>\n",
       "    <tr>\n",
       "      <th>4</th>\n",
       "      <td>72e23ab5-8255-441e-885e-33676199ecbe</td>\n",
       "      <td>Toronto Maple Leafs</td>\n",
       "      <td>441730a9-0f24-11e2-8525-18a905767e44</td>\n",
       "      <td>Washington Capitals</td>\n",
       "      <td>4417eede-0f24-11e2-8525-18a905767e44</td>\n",
       "      <td>19:00:00</td>\n",
       "    </tr>\n",
       "    <tr>\n",
       "      <th>5</th>\n",
       "      <td>8ee4837b-7fa2-4ee8-9319-1da3a7cea18c</td>\n",
       "      <td>Pittsburgh Penguins</td>\n",
       "      <td>4417b7d7-0f24-11e2-8525-18a905767e44</td>\n",
       "      <td>New York Islanders</td>\n",
       "      <td>441766b9-0f24-11e2-8525-18a905767e44</td>\n",
       "      <td>19:00:00</td>\n",
       "    </tr>\n",
       "    <tr>\n",
       "      <th>6</th>\n",
       "      <td>1493b1e8-32d7-4a41-bcbb-c1eb50907451</td>\n",
       "      <td>Dallas Stars</td>\n",
       "      <td>44157522-0f24-11e2-8525-18a905767e44</td>\n",
       "      <td>Minnesota Wild</td>\n",
       "      <td>4416091c-0f24-11e2-8525-18a905767e44</td>\n",
       "      <td>20:00:00</td>\n",
       "    </tr>\n",
       "    <tr>\n",
       "      <th>7</th>\n",
       "      <td>75c42870-0eaa-42d0-82b5-cd8ab73a6af6</td>\n",
       "      <td>Nashville Predators</td>\n",
       "      <td>441643b7-0f24-11e2-8525-18a905767e44</td>\n",
       "      <td>Edmonton Oilers</td>\n",
       "      <td>4415ea6c-0f24-11e2-8525-18a905767e44</td>\n",
       "      <td>20:00:00</td>\n",
       "    </tr>\n",
       "    <tr>\n",
       "      <th>8</th>\n",
       "      <td>bd5da7d2-f51c-4d8d-a7c6-999990a79080</td>\n",
       "      <td>Chicago Blackhawks</td>\n",
       "      <td>4416272f-0f24-11e2-8525-18a905767e44</td>\n",
       "      <td>San Jose Sharks</td>\n",
       "      <td>44155909-0f24-11e2-8525-18a905767e44</td>\n",
       "      <td>20:30:00</td>\n",
       "    </tr>\n",
       "    <tr>\n",
       "      <th>9</th>\n",
       "      <td>68e5bb25-3c01-46fb-99d5-0cb0b2003dd8</td>\n",
       "      <td>Colorado Avalanche</td>\n",
       "      <td>4415ce44-0f24-11e2-8525-18a905767e44</td>\n",
       "      <td>New Jersey Devils</td>\n",
       "      <td>44174b0c-0f24-11e2-8525-18a905767e44</td>\n",
       "      <td>21:00:00</td>\n",
       "    </tr>\n",
       "    <tr>\n",
       "      <th>10</th>\n",
       "      <td>a66f9a6f-f856-48be-bf01-442e9bfb8751</td>\n",
       "      <td>Calgary Flames</td>\n",
       "      <td>44159241-0f24-11e2-8525-18a905767e44</td>\n",
       "      <td>Vegas Golden Knights</td>\n",
       "      <td>42376e1c-6da8-461e-9443-cfcf0a9fcc4d</td>\n",
       "      <td>21:00:00</td>\n",
       "    </tr>\n",
       "    <tr>\n",
       "      <th>11</th>\n",
       "      <td>1f12fc36-39e9-465c-ac2b-011e62e9e4dd</td>\n",
       "      <td>Vancouver Canucks</td>\n",
       "      <td>4415b0a7-0f24-11e2-8525-18a905767e44</td>\n",
       "      <td>Arizona Coyotes</td>\n",
       "      <td>44153da1-0f24-11e2-8525-18a905767e44</td>\n",
       "      <td>22:00:00</td>\n",
       "    </tr>\n",
       "  </tbody>\n",
       "</table>\n",
       "</div>"
      ],
      "text/plain": [
       "                                 Game ID            Home Team  \\\n",
       "0   0c37466c-fb04-4885-84b9-551ad7d59b6a       Buffalo Sabres   \n",
       "1   1d106ed5-c01f-4d89-b036-32fd131d2dd2        Boston Bruins   \n",
       "2   486d0a94-0883-47fc-87c4-4ec3c013d0b0  Tampa Bay Lightning   \n",
       "3   6dd80f5e-1bea-48a5-8745-c8616d5b34c4  Carolina Hurricanes   \n",
       "4   72e23ab5-8255-441e-885e-33676199ecbe  Toronto Maple Leafs   \n",
       "5   8ee4837b-7fa2-4ee8-9319-1da3a7cea18c  Pittsburgh Penguins   \n",
       "6   1493b1e8-32d7-4a41-bcbb-c1eb50907451         Dallas Stars   \n",
       "7   75c42870-0eaa-42d0-82b5-cd8ab73a6af6  Nashville Predators   \n",
       "8   bd5da7d2-f51c-4d8d-a7c6-999990a79080   Chicago Blackhawks   \n",
       "9   68e5bb25-3c01-46fb-99d5-0cb0b2003dd8   Colorado Avalanche   \n",
       "10  a66f9a6f-f856-48be-bf01-442e9bfb8751       Calgary Flames   \n",
       "11  1f12fc36-39e9-465c-ac2b-011e62e9e4dd    Vancouver Canucks   \n",
       "\n",
       "                            Home Team ID             Away Team  \\\n",
       "0   4416d559-0f24-11e2-8525-18a905767e44       St. Louis Blues   \n",
       "1   4416ba1a-0f24-11e2-8525-18a905767e44       Ottawa Senators   \n",
       "2   4417d3cb-0f24-11e2-8525-18a905767e44         Anaheim Ducks   \n",
       "3   44182a9d-0f24-11e2-8525-18a905767e44     Detroit Red Wings   \n",
       "4   441730a9-0f24-11e2-8525-18a905767e44   Washington Capitals   \n",
       "5   4417b7d7-0f24-11e2-8525-18a905767e44    New York Islanders   \n",
       "6   44157522-0f24-11e2-8525-18a905767e44        Minnesota Wild   \n",
       "7   441643b7-0f24-11e2-8525-18a905767e44       Edmonton Oilers   \n",
       "8   4416272f-0f24-11e2-8525-18a905767e44       San Jose Sharks   \n",
       "9   4415ce44-0f24-11e2-8525-18a905767e44     New Jersey Devils   \n",
       "10  44159241-0f24-11e2-8525-18a905767e44  Vegas Golden Knights   \n",
       "11  4415b0a7-0f24-11e2-8525-18a905767e44       Arizona Coyotes   \n",
       "\n",
       "                            Away Team ID Start Time  \n",
       "0   441660ea-0f24-11e2-8525-18a905767e44   19:00:00  \n",
       "1   4416f5e2-0f24-11e2-8525-18a905767e44   19:00:00  \n",
       "2   441862de-0f24-11e2-8525-18a905767e44   19:00:00  \n",
       "3   44169bb9-0f24-11e2-8525-18a905767e44   19:00:00  \n",
       "4   4417eede-0f24-11e2-8525-18a905767e44   19:00:00  \n",
       "5   441766b9-0f24-11e2-8525-18a905767e44   19:00:00  \n",
       "6   4416091c-0f24-11e2-8525-18a905767e44   20:00:00  \n",
       "7   4415ea6c-0f24-11e2-8525-18a905767e44   20:00:00  \n",
       "8   44155909-0f24-11e2-8525-18a905767e44   20:30:00  \n",
       "9   44174b0c-0f24-11e2-8525-18a905767e44   21:00:00  \n",
       "10  42376e1c-6da8-461e-9443-cfcf0a9fcc4d   21:00:00  \n",
       "11  44153da1-0f24-11e2-8525-18a905767e44   22:00:00  "
      ]
     },
     "execution_count": 12,
     "metadata": {},
     "output_type": "execute_result"
    }
   ],
   "source": [
    "# Get todays date\n",
    "today = date.today()\n",
    "\n",
    "# dd/mm/YY\n",
    "Day = today.strftime(\"%d\")\n",
    "Month = today.strftime(\"%m\")\n",
    "Year = today.strftime(\"%Y\")\n",
    "today = date.today()\n",
    "print(\"Today's date:\", today)\n",
    "\n",
    "# Get API info\n",
    "response = requests.get((\"https://api.sportradar.us/nhl/trial/v7/en/games/{Year}/{Month}/{Day}/schedule.json?api_key=sa8b3wuwy549qwy6jw6srsgv\").format(Day=14, Month = Month, Year = Year))\n",
    "\n",
    "# Set response as json\n",
    "x = response.json()\n",
    "\n",
    "# Print API info\n",
    "def getrs(obj):\n",
    "    Todays_Schedule = []\n",
    "    Todays_Schedule = pd.DataFrame([],columns = [\"Game ID\",\"Home Team\",'Home Team ID',\"Away Team\",\"Away Team ID\",\"Start Time\"])\n",
    "    q = len(obj[\"games\"])\n",
    "    for i in range(q):\n",
    "            GID = obj[\"games\"][i][\"id\"]\n",
    "            H = obj['games'][i]['home']['name']\n",
    "            Hid = obj['games'][i]['home']['id']\n",
    "            A = obj['games'][i]['away']['name']\n",
    "            Aid = obj['games'][i]['away']['id']\n",
    "            PD = obj['games'][i]['scheduled']\n",
    "            PD = re.search('T(.+?)Z',PD)\n",
    "            if PD:\n",
    "                found = PD.group(1)\n",
    "            format = \"%H:%M:%S\"\n",
    "            d = datetime.strptime(found,format) - timedelta(hours=4)\n",
    "            d = d.strftime(\"%H:%M:%S\")\n",
    "            PD = d\n",
    "            temp_df = [GID,H,Hid,A,Aid,PD]\n",
    "            a_series = pd.Series(temp_df,index = Todays_Schedule.columns)\n",
    "            Todays_Schedule = Todays_Schedule.append(a_series, ignore_index=True)\n",
    "    return Todays_Schedule\n",
    "data=getrs(x)\n",
    "data.head(20)"
   ]
  },
  {
   "cell_type": "code",
   "execution_count": 13,
   "metadata": {},
   "outputs": [],
   "source": [
    "# Define function to generate stats from the first period of play\n",
    "def Game_Home_Team_Stats(game_id,home_team_id,game_time):\n",
    "    ts = 0\n",
    "    tsa = 0\n",
    "    go = 0\n",
    "    goa = 0\n",
    "    t = 0\n",
    "    ta = 0\n",
    "    h = 0\n",
    "    ha = 0\n",
    "    bs = 0\n",
    "    bsa = 0\n",
    "    gi = 0\n",
    "    gia = 0\n",
    "    ms = 0\n",
    "    msa = 0\n",
    "    p = 0\n",
    "    pa = 0\n",
    "    tfw = 0\n",
    "    tfl = 0\n",
    "    away = 0\n",
    "    home = 0\n",
    "    now = datetime.now()\n",
    "    current_time = now.strftime(\"%H:%M:%S\")\n",
    "    if current_time < game_time:\n",
    "        pass\n",
    "    else:\n",
    "        response = requests.get((\"https://api.sportradar.us/nhl/trial/v7/en/games/{obj}/pbp.json?api_key=sa8b3wuwy549qwy6jw6srsgv\").format(obj = game_id))\n",
    "        x = response.json()\n",
    "        y = len(x['periods'][0]['events'])\n",
    "        htc = x['home']['id']\n",
    "        Team_Name = x['home']['name']\n",
    "        Away_Name = x['away']['name']\n",
    "        if htc == home_team_id:\n",
    "            home = 1\n",
    "        else:\n",
    "            away = 1\n",
    "        for i in range(y):\n",
    "            j = x['periods'][0]['events'][i]['event_type']\n",
    "            if j == 'faceoff':\n",
    "                team_id = x['periods'][0]['events'][i]['attribution']['id']\n",
    "                if team_id == home_team_id:\n",
    "                        tfw = tfw + 1\n",
    "                else:\n",
    "                        tfl = tfl + 1\n",
    "            elif j == 'goal':\n",
    "                team_id = x['periods'][0]['events'][i]['attribution']['id']\n",
    "                if team_id == home_team_id:\n",
    "                        go = go + 1\n",
    "                else:\n",
    "                    goa = goa + 1\n",
    "            elif j == 'penalty':\n",
    "                team_id = x['periods'][0]['events'][i]['attribution']['id']\n",
    "                if team_id == home_team_id:\n",
    "                    p = p + 1\n",
    "                else:\n",
    "                    pa = pa + 1\n",
    "            elif j == 'shotmissed' and 'blocked' in x['periods'][0]['events'][i]['description']:\n",
    "                team_id = x['periods'][0]['events'][i]['attribution']['id']\n",
    "                if team_id == home_team_id:\n",
    "                        bs = bs + 1\n",
    "                else:\n",
    "                        bsa = bsa + 1\n",
    "            elif j == 'shotmissed' and 'missed' in x['periods'][0]['events'][i]['description']:\n",
    "                team_id = x['periods'][0]['events'][i]['attribution']['id']\n",
    "                if team_id == home_team_id:\n",
    "                        ms = ms + 1\n",
    "                else:\n",
    "                        msa = msa + 1\n",
    "            elif j == 'giveaway':\n",
    "                team_id = x['periods'][0]['events'][i]['attribution']['id']\n",
    "                if team_id == home_team_id:\n",
    "                    gi = gi + 1\n",
    "                else:\n",
    "                    gia = gia + 1\n",
    "            elif j == 'hit':\n",
    "                team_id = x['periods'][0]['events'][i]['attribution']['id']\n",
    "                if team_id == home_team_id:\n",
    "                    h = h + 1\n",
    "                else:\n",
    "                    ha = ha + 1\n",
    "            elif j == 'takeaway':\n",
    "                team_id = x['periods'][0]['events'][i]['attribution']['id']\n",
    "                if team_id == home_team_id:\n",
    "                    t = t + 1\n",
    "                else:\n",
    "                    ta = ta + 1\n",
    "            elif 'shot' in j:\n",
    "                team_id = x['periods'][0]['events'][i]['attribution']['id']\n",
    "                if team_id == home_team_id:\n",
    "                    ts = ts + 1\n",
    "                else:\n",
    "                    tsa = tsa + 1\n",
    "            else:\n",
    "                pass\n",
    "            d = {\"Team_Name\":[Team_Name],\"shots\": [ts], \"shots_against\": [tsa],\"goals\":[go],\"goals_against\":[goa],\"takeaways\":[t],\"takeaways_against\":[ta],\"hits\":[h],\"hits_against\":[ha],\"blockedShots\":[bs],\"blockedShots_against\":[bsa],\"giveaways\":[gi],\"giveaways_against\":[gia],\"missedShots\":[ms],\"missedShots_against\":[msa],\"penalties\":[p],\"penalties_against\":[pa],\"#Won Faceoffs\":[tfw],\"#Lost Faceoffs\":[tfl],'HoA_away':[away],'HoA_home':[home]}\n",
    "            da = {\"Team_Name\":[Away_Name],\"shots\": [tsa], \"shots_against\": [ts],\"goals\":[goa],\"goals_against\":[go],\"takeaways\":[ta],\"takeaways_against\":[t],\"hits\":[ha],\"hits_against\":[h],\"blockedShots\":[bsa],\"blockedShots_against\":[bs],\"giveaways\":[gia],\"giveaways_against\":[gi],\"missedShots\":[msa],\"missedShots_against\":[ms],\"penalties\":[pa],\"penalties_against\":[p],\"#Won Faceoffs\":[tfl],\"#Lost Faceoffs\":[tfw],'HoA_away':[home],'HoA_home':[away]}\n",
    "            Home_Team_Stats = pd.DataFrame(d)\n",
    "            Away_Team_Stats = pd.DataFrame(da)\n",
    "            #series_obj = pd.Series(da)\n",
    "            # Add a series as a row to the dataframe  \n",
    "            All_Team_Stats = Home_Team_Stats.append(Away_Team_Stats,ignore_index=True)\n",
    "        return All_Team_Stats\n",
    "    \n",
    "# Define function that takes tonights schedule (containing the nessecary Unique Id's) to gather the correct statistics from sportsradar\n",
    "def get_game_stats(obj):\n",
    "    c = [\"Team_Name\",\"shots\", \"shots_against\",\"goals\",\"goals_against\",\"takeaways\",\"takeaways_against\",\"hits\",\"hits_against\",\"blockedShots\",\"blockedShots_against\",\"giveaways\",\"giveaways_against\",\"missedShots\",\"missedShots_against\",\"penalties\",\"penalties_against\",\"#Won Faceoffs\",\"#Lost Faceoffs\",'HoA_away','HoA_home']\n",
    "    Tonights_games_stats = pd.DataFrame([],columns = c)\n",
    "    r = len(obj['Game ID'])\n",
    "    for i in range(r):\n",
    "        game_id = obj['Game ID'][i]\n",
    "        home_team_id = obj['Home Team ID'][i]\n",
    "        game_start = obj['Start Time'][i]\n",
    "        temp_df = Game_Home_Team_Stats(game_id,home_team_id,game_start)\n",
    "        Tonights_games_stats = Tonights_games_stats.append(temp_df,ignore_index = True)\n",
    "    return Tonights_games_stats\n",
    "\n",
    "# Define function that inserts statistics for all of tonights teams into LGBMmodel\n",
    "def tonights_bets(obj):\n",
    "    m = len(obj)\n",
    "    for i in range(m):\n",
    "        Game_y_pred = final_model.predict(X_Game_test)\n",
    "        prediction = [round(value) for value in Game_y_pred]\n",
    "        print(prediction)\n",
    "        probability = final_model.predict_proba(X_Game_test)\n",
    "        print(probability)\n",
    "tonights_data=get_game_stats(data)\n",
    "\n",
    "# Generate Predictions from LGBMmodel\n",
    "m = len(tonights_data)\n",
    "y = tonights_data.pop('Team_Name')\n",
    "for i in range(m):\n",
    "    x_value = tonights_data.iloc[i]\n",
    "    test = np.array([x_value])\n",
    "    x_value = test.reshape(1, -1)\n",
    "    Game_y_pred = final_model.predict(x_value)\n",
    "    prediction = [round(value) for value in Game_y_pred]\n",
    "    probability = final_model.predict_proba(x_value)\n",
    "    if prediction[0] != 1:\n",
    "        print(\"The \"+y[i]+\" are projected to lose.\")\n",
    "        print(\"Current odds are \"+str(round((probability[0][0])*100,2))+\"%\"+\" to lose and only \"+str(round((probability[0][1])*100,2))+\"%\"+\" to win.\"+'\\n')\n",
    "    else:\n",
    "        print(\"The \"+y[i]+\" are projected to win.\")\n",
    "        print(\"Current odds are \"+str(round((probability[0][1])*100,2))+\"%\"+\" to win and \"+str(round((probability[0][0])*100,2))+\"%\"+ \" to lose.\"+'\\n')\n",
    "\n",
    "\n",
    "# When modeling both the home team and away team, there seems to be, on average a %4 difference between\n",
    "# the home team and away teams respective odds. I believe this is due to LGBMmodel but because the difference\n",
    "# is minor, I don't think its a problem for us. "
   ]
  },
  {
   "cell_type": "markdown",
   "metadata": {},
   "source": [
    "## Section 3.) Unit Testing and Data Drift Detection"
   ]
  },
  {
   "cell_type": "code",
   "execution_count": null,
   "metadata": {},
   "outputs": [],
   "source": [
    "pickled_model = pickle.load(open(r'C:\\Users\\louis\\OneDrive - McGill University\\MMA Winter 2021 Notes\\INSY695\\classifier.pkl', 'rb'))\n",
    "class TestModel(unittest.TestCase):\n",
    "    \n",
    "    \n",
    "    def test_model_predictions(self):\n",
    "        \"\"\"\n",
    "        Test to see if pickled model la²bel prediction = 1 OR = 0\n",
    "        Test to see if pickled model probability prediction in [0,1]\n",
    "        \"\"\"\n",
    "        fake_data = [[30,5,0,0,0,0,0,0,0,0,1,0,1,0,0,0,0,0,0,0]]\n",
    "        \n",
    "        label_pred = pickled_model.predict(fake_data)\n",
    "        proba_pred = pickled_model.predict_proba(fake_data)\n",
    "        \n",
    "        self.assertTrue( label_pred[0] == 0 | label_pred[0] == 1)\n",
    "        self.assertTrue( np.max(proba_pred) < 1 & np.min(proba_pred) > 1)"
   ]
  },
  {
   "cell_type": "code",
   "execution_count": 32,
   "metadata": {},
   "outputs": [
    {
     "data": {
      "text/plain": [
       "Shots                    float64\n",
       "Shots_Against            float64\n",
       "Goals                    float64\n",
       "Goals_Against            float64\n",
       "Takeaways                float64\n",
       "Takeaways_Against        float64\n",
       "Hits                     float64\n",
       "Hits_Against             float64\n",
       "Blocked Shots            float64\n",
       "Blocked Shots Against    float64\n",
       "Giveaways                float64\n",
       "Giveaways_Against        float64\n",
       "Missed Shots             float64\n",
       "Missed Shots_Against     float64\n",
       "Penalities               float64\n",
       "Penalities_Against       float64\n",
       "#Won Faceoffs            float64\n",
       "#Lost Faceoffs           float64\n",
       "HoA_away                   int64\n",
       "HoA_home                   int64\n",
       "dtype: object"
      ]
     },
     "execution_count": 32,
     "metadata": {},
     "output_type": "execute_result"
    }
   ],
   "source": [
    "df.dtypes"
   ]
  },
  {
   "cell_type": "code",
   "execution_count": null,
   "metadata": {},
   "outputs": [],
   "source": [
    "#Get the feature names\n",
    "feature_names = df.columns\n",
    "\n",
    "#Split dataset into two\n",
    "#Reference game contains all data minus last 20 games\n",
    "X_ref = np.array(df.iloc[:-30,:])\n",
    "#Test set has last 20 games\n",
    "X_new = np.array(df.iloc[-30:,:])\n",
    "\n",
    "#TabularDrift: K-S tests for num features, Chi-squared for categorical\n",
    "cd = TabularDrift(p_val=0.05, x_ref = X_ref)"
   ]
  },
  {
   "cell_type": "code",
   "execution_count": null,
   "metadata": {},
   "outputs": [],
   "source": [
    "#Predict general drift\n",
    "preds = cd.predict(X_new, return_p_val=True, return_distance = True)\n",
    "labels = ['No!', 'Yes!']\n",
    "print('Drift? {}'.format(labels[preds['data']['is_drift']]))\n",
    "\n",
    "#Predict the drift for each feature\n",
    "fpreds = cd.predict(X_new, drift_type=\"feature\", return_p_val=True, return_distance=True)\n",
    "\n",
    "#Get drift per feature\n",
    "for f in range(cd.n_features):\n",
    "    stat = 'K-S'\n",
    "    fname = feature_names[f]\n",
    "    is_drift = fpreds['data']['is_drift'][f]\n",
    "    stat_val, p_val = fpreds['data']['distance'][f], fpreds['data']['p_val'][f]\n",
    "    print(f'{fname} -- Drift? {labels[is_drift]} -- {stat} {stat_val:.3f} -- p-value {p_val:.3f}')"
   ]
  }
 ],
 "metadata": {
  "colab": {
   "name": "Final_model.ipynb",
   "provenance": []
  },
  "kernelspec": {
   "display_name": "Python 3 (ipykernel)",
   "language": "python",
   "name": "python3"
  },
  "language_info": {
   "codemirror_mode": {
    "name": "ipython",
    "version": 3
   },
   "file_extension": ".py",
   "mimetype": "text/x-python",
   "name": "python",
   "nbconvert_exporter": "python",
   "pygments_lexer": "ipython3",
   "version": "3.8.2"
  }
 },
 "nbformat": 4,
 "nbformat_minor": 1
}
