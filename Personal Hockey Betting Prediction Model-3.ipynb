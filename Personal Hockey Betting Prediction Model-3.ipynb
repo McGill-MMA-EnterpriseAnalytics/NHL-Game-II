{
 "cells": [
  {
   "cell_type": "code",
   "execution_count": 1,
   "id": "760de5d9",
   "metadata": {},
   "outputs": [],
   "source": [
    "# Importing correct packages\n",
    "import pandas as pd\n",
    "import numpy as np\n",
    "pd.set_option('display.max_columns', None)"
   ]
  },
  {
   "cell_type": "code",
   "execution_count": 2,
   "id": "36836087",
   "metadata": {},
   "outputs": [],
   "source": [
    "# Reading Dataset\n",
    "df = pd.read_csv(\"/Users/matthewbuttlerives/Desktop/Data Folder/readyformodel_V2.1.Final.csv\")"
   ]
  },
  {
   "cell_type": "markdown",
   "id": "6c300f16",
   "metadata": {},
   "source": [
    "### Note: I change the data processing file to include # of Won Faceoffs as that is how it is reported in SportsRadar. PercentageofFaceoffWin covers entire game and has Data Leakage problems."
   ]
  },
  {
   "cell_type": "code",
   "execution_count": 3,
   "id": "8e4dcbf5",
   "metadata": {},
   "outputs": [
    {
     "data": {
      "text/html": [
       "<div>\n",
       "<style scoped>\n",
       "    .dataframe tbody tr th:only-of-type {\n",
       "        vertical-align: middle;\n",
       "    }\n",
       "\n",
       "    .dataframe tbody tr th {\n",
       "        vertical-align: top;\n",
       "    }\n",
       "\n",
       "    .dataframe thead th {\n",
       "        text-align: right;\n",
       "    }\n",
       "</style>\n",
       "<table border=\"1\" class=\"dataframe\">\n",
       "  <thead>\n",
       "    <tr style=\"text-align: right;\">\n",
       "      <th></th>\n",
       "      <th>won</th>\n",
       "      <th>pim</th>\n",
       "      <th>powerPlayOpportunities</th>\n",
       "      <th>powerPlayGoals</th>\n",
       "      <th>faceOffWinPercentage</th>\n",
       "      <th>Shots</th>\n",
       "      <th>Goals</th>\n",
       "      <th>Takeaways</th>\n",
       "      <th>Hits</th>\n",
       "      <th>Blocked Shots</th>\n",
       "      <th>Giveaways</th>\n",
       "      <th>Missed Shots</th>\n",
       "      <th>Penalities</th>\n",
       "      <th>#Won Faceoffs</th>\n",
       "      <th>timeOnIce</th>\n",
       "      <th>evenTimeOnIce</th>\n",
       "      <th>shortHandedTimeOnIce</th>\n",
       "      <th>powerPlayTimeOnIce</th>\n",
       "      <th>HoA_away</th>\n",
       "      <th>HoA_home</th>\n",
       "      <th>settled_in_OT</th>\n",
       "      <th>settled_in_REG</th>\n",
       "      <th>settled_in_tbc</th>\n",
       "      <th>startRinkSide_left</th>\n",
       "      <th>startRinkSide_right</th>\n",
       "      <th>goalie_replacement_No</th>\n",
       "      <th>goalie_replacement_Yes</th>\n",
       "    </tr>\n",
       "  </thead>\n",
       "  <tbody>\n",
       "    <tr>\n",
       "      <th>0</th>\n",
       "      <td>0</td>\n",
       "      <td>2.00</td>\n",
       "      <td>1.33</td>\n",
       "      <td>0.67</td>\n",
       "      <td>50.9</td>\n",
       "      <td>8.0</td>\n",
       "      <td>0.0</td>\n",
       "      <td>1.0</td>\n",
       "      <td>14.0</td>\n",
       "      <td>3.0</td>\n",
       "      <td>6.0</td>\n",
       "      <td>4.0</td>\n",
       "      <td>1.0</td>\n",
       "      <td>10.0</td>\n",
       "      <td>330.28</td>\n",
       "      <td>280.46</td>\n",
       "      <td>18.52</td>\n",
       "      <td>31.30</td>\n",
       "      <td>1</td>\n",
       "      <td>0</td>\n",
       "      <td>0</td>\n",
       "      <td>1</td>\n",
       "      <td>0</td>\n",
       "      <td>1</td>\n",
       "      <td>0</td>\n",
       "      <td>0</td>\n",
       "      <td>1</td>\n",
       "    </tr>\n",
       "    <tr>\n",
       "      <th>1</th>\n",
       "      <td>1</td>\n",
       "      <td>2.67</td>\n",
       "      <td>1.00</td>\n",
       "      <td>0.67</td>\n",
       "      <td>49.1</td>\n",
       "      <td>8.0</td>\n",
       "      <td>3.0</td>\n",
       "      <td>3.0</td>\n",
       "      <td>5.0</td>\n",
       "      <td>3.0</td>\n",
       "      <td>7.0</td>\n",
       "      <td>0.0</td>\n",
       "      <td>1.0</td>\n",
       "      <td>12.0</td>\n",
       "      <td>327.11</td>\n",
       "      <td>278.93</td>\n",
       "      <td>25.04</td>\n",
       "      <td>23.15</td>\n",
       "      <td>0</td>\n",
       "      <td>1</td>\n",
       "      <td>0</td>\n",
       "      <td>1</td>\n",
       "      <td>0</td>\n",
       "      <td>1</td>\n",
       "      <td>0</td>\n",
       "      <td>1</td>\n",
       "      <td>0</td>\n",
       "    </tr>\n",
       "    <tr>\n",
       "      <th>2</th>\n",
       "      <td>1</td>\n",
       "      <td>2.00</td>\n",
       "      <td>1.00</td>\n",
       "      <td>0.33</td>\n",
       "      <td>43.8</td>\n",
       "      <td>11.0</td>\n",
       "      <td>0.0</td>\n",
       "      <td>0.0</td>\n",
       "      <td>4.0</td>\n",
       "      <td>6.0</td>\n",
       "      <td>2.0</td>\n",
       "      <td>6.0</td>\n",
       "      <td>1.0</td>\n",
       "      <td>11.0</td>\n",
       "      <td>334.07</td>\n",
       "      <td>293.20</td>\n",
       "      <td>9.48</td>\n",
       "      <td>31.39</td>\n",
       "      <td>1</td>\n",
       "      <td>0</td>\n",
       "      <td>1</td>\n",
       "      <td>0</td>\n",
       "      <td>0</td>\n",
       "      <td>0</td>\n",
       "      <td>1</td>\n",
       "      <td>1</td>\n",
       "      <td>0</td>\n",
       "    </tr>\n",
       "    <tr>\n",
       "      <th>3</th>\n",
       "      <td>0</td>\n",
       "      <td>2.67</td>\n",
       "      <td>0.67</td>\n",
       "      <td>0.33</td>\n",
       "      <td>56.2</td>\n",
       "      <td>12.0</td>\n",
       "      <td>1.0</td>\n",
       "      <td>2.0</td>\n",
       "      <td>4.0</td>\n",
       "      <td>8.0</td>\n",
       "      <td>0.0</td>\n",
       "      <td>3.0</td>\n",
       "      <td>3.0</td>\n",
       "      <td>9.0</td>\n",
       "      <td>333.07</td>\n",
       "      <td>296.11</td>\n",
       "      <td>25.11</td>\n",
       "      <td>11.85</td>\n",
       "      <td>0</td>\n",
       "      <td>1</td>\n",
       "      <td>1</td>\n",
       "      <td>0</td>\n",
       "      <td>0</td>\n",
       "      <td>0</td>\n",
       "      <td>1</td>\n",
       "      <td>1</td>\n",
       "      <td>0</td>\n",
       "    </tr>\n",
       "    <tr>\n",
       "      <th>4</th>\n",
       "      <td>1</td>\n",
       "      <td>3.00</td>\n",
       "      <td>1.00</td>\n",
       "      <td>0.33</td>\n",
       "      <td>45.7</td>\n",
       "      <td>9.0</td>\n",
       "      <td>0.0</td>\n",
       "      <td>3.0</td>\n",
       "      <td>4.0</td>\n",
       "      <td>7.0</td>\n",
       "      <td>7.0</td>\n",
       "      <td>3.0</td>\n",
       "      <td>2.0</td>\n",
       "      <td>7.0</td>\n",
       "      <td>328.89</td>\n",
       "      <td>281.57</td>\n",
       "      <td>17.78</td>\n",
       "      <td>29.54</td>\n",
       "      <td>1</td>\n",
       "      <td>0</td>\n",
       "      <td>0</td>\n",
       "      <td>1</td>\n",
       "      <td>0</td>\n",
       "      <td>1</td>\n",
       "      <td>0</td>\n",
       "      <td>1</td>\n",
       "      <td>0</td>\n",
       "    </tr>\n",
       "  </tbody>\n",
       "</table>\n",
       "</div>"
      ],
      "text/plain": [
       "   won   pim  powerPlayOpportunities  powerPlayGoals  faceOffWinPercentage  \\\n",
       "0    0  2.00                    1.33            0.67                  50.9   \n",
       "1    1  2.67                    1.00            0.67                  49.1   \n",
       "2    1  2.00                    1.00            0.33                  43.8   \n",
       "3    0  2.67                    0.67            0.33                  56.2   \n",
       "4    1  3.00                    1.00            0.33                  45.7   \n",
       "\n",
       "   Shots  Goals  Takeaways  Hits  Blocked Shots  Giveaways  Missed Shots  \\\n",
       "0    8.0    0.0        1.0  14.0            3.0        6.0           4.0   \n",
       "1    8.0    3.0        3.0   5.0            3.0        7.0           0.0   \n",
       "2   11.0    0.0        0.0   4.0            6.0        2.0           6.0   \n",
       "3   12.0    1.0        2.0   4.0            8.0        0.0           3.0   \n",
       "4    9.0    0.0        3.0   4.0            7.0        7.0           3.0   \n",
       "\n",
       "   Penalities  #Won Faceoffs  timeOnIce  evenTimeOnIce  shortHandedTimeOnIce  \\\n",
       "0         1.0           10.0     330.28         280.46                 18.52   \n",
       "1         1.0           12.0     327.11         278.93                 25.04   \n",
       "2         1.0           11.0     334.07         293.20                  9.48   \n",
       "3         3.0            9.0     333.07         296.11                 25.11   \n",
       "4         2.0            7.0     328.89         281.57                 17.78   \n",
       "\n",
       "   powerPlayTimeOnIce  HoA_away  HoA_home  settled_in_OT  settled_in_REG  \\\n",
       "0               31.30         1         0              0               1   \n",
       "1               23.15         0         1              0               1   \n",
       "2               31.39         1         0              1               0   \n",
       "3               11.85         0         1              1               0   \n",
       "4               29.54         1         0              0               1   \n",
       "\n",
       "   settled_in_tbc  startRinkSide_left  startRinkSide_right  \\\n",
       "0               0                   1                    0   \n",
       "1               0                   1                    0   \n",
       "2               0                   0                    1   \n",
       "3               0                   0                    1   \n",
       "4               0                   1                    0   \n",
       "\n",
       "   goalie_replacement_No  goalie_replacement_Yes  \n",
       "0                      0                       1  \n",
       "1                      1                       0  \n",
       "2                      1                       0  \n",
       "3                      1                       0  \n",
       "4                      1                       0  "
      ]
     },
     "execution_count": 3,
     "metadata": {},
     "output_type": "execute_result"
    }
   ],
   "source": [
    "df.head()"
   ]
  },
  {
   "cell_type": "code",
   "execution_count": 4,
   "id": "4607a3d0",
   "metadata": {},
   "outputs": [
    {
     "data": {
      "text/plain": [
       "(51558, 27)"
      ]
     },
     "execution_count": 4,
     "metadata": {},
     "output_type": "execute_result"
    }
   ],
   "source": [
    "df.shape"
   ]
  },
  {
   "cell_type": "code",
   "execution_count": 5,
   "id": "70cc4f99",
   "metadata": {},
   "outputs": [],
   "source": [
    "# Removing dirty observations, GIGO (Garbage IN - Garbage OUT)\n",
    "df = df[:-9611]"
   ]
  },
  {
   "cell_type": "code",
   "execution_count": 6,
   "id": "b6c40a33",
   "metadata": {},
   "outputs": [
    {
     "data": {
      "text/plain": [
       "(41947, 27)"
      ]
     },
     "execution_count": 6,
     "metadata": {},
     "output_type": "execute_result"
    }
   ],
   "source": [
    "df.shape"
   ]
  },
  {
   "cell_type": "code",
   "execution_count": 7,
   "id": "bcb6910a",
   "metadata": {},
   "outputs": [
    {
     "name": "stderr",
     "output_type": "stream",
     "text": [
      "/var/folders/dq/3qj0hnk53pb8rjp2l_k7zby80000gn/T/ipykernel_42803/3154288444.py:2: FutureWarning: In a future version of pandas all arguments of DataFrame.drop except for the argument 'labels' will be keyword-only\n",
      "  df.drop(df.index[18001:40883],0,inplace=True)\n"
     ]
    }
   ],
   "source": [
    "# Removing more garbage observations\n",
    "df.drop(df.index[18001:40883],0,inplace=True)"
   ]
  },
  {
   "cell_type": "code",
   "execution_count": 8,
   "id": "8d256699",
   "metadata": {},
   "outputs": [
    {
     "data": {
      "text/plain": [
       "(19065, 27)"
      ]
     },
     "execution_count": 8,
     "metadata": {},
     "output_type": "execute_result"
    }
   ],
   "source": [
    "df.shape"
   ]
  },
  {
   "cell_type": "markdown",
   "id": "fc99c7f1",
   "metadata": {},
   "source": [
    "# XGBoost Model"
   ]
  },
  {
   "cell_type": "code",
   "execution_count": 9,
   "id": "96280b3b",
   "metadata": {},
   "outputs": [],
   "source": [
    "# XGBoost Attempt\n",
    "from xgboost import XGBClassifier\n",
    "from sklearn.model_selection import train_test_split\n",
    "from sklearn.metrics import accuracy_score"
   ]
  },
  {
   "cell_type": "code",
   "execution_count": 10,
   "id": "4eb18fa8",
   "metadata": {},
   "outputs": [],
   "source": [
    "# split data into X and y\n",
    "y = df.pop('won')\n",
    "X = df"
   ]
  },
  {
   "cell_type": "code",
   "execution_count": 11,
   "id": "670f7448",
   "metadata": {},
   "outputs": [],
   "source": [
    "# split data into train and test sets\n",
    "seed = 7\n",
    "test_size = 0.33\n",
    "X_train, X_test, y_train, y_test = train_test_split(X, y, test_size=test_size, random_state=seed)"
   ]
  },
  {
   "cell_type": "code",
   "execution_count": 12,
   "id": "3472a239",
   "metadata": {},
   "outputs": [
    {
     "name": "stderr",
     "output_type": "stream",
     "text": [
      "/opt/anaconda3/lib/python3.8/site-packages/xgboost/sklearn.py:1224: UserWarning: The use of label encoder in XGBClassifier is deprecated and will be removed in a future release. To remove this warning, do the following: 1) Pass option use_label_encoder=False when constructing XGBClassifier object; and 2) Encode your labels (y) as integers starting with 0, i.e. 0, 1, 2, ..., [num_class - 1].\n",
      "  warnings.warn(label_encoder_deprecation_msg, UserWarning)\n"
     ]
    },
    {
     "name": "stdout",
     "output_type": "stream",
     "text": [
      "[16:09:49] WARNING: ../src/learner.cc:1115: Starting in XGBoost 1.3.0, the default evaluation metric used with the objective 'binary:logistic' was changed from 'error' to 'logloss'. Explicitly set eval_metric if you'd like to restore the old behavior.\n"
     ]
    },
    {
     "data": {
      "text/plain": [
       "XGBClassifier(base_score=0.5, booster='gbtree', colsample_bylevel=1,\n",
       "              colsample_bynode=1, colsample_bytree=1, enable_categorical=False,\n",
       "              gamma=0, gpu_id=-1, importance_type=None,\n",
       "              interaction_constraints='', learning_rate=0.300000012,\n",
       "              max_delta_step=0, max_depth=6, min_child_weight=1, missing=nan,\n",
       "              monotone_constraints='()', n_estimators=100, n_jobs=8,\n",
       "              num_parallel_tree=1, predictor='auto', random_state=0,\n",
       "              reg_alpha=0, reg_lambda=1, scale_pos_weight=1, subsample=1,\n",
       "              tree_method='exact', validate_parameters=1, verbosity=None)"
      ]
     },
     "execution_count": 12,
     "metadata": {},
     "output_type": "execute_result"
    }
   ],
   "source": [
    "# fit model on training data\n",
    "model = XGBClassifier()\n",
    "model.fit(X_train, y_train)"
   ]
  },
  {
   "cell_type": "code",
   "execution_count": 13,
   "id": "bdc58e64",
   "metadata": {},
   "outputs": [],
   "source": [
    "# make predictions for test data\n",
    "y_pred = model.predict(X_test)\n",
    "predictions = [round(value) for value in y_pred]"
   ]
  },
  {
   "cell_type": "code",
   "execution_count": 14,
   "id": "d8313f4f",
   "metadata": {},
   "outputs": [
    {
     "name": "stdout",
     "output_type": "stream",
     "text": [
      "Accuracy: 73.11%\n",
      "Precision score:  0.7368948247078464\n",
      "Recall score:  0.7094181935069109\n"
     ]
    }
   ],
   "source": [
    "# evaluate predictions\n",
    "from sklearn.metrics import precision_score, recall_score\n",
    "accuracy = accuracy_score(y_test, predictions)\n",
    "print(\"Accuracy: %.2f%%\" % (accuracy * 100.0))\n",
    "print('Precision score: ', precision_score(y_test, predictions))\n",
    "print('Recall score: ', recall_score(y_test, predictions))"
   ]
  },
  {
   "cell_type": "code",
   "execution_count": 15,
   "id": "d85737cb",
   "metadata": {},
   "outputs": [
    {
     "name": "stdout",
     "output_type": "stream",
     "text": [
      "[0.03760758 0.01352795 0.06824441 0.0173489  0.01462442 0.1409755\n",
      " 0.01657804 0.01608455 0.01700527 0.01700509 0.01597512 0.01635294\n",
      " 0.01715341 0.05702267 0.01921163 0.03494208 0.01792803 0.02634168\n",
      " 0.         0.06590309 0.05184928 0.10588111 0.0149514  0.\n",
      " 0.19748586 0.        ]\n"
     ]
    },
    {
     "data": {
      "image/png": "[encoded data removed]",
      "text/plain": [
       "<Figure size 432x288 with 1 Axes>"
      ]
     },
     "metadata": {
      "needs_background": "light"
     },
     "output_type": "display_data"
    }
   ],
   "source": [
    "# feature importance\n",
    "# plot feature importance manually\n",
    "from matplotlib import pyplot\n",
    "print(model.feature_importances_)\n",
    "# plot\n",
    "pyplot.bar(range(len(model.feature_importances_)), model.feature_importances_)\n",
    "pyplot.show()"
   ]
  },
  {
   "cell_type": "code",
   "execution_count": 16,
   "id": "61b26466",
   "metadata": {},
   "outputs": [
    {
     "data": {
      "image/png": "[encoded data removed]",
      "text/plain": [
       "<Figure size 432x288 with 1 Axes>"
      ]
     },
     "metadata": {
      "needs_background": "light"
     },
     "output_type": "display_data"
    }
   ],
   "source": [
    "# plot feature importance\n",
    "from xgboost import plot_importance\n",
    "plot_importance(model)\n",
    "pyplot.show()"
   ]
  },
  {
   "cell_type": "markdown",
   "id": "64a5c349",
   "metadata": {},
   "source": [
    "# XGBoost Model Without Time"
   ]
  },
  {
   "cell_type": "code",
   "execution_count": 17,
   "id": "7df0b04e",
   "metadata": {},
   "outputs": [
    {
     "name": "stderr",
     "output_type": "stream",
     "text": [
      "/var/folders/dq/3qj0hnk53pb8rjp2l_k7zby80000gn/T/ipykernel_42803/689431014.py:4: FutureWarning: In a future version of pandas all arguments of DataFrame.drop except for the argument 'labels' will be keyword-only\n",
      "  df.drop(df.index[18001:40883],0,inplace=True)\n"
     ]
    }
   ],
   "source": [
    "# Drop Time\n",
    "df = pd.read_csv(\"/Users/matthewbuttlerives/Desktop/Data Folder/readyformodel_V2.1.Final.csv\")\n",
    "df = df[:-9611]\n",
    "df.drop(df.index[18001:40883],0,inplace=True)\n",
    "df = df.reset_index(drop=True)\n",
    "df = df.drop(columns = ['powerPlayOpportunities','settled_in_tbc','powerPlayGoals','timeOnIce',\"shortHandedTimeOnIce\",\"evenTimeOnIce\",\"faceOffWinPercentage\",\"pim\",\"powerPlayTimeOnIce\",\"settled_in_OT\",\"settled_in_REG\",\"goalie_replacement_No\",\"goalie_replacement_Yes\"],axis = 1)"
   ]
  },
  {
   "cell_type": "code",
   "execution_count": 18,
   "id": "69d2c5f9",
   "metadata": {},
   "outputs": [
    {
     "name": "stdout",
     "output_type": "stream",
     "text": [
      "(19065, 14)\n"
     ]
    },
    {
     "data": {
      "text/html": [
       "<div>\n",
       "<style scoped>\n",
       "    .dataframe tbody tr th:only-of-type {\n",
       "        vertical-align: middle;\n",
       "    }\n",
       "\n",
       "    .dataframe tbody tr th {\n",
       "        vertical-align: top;\n",
       "    }\n",
       "\n",
       "    .dataframe thead th {\n",
       "        text-align: right;\n",
       "    }\n",
       "</style>\n",
       "<table border=\"1\" class=\"dataframe\">\n",
       "  <thead>\n",
       "    <tr style=\"text-align: right;\">\n",
       "      <th></th>\n",
       "      <th>won</th>\n",
       "      <th>Shots</th>\n",
       "      <th>Goals</th>\n",
       "      <th>Takeaways</th>\n",
       "      <th>Hits</th>\n",
       "      <th>Blocked Shots</th>\n",
       "      <th>Giveaways</th>\n",
       "      <th>Missed Shots</th>\n",
       "      <th>Penalities</th>\n",
       "      <th>#Won Faceoffs</th>\n",
       "      <th>HoA_away</th>\n",
       "      <th>HoA_home</th>\n",
       "      <th>startRinkSide_left</th>\n",
       "      <th>startRinkSide_right</th>\n",
       "    </tr>\n",
       "  </thead>\n",
       "  <tbody>\n",
       "    <tr>\n",
       "      <th>0</th>\n",
       "      <td>0</td>\n",
       "      <td>8.0</td>\n",
       "      <td>0.0</td>\n",
       "      <td>1.0</td>\n",
       "      <td>14.0</td>\n",
       "      <td>3.0</td>\n",
       "      <td>6.0</td>\n",
       "      <td>4.0</td>\n",
       "      <td>1.0</td>\n",
       "      <td>10.0</td>\n",
       "      <td>1</td>\n",
       "      <td>0</td>\n",
       "      <td>1</td>\n",
       "      <td>0</td>\n",
       "    </tr>\n",
       "    <tr>\n",
       "      <th>1</th>\n",
       "      <td>1</td>\n",
       "      <td>8.0</td>\n",
       "      <td>3.0</td>\n",
       "      <td>3.0</td>\n",
       "      <td>5.0</td>\n",
       "      <td>3.0</td>\n",
       "      <td>7.0</td>\n",
       "      <td>0.0</td>\n",
       "      <td>1.0</td>\n",
       "      <td>12.0</td>\n",
       "      <td>0</td>\n",
       "      <td>1</td>\n",
       "      <td>1</td>\n",
       "      <td>0</td>\n",
       "    </tr>\n",
       "    <tr>\n",
       "      <th>2</th>\n",
       "      <td>1</td>\n",
       "      <td>11.0</td>\n",
       "      <td>0.0</td>\n",
       "      <td>0.0</td>\n",
       "      <td>4.0</td>\n",
       "      <td>6.0</td>\n",
       "      <td>2.0</td>\n",
       "      <td>6.0</td>\n",
       "      <td>1.0</td>\n",
       "      <td>11.0</td>\n",
       "      <td>1</td>\n",
       "      <td>0</td>\n",
       "      <td>0</td>\n",
       "      <td>1</td>\n",
       "    </tr>\n",
       "    <tr>\n",
       "      <th>3</th>\n",
       "      <td>0</td>\n",
       "      <td>12.0</td>\n",
       "      <td>1.0</td>\n",
       "      <td>2.0</td>\n",
       "      <td>4.0</td>\n",
       "      <td>8.0</td>\n",
       "      <td>0.0</td>\n",
       "      <td>3.0</td>\n",
       "      <td>3.0</td>\n",
       "      <td>9.0</td>\n",
       "      <td>0</td>\n",
       "      <td>1</td>\n",
       "      <td>0</td>\n",
       "      <td>1</td>\n",
       "    </tr>\n",
       "    <tr>\n",
       "      <th>4</th>\n",
       "      <td>1</td>\n",
       "      <td>9.0</td>\n",
       "      <td>0.0</td>\n",
       "      <td>3.0</td>\n",
       "      <td>4.0</td>\n",
       "      <td>7.0</td>\n",
       "      <td>7.0</td>\n",
       "      <td>3.0</td>\n",
       "      <td>2.0</td>\n",
       "      <td>7.0</td>\n",
       "      <td>1</td>\n",
       "      <td>0</td>\n",
       "      <td>1</td>\n",
       "      <td>0</td>\n",
       "    </tr>\n",
       "  </tbody>\n",
       "</table>\n",
       "</div>"
      ],
      "text/plain": [
       "   won  Shots  Goals  Takeaways  Hits  Blocked Shots  Giveaways  Missed Shots  \\\n",
       "0    0    8.0    0.0        1.0  14.0            3.0        6.0           4.0   \n",
       "1    1    8.0    3.0        3.0   5.0            3.0        7.0           0.0   \n",
       "2    1   11.0    0.0        0.0   4.0            6.0        2.0           6.0   \n",
       "3    0   12.0    1.0        2.0   4.0            8.0        0.0           3.0   \n",
       "4    1    9.0    0.0        3.0   4.0            7.0        7.0           3.0   \n",
       "\n",
       "   Penalities  #Won Faceoffs  HoA_away  HoA_home  startRinkSide_left  \\\n",
       "0         1.0           10.0         1         0                   1   \n",
       "1         1.0           12.0         0         1                   1   \n",
       "2         1.0           11.0         1         0                   0   \n",
       "3         3.0            9.0         0         1                   0   \n",
       "4         2.0            7.0         1         0                   1   \n",
       "\n",
       "   startRinkSide_right  \n",
       "0                    0  \n",
       "1                    0  \n",
       "2                    1  \n",
       "3                    1  \n",
       "4                    0  "
      ]
     },
     "execution_count": 18,
     "metadata": {},
     "output_type": "execute_result"
    }
   ],
   "source": [
    "print(df.shape)\n",
    "df.head()"
   ]
  },
  {
   "cell_type": "code",
   "execution_count": 19,
   "id": "9c9619c3",
   "metadata": {},
   "outputs": [],
   "source": [
    "# split data into X and y\n",
    "y = df.pop('won')\n",
    "X = df"
   ]
  },
  {
   "cell_type": "code",
   "execution_count": 20,
   "id": "cfbb7280",
   "metadata": {},
   "outputs": [],
   "source": [
    "# split data into train and test sets\n",
    "seed = 7\n",
    "test_size = 0.33\n",
    "X_train, X_test, y_train, y_test = train_test_split(X, y, test_size=test_size, random_state=seed)"
   ]
  },
  {
   "cell_type": "code",
   "execution_count": 21,
   "id": "dc91e130",
   "metadata": {},
   "outputs": [
    {
     "name": "stderr",
     "output_type": "stream",
     "text": [
      "/opt/anaconda3/lib/python3.8/site-packages/xgboost/sklearn.py:1224: UserWarning: The use of label encoder in XGBClassifier is deprecated and will be removed in a future release. To remove this warning, do the following: 1) Pass option use_label_encoder=False when constructing XGBClassifier object; and 2) Encode your labels (y) as integers starting with 0, i.e. 0, 1, 2, ..., [num_class - 1].\n",
      "  warnings.warn(label_encoder_deprecation_msg, UserWarning)\n"
     ]
    },
    {
     "name": "stdout",
     "output_type": "stream",
     "text": [
      "[16:09:50] WARNING: ../src/learner.cc:1115: Starting in XGBoost 1.3.0, the default evaluation metric used with the objective 'binary:logistic' was changed from 'error' to 'logloss'. Explicitly set eval_metric if you'd like to restore the old behavior.\n"
     ]
    },
    {
     "data": {
      "text/plain": [
       "XGBClassifier(base_score=0.5, booster='gbtree', colsample_bylevel=1,\n",
       "              colsample_bynode=1, colsample_bytree=1, enable_categorical=False,\n",
       "              gamma=0, gpu_id=-1, importance_type=None,\n",
       "              interaction_constraints='', learning_rate=0.300000012,\n",
       "              max_delta_step=0, max_depth=6, min_child_weight=1, missing=nan,\n",
       "              monotone_constraints='()', n_estimators=100, n_jobs=8,\n",
       "              num_parallel_tree=1, predictor='auto', random_state=0,\n",
       "              reg_alpha=0, reg_lambda=1, scale_pos_weight=1, subsample=1,\n",
       "              tree_method='exact', validate_parameters=1, verbosity=None)"
      ]
     },
     "execution_count": 21,
     "metadata": {},
     "output_type": "execute_result"
    }
   ],
   "source": [
    "# fit model no training data\n",
    "model = XGBClassifier()\n",
    "model.fit(X_train, y_train)"
   ]
  },
  {
   "cell_type": "code",
   "execution_count": 22,
   "id": "fa6ff7cc",
   "metadata": {},
   "outputs": [],
   "source": [
    "# make predictions for test data\n",
    "y_pred = model.predict(X_test)\n",
    "predictions = [round(value) for value in y_pred]"
   ]
  },
  {
   "cell_type": "code",
   "execution_count": 23,
   "id": "b304692b",
   "metadata": {},
   "outputs": [
    {
     "name": "stdout",
     "output_type": "stream",
     "text": [
      "Accuracy: 59.27%\n",
      "Precision score:  0.5953375086986779\n",
      "Recall score:  0.5499839279974285\n"
     ]
    }
   ],
   "source": [
    "# evaluate predictions\n",
    "from sklearn.metrics import precision_score, recall_score\n",
    "accuracy = accuracy_score(y_test, predictions)\n",
    "print(\"Accuracy: %.2f%%\" % (accuracy * 100.0))\n",
    "print('Precision score: ', (precision_score(y_test, predictions)))\n",
    "print('Recall score: ', recall_score(y_test, predictions))"
   ]
  },
  {
   "cell_type": "code",
   "execution_count": 24,
   "id": "81c2668a",
   "metadata": {},
   "outputs": [],
   "source": [
    "# Far more realistic results."
   ]
  },
  {
   "cell_type": "code",
   "execution_count": 25,
   "id": "49796ad4",
   "metadata": {},
   "outputs": [
    {
     "data": {
      "image/png": "[encoded data removed]",
      "text/plain": [
       "<Figure size 432x288 with 1 Axes>"
      ]
     },
     "metadata": {
      "needs_background": "light"
     },
     "output_type": "display_data"
    }
   ],
   "source": [
    "# plot feature importance\n",
    "from xgboost import plot_importance\n",
    "plot_importance(model)\n",
    "pyplot.show()"
   ]
  },
  {
   "cell_type": "code",
   "execution_count": 26,
   "id": "cc1fc59c",
   "metadata": {},
   "outputs": [
    {
     "data": {
      "text/html": [
       "<div>\n",
       "<style scoped>\n",
       "    .dataframe tbody tr th:only-of-type {\n",
       "        vertical-align: middle;\n",
       "    }\n",
       "\n",
       "    .dataframe tbody tr th {\n",
       "        vertical-align: top;\n",
       "    }\n",
       "\n",
       "    .dataframe thead th {\n",
       "        text-align: right;\n",
       "    }\n",
       "</style>\n",
       "<table border=\"1\" class=\"dataframe\">\n",
       "  <thead>\n",
       "    <tr style=\"text-align: right;\">\n",
       "      <th></th>\n",
       "      <th>Shots</th>\n",
       "      <th>Goals</th>\n",
       "      <th>Takeaways</th>\n",
       "      <th>Hits</th>\n",
       "      <th>Blocked Shots</th>\n",
       "      <th>Giveaways</th>\n",
       "      <th>Missed Shots</th>\n",
       "      <th>Penalities</th>\n",
       "      <th>#Won Faceoffs</th>\n",
       "      <th>HoA_away</th>\n",
       "      <th>HoA_home</th>\n",
       "      <th>startRinkSide_left</th>\n",
       "      <th>startRinkSide_right</th>\n",
       "    </tr>\n",
       "  </thead>\n",
       "  <tbody>\n",
       "    <tr>\n",
       "      <th>0</th>\n",
       "      <td>8.0</td>\n",
       "      <td>0.0</td>\n",
       "      <td>1.0</td>\n",
       "      <td>14.0</td>\n",
       "      <td>3.0</td>\n",
       "      <td>6.0</td>\n",
       "      <td>4.0</td>\n",
       "      <td>1.0</td>\n",
       "      <td>10.0</td>\n",
       "      <td>1</td>\n",
       "      <td>0</td>\n",
       "      <td>1</td>\n",
       "      <td>0</td>\n",
       "    </tr>\n",
       "    <tr>\n",
       "      <th>1</th>\n",
       "      <td>8.0</td>\n",
       "      <td>3.0</td>\n",
       "      <td>3.0</td>\n",
       "      <td>5.0</td>\n",
       "      <td>3.0</td>\n",
       "      <td>7.0</td>\n",
       "      <td>0.0</td>\n",
       "      <td>1.0</td>\n",
       "      <td>12.0</td>\n",
       "      <td>0</td>\n",
       "      <td>1</td>\n",
       "      <td>1</td>\n",
       "      <td>0</td>\n",
       "    </tr>\n",
       "    <tr>\n",
       "      <th>2</th>\n",
       "      <td>11.0</td>\n",
       "      <td>0.0</td>\n",
       "      <td>0.0</td>\n",
       "      <td>4.0</td>\n",
       "      <td>6.0</td>\n",
       "      <td>2.0</td>\n",
       "      <td>6.0</td>\n",
       "      <td>1.0</td>\n",
       "      <td>11.0</td>\n",
       "      <td>1</td>\n",
       "      <td>0</td>\n",
       "      <td>0</td>\n",
       "      <td>1</td>\n",
       "    </tr>\n",
       "    <tr>\n",
       "      <th>3</th>\n",
       "      <td>12.0</td>\n",
       "      <td>1.0</td>\n",
       "      <td>2.0</td>\n",
       "      <td>4.0</td>\n",
       "      <td>8.0</td>\n",
       "      <td>0.0</td>\n",
       "      <td>3.0</td>\n",
       "      <td>3.0</td>\n",
       "      <td>9.0</td>\n",
       "      <td>0</td>\n",
       "      <td>1</td>\n",
       "      <td>0</td>\n",
       "      <td>1</td>\n",
       "    </tr>\n",
       "    <tr>\n",
       "      <th>4</th>\n",
       "      <td>9.0</td>\n",
       "      <td>0.0</td>\n",
       "      <td>3.0</td>\n",
       "      <td>4.0</td>\n",
       "      <td>7.0</td>\n",
       "      <td>7.0</td>\n",
       "      <td>3.0</td>\n",
       "      <td>2.0</td>\n",
       "      <td>7.0</td>\n",
       "      <td>1</td>\n",
       "      <td>0</td>\n",
       "      <td>1</td>\n",
       "      <td>0</td>\n",
       "    </tr>\n",
       "  </tbody>\n",
       "</table>\n",
       "</div>"
      ],
      "text/plain": [
       "   Shots  Goals  Takeaways  Hits  Blocked Shots  Giveaways  Missed Shots  \\\n",
       "0    8.0    0.0        1.0  14.0            3.0        6.0           4.0   \n",
       "1    8.0    3.0        3.0   5.0            3.0        7.0           0.0   \n",
       "2   11.0    0.0        0.0   4.0            6.0        2.0           6.0   \n",
       "3   12.0    1.0        2.0   4.0            8.0        0.0           3.0   \n",
       "4    9.0    0.0        3.0   4.0            7.0        7.0           3.0   \n",
       "\n",
       "   Penalities  #Won Faceoffs  HoA_away  HoA_home  startRinkSide_left  \\\n",
       "0         1.0           10.0         1         0                   1   \n",
       "1         1.0           12.0         0         1                   1   \n",
       "2         1.0           11.0         1         0                   0   \n",
       "3         3.0            9.0         0         1                   0   \n",
       "4         2.0            7.0         1         0                   1   \n",
       "\n",
       "   startRinkSide_right  \n",
       "0                    0  \n",
       "1                    0  \n",
       "2                    1  \n",
       "3                    1  \n",
       "4                    0  "
      ]
     },
     "execution_count": 26,
     "metadata": {},
     "output_type": "execute_result"
    }
   ],
   "source": [
    "df.head()"
   ]
  },
  {
   "cell_type": "markdown",
   "id": "9c87bb1a",
   "metadata": {},
   "source": [
    "### XGBoost model probability and predicitions"
   ]
  },
  {
   "cell_type": "code",
   "execution_count": 27,
   "id": "36e9a25d",
   "metadata": {},
   "outputs": [],
   "source": [
    "# make predictions for tonight data\n",
    "def tonight_bet(shots,goals,takeaways,hits,blockedShots,giveaways,missedShots,penalties,Won_Faceoffs,hoa_away,hoa_home,startRinkSide_Left,startRinkSide_Right):\n",
    "    bet_df = pd.DataFrame({\"shots\": [shots],\"goals\": [goals],\"takeaways\": [takeaways],\"hits\": [hits]\n",
    "                       ,\"blockedShots\": [blockedShots],\"giveaways\": [giveaways],\"missedShots\": [missedShots]\n",
    "                       ,\"penalties\": [penalties],\"#Won Faceoffs\": [Won_Faceoffs],\"hoa_away\": [hoa_away],\"hoa_home\": [hoa_home],\"startRinkSide_left\": [startRinkSide_Left],\n",
    "                       \"startRinkSide_right\": [startRinkSide_Right],},index=[0,1,2,3,4,5,6,7,8,9,10,11,12],)\n",
    "    bet_df = bet_df.iloc[:1 , :]\n",
    "    tonights_team = bet_df\n",
    "    return tonights_team"
   ]
  },
  {
   "cell_type": "code",
   "execution_count": 28,
   "id": "78ec8531",
   "metadata": {},
   "outputs": [
    {
     "data": {
      "text/html": [
       "<div>\n",
       "<style scoped>\n",
       "    .dataframe tbody tr th:only-of-type {\n",
       "        vertical-align: middle;\n",
       "    }\n",
       "\n",
       "    .dataframe tbody tr th {\n",
       "        vertical-align: top;\n",
       "    }\n",
       "\n",
       "    .dataframe thead th {\n",
       "        text-align: right;\n",
       "    }\n",
       "</style>\n",
       "<table border=\"1\" class=\"dataframe\">\n",
       "  <thead>\n",
       "    <tr style=\"text-align: right;\">\n",
       "      <th></th>\n",
       "      <th>shots</th>\n",
       "      <th>goals</th>\n",
       "      <th>takeaways</th>\n",
       "      <th>hits</th>\n",
       "      <th>blockedShots</th>\n",
       "      <th>giveaways</th>\n",
       "      <th>missedShots</th>\n",
       "      <th>penalties</th>\n",
       "      <th>#Won Faceoffs</th>\n",
       "      <th>hoa_away</th>\n",
       "      <th>hoa_home</th>\n",
       "      <th>startRinkSide_left</th>\n",
       "      <th>startRinkSide_right</th>\n",
       "    </tr>\n",
       "  </thead>\n",
       "  <tbody>\n",
       "    <tr>\n",
       "      <th>0</th>\n",
       "      <td>4</td>\n",
       "      <td>2</td>\n",
       "      <td>2</td>\n",
       "      <td>4</td>\n",
       "      <td>2</td>\n",
       "      <td>3</td>\n",
       "      <td>2</td>\n",
       "      <td>1</td>\n",
       "      <td>2</td>\n",
       "      <td>0</td>\n",
       "      <td>1</td>\n",
       "      <td>0</td>\n",
       "      <td>1</td>\n",
       "    </tr>\n",
       "  </tbody>\n",
       "</table>\n",
       "</div>"
      ],
      "text/plain": [
       "   shots  goals  takeaways  hits  blockedShots  giveaways  missedShots  \\\n",
       "0      4      2          2     4             2          3            2   \n",
       "\n",
       "   penalties  #Won Faceoffs  hoa_away  hoa_home  startRinkSide_left  \\\n",
       "0          1              2         0         1                   0   \n",
       "\n",
       "   startRinkSide_right  \n",
       "0                    1  "
      ]
     },
     "execution_count": 28,
     "metadata": {},
     "output_type": "execute_result"
    }
   ],
   "source": [
    "tonight_bet(4,2,2,4,2,3,2,1,2,0,1,0,1)"
   ]
  },
  {
   "cell_type": "code",
   "execution_count": 29,
   "id": "eb0e1630",
   "metadata": {},
   "outputs": [
    {
     "name": "stdout",
     "output_type": "stream",
     "text": [
      "[1]\n",
      "[[0.0489679 0.9510321]]\n"
     ]
    }
   ],
   "source": [
    "# make predictions for test data\n",
    "X_test = tonight_bet(4,2,2,4,2,3,2,1,2,0,1,0,1)\n",
    "# store value to use in model\n",
    "\n",
    "y_pred = model.predict(X_test)\n",
    "prediction = [round(value) for value in y_pred]\n",
    "print(prediction)\n",
    "probability = model.predict_proba(X_test)\n",
    "print(probability)"
   ]
  },
  {
   "cell_type": "markdown",
   "id": "69cfe432",
   "metadata": {},
   "source": [
    "# Light Gradient Boosting (LGBM)"
   ]
  },
  {
   "cell_type": "code",
   "execution_count": 30,
   "id": "893174d1",
   "metadata": {},
   "outputs": [],
   "source": [
    "# Machine Learning Libraries\n",
    "import lightgbm as lgb\n",
    "from sklearn import metrics\n",
    "\n",
    "# Figures\n",
    "import seaborn as sns\n",
    "import matplotlib.pyplot as plt\n",
    "sns.set_theme(style=\"whitegrid\")"
   ]
  },
  {
   "cell_type": "code",
   "execution_count": 31,
   "id": "99b0be2d",
   "metadata": {},
   "outputs": [
    {
     "name": "stderr",
     "output_type": "stream",
     "text": [
      "/var/folders/dq/3qj0hnk53pb8rjp2l_k7zby80000gn/T/ipykernel_42803/510440310.py:4: FutureWarning: In a future version of pandas all arguments of DataFrame.drop except for the argument 'labels' will be keyword-only\n",
      "  df.drop(df.index[18001:40883],0,inplace=True)\n"
     ]
    },
    {
     "data": {
      "text/plain": [
       "won                    0\n",
       "Shots                  0\n",
       "Goals                  0\n",
       "Takeaways              0\n",
       "Hits                   0\n",
       "Blocked Shots          0\n",
       "Giveaways              0\n",
       "Missed Shots           0\n",
       "Penalities             0\n",
       "#Won Faceoffs          0\n",
       "HoA_away               0\n",
       "HoA_home               0\n",
       "startRinkSide_left     0\n",
       "startRinkSide_right    0\n",
       "dtype: int64"
      ]
     },
     "execution_count": 31,
     "metadata": {},
     "output_type": "execute_result"
    }
   ],
   "source": [
    "# No null values\n",
    "df = pd.read_csv(\"/Users/matthewbuttlerives/Desktop/Data Folder/readyformodel_V2.1.Final.csv\")\n",
    "df = df[:-9611]\n",
    "df.drop(df.index[18001:40883],0,inplace=True)\n",
    "df = df.reset_index(drop=True)\n",
    "df = df.drop(columns = ['powerPlayOpportunities','settled_in_tbc','powerPlayGoals','timeOnIce',\"shortHandedTimeOnIce\",\"evenTimeOnIce\",\"faceOffWinPercentage\",\"pim\",\"powerPlayTimeOnIce\",\"settled_in_OT\",\"settled_in_REG\",\"goalie_replacement_No\",\"goalie_replacement_Yes\"],axis = 1)\n",
    "df.isna().sum()"
   ]
  },
  {
   "cell_type": "code",
   "execution_count": 32,
   "id": "a7866435",
   "metadata": {},
   "outputs": [],
   "source": [
    "# split data into X and y\n",
    "y = df.pop('won')\n",
    "X = df\n",
    "# split data into train and test sets\n",
    "seed = 7\n",
    "test_size = 0.33\n",
    "X_train, X_test, y_train, y_test = train_test_split(X, y, test_size=test_size, random_state=seed)"
   ]
  },
  {
   "cell_type": "code",
   "execution_count": 33,
   "id": "ba85b95e",
   "metadata": {},
   "outputs": [
    {
     "name": "stderr",
     "output_type": "stream",
     "text": [
      "/opt/anaconda3/lib/python3.8/site-packages/lightgbm/sklearn.py:736: UserWarning: 'verbose' argument is deprecated and will be removed in a future release of LightGBM. Pass 'log_evaluation()' callback via 'callbacks' argument instead.\n",
      "  _log_warning(\"'verbose' argument is deprecated and will be removed in a future release of LightGBM. \"\n"
     ]
    },
    {
     "name": "stdout",
     "output_type": "stream",
     "text": [
      "[20]\ttraining's binary_logloss: 0.627699\tvalid_0's binary_logloss: 0.653864\n",
      "[40]\ttraining's binary_logloss: 0.611205\tvalid_0's binary_logloss: 0.655969\n",
      "[60]\ttraining's binary_logloss: 0.597606\tvalid_0's binary_logloss: 0.657703\n",
      "[80]\ttraining's binary_logloss: 0.585199\tvalid_0's binary_logloss: 0.659674\n",
      "[100]\ttraining's binary_logloss: 0.573384\tvalid_0's binary_logloss: 0.661491\n"
     ]
    },
    {
     "data": {
      "text/plain": [
       "LGBMClassifier(learning_rate=0.09, max_depth=-5, random_state=42)"
      ]
     },
     "execution_count": 33,
     "metadata": {},
     "output_type": "execute_result"
    }
   ],
   "source": [
    "model = lgb.LGBMClassifier(learning_rate=0.09,max_depth=-5,random_state=42)\n",
    "model.fit(X_train,y_train,eval_set=[(X_test,y_test),(X_train,y_train)],\n",
    "          verbose=20,eval_metric='logloss')"
   ]
  },
  {
   "cell_type": "code",
   "execution_count": 34,
   "id": "7324ee41",
   "metadata": {},
   "outputs": [
    {
     "name": "stdout",
     "output_type": "stream",
     "text": [
      "Training accuracy 0.7027\n",
      "Testing accuracy 0.6098\n"
     ]
    }
   ],
   "source": [
    "print('Training accuracy {:.4f}'.format(model.score(X_train,y_train)))\n",
    "print('Testing accuracy {:.4f}'.format(model.score(X_test,y_test)))"
   ]
  },
  {
   "cell_type": "code",
   "execution_count": 35,
   "id": "6340c293",
   "metadata": {},
   "outputs": [
    {
     "name": "stdout",
     "output_type": "stream",
     "text": [
      "Accuracy: 60.98%\n",
      "Precision score:  0.6186685962373372\n",
      "Recall score:  0.549662487945998\n"
     ]
    }
   ],
   "source": [
    "# Interestingly, slightly better accuracy\n",
    "# make predictions for test data\n",
    "y_pred = model.predict(X_test)\n",
    "predictions = [round(value) for value in y_pred]\n",
    "accuracy = accuracy_score(y_test, predictions)\n",
    "print(\"Accuracy: %.2f%%\" % (accuracy * 100.0))\n",
    "print('Precision score: ', (precision_score(y_test, predictions)))\n",
    "print('Recall score: ', recall_score(y_test, predictions))"
   ]
  },
  {
   "cell_type": "code",
   "execution_count": 36,
   "id": "de1af410",
   "metadata": {},
   "outputs": [
    {
     "data": {
      "text/plain": [
       "<AxesSubplot:title={'center':'Feature importance'}, xlabel='Feature importance', ylabel='Features'>"
      ]
     },
     "execution_count": 36,
     "metadata": {},
     "output_type": "execute_result"
    },
    {
     "data": {
      "image/png": "[encoded data removed]",
      "text/plain": [
       "<Figure size 432x288 with 1 Axes>"
      ]
     },
     "metadata": {},
     "output_type": "display_data"
    }
   ],
   "source": [
    "lgb.plot_importance(model)"
   ]
  },
  {
   "cell_type": "code",
   "execution_count": 37,
   "id": "bbefc8e4",
   "metadata": {},
   "outputs": [
    {
     "data": {
      "text/plain": [
       "<AxesSubplot:title={'center':'Metric during training'}, xlabel='Iterations', ylabel='binary_logloss'>"
      ]
     },
     "execution_count": 37,
     "metadata": {},
     "output_type": "execute_result"
    },
    {
     "data": {
      "image/png": "[encoded data removed]",
      "text/plain": [
       "<Figure size 432x288 with 1 Axes>"
      ]
     },
     "metadata": {},
     "output_type": "display_data"
    }
   ],
   "source": [
    "lgb.plot_metric(model)"
   ]
  },
  {
   "cell_type": "code",
   "execution_count": 38,
   "id": "def15700",
   "metadata": {},
   "outputs": [
    {
     "name": "stderr",
     "output_type": "stream",
     "text": [
      "/opt/anaconda3/lib/python3.8/site-packages/sklearn/utils/deprecation.py:87: FutureWarning: Function plot_confusion_matrix is deprecated; Function `plot_confusion_matrix` is deprecated in 1.0 and will be removed in 1.2. Use one of the class methods: ConfusionMatrixDisplay.from_predictions or ConfusionMatrixDisplay.from_estimator.\n",
      "  warnings.warn(msg, category=FutureWarning)\n"
     ]
    },
    {
     "data": {
      "text/plain": [
       "<sklearn.metrics._plot.confusion_matrix.ConfusionMatrixDisplay at 0x7fd86b786940>"
      ]
     },
     "execution_count": 38,
     "metadata": {},
     "output_type": "execute_result"
    },
    {
     "data": {
      "image/png": "[encoded data removed]",
      "text/plain": [
       "<Figure size 432x288 with 2 Axes>"
      ]
     },
     "metadata": {},
     "output_type": "display_data"
    }
   ],
   "source": [
    "metrics.plot_confusion_matrix(model,X_test,y_test,cmap='Blues_r')"
   ]
  },
  {
   "cell_type": "code",
   "execution_count": 39,
   "id": "dedb9ff6",
   "metadata": {},
   "outputs": [
    {
     "name": "stdout",
     "output_type": "stream",
     "text": [
      "              precision    recall  f1-score   support\n",
      "\n",
      "           0       0.60      0.67      0.63      3181\n",
      "           1       0.62      0.55      0.58      3111\n",
      "\n",
      "    accuracy                           0.61      6292\n",
      "   macro avg       0.61      0.61      0.61      6292\n",
      "weighted avg       0.61      0.61      0.61      6292\n",
      "\n"
     ]
    }
   ],
   "source": [
    "print(metrics.classification_report(y_test,model.predict(X_test)))"
   ]
  },
  {
   "cell_type": "code",
   "execution_count": 40,
   "id": "ef2f4973",
   "metadata": {},
   "outputs": [
    {
     "data": {
      "text/html": [
       "<div>\n",
       "<style scoped>\n",
       "    .dataframe tbody tr th:only-of-type {\n",
       "        vertical-align: middle;\n",
       "    }\n",
       "\n",
       "    .dataframe tbody tr th {\n",
       "        vertical-align: top;\n",
       "    }\n",
       "\n",
       "    .dataframe thead th {\n",
       "        text-align: right;\n",
       "    }\n",
       "</style>\n",
       "<table border=\"1\" class=\"dataframe\">\n",
       "  <thead>\n",
       "    <tr style=\"text-align: right;\">\n",
       "      <th></th>\n",
       "      <th>shots</th>\n",
       "      <th>goals</th>\n",
       "      <th>takeaways</th>\n",
       "      <th>hits</th>\n",
       "      <th>blockedShots</th>\n",
       "      <th>giveaways</th>\n",
       "      <th>missedShots</th>\n",
       "      <th>penalties</th>\n",
       "      <th>#Won Faceoffs</th>\n",
       "      <th>hoa_away</th>\n",
       "      <th>hoa_home</th>\n",
       "      <th>startRinkSide_left</th>\n",
       "      <th>startRinkSide_right</th>\n",
       "    </tr>\n",
       "  </thead>\n",
       "  <tbody>\n",
       "    <tr>\n",
       "      <th>0</th>\n",
       "      <td>14</td>\n",
       "      <td>3</td>\n",
       "      <td>2</td>\n",
       "      <td>14</td>\n",
       "      <td>12</td>\n",
       "      <td>9</td>\n",
       "      <td>7</td>\n",
       "      <td>1</td>\n",
       "      <td>7</td>\n",
       "      <td>0</td>\n",
       "      <td>1</td>\n",
       "      <td>0</td>\n",
       "      <td>1</td>\n",
       "    </tr>\n",
       "  </tbody>\n",
       "</table>\n",
       "</div>"
      ],
      "text/plain": [
       "   shots  goals  takeaways  hits  blockedShots  giveaways  missedShots  \\\n",
       "0     14      3          2    14            12          9            7   \n",
       "\n",
       "   penalties  #Won Faceoffs  hoa_away  hoa_home  startRinkSide_left  \\\n",
       "0          1              7         0         1                   0   \n",
       "\n",
       "   startRinkSide_right  \n",
       "0                    1  "
      ]
     },
     "execution_count": 40,
     "metadata": {},
     "output_type": "execute_result"
    }
   ],
   "source": [
    "tonight_bet(14,3,2,14,12,9,7,1,7,0,1,0,1)"
   ]
  },
  {
   "cell_type": "code",
   "execution_count": 41,
   "id": "da651d8f",
   "metadata": {},
   "outputs": [
    {
     "name": "stdout",
     "output_type": "stream",
     "text": [
      "[1]\n",
      "[[0.21606898 0.78393102]]\n"
     ]
    }
   ],
   "source": [
    "# make predictions for test data\n",
    "X_Game_test = tonight_bet(14,3,2,14,12,9,7,1,7,0,1,0,1)\n",
    "# store value to use in model\n",
    "\n",
    "Game_y_pred = model.predict(X_Game_test)\n",
    "prediction = [round(value) for value in Game_y_pred]\n",
    "print(prediction)\n",
    "probability = model.predict_proba(X_Game_test)\n",
    "print(probability)"
   ]
  },
  {
   "cell_type": "markdown",
   "id": "7b37a563",
   "metadata": {},
   "source": [
    "# Test API Sports Radar Request"
   ]
  },
  {
   "cell_type": "code",
   "execution_count": 1,
   "id": "768a2bda",
   "metadata": {},
   "outputs": [],
   "source": [
    "#import requests\n",
    "# Get API info\n",
    "#response = requests.get(\"http://api.sportradar.us/nhl/trial/v7/en/games/54e4af92-1719-4d06-aa15-5a79098e06ce/analytics.json?api_key=sa8b3wuwy549qwy6jw6srsgv\")\n",
    "\n",
    "#import json\n",
    "\n",
    "# Define function that translates API into text\n",
    "#def jprint(obj):\n",
    "#    text = json.dumps(obj, sort_keys=True, indent=4)\n",
    "#    print(text)\n",
    "#    return \"\"\n",
    "\n",
    "# Set response as json\n",
    "# x = response.json()\n",
    "\n",
    "# Print API info\n",
    "# jprint(x)\n"
   ]
  },
  {
   "cell_type": "code",
   "execution_count": 43,
   "id": "5e03b4c0",
   "metadata": {},
   "outputs": [],
   "source": [
    "# Could explore using python sportsradar application\n",
    "# !pip install sportradar"
   ]
  },
  {
   "cell_type": "code",
   "execution_count": 44,
   "id": "9c54feda",
   "metadata": {},
   "outputs": [],
   "source": [
    "# Exporting current Dataset as Revised Dataset\n",
    "\n",
    "from pathlib import Path  \n",
    "filepath = Path('/Users/matthewbuttlerives/Desktop/Data Folder/readyformodel_V2.1.Final.csv')  \n",
    "filepath.parent.mkdir(parents=True, exist_ok=True)  \n",
    "df.to_csv('/Users/matthewbuttlerives/Desktop/Data Folder/Revised_Final_Dataset.csv')  "
   ]
  },
  {
   "cell_type": "code",
   "execution_count": null,
   "id": "2d389db1",
   "metadata": {},
   "outputs": [],
   "source": []
  }
 ],
 "metadata": {
  "kernelspec": {
   "display_name": "Python 3 (ipykernel)",
   "language": "python",
   "name": "python3"
  },
  "language_info": {
   "codemirror_mode": {
    "name": "ipython",
    "version": 3
   },
   "file_extension": ".py",
   "mimetype": "text/x-python",
   "name": "python",
   "nbconvert_exporter": "python",
   "pygments_lexer": "ipython3",
   "version": "3.8.2"
  }
 },
 "nbformat": 4,
 "nbformat_minor": 5
}
